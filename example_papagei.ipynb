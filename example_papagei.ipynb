{
 "cells": [
  {
   "cell_type": "code",
   "execution_count": 1,
   "id": "420ac8ca-113b-4626-ae9e-3f594bca7b22",
   "metadata": {
    "scrolled": true
   },
   "outputs": [
    {
     "name": "stdout",
     "output_type": "stream",
     "text": [
      "Requirement already satisfied: dotmap in /home/kapis20/miniconda3/envs/papagei_env/lib/python3.10/site-packages (1.3.30)\n",
      "\n",
      "\u001b[1m[\u001b[0m\u001b[34;49mnotice\u001b[0m\u001b[1;39;49m]\u001b[0m\u001b[39;49m A new release of pip is available: \u001b[0m\u001b[31;49m21.3.1\u001b[0m\u001b[39;49m -> \u001b[0m\u001b[32;49m25.0.1\u001b[0m\n",
      "\u001b[1m[\u001b[0m\u001b[34;49mnotice\u001b[0m\u001b[1;39;49m]\u001b[0m\u001b[39;49m To update, run: \u001b[0m\u001b[32;49mpip install --upgrade pip\u001b[0m\n",
      "Requirement already satisfied: vitaldb in /home/kapis20/miniconda3/envs/papagei_env/lib/python3.10/site-packages (1.4.11)\n",
      "Requirement already satisfied: numpy in /home/kapis20/miniconda3/envs/papagei_env/lib/python3.10/site-packages (from vitaldb) (1.23.2)\n",
      "Requirement already satisfied: pandas in /home/kapis20/miniconda3/envs/papagei_env/lib/python3.10/site-packages (from vitaldb) (1.4.4)\n",
      "Requirement already satisfied: requests in /home/kapis20/miniconda3/envs/papagei_env/lib/python3.10/site-packages (from vitaldb) (2.28.1)\n",
      "Requirement already satisfied: wfdb in /home/kapis20/miniconda3/envs/papagei_env/lib/python3.10/site-packages (from vitaldb) (3.4.0)\n",
      "Requirement already satisfied: python-dateutil>=2.8.1 in /home/kapis20/miniconda3/envs/papagei_env/lib/python3.10/site-packages (from pandas->vitaldb) (2.8.2)\n",
      "Requirement already satisfied: pytz>=2020.1 in /home/kapis20/miniconda3/envs/papagei_env/lib/python3.10/site-packages (from pandas->vitaldb) (2022.4)\n",
      "Requirement already satisfied: charset-normalizer<3,>=2 in /home/kapis20/miniconda3/envs/papagei_env/lib/python3.10/site-packages (from requests->vitaldb) (2.1.1)\n",
      "Requirement already satisfied: idna<4,>=2.5 in /home/kapis20/miniconda3/envs/papagei_env/lib/python3.10/site-packages (from requests->vitaldb) (3.4)\n",
      "Requirement already satisfied: urllib3<1.27,>=1.21.1 in /home/kapis20/miniconda3/envs/papagei_env/lib/python3.10/site-packages (from requests->vitaldb) (1.26.12)\n",
      "Requirement already satisfied: certifi>=2017.4.17 in /home/kapis20/miniconda3/envs/papagei_env/lib/python3.10/site-packages (from requests->vitaldb) (2022.9.24)\n",
      "Requirement already satisfied: chardet>=3.0.0 in /home/kapis20/miniconda3/envs/papagei_env/lib/python3.10/site-packages (from wfdb->vitaldb) (5.0.0)\n",
      "Requirement already satisfied: cycler>=0.10.0 in /home/kapis20/miniconda3/envs/papagei_env/lib/python3.10/site-packages (from wfdb->vitaldb) (0.11.0)\n",
      "Requirement already satisfied: joblib>=0.11 in /home/kapis20/miniconda3/envs/papagei_env/lib/python3.10/site-packages (from wfdb->vitaldb) (1.2.0)\n",
      "Requirement already satisfied: kiwisolver>=1.1.0 in /home/kapis20/miniconda3/envs/papagei_env/lib/python3.10/site-packages (from wfdb->vitaldb) (1.4.4)\n",
      "Requirement already satisfied: matplotlib>=2.0.0 in /home/kapis20/miniconda3/envs/papagei_env/lib/python3.10/site-packages (from wfdb->vitaldb) (3.6.1)\n",
      "Requirement already satisfied: pyparsing>=2.0.4 in /home/kapis20/miniconda3/envs/papagei_env/lib/python3.10/site-packages (from wfdb->vitaldb) (3.0.9)\n",
      "Requirement already satisfied: scikit-learn>=0.18 in /home/kapis20/miniconda3/envs/papagei_env/lib/python3.10/site-packages (from wfdb->vitaldb) (1.1.3)\n",
      "Requirement already satisfied: scipy>=0.17.0 in /home/kapis20/miniconda3/envs/papagei_env/lib/python3.10/site-packages (from wfdb->vitaldb) (1.9.1)\n",
      "Requirement already satisfied: threadpoolctl>=1.0.0 in /home/kapis20/miniconda3/envs/papagei_env/lib/python3.10/site-packages (from wfdb->vitaldb) (3.1.0)\n",
      "Requirement already satisfied: contourpy>=1.0.1 in /home/kapis20/miniconda3/envs/papagei_env/lib/python3.10/site-packages (from matplotlib>=2.0.0->wfdb->vitaldb) (1.0.5)\n",
      "Requirement already satisfied: fonttools>=4.22.0 in /home/kapis20/miniconda3/envs/papagei_env/lib/python3.10/site-packages (from matplotlib>=2.0.0->wfdb->vitaldb) (4.37.1)\n",
      "Requirement already satisfied: packaging>=20.0 in /home/kapis20/miniconda3/envs/papagei_env/lib/python3.10/site-packages (from matplotlib>=2.0.0->wfdb->vitaldb) (21.3)\n",
      "Requirement already satisfied: pillow>=6.2.0 in /home/kapis20/miniconda3/envs/papagei_env/lib/python3.10/site-packages (from matplotlib>=2.0.0->wfdb->vitaldb) (9.2.0)\n",
      "Requirement already satisfied: six>=1.5 in /home/kapis20/miniconda3/envs/papagei_env/lib/python3.10/site-packages (from python-dateutil>=2.8.1->pandas->vitaldb) (1.16.0)\n",
      "\n",
      "\u001b[1m[\u001b[0m\u001b[34;49mnotice\u001b[0m\u001b[1;39;49m]\u001b[0m\u001b[39;49m A new release of pip is available: \u001b[0m\u001b[31;49m21.3.1\u001b[0m\u001b[39;49m -> \u001b[0m\u001b[32;49m25.0.1\u001b[0m\n",
      "\u001b[1m[\u001b[0m\u001b[34;49mnotice\u001b[0m\u001b[1;39;49m]\u001b[0m\u001b[39;49m To update, run: \u001b[0m\u001b[32;49mpip install --upgrade pip\u001b[0m\n",
      "Requirement already satisfied: pyPPG==1.0.41 in /home/kapis20/miniconda3/envs/papagei_env/lib/python3.10/site-packages (1.0.41)\n",
      "Requirement already satisfied: scipy==1.9.1 in /home/kapis20/miniconda3/envs/papagei_env/lib/python3.10/site-packages (from pyPPG==1.0.41) (1.9.1)\n",
      "Requirement already satisfied: numpy==1.23.2 in /home/kapis20/miniconda3/envs/papagei_env/lib/python3.10/site-packages (from pyPPG==1.0.41) (1.23.2)\n",
      "Requirement already satisfied: dotmap==1.3.30 in /home/kapis20/miniconda3/envs/papagei_env/lib/python3.10/site-packages (from pyPPG==1.0.41) (1.3.30)\n",
      "Requirement already satisfied: pandas==1.4.4 in /home/kapis20/miniconda3/envs/papagei_env/lib/python3.10/site-packages (from pyPPG==1.0.41) (1.4.4)\n",
      "Requirement already satisfied: wfdb==3.4.0 in /home/kapis20/miniconda3/envs/papagei_env/lib/python3.10/site-packages (from pyPPG==1.0.41) (3.4.0)\n",
      "Requirement already satisfied: mne==1.5.0 in /home/kapis20/miniconda3/envs/papagei_env/lib/python3.10/site-packages (from pyPPG==1.0.41) (1.5.0)\n",
      "Requirement already satisfied: Eel==0.14.0 in /home/kapis20/miniconda3/envs/papagei_env/lib/python3.10/site-packages (from pyPPG==1.0.41) (0.14.0)\n",
      "Requirement already satisfied: Jinja2==3.1.2 in /home/kapis20/miniconda3/envs/papagei_env/lib/python3.10/site-packages (from pyPPG==1.0.41) (3.1.2)\n",
      "Requirement already satisfied: MarkupSafe==2.1.1 in /home/kapis20/miniconda3/envs/papagei_env/lib/python3.10/site-packages (from pyPPG==1.0.41) (2.1.1)\n",
      "Requirement already satisfied: Pillow==9.2.0 in /home/kapis20/miniconda3/envs/papagei_env/lib/python3.10/site-packages (from pyPPG==1.0.41) (9.2.0)\n",
      "Requirement already satisfied: altgraph==0.17.3 in /home/kapis20/miniconda3/envs/papagei_env/lib/python3.10/site-packages (from pyPPG==1.0.41) (0.17.3)\n",
      "Requirement already satisfied: appdirs==1.4.4 in /home/kapis20/miniconda3/envs/papagei_env/lib/python3.10/site-packages (from pyPPG==1.0.41) (1.4.4)\n",
      "Requirement already satisfied: attrs==22.1.0 in /home/kapis20/miniconda3/envs/papagei_env/lib/python3.10/site-packages (from pyPPG==1.0.41) (22.1.0)\n",
      "Requirement already satisfied: auto-py-to-exe==2.23.1 in /home/kapis20/miniconda3/envs/papagei_env/lib/python3.10/site-packages (from pyPPG==1.0.41) (2.23.1)\n",
      "Requirement already satisfied: boltons==21.0.0 in /home/kapis20/miniconda3/envs/papagei_env/lib/python3.10/site-packages (from pyPPG==1.0.41) (21.0.0)\n",
      "Requirement already satisfied: bottle==0.12.23 in /home/kapis20/miniconda3/envs/papagei_env/lib/python3.10/site-packages (from pyPPG==1.0.41) (0.12.23)\n",
      "Requirement already satisfied: bottle-websocket==0.2.9 in /home/kapis20/miniconda3/envs/papagei_env/lib/python3.10/site-packages (from pyPPG==1.0.41) (0.2.9)\n",
      "Requirement already satisfied: certifi==2022.9.24 in /home/kapis20/miniconda3/envs/papagei_env/lib/python3.10/site-packages (from pyPPG==1.0.41) (2022.9.24)\n",
      "Requirement already satisfied: cffi==1.15.1 in /home/kapis20/miniconda3/envs/papagei_env/lib/python3.10/site-packages (from pyPPG==1.0.41) (1.15.1)\n",
      "Requirement already satisfied: chardet==5.0.0 in /home/kapis20/miniconda3/envs/papagei_env/lib/python3.10/site-packages (from pyPPG==1.0.41) (5.0.0)\n",
      "Requirement already satisfied: charset-normalizer==2.1.1 in /home/kapis20/miniconda3/envs/papagei_env/lib/python3.10/site-packages (from pyPPG==1.0.41) (2.1.1)\n",
      "Requirement already satisfied: colorama==0.4.5 in /home/kapis20/miniconda3/envs/papagei_env/lib/python3.10/site-packages (from pyPPG==1.0.41) (0.4.5)\n",
      "Requirement already satisfied: contourpy==1.0.5 in /home/kapis20/miniconda3/envs/papagei_env/lib/python3.10/site-packages (from pyPPG==1.0.41) (1.0.5)\n",
      "Requirement already satisfied: cycler==0.11.0 in /home/kapis20/miniconda3/envs/papagei_env/lib/python3.10/site-packages (from pyPPG==1.0.41) (0.11.0)\n",
      "Requirement already satisfied: decorator==5.1.1 in /home/kapis20/miniconda3/envs/papagei_env/lib/python3.10/site-packages (from pyPPG==1.0.41) (5.1.1)\n",
      "Requirement already satisfied: dotteddict==2016.3.11 in /home/kapis20/miniconda3/envs/papagei_env/lib/python3.10/site-packages (from pyPPG==1.0.41) (2016.3.11)\n",
      "Requirement already satisfied: face==20.1.1 in /home/kapis20/miniconda3/envs/papagei_env/lib/python3.10/site-packages (from pyPPG==1.0.41) (20.1.1)\n",
      "Requirement already satisfied: fonttools==4.37.1 in /home/kapis20/miniconda3/envs/papagei_env/lib/python3.10/site-packages (from pyPPG==1.0.41) (4.37.1)\n",
      "Requirement already satisfied: future==0.18.2 in /home/kapis20/miniconda3/envs/papagei_env/lib/python3.10/site-packages (from pyPPG==1.0.41) (0.18.2)\n",
      "Requirement already satisfied: gevent==21.12.0 in /home/kapis20/miniconda3/envs/papagei_env/lib/python3.10/site-packages (from pyPPG==1.0.41) (21.12.0)\n",
      "Requirement already satisfied: gevent-websocket==0.10.1 in /home/kapis20/miniconda3/envs/papagei_env/lib/python3.10/site-packages (from pyPPG==1.0.41) (0.10.1)\n",
      "Requirement already satisfied: glom==22.1.0 in /home/kapis20/miniconda3/envs/papagei_env/lib/python3.10/site-packages (from pyPPG==1.0.41) (22.1.0)\n",
      "Requirement already satisfied: greenlet==1.1.3 in /home/kapis20/miniconda3/envs/papagei_env/lib/python3.10/site-packages (from pyPPG==1.0.41) (1.1.3)\n",
      "Requirement already satisfied: heartpy==1.2.7 in /home/kapis20/miniconda3/envs/papagei_env/lib/python3.10/site-packages (from pyPPG==1.0.41) (1.2.7)\n",
      "Requirement already satisfied: idna==3.4 in /home/kapis20/miniconda3/envs/papagei_env/lib/python3.10/site-packages (from pyPPG==1.0.41) (3.4)\n",
      "Requirement already satisfied: joblib==1.2.0 in /home/kapis20/miniconda3/envs/papagei_env/lib/python3.10/site-packages (from pyPPG==1.0.41) (1.2.0)\n",
      "Requirement already satisfied: kiwisolver==1.4.4 in /home/kapis20/miniconda3/envs/papagei_env/lib/python3.10/site-packages (from pyPPG==1.0.41) (1.4.4)\n",
      "Requirement already satisfied: matplotlib==3.6.1 in /home/kapis20/miniconda3/envs/papagei_env/lib/python3.10/site-packages (from pyPPG==1.0.41) (3.6.1)\n",
      "Requirement already satisfied: mpldatacursor==0.7.1 in /home/kapis20/miniconda3/envs/papagei_env/lib/python3.10/site-packages (from pyPPG==1.0.41) (0.7.1)\n",
      "Requirement already satisfied: packaging==21.3 in /home/kapis20/miniconda3/envs/papagei_env/lib/python3.10/site-packages (from pyPPG==1.0.41) (21.3)\n",
      "Requirement already satisfied: parallel-map==0.2.1 in /home/kapis20/miniconda3/envs/papagei_env/lib/python3.10/site-packages (from pyPPG==1.0.41) (0.2.1)\n",
      "Requirement already satisfied: patsy==0.5.3 in /home/kapis20/miniconda3/envs/papagei_env/lib/python3.10/site-packages (from pyPPG==1.0.41) (0.5.3)\n",
      "Requirement already satisfied: pefile==2022.5.30 in /home/kapis20/miniconda3/envs/papagei_env/lib/python3.10/site-packages (from pyPPG==1.0.41) (2022.5.30)\n",
      "Requirement already satisfied: pip==21.3.1 in /home/kapis20/miniconda3/envs/papagei_env/lib/python3.10/site-packages (from pyPPG==1.0.41) (21.3.1)\n",
      "Requirement already satisfied: pooch==1.6.0 in /home/kapis20/miniconda3/envs/papagei_env/lib/python3.10/site-packages (from pyPPG==1.0.41) (1.6.0)\n",
      "Requirement already satisfied: pycparser==2.21 in /home/kapis20/miniconda3/envs/papagei_env/lib/python3.10/site-packages (from pyPPG==1.0.41) (2.21)\n",
      "Requirement already satisfied: pyinstaller==5.5 in /home/kapis20/miniconda3/envs/papagei_env/lib/python3.10/site-packages (from pyPPG==1.0.41) (5.5)\n",
      "Requirement already satisfied: pyinstaller-hooks-contrib==2022.10 in /home/kapis20/miniconda3/envs/papagei_env/lib/python3.10/site-packages (from pyPPG==1.0.41) (2022.10)\n",
      "Requirement already satisfied: pyparsing==3.0.9 in /home/kapis20/miniconda3/envs/papagei_env/lib/python3.10/site-packages (from pyPPG==1.0.41) (3.0.9)\n",
      "Requirement already satisfied: python-dateutil==2.8.2 in /home/kapis20/miniconda3/envs/papagei_env/lib/python3.10/site-packages (from pyPPG==1.0.41) (2.8.2)\n",
      "Requirement already satisfied: pytz==2022.4 in /home/kapis20/miniconda3/envs/papagei_env/lib/python3.10/site-packages (from pyPPG==1.0.41) (2022.4)\n",
      "Requirement already satisfied: pywin32-ctypes==0.2.0 in /home/kapis20/miniconda3/envs/papagei_env/lib/python3.10/site-packages (from pyPPG==1.0.41) (0.2.0)\n",
      "Requirement already satisfied: requests==2.28.1 in /home/kapis20/miniconda3/envs/papagei_env/lib/python3.10/site-packages (from pyPPG==1.0.41) (2.28.1)\n",
      "Requirement already satisfied: scikit-learn==1.1.3 in /home/kapis20/miniconda3/envs/papagei_env/lib/python3.10/site-packages (from pyPPG==1.0.41) (1.1.3)\n",
      "Requirement already satisfied: setuptools==60.2.0 in /home/kapis20/miniconda3/envs/papagei_env/lib/python3.10/site-packages (from pyPPG==1.0.41) (60.2.0)\n",
      "Requirement already satisfied: six==1.16.0 in /home/kapis20/miniconda3/envs/papagei_env/lib/python3.10/site-packages (from pyPPG==1.0.41) (1.16.0)\n",
      "Requirement already satisfied: soundfile==0.11.0 in /home/kapis20/miniconda3/envs/papagei_env/lib/python3.10/site-packages (from pyPPG==1.0.41) (0.11.0)\n",
      "Requirement already satisfied: statsmodels==0.13.2 in /home/kapis20/miniconda3/envs/papagei_env/lib/python3.10/site-packages (from pyPPG==1.0.41) (0.13.2)\n",
      "Requirement already satisfied: threadpoolctl==3.1.0 in /home/kapis20/miniconda3/envs/papagei_env/lib/python3.10/site-packages (from pyPPG==1.0.41) (3.1.0)\n",
      "Requirement already satisfied: tqdm==4.64.1 in /home/kapis20/miniconda3/envs/papagei_env/lib/python3.10/site-packages (from pyPPG==1.0.41) (4.64.1)\n",
      "Requirement already satisfied: urllib3==1.26.12 in /home/kapis20/miniconda3/envs/papagei_env/lib/python3.10/site-packages (from pyPPG==1.0.41) (1.26.12)\n",
      "Requirement already satisfied: wheel==0.37.1 in /home/kapis20/miniconda3/envs/papagei_env/lib/python3.10/site-packages (from pyPPG==1.0.41) (0.37.1)\n",
      "Requirement already satisfied: whichcraft==0.6.1 in /home/kapis20/miniconda3/envs/papagei_env/lib/python3.10/site-packages (from pyPPG==1.0.41) (0.6.1)\n",
      "Requirement already satisfied: zope.event==4.5.0 in /home/kapis20/miniconda3/envs/papagei_env/lib/python3.10/site-packages (from pyPPG==1.0.41) (4.5.0)\n",
      "Requirement already satisfied: zope.interface==5.4.0 in /home/kapis20/miniconda3/envs/papagei_env/lib/python3.10/site-packages (from pyPPG==1.0.41) (5.4.0)\n",
      "\n",
      "\u001b[1m[\u001b[0m\u001b[34;49mnotice\u001b[0m\u001b[1;39;49m]\u001b[0m\u001b[39;49m A new release of pip is available: \u001b[0m\u001b[31;49m21.3.1\u001b[0m\u001b[39;49m -> \u001b[0m\u001b[32;49m25.0.1\u001b[0m\n",
      "\u001b[1m[\u001b[0m\u001b[34;49mnotice\u001b[0m\u001b[1;39;49m]\u001b[0m\u001b[39;49m To update, run: \u001b[0m\u001b[32;49mpip install --upgrade pip\u001b[0m\n",
      "Requirement already satisfied: openpyxl in /home/kapis20/miniconda3/envs/papagei_env/lib/python3.10/site-packages (3.1.5)\n",
      "Requirement already satisfied: et-xmlfile in /home/kapis20/miniconda3/envs/papagei_env/lib/python3.10/site-packages (from openpyxl) (2.0.0)\n",
      "\n",
      "\u001b[1m[\u001b[0m\u001b[34;49mnotice\u001b[0m\u001b[1;39;49m]\u001b[0m\u001b[39;49m A new release of pip is available: \u001b[0m\u001b[31;49m21.3.1\u001b[0m\u001b[39;49m -> \u001b[0m\u001b[32;49m25.0.1\u001b[0m\n",
      "\u001b[1m[\u001b[0m\u001b[34;49mnotice\u001b[0m\u001b[1;39;49m]\u001b[0m\u001b[39;49m To update, run: \u001b[0m\u001b[32;49mpip install --upgrade pip\u001b[0m\n",
      "Requirement already satisfied: torch_ecg in /home/kapis20/miniconda3/envs/papagei_env/lib/python3.10/site-packages (0.0.31)\n",
      "Requirement already satisfied: bib-lookup in /home/kapis20/miniconda3/envs/papagei_env/lib/python3.10/site-packages (from torch_ecg) (0.0.29)\n",
      "Requirement already satisfied: biosppy in /home/kapis20/miniconda3/envs/papagei_env/lib/python3.10/site-packages (from torch_ecg) (2.2.3)\n",
      "Requirement already satisfied: boto3 in /home/kapis20/miniconda3/envs/papagei_env/lib/python3.10/site-packages (from torch_ecg) (1.37.16)\n",
      "Requirement already satisfied: cython in /home/kapis20/miniconda3/envs/papagei_env/lib/python3.10/site-packages (from torch_ecg) (3.0.12)\n",
      "Requirement already satisfied: deprecate-kwargs in /home/kapis20/miniconda3/envs/papagei_env/lib/python3.10/site-packages (from torch_ecg) (0.1.0)\n",
      "Requirement already satisfied: deprecated in /home/kapis20/miniconda3/envs/papagei_env/lib/python3.10/site-packages (from torch_ecg) (1.2.18)\n",
      "Requirement already satisfied: easydict in /home/kapis20/miniconda3/envs/papagei_env/lib/python3.10/site-packages (from torch_ecg) (1.13)\n",
      "Requirement already satisfied: einops in /home/kapis20/miniconda3/envs/papagei_env/lib/python3.10/site-packages (from torch_ecg) (0.8.1)\n",
      "Requirement already satisfied: matplotlib in /home/kapis20/miniconda3/envs/papagei_env/lib/python3.10/site-packages (from torch_ecg) (3.6.1)\n",
      "Requirement already satisfied: numpy in /home/kapis20/miniconda3/envs/papagei_env/lib/python3.10/site-packages (from torch_ecg) (1.23.2)\n",
      "Requirement already satisfied: pandas in /home/kapis20/miniconda3/envs/papagei_env/lib/python3.10/site-packages (from torch_ecg) (1.4.4)\n",
      "Requirement already satisfied: pyarrow in /home/kapis20/miniconda3/envs/papagei_env/lib/python3.10/site-packages (from torch_ecg) (19.0.1)\n",
      "Requirement already satisfied: pyedflib in /home/kapis20/miniconda3/envs/papagei_env/lib/python3.10/site-packages (from torch_ecg) (0.1.40)\n",
      "Requirement already satisfied: pywavelets in /home/kapis20/miniconda3/envs/papagei_env/lib/python3.10/site-packages (from torch_ecg) (1.8.0)\n",
      "Requirement already satisfied: requests in /home/kapis20/miniconda3/envs/papagei_env/lib/python3.10/site-packages (from torch_ecg) (2.28.1)\n",
      "Requirement already satisfied: scikit-learn in /home/kapis20/miniconda3/envs/papagei_env/lib/python3.10/site-packages (from torch_ecg) (1.1.3)\n",
      "Requirement already satisfied: scipy in /home/kapis20/miniconda3/envs/papagei_env/lib/python3.10/site-packages (from torch_ecg) (1.9.1)\n",
      "Requirement already satisfied: soundfile in /home/kapis20/miniconda3/envs/papagei_env/lib/python3.10/site-packages (from torch_ecg) (0.11.0)\n",
      "Requirement already satisfied: tensorboardx in /home/kapis20/miniconda3/envs/papagei_env/lib/python3.10/site-packages (from torch_ecg) (2.6.2.2)\n",
      "Requirement already satisfied: torch in /home/kapis20/miniconda3/envs/papagei_env/lib/python3.10/site-packages (from torch_ecg) (2.6.0)\n",
      "Requirement already satisfied: torch-optimizer in /home/kapis20/miniconda3/envs/papagei_env/lib/python3.10/site-packages (from torch_ecg) (0.3.0)\n",
      "Requirement already satisfied: torchsummary in /home/kapis20/miniconda3/envs/papagei_env/lib/python3.10/site-packages (from torch_ecg) (1.5.1)\n",
      "Requirement already satisfied: tqdm in /home/kapis20/miniconda3/envs/papagei_env/lib/python3.10/site-packages (from torch_ecg) (4.64.1)\n",
      "Requirement already satisfied: typing-extensions in /home/kapis20/miniconda3/envs/papagei_env/lib/python3.10/site-packages (from torch_ecg) (4.12.2)\n",
      "Requirement already satisfied: wfdb in /home/kapis20/miniconda3/envs/papagei_env/lib/python3.10/site-packages (from torch_ecg) (3.4.0)\n",
      "Requirement already satisfied: xmltodict in /home/kapis20/miniconda3/envs/papagei_env/lib/python3.10/site-packages (from torch_ecg) (0.14.2)\n",
      "Requirement already satisfied: feedparser in /home/kapis20/miniconda3/envs/papagei_env/lib/python3.10/site-packages (from bib-lookup->torch_ecg) (6.0.11)\n",
      "Requirement already satisfied: beautifulsoup4 in /home/kapis20/miniconda3/envs/papagei_env/lib/python3.10/site-packages (from bib-lookup->torch_ecg) (4.12.3)\n",
      "Requirement already satisfied: PyYAML in /home/kapis20/miniconda3/envs/papagei_env/lib/python3.10/site-packages (from bib-lookup->torch_ecg) (6.0.2)\n",
      "Requirement already satisfied: packaging in /home/kapis20/miniconda3/envs/papagei_env/lib/python3.10/site-packages (from bib-lookup->torch_ecg) (21.3)\n",
      "Requirement already satisfied: bidict in /home/kapis20/miniconda3/envs/papagei_env/lib/python3.10/site-packages (from biosppy->torch_ecg) (0.23.1)\n",
      "Requirement already satisfied: h5py in /home/kapis20/miniconda3/envs/papagei_env/lib/python3.10/site-packages (from biosppy->torch_ecg) (3.13.0)\n",
      "Requirement already satisfied: shortuuid in /home/kapis20/miniconda3/envs/papagei_env/lib/python3.10/site-packages (from biosppy->torch_ecg) (1.0.13)\n",
      "Requirement already satisfied: six in /home/kapis20/miniconda3/envs/papagei_env/lib/python3.10/site-packages (from biosppy->torch_ecg) (1.16.0)\n",
      "Requirement already satisfied: joblib in /home/kapis20/miniconda3/envs/papagei_env/lib/python3.10/site-packages (from biosppy->torch_ecg) (1.2.0)\n",
      "Requirement already satisfied: opencv-python in /home/kapis20/miniconda3/envs/papagei_env/lib/python3.10/site-packages (from biosppy->torch_ecg) (4.11.0.86)\n",
      "Requirement already satisfied: mock in /home/kapis20/miniconda3/envs/papagei_env/lib/python3.10/site-packages (from biosppy->torch_ecg) (5.2.0)\n",
      "Requirement already satisfied: botocore<1.38.0,>=1.37.16 in /home/kapis20/miniconda3/envs/papagei_env/lib/python3.10/site-packages (from boto3->torch_ecg) (1.37.16)\n",
      "Requirement already satisfied: jmespath<2.0.0,>=0.7.1 in /home/kapis20/miniconda3/envs/papagei_env/lib/python3.10/site-packages (from boto3->torch_ecg) (1.0.1)\n",
      "Requirement already satisfied: s3transfer<0.12.0,>=0.11.0 in /home/kapis20/miniconda3/envs/papagei_env/lib/python3.10/site-packages (from boto3->torch_ecg) (0.11.4)\n",
      "Requirement already satisfied: wrapt<2,>=1.10 in /home/kapis20/miniconda3/envs/papagei_env/lib/python3.10/site-packages (from deprecated->torch_ecg) (1.17.2)\n",
      "Requirement already satisfied: contourpy>=1.0.1 in /home/kapis20/miniconda3/envs/papagei_env/lib/python3.10/site-packages (from matplotlib->torch_ecg) (1.0.5)\n",
      "Requirement already satisfied: cycler>=0.10 in /home/kapis20/miniconda3/envs/papagei_env/lib/python3.10/site-packages (from matplotlib->torch_ecg) (0.11.0)\n",
      "Requirement already satisfied: fonttools>=4.22.0 in /home/kapis20/miniconda3/envs/papagei_env/lib/python3.10/site-packages (from matplotlib->torch_ecg) (4.37.1)\n",
      "Requirement already satisfied: kiwisolver>=1.0.1 in /home/kapis20/miniconda3/envs/papagei_env/lib/python3.10/site-packages (from matplotlib->torch_ecg) (1.4.4)\n",
      "Requirement already satisfied: pillow>=6.2.0 in /home/kapis20/miniconda3/envs/papagei_env/lib/python3.10/site-packages (from matplotlib->torch_ecg) (9.2.0)\n",
      "Requirement already satisfied: pyparsing>=2.2.1 in /home/kapis20/miniconda3/envs/papagei_env/lib/python3.10/site-packages (from matplotlib->torch_ecg) (3.0.9)\n",
      "Requirement already satisfied: python-dateutil>=2.7 in /home/kapis20/miniconda3/envs/papagei_env/lib/python3.10/site-packages (from matplotlib->torch_ecg) (2.8.2)\n",
      "Requirement already satisfied: pytz>=2020.1 in /home/kapis20/miniconda3/envs/papagei_env/lib/python3.10/site-packages (from pandas->torch_ecg) (2022.4)\n",
      "Requirement already satisfied: charset-normalizer<3,>=2 in /home/kapis20/miniconda3/envs/papagei_env/lib/python3.10/site-packages (from requests->torch_ecg) (2.1.1)\n",
      "Requirement already satisfied: idna<4,>=2.5 in /home/kapis20/miniconda3/envs/papagei_env/lib/python3.10/site-packages (from requests->torch_ecg) (3.4)\n",
      "Requirement already satisfied: urllib3<1.27,>=1.21.1 in /home/kapis20/miniconda3/envs/papagei_env/lib/python3.10/site-packages (from requests->torch_ecg) (1.26.12)\n",
      "Requirement already satisfied: certifi>=2017.4.17 in /home/kapis20/miniconda3/envs/papagei_env/lib/python3.10/site-packages (from requests->torch_ecg) (2022.9.24)\n",
      "Requirement already satisfied: threadpoolctl>=2.0.0 in /home/kapis20/miniconda3/envs/papagei_env/lib/python3.10/site-packages (from scikit-learn->torch_ecg) (3.1.0)\n",
      "Requirement already satisfied: cffi>=1.0 in /home/kapis20/miniconda3/envs/papagei_env/lib/python3.10/site-packages (from soundfile->torch_ecg) (1.15.1)\n",
      "Requirement already satisfied: protobuf>=3.20 in /home/kapis20/miniconda3/envs/papagei_env/lib/python3.10/site-packages (from tensorboardx->torch_ecg) (6.30.1)\n",
      "Requirement already satisfied: filelock in /home/kapis20/miniconda3/envs/papagei_env/lib/python3.10/site-packages (from torch->torch_ecg) (3.18.0)\n",
      "Requirement already satisfied: networkx in /home/kapis20/miniconda3/envs/papagei_env/lib/python3.10/site-packages (from torch->torch_ecg) (3.4.2)\n",
      "Requirement already satisfied: jinja2 in /home/kapis20/miniconda3/envs/papagei_env/lib/python3.10/site-packages (from torch->torch_ecg) (3.1.2)\n",
      "Requirement already satisfied: fsspec in /home/kapis20/miniconda3/envs/papagei_env/lib/python3.10/site-packages (from torch->torch_ecg) (2025.3.0)\n",
      "Requirement already satisfied: nvidia-cuda-nvrtc-cu12==12.4.127 in /home/kapis20/miniconda3/envs/papagei_env/lib/python3.10/site-packages (from torch->torch_ecg) (12.4.127)\n",
      "Requirement already satisfied: nvidia-cuda-runtime-cu12==12.4.127 in /home/kapis20/miniconda3/envs/papagei_env/lib/python3.10/site-packages (from torch->torch_ecg) (12.4.127)\n",
      "Requirement already satisfied: nvidia-cuda-cupti-cu12==12.4.127 in /home/kapis20/miniconda3/envs/papagei_env/lib/python3.10/site-packages (from torch->torch_ecg) (12.4.127)\n",
      "Requirement already satisfied: nvidia-cudnn-cu12==9.1.0.70 in /home/kapis20/miniconda3/envs/papagei_env/lib/python3.10/site-packages (from torch->torch_ecg) (9.1.0.70)\n",
      "Requirement already satisfied: nvidia-cublas-cu12==12.4.5.8 in /home/kapis20/miniconda3/envs/papagei_env/lib/python3.10/site-packages (from torch->torch_ecg) (12.4.5.8)\n",
      "Requirement already satisfied: nvidia-cufft-cu12==11.2.1.3 in /home/kapis20/miniconda3/envs/papagei_env/lib/python3.10/site-packages (from torch->torch_ecg) (11.2.1.3)\n",
      "Requirement already satisfied: nvidia-curand-cu12==10.3.5.147 in /home/kapis20/miniconda3/envs/papagei_env/lib/python3.10/site-packages (from torch->torch_ecg) (10.3.5.147)\n",
      "Requirement already satisfied: nvidia-cusolver-cu12==11.6.1.9 in /home/kapis20/miniconda3/envs/papagei_env/lib/python3.10/site-packages (from torch->torch_ecg) (11.6.1.9)\n",
      "Requirement already satisfied: nvidia-cusparse-cu12==12.3.1.170 in /home/kapis20/miniconda3/envs/papagei_env/lib/python3.10/site-packages (from torch->torch_ecg) (12.3.1.170)\n",
      "Requirement already satisfied: nvidia-cusparselt-cu12==0.6.2 in /home/kapis20/miniconda3/envs/papagei_env/lib/python3.10/site-packages (from torch->torch_ecg) (0.6.2)\n",
      "Requirement already satisfied: nvidia-nccl-cu12==2.21.5 in /home/kapis20/miniconda3/envs/papagei_env/lib/python3.10/site-packages (from torch->torch_ecg) (2.21.5)\n",
      "Requirement already satisfied: nvidia-nvtx-cu12==12.4.127 in /home/kapis20/miniconda3/envs/papagei_env/lib/python3.10/site-packages (from torch->torch_ecg) (12.4.127)\n",
      "Requirement already satisfied: nvidia-nvjitlink-cu12==12.4.127 in /home/kapis20/miniconda3/envs/papagei_env/lib/python3.10/site-packages (from torch->torch_ecg) (12.4.127)\n",
      "Requirement already satisfied: triton==3.2.0 in /home/kapis20/miniconda3/envs/papagei_env/lib/python3.10/site-packages (from torch->torch_ecg) (3.2.0)\n",
      "Requirement already satisfied: sympy==1.13.1 in /home/kapis20/miniconda3/envs/papagei_env/lib/python3.10/site-packages (from torch->torch_ecg) (1.13.1)\n",
      "Requirement already satisfied: mpmath<1.4,>=1.1.0 in /home/kapis20/miniconda3/envs/papagei_env/lib/python3.10/site-packages (from sympy==1.13.1->torch->torch_ecg) (1.3.0)\n",
      "Requirement already satisfied: pytorch-ranger>=0.1.1 in /home/kapis20/miniconda3/envs/papagei_env/lib/python3.10/site-packages (from torch-optimizer->torch_ecg) (0.1.1)\n",
      "Requirement already satisfied: chardet>=3.0.0 in /home/kapis20/miniconda3/envs/papagei_env/lib/python3.10/site-packages (from wfdb->torch_ecg) (5.0.0)\n",
      "Requirement already satisfied: pycparser in /home/kapis20/miniconda3/envs/papagei_env/lib/python3.10/site-packages (from cffi>=1.0->soundfile->torch_ecg) (2.21)\n",
      "Requirement already satisfied: soupsieve>1.2 in /home/kapis20/miniconda3/envs/papagei_env/lib/python3.10/site-packages (from beautifulsoup4->bib-lookup->torch_ecg) (2.5)\n",
      "Requirement already satisfied: sgmllib3k in /home/kapis20/miniconda3/envs/papagei_env/lib/python3.10/site-packages (from feedparser->bib-lookup->torch_ecg) (1.0.0)\n",
      "Requirement already satisfied: MarkupSafe>=2.0 in /home/kapis20/miniconda3/envs/papagei_env/lib/python3.10/site-packages (from jinja2->torch->torch_ecg) (2.1.1)\n",
      "\n",
      "\u001b[1m[\u001b[0m\u001b[34;49mnotice\u001b[0m\u001b[1;39;49m]\u001b[0m\u001b[39;49m A new release of pip is available: \u001b[0m\u001b[31;49m21.3.1\u001b[0m\u001b[39;49m -> \u001b[0m\u001b[32;49m25.0.1\u001b[0m\n",
      "\u001b[1m[\u001b[0m\u001b[34;49mnotice\u001b[0m\u001b[1;39;49m]\u001b[0m\u001b[39;49m To update, run: \u001b[0m\u001b[32;49mpip install --upgrade pip\u001b[0m\n"
     ]
    }
   ],
   "source": [
    "!pip install dotmap\n",
    "!pip install vitaldb \n",
    "!pip install pyPPG==1.0.41\n",
    "!pip install openpyxl\n",
    "!pip install torch_ecg"
   ]
  },
  {
   "cell_type": "raw",
   "id": "d50269f6-4916-4f93-bafc-14bc63014e7a",
   "metadata": {},
   "source": [
    "(exclamation mark) is used to run shell commands (like those you would run in the terminal) inside a code cell."
   ]
  },
  {
   "cell_type": "code",
   "execution_count": 2,
   "id": "1ac0944b-46aa-471f-88fe-c4ba9f8b1eaf",
   "metadata": {
    "scrolled": true
   },
   "outputs": [
    {
     "name": "stdout",
     "output_type": "stream",
     "text": [
      "np.dtypes exists: True\n"
     ]
    },
    {
     "name": "stderr",
     "output_type": "stream",
     "text": [
      "/home/kapis20/miniconda3/envs/papagei_env/lib/python3.10/site-packages/torchvision/transforms/_functional_pil.py:242: DeprecationWarning: BILINEAR is deprecated and will be removed in Pillow 10 (2023-07-01). Use Resampling.BILINEAR instead.\n",
      "  interpolation: int = Image.BILINEAR,\n",
      "/home/kapis20/miniconda3/envs/papagei_env/lib/python3.10/site-packages/torchvision/transforms/_functional_pil.py:288: DeprecationWarning: NEAREST is deprecated and will be removed in Pillow 10 (2023-07-01). Use Resampling.NEAREST or Dither.NONE instead.\n",
      "  interpolation: int = Image.NEAREST,\n",
      "/home/kapis20/miniconda3/envs/papagei_env/lib/python3.10/site-packages/torchvision/transforms/_functional_pil.py:304: DeprecationWarning: NEAREST is deprecated and will be removed in Pillow 10 (2023-07-01). Use Resampling.NEAREST or Dither.NONE instead.\n",
      "  interpolation: int = Image.NEAREST,\n",
      "/home/kapis20/miniconda3/envs/papagei_env/lib/python3.10/site-packages/torchvision/transforms/_functional_pil.py:321: DeprecationWarning: BICUBIC is deprecated and will be removed in Pillow 10 (2023-07-01). Use Resampling.BICUBIC instead.\n",
      "  interpolation: int = Image.BICUBIC,\n"
     ]
    }
   ],
   "source": [
    "import pandas as pd \n",
    "import numpy as np\n",
    "if not hasattr(np, 'dtypes'):\n",
    "    np.dtypes = np.core.numerictypes\n",
    "print(\"np.dtypes exists:\", hasattr(np, 'dtypes'))\n",
    "import os \n",
    "import sys\n",
    "import joblib\n",
    "import matplotlib.pyplot as plt\n",
    "import torch\n",
    "from tqdm import tqdm \n",
    "from linearprobing.utils import resample_batch_signal, load_model_without_module_prefix, get_data_for_ml\n",
    "from preprocessing.ppg import preprocess_one_ppg_signal\n",
    "from segmentations import waveform_to_segments, save_segments_to_directory\n",
    "from sklearn.model_selection import train_test_split\n",
    "from torch_ecg._preprocessors import Normalize\n",
    "from models.resnet import ResNet1D, ResNet1DMoE\n",
    "from linearprobing.feature_extraction_papagei import save_embeddings\n",
    "from linearprobing.extracted_feature_combine import segment_avg_to_dict\n",
    "from linearprobing.regression import regression_model"
   ]
  },
  {
   "cell_type": "markdown",
   "id": "4a41f867-8e5c-424a-b8dd-806043de84e8",
   "metadata": {},
   "source": [
    "## 1. Data\n",
    "\n",
    "- **(a)**: Download the PPG-BP data from [PPG-BP Database](https://figshare.com/articles/dataset/PPG-BP_Database_zip/5459299) to a directory.\n",
    "  - Add the download path to `download_dir`.\n",
    "- **(b)**: Use the download path for further pre-processing.\n",
    "- **(c)**: Use pre-defined user splits for later linear evaluation\n"
   ]
  },
  {
   "cell_type": "markdown",
   "id": "f97dd234-6ca9-4375-b6bf-f07ccdd84d48",
   "metadata": {},
   "source": [
    "#### 1. (a)"
   ]
  },
  {
   "cell_type": "code",
   "execution_count": 3,
   "id": "97fd5528-dac5-4e9b-8fce-2b6ae9bcd03a",
   "metadata": {},
   "outputs": [
    {
     "name": "stdout",
     "output_type": "stream",
     "text": [
      "Directory exists. Contents:\n",
      "PPG-BP Database\n",
      "Table 1.xlsx\n",
      "sdata201820.pdf\n"
     ]
    }
   ],
   "source": [
    "import os \n",
    "\n",
    "download_dir = \"/home/kapis20/projects/PPGworkspace/papagei-foundation-model/5459299\"\n",
    "\n",
    "# Check if the directory exists\n",
    "if os.path.exists(download_dir):\n",
    "    print(\"Directory exists. Contents:\")\n",
    "    # List all files and directories inside download_dir\n",
    "    for item in os.listdir(download_dir):\n",
    "        print(item)\n",
    "else:\n",
    "    print(\"Directory does not exist.\")"
   ]
  },
  {
   "cell_type": "code",
   "execution_count": 4,
   "id": "a35efad9-f5b8-4720-a571-53d2063e0b5e",
   "metadata": {},
   "outputs": [
    {
     "name": "stdout",
     "output_type": "stream",
     "text": [
      "Full file path: /home/kapis20/projects/PPGworkspace/papagei-foundation-model/5459299/PPG-BP Database/Data File/PPG-BP dataset.xlsx\n",
      "The DataFrame has data.\n"
     ]
    }
   ],
   "source": [
    "#df = pd.read_excel(f\"{download_dir}/Data File/PPG-BP dataset.xlsx\", header=1)\n",
    "# file_path = os.path.join(download_dir, \"PPG-BP Database\", \"Data file\", \"PPG-BP dataset.xlsx\")\n",
    "# df = pd.read_excel(file_path, header=1)\n",
    "# folder_path = os.path.join(download_dir, \"PPG-BP Database\")\n",
    "# print(\"Contents of 'PPG-BP Database':\", os.listdir(folder_path))\n",
    "# file_path = os.path.join(download_dir, \"PPG-BP Database\", \"Data File\")\n",
    "# print(\"Contents of 'Data File':\", os.listdir(file_path))\n",
    "# Construct the path to the Excel file\n",
    "file_path = os.path.join(download_dir, \"PPG-BP Database\", \"Data File\", \"PPG-BP dataset.xlsx\")\n",
    "print(\"Full file path:\", file_path)\n",
    "\n",
    "# Now read the Excel file\n",
    "df = pd.read_excel(file_path, header=1)\n",
    "\n",
    "#Check if read sucessfully \n",
    "if df.empty:\n",
    "    print(\"The DataFrame is empty!\")\n",
    "else:\n",
    "    print(\"The DataFrame has data.\")\n"
   ]
  },
  {
   "cell_type": "code",
   "execution_count": 5,
   "id": "01597863-d4f8-45a7-a952-78f374edcb5f",
   "metadata": {},
   "outputs": [
    {
     "name": "stdout",
     "output_type": "stream",
     "text": [
      "Contents of 'Data File': ['PPG-BP dataset.xlsx', 'train.csv', 'val.csv', 'ppg', '0_subject', 'test.csv']\n",
      "Main directory: /home/kapis20/projects/PPGworkspace/papagei-foundation-model/5459299/PPG-BP Database/Data File/0_subject\n",
      "Files in main_dir: ['251_3.txt', '19_3.txt', '407_2.txt', '191_2.txt', '107_2.txt', '252_3.txt', '90_1.txt', '123_3.txt', '113_3.txt', '11_2.txt', '173_3.txt', '38_3.txt', '47_1.txt', '64_1.txt', '256_1.txt', '116_1.txt', '253_2.txt', '243_2.txt', '22_1.txt', '244_3.txt', '32_2.txt', '169_3.txt', '240_1.txt', '206_2.txt', '56_2.txt', '99_3.txt', '239_2.txt', '201_3.txt', '254_3.txt', '13_1.txt', '197_2.txt', '234_3.txt', '98_2.txt', '142_1.txt', '184_1.txt', '60_3.txt', '108_1.txt', '170_2.txt', '175_2.txt', '208_2.txt', '41_2.txt', '259_3.txt', '403_1.txt', '67_2.txt', '17_3.txt', '122_1.txt', '134_1.txt', '224_2.txt', '184_3.txt', '217_2.txt', '18_2.txt', '253_1.txt', '200_1.txt', '403_3.txt', '65_3.txt', '229_3.txt', '405_2.txt', '107_3.txt', '2_2.txt', '227_3.txt', '412_2.txt', '210_3.txt', '162_1.txt', '414_2.txt', '50_3.txt', '131_3.txt', '188_1.txt', '198_1.txt', '409_1.txt', '228_2.txt', '148_3.txt', '200_2.txt', '170_3.txt', '66_1.txt', '104_3.txt', '166_1.txt', '176_3.txt', '85_3.txt', '52_1.txt', '409_3.txt', '57_2.txt', '223_3.txt', '209_2.txt', '152_1.txt', '218_2.txt', '24_3.txt', '138_2.txt', '219_1.txt', '185_1.txt', '115_1.txt', '185_2.txt', '190_2.txt', '163_2.txt', '93_3.txt', '184_2.txt', '30_2.txt', '165_1.txt', '257_2.txt', '245_3.txt', '38_1.txt', '252_2.txt', '197_3.txt', '105_2.txt', '142_2.txt', '176_1.txt', '32_1.txt', '32_3.txt', '23_2.txt', '231_3.txt', '178_1.txt', '103_3.txt', '230_1.txt', '145_2.txt', '237_2.txt', '26_3.txt', '158_3.txt', '131_1.txt', '196_3.txt', '201_2.txt', '54_2.txt', '91_1.txt', '97_2.txt', '9_1.txt', '189_2.txt', '51_3.txt', '126_1.txt', '62_2.txt', '141_2.txt', '242_1.txt', '87_3.txt', '115_2.txt', '48_3.txt', '152_2.txt', '31_3.txt', '216_3.txt', '135_1.txt', '419_2.txt', '108_3.txt', '124_2.txt', '235_3.txt', '137_1.txt', '93_1.txt', '10_1.txt', '126_3.txt', '6_3.txt', '3_2.txt', '411_2.txt', '208_1.txt', '217_3.txt', '191_3.txt', '150_2.txt', '11_3.txt', '214_1.txt', '137_2.txt', '165_3.txt', '148_1.txt', '224_1.txt', '153_3.txt', '50_2.txt', '10_3.txt', '140_1.txt', '406_2.txt', '25_3.txt', '183_1.txt', '62_1.txt', '170_1.txt', '146_2.txt', '145_1.txt', '112_3.txt', '179_1.txt', '122_3.txt', '215_3.txt', '252_1.txt', '162_2.txt', '104_1.txt', '122_2.txt', '17_2.txt', '250_3.txt', '411_3.txt', '16_3.txt', '186_1.txt', '148_2.txt', '45_2.txt', '161_1.txt', '226_1.txt', '250_1.txt', '93_2.txt', '256_2.txt', '130_2.txt', '219_3.txt', '403_2.txt', '413_3.txt', '212_2.txt', '145_3.txt', '241_2.txt', '171_2.txt', '224_3.txt', '19_2.txt', '173_2.txt', '43_3.txt', '247_1.txt', '40_2.txt', '88_2.txt', '138_3.txt', '86_2.txt', '172_3.txt', '237_3.txt', '203_1.txt', '195_1.txt', '47_2.txt', '417_2.txt', '57_1.txt', '151_1.txt', '131_2.txt', '179_2.txt', '142_3.txt', '412_1.txt', '412_3.txt', '163_1.txt', '226_2.txt', '61_1.txt', '418_3.txt', '26_2.txt', '237_1.txt', '83_3.txt', '138_1.txt', '47_3.txt', '114_1.txt', '222_1.txt', '413_2.txt', '209_1.txt', '153_1.txt', '418_2.txt', '12_2.txt', '65_2.txt', '160_1.txt', '21_1.txt', '259_1.txt', '242_2.txt', '6_2.txt', '137_3.txt', '247_3.txt', '13_3.txt', '178_2.txt', '257_3.txt', '222_2.txt', '167_2.txt', '189_3.txt', '48_2.txt', '104_2.txt', '199_1.txt', '223_1.txt', '229_2.txt', '150_1.txt', '12_3.txt', '31_1.txt', '67_1.txt', '175_1.txt', '54_1.txt', '113_2.txt', '15_2.txt', '157_1.txt', '134_2.txt', '220_2.txt', '205_1.txt', '230_3.txt', '103_2.txt', '246_1.txt', '172_2.txt', '123_2.txt', '167_3.txt', '223_2.txt', '212_3.txt', '241_1.txt', '97_3.txt', '210_1.txt', '110_1.txt', '27_2.txt', '51_1.txt', '110_3.txt', '234_2.txt', '257_1.txt', '192_2.txt', '45_1.txt', '35_2.txt', '55_1.txt', '87_2.txt', '136_2.txt', '112_2.txt', '163_3.txt', '119_2.txt', '251_1.txt', '17_1.txt', '235_1.txt', '209_3.txt', '123_1.txt', '103_1.txt', '43_1.txt', '246_2.txt', '65_1.txt', '3_1.txt', '161_2.txt', '190_1.txt', '62_3.txt', '244_1.txt', '99_2.txt', '38_2.txt', '41_1.txt', '116_2.txt', '192_1.txt', '410_3.txt', '219_2.txt', '22_2.txt', '233_1.txt', '31_2.txt', '207_2.txt', '19_1.txt', '25_1.txt', '186_3.txt', '67_3.txt', '130_3.txt', '130_1.txt', '120_3.txt', '199_2.txt', '248_3.txt', '114_2.txt', '29_2.txt', '124_3.txt', '29_1.txt', '182_2.txt', '199_3.txt', '161_3.txt', '84_2.txt', '157_2.txt', '86_3.txt', '151_2.txt', '85_1.txt', '92_1.txt', '214_2.txt', '193_3.txt', '35_3.txt', '100_2.txt', '48_1.txt', '165_2.txt', '256_3.txt', '176_2.txt', '175_3.txt', '15_1.txt', '156_2.txt', '410_2.txt', '416_2.txt', '254_1.txt', '12_1.txt', '245_1.txt', '61_2.txt', '108_2.txt', '135_3.txt', '23_1.txt', '186_2.txt', '41_3.txt', '92_3.txt', '242_3.txt', '119_3.txt', '217_1.txt', '227_1.txt', '88_3.txt', '164_3.txt', '215_1.txt', '106_3.txt', '174_1.txt', '40_3.txt', '232_2.txt', '13_2.txt', '259_2.txt', '128_2.txt', '193_2.txt', '11_1.txt', '115_3.txt', '99_1.txt', '127_2.txt', '91_3.txt', '228_1.txt', '156_1.txt', '111_1.txt', '405_1.txt', '2_3.txt', '66_2.txt', '171_3.txt', '8_3.txt', '111_3.txt', '160_3.txt', '231_1.txt', '174_3.txt', '139_3.txt', '149_3.txt', '92_2.txt', '16_1.txt', '153_2.txt', '14_2.txt', '180_3.txt', '105_3.txt', '180_2.txt', '178_3.txt', '126_2.txt', '213_3.txt', '234_1.txt', '100_1.txt', '218_1.txt', '144_2.txt', '405_3.txt', '227_2.txt', '203_3.txt', '113_1.txt', '54_3.txt', '195_2.txt', '51_2.txt', '58_3.txt', '84_1.txt', '167_1.txt', '235_2.txt', '114_3.txt', '251_2.txt', '218_3.txt', '120_2.txt', '89_3.txt', '23_3.txt', '243_1.txt', '229_1.txt', '419_1.txt', '413_1.txt', '205_2.txt', '206_3.txt', '116_3.txt', '53_2.txt', '212_1.txt', '158_2.txt', '86_1.txt', '55_2.txt', '150_3.txt', '30_3.txt', '415_1.txt', '25_2.txt', '149_2.txt', '240_3.txt', '230_2.txt', '201_1.txt', '52_3.txt', '415_3.txt', '203_2.txt', '57_3.txt', '100_3.txt', '253_3.txt', '189_1.txt', '64_2.txt', '411_1.txt', '248_1.txt', '53_3.txt', '111_2.txt', '58_1.txt', '173_1.txt', '125_3.txt', '134_3.txt', '193_1.txt', '211_3.txt', '14_1.txt', '21_3.txt', '185_3.txt', '221_1.txt', '8_1.txt', '404_1.txt', '157_3.txt', '182_3.txt', '136_1.txt', '53_1.txt', '243_3.txt', '83_2.txt', '88_1.txt', '21_2.txt', '169_2.txt', '183_2.txt', '162_3.txt', '409_2.txt', '127_1.txt', '9_2.txt', '222_3.txt', '416_3.txt', '149_1.txt', '95_1.txt', '24_2.txt', '136_3.txt', '155_1.txt', '18_3.txt', '417_3.txt', '139_2.txt', '9_3.txt', '207_1.txt', '140_2.txt', '43_2.txt', '64_3.txt', '154_3.txt', '188_2.txt', '197_1.txt', '22_3.txt', '154_1.txt', '241_3.txt', '10_2.txt', '61_3.txt', '233_2.txt', '246_3.txt', '125_2.txt', '155_2.txt', '135_2.txt', '98_1.txt', '214_3.txt', '96_1.txt', '228_3.txt', '58_2.txt', '112_1.txt', '27_1.txt', '220_3.txt', '3_3.txt', '30_1.txt', '60_2.txt', '407_1.txt', '207_3.txt', '247_2.txt', '180_1.txt', '146_1.txt', '119_1.txt', '182_1.txt', '155_3.txt', '106_1.txt', '216_1.txt', '63_3.txt', '169_1.txt', '171_1.txt', '232_1.txt', '45_3.txt', '239_1.txt', '248_2.txt', '85_2.txt', '29_3.txt', '208_3.txt', '14_3.txt', '156_3.txt', '196_2.txt', '404_3.txt', '211_1.txt', '106_2.txt', '418_1.txt', '34_1.txt', '152_3.txt', '144_3.txt', '127_3.txt', '164_2.txt', '151_3.txt', '16_2.txt', '84_3.txt', '416_1.txt', '66_3.txt', '191_1.txt', '125_1.txt', '50_1.txt', '6_1.txt', '210_2.txt', '120_1.txt', '245_2.txt', '8_2.txt', '154_2.txt', '107_1.txt', '128_1.txt', '144_1.txt', '128_3.txt', '190_3.txt', '232_3.txt', '414_1.txt', '206_1.txt', '254_2.txt', '55_3.txt', '89_1.txt', '87_1.txt', '174_2.txt', '141_3.txt', '60_1.txt', '40_1.txt', '410_1.txt', '90_2.txt', '239_3.txt', '231_2.txt', '56_3.txt', '414_3.txt', '417_1.txt', '95_2.txt', '419_3.txt', '63_2.txt', '415_2.txt', '166_3.txt', '105_1.txt', '160_2.txt', '34_3.txt', '198_3.txt', '211_2.txt', '213_1.txt', '179_3.txt', '56_1.txt', '406_1.txt', '404_2.txt', '15_3.txt', '216_2.txt', '196_1.txt', '221_3.txt', '96_3.txt', '183_3.txt', '215_2.txt', '89_2.txt', '158_1.txt', '98_3.txt', '407_3.txt', '90_3.txt', '172_1.txt', '141_1.txt', '96_2.txt', '221_2.txt', '124_1.txt', '18_1.txt', '198_2.txt', '205_3.txt', '139_1.txt', '233_3.txt', '220_1.txt', '244_2.txt', '213_2.txt', '146_3.txt', '83_1.txt', '91_2.txt', '27_3.txt', '26_1.txt', '195_3.txt', '188_3.txt', '240_2.txt', '140_3.txt', '95_3.txt', '226_3.txt', '164_1.txt', '110_2.txt', '2_1.txt', '406_3.txt', '250_2.txt', '192_3.txt', '52_2.txt', '166_2.txt', '24_1.txt', '97_1.txt', '34_2.txt', '35_1.txt', '200_3.txt', '63_1.txt']\n"
     ]
    }
   ],
   "source": [
    "subjects = df.subject_ID.values\n",
    "# main_dir = f\"{download_dir}/Data File/0_subject/\"\n",
    "# ppg_dir = f\"{download_dir}/Data File/ppg/\"\n",
    "\n",
    "# if not os.path.exists(ppg_dir):\n",
    "#     os.mkdir(ppg_dir)\n",
    "\n",
    "# Define the correct path to the \"Data File\" folder\n",
    "data_file_dir = os.path.join(download_dir, \"PPG-BP Database\", \"Data File\")\n",
    "print(\"Contents of 'Data File':\", os.listdir(data_file_dir))\n",
    "\n",
    "# # Update your main_dir and ppg_dir to reflect the correct structure\n",
    "main_dir = os.path.join(data_file_dir, \"0_subject\")\n",
    "ppg_dir = os.path.join(data_file_dir, \"ppg\")\n",
    "\n",
    "# Create the ppg directory, including any missing intermediate directories\n",
    "if not os.path.exists(ppg_dir):\n",
    "    os.makedirs(ppg_dir, exist_ok=True)\n",
    "\n",
    "\n",
    "print(\"Main directory:\", main_dir)\n",
    "print(\"Files in main_dir:\", os.listdir(main_dir))\n",
    "\n",
    "fs = 1000 \n",
    "fs_target = 125"
   ]
  },
  {
   "cell_type": "markdown",
   "id": "10bf86a4-d680-431a-be40-d610bb11778c",
   "metadata": {},
   "source": [
    "#### 1. (b)"
   ]
  },
  {
   "cell_type": "code",
   "execution_count": 6,
   "id": "32562452-deb4-4c2d-b645-4dc4b559f762",
   "metadata": {},
   "outputs": [],
   "source": [
    "filenames = [f.split(\"_\")[0] for f in os.listdir(main_dir)]"
   ]
  },
  {
   "cell_type": "code",
   "execution_count": 7,
   "id": "840fd007-dd42-4fff-a9b8-331da4ebaaac",
   "metadata": {
    "scrolled": true
   },
   "outputs": [
    {
     "name": "stderr",
     "output_type": "stream",
     "text": [
      "  0%|          | 0/657 [00:00<?, ?it/s]"
     ]
    },
    {
     "name": "stdout",
     "output_type": "stream",
     "text": [
      "Processing: 251_1\n",
      "Processing: /home/kapis20/projects/PPGworkspace/papagei-foundation-model/5459299/PPG-BP Database/Data File/0_subject/251_1.txt\n",
      "Processing: 251_2\n",
      "Processing: /home/kapis20/projects/PPGworkspace/papagei-foundation-model/5459299/PPG-BP Database/Data File/0_subject/251_2.txt\n"
     ]
    },
    {
     "name": "stderr",
     "output_type": "stream",
     "text": [
      "  0%|          | 1/657 [00:00<03:46,  2.89it/s]"
     ]
    },
    {
     "name": "stdout",
     "output_type": "stream",
     "text": [
      "Processing: 251_3\n",
      "Processing: /home/kapis20/projects/PPGworkspace/papagei-foundation-model/5459299/PPG-BP Database/Data File/0_subject/251_3.txt\n",
      "[INFO] 0251 already exists\n",
      "Processing: 19_1\n",
      "Processing: /home/kapis20/projects/PPGworkspace/papagei-foundation-model/5459299/PPG-BP Database/Data File/0_subject/19_1.txt\n"
     ]
    },
    {
     "name": "stderr",
     "output_type": "stream",
     "text": [
      "  0%|          | 2/657 [00:00<03:35,  3.04it/s]"
     ]
    },
    {
     "name": "stdout",
     "output_type": "stream",
     "text": [
      "Processing: 19_2\n",
      "Processing: /home/kapis20/projects/PPGworkspace/papagei-foundation-model/5459299/PPG-BP Database/Data File/0_subject/19_2.txt\n",
      "Processing: 19_3\n",
      "Processing: /home/kapis20/projects/PPGworkspace/papagei-foundation-model/5459299/PPG-BP Database/Data File/0_subject/19_3.txt\n",
      "[INFO] 0019 already exists\n",
      "Processing: 407_1\n",
      "Processing: /home/kapis20/projects/PPGworkspace/papagei-foundation-model/5459299/PPG-BP Database/Data File/0_subject/407_1.txt\n",
      "Processing: 407_2\n",
      "Processing: /home/kapis20/projects/PPGworkspace/papagei-foundation-model/5459299/PPG-BP Database/Data File/0_subject/407_2.txt\n",
      "Processing: 407_3\n",
      "Processing: /home/kapis20/projects/PPGworkspace/papagei-foundation-model/5459299/PPG-BP Database/Data File/0_subject/407_3.txt\n"
     ]
    },
    {
     "name": "stderr",
     "output_type": "stream",
     "text": [
      "  0%|          | 3/657 [00:00<03:16,  3.33it/s]"
     ]
    },
    {
     "name": "stdout",
     "output_type": "stream",
     "text": [
      "[INFO] 0407 already exists\n",
      "Processing: 191_1\n",
      "Processing: /home/kapis20/projects/PPGworkspace/papagei-foundation-model/5459299/PPG-BP Database/Data File/0_subject/191_1.txt\n",
      "Processing: 191_2\n",
      "Processing: /home/kapis20/projects/PPGworkspace/papagei-foundation-model/5459299/PPG-BP Database/Data File/0_subject/191_2.txt\n"
     ]
    },
    {
     "name": "stderr",
     "output_type": "stream",
     "text": [
      "  1%|          | 4/657 [00:01<03:29,  3.11it/s]"
     ]
    },
    {
     "name": "stdout",
     "output_type": "stream",
     "text": [
      "Processing: 191_3\n",
      "Processing: /home/kapis20/projects/PPGworkspace/papagei-foundation-model/5459299/PPG-BP Database/Data File/0_subject/191_3.txt\n",
      "[INFO] 0191 already exists\n",
      "Processing: 107_1\n",
      "Processing: /home/kapis20/projects/PPGworkspace/papagei-foundation-model/5459299/PPG-BP Database/Data File/0_subject/107_1.txt\n",
      "Processing: 107_2\n",
      "Processing: /home/kapis20/projects/PPGworkspace/papagei-foundation-model/5459299/PPG-BP Database/Data File/0_subject/107_2.txt\n"
     ]
    },
    {
     "name": "stderr",
     "output_type": "stream",
     "text": [
      "  1%|          | 5/657 [00:01<03:23,  3.20it/s]"
     ]
    },
    {
     "name": "stdout",
     "output_type": "stream",
     "text": [
      "Processing: 107_3\n",
      "Processing: /home/kapis20/projects/PPGworkspace/papagei-foundation-model/5459299/PPG-BP Database/Data File/0_subject/107_3.txt\n",
      "[INFO] 0107 already exists\n",
      "Processing: 252_1\n",
      "Processing: /home/kapis20/projects/PPGworkspace/papagei-foundation-model/5459299/PPG-BP Database/Data File/0_subject/252_1.txt\n",
      "Processing: 252_2\n",
      "Processing: /home/kapis20/projects/PPGworkspace/papagei-foundation-model/5459299/PPG-BP Database/Data File/0_subject/252_2.txt\n"
     ]
    },
    {
     "name": "stderr",
     "output_type": "stream",
     "text": [
      "  1%|          | 6/657 [00:01<03:22,  3.21it/s]"
     ]
    },
    {
     "name": "stdout",
     "output_type": "stream",
     "text": [
      "Processing: 252_3\n",
      "Processing: /home/kapis20/projects/PPGworkspace/papagei-foundation-model/5459299/PPG-BP Database/Data File/0_subject/252_3.txt\n",
      "[INFO] 0252 already exists\n",
      "Processing: 90_1\n",
      "Processing: /home/kapis20/projects/PPGworkspace/papagei-foundation-model/5459299/PPG-BP Database/Data File/0_subject/90_1.txt\n",
      "Processing: 90_2\n",
      "Processing: /home/kapis20/projects/PPGworkspace/papagei-foundation-model/5459299/PPG-BP Database/Data File/0_subject/90_2.txt\n",
      "Processing: 90_3\n",
      "Processing: /home/kapis20/projects/PPGworkspace/papagei-foundation-model/5459299/PPG-BP Database/Data File/0_subject/90_3.txt\n"
     ]
    },
    {
     "name": "stderr",
     "output_type": "stream",
     "text": [
      "  1%|          | 7/657 [00:02<03:41,  2.94it/s]"
     ]
    },
    {
     "name": "stdout",
     "output_type": "stream",
     "text": [
      "[INFO] 0090 already exists\n",
      "Processing: 123_1\n",
      "Processing: /home/kapis20/projects/PPGworkspace/papagei-foundation-model/5459299/PPG-BP Database/Data File/0_subject/123_1.txt\n",
      "Processing: 123_2\n",
      "Processing: /home/kapis20/projects/PPGworkspace/papagei-foundation-model/5459299/PPG-BP Database/Data File/0_subject/123_2.txt\n",
      "Processing: 123_3\n",
      "Processing: /home/kapis20/projects/PPGworkspace/papagei-foundation-model/5459299/PPG-BP Database/Data File/0_subject/123_3.txt\n"
     ]
    },
    {
     "name": "stderr",
     "output_type": "stream",
     "text": [
      "  1%|          | 8/657 [00:02<03:33,  3.04it/s]"
     ]
    },
    {
     "name": "stdout",
     "output_type": "stream",
     "text": [
      "[INFO] 0123 already exists\n",
      "Processing: 113_1\n",
      "Processing: /home/kapis20/projects/PPGworkspace/papagei-foundation-model/5459299/PPG-BP Database/Data File/0_subject/113_1.txt\n",
      "Processing: 113_2\n",
      "Processing: /home/kapis20/projects/PPGworkspace/papagei-foundation-model/5459299/PPG-BP Database/Data File/0_subject/113_2.txt\n",
      "Processing: 113_3\n",
      "Processing: /home/kapis20/projects/PPGworkspace/papagei-foundation-model/5459299/PPG-BP Database/Data File/0_subject/113_3.txt\n"
     ]
    },
    {
     "name": "stderr",
     "output_type": "stream",
     "text": [
      "  1%|▏         | 9/657 [00:02<03:30,  3.08it/s]"
     ]
    },
    {
     "name": "stdout",
     "output_type": "stream",
     "text": [
      "[INFO] 0113 already exists\n",
      "Processing: 11_1\n",
      "Processing: /home/kapis20/projects/PPGworkspace/papagei-foundation-model/5459299/PPG-BP Database/Data File/0_subject/11_1.txt\n",
      "Processing: 11_2\n",
      "Processing: /home/kapis20/projects/PPGworkspace/papagei-foundation-model/5459299/PPG-BP Database/Data File/0_subject/11_2.txt\n"
     ]
    },
    {
     "name": "stderr",
     "output_type": "stream",
     "text": [
      "  2%|▏         | 10/657 [00:03<03:40,  2.94it/s]"
     ]
    },
    {
     "name": "stdout",
     "output_type": "stream",
     "text": [
      "Processing: 11_3\n",
      "Processing: /home/kapis20/projects/PPGworkspace/papagei-foundation-model/5459299/PPG-BP Database/Data File/0_subject/11_3.txt\n",
      "[INFO] 0011 already exists\n",
      "Processing: 173_1\n",
      "Processing: /home/kapis20/projects/PPGworkspace/papagei-foundation-model/5459299/PPG-BP Database/Data File/0_subject/173_1.txt\n",
      "Processing: 173_2\n",
      "Processing: /home/kapis20/projects/PPGworkspace/papagei-foundation-model/5459299/PPG-BP Database/Data File/0_subject/173_2.txt\n",
      "Processing: 173_3\n",
      "Processing: /home/kapis20/projects/PPGworkspace/papagei-foundation-model/5459299/PPG-BP Database/Data File/0_subject/173_3.txt\n"
     ]
    },
    {
     "name": "stderr",
     "output_type": "stream",
     "text": [
      "  2%|▏         | 11/657 [00:03<04:09,  2.59it/s]"
     ]
    },
    {
     "name": "stdout",
     "output_type": "stream",
     "text": [
      "[INFO] 0173 already exists\n",
      "Processing: 38_1\n",
      "Processing: /home/kapis20/projects/PPGworkspace/papagei-foundation-model/5459299/PPG-BP Database/Data File/0_subject/38_1.txt\n",
      "Processing: 38_2\n",
      "Processing: /home/kapis20/projects/PPGworkspace/papagei-foundation-model/5459299/PPG-BP Database/Data File/0_subject/38_2.txt\n"
     ]
    },
    {
     "name": "stderr",
     "output_type": "stream",
     "text": [
      "  2%|▏         | 12/657 [00:04<04:31,  2.38it/s]"
     ]
    },
    {
     "name": "stdout",
     "output_type": "stream",
     "text": [
      "Processing: 38_3\n",
      "Processing: /home/kapis20/projects/PPGworkspace/papagei-foundation-model/5459299/PPG-BP Database/Data File/0_subject/38_3.txt\n",
      "[INFO] 0038 already exists\n",
      "Processing: 47_1\n",
      "Processing: /home/kapis20/projects/PPGworkspace/papagei-foundation-model/5459299/PPG-BP Database/Data File/0_subject/47_1.txt\n",
      "Processing: 47_2\n",
      "Processing: /home/kapis20/projects/PPGworkspace/papagei-foundation-model/5459299/PPG-BP Database/Data File/0_subject/47_2.txt\n",
      "Processing: 47_3\n",
      "Processing: /home/kapis20/projects/PPGworkspace/papagei-foundation-model/5459299/PPG-BP Database/Data File/0_subject/47_3.txt\n"
     ]
    },
    {
     "name": "stderr",
     "output_type": "stream",
     "text": [
      "  2%|▏         | 13/657 [00:04<04:48,  2.23it/s]"
     ]
    },
    {
     "name": "stdout",
     "output_type": "stream",
     "text": [
      "[INFO] 0047 already exists\n",
      "Processing: 64_1\n",
      "Processing: /home/kapis20/projects/PPGworkspace/papagei-foundation-model/5459299/PPG-BP Database/Data File/0_subject/64_1.txt\n",
      "Processing: 64_2\n",
      "Processing: /home/kapis20/projects/PPGworkspace/papagei-foundation-model/5459299/PPG-BP Database/Data File/0_subject/64_2.txt\n"
     ]
    },
    {
     "name": "stderr",
     "output_type": "stream",
     "text": [
      "  2%|▏         | 14/657 [00:05<04:55,  2.18it/s]"
     ]
    },
    {
     "name": "stdout",
     "output_type": "stream",
     "text": [
      "Processing: 64_3\n",
      "Processing: /home/kapis20/projects/PPGworkspace/papagei-foundation-model/5459299/PPG-BP Database/Data File/0_subject/64_3.txt\n",
      "[INFO] 0064 already exists\n",
      "Processing: 256_1\n",
      "Processing: /home/kapis20/projects/PPGworkspace/papagei-foundation-model/5459299/PPG-BP Database/Data File/0_subject/256_1.txt\n",
      "Processing: 256_2\n",
      "Processing: /home/kapis20/projects/PPGworkspace/papagei-foundation-model/5459299/PPG-BP Database/Data File/0_subject/256_2.txt\n"
     ]
    },
    {
     "name": "stderr",
     "output_type": "stream",
     "text": [
      "  2%|▏         | 15/657 [00:06<05:54,  1.81it/s]"
     ]
    },
    {
     "name": "stdout",
     "output_type": "stream",
     "text": [
      "Processing: 256_3\n",
      "Processing: /home/kapis20/projects/PPGworkspace/papagei-foundation-model/5459299/PPG-BP Database/Data File/0_subject/256_3.txt\n",
      "[INFO] 0256 already exists\n",
      "Processing: 116_1\n",
      "Processing: /home/kapis20/projects/PPGworkspace/papagei-foundation-model/5459299/PPG-BP Database/Data File/0_subject/116_1.txt\n",
      "Processing: 116_2\n",
      "Processing: /home/kapis20/projects/PPGworkspace/papagei-foundation-model/5459299/PPG-BP Database/Data File/0_subject/116_2.txt\n",
      "Processing: 116_3\n",
      "Processing: /home/kapis20/projects/PPGworkspace/papagei-foundation-model/5459299/PPG-BP Database/Data File/0_subject/116_3.txt\n"
     ]
    },
    {
     "name": "stderr",
     "output_type": "stream",
     "text": [
      "  2%|▏         | 16/657 [00:06<06:50,  1.56it/s]"
     ]
    },
    {
     "name": "stdout",
     "output_type": "stream",
     "text": [
      "[INFO] 0116 already exists\n",
      "Processing: 253_1\n",
      "Processing: /home/kapis20/projects/PPGworkspace/papagei-foundation-model/5459299/PPG-BP Database/Data File/0_subject/253_1.txt\n",
      "Processing: 253_2\n",
      "Processing: /home/kapis20/projects/PPGworkspace/papagei-foundation-model/5459299/PPG-BP Database/Data File/0_subject/253_2.txt\n"
     ]
    },
    {
     "name": "stderr",
     "output_type": "stream",
     "text": [
      "  3%|▎         | 17/657 [00:07<06:27,  1.65it/s]"
     ]
    },
    {
     "name": "stdout",
     "output_type": "stream",
     "text": [
      "Processing: 253_3\n",
      "Processing: /home/kapis20/projects/PPGworkspace/papagei-foundation-model/5459299/PPG-BP Database/Data File/0_subject/253_3.txt\n",
      "[INFO] 0253 already exists\n",
      "Processing: 243_1\n",
      "Processing: /home/kapis20/projects/PPGworkspace/papagei-foundation-model/5459299/PPG-BP Database/Data File/0_subject/243_1.txt\n",
      "Processing: 243_2\n",
      "Processing: /home/kapis20/projects/PPGworkspace/papagei-foundation-model/5459299/PPG-BP Database/Data File/0_subject/243_2.txt\n",
      "Processing: 243_3\n",
      "Processing: /home/kapis20/projects/PPGworkspace/papagei-foundation-model/5459299/PPG-BP Database/Data File/0_subject/243_3.txt\n"
     ]
    },
    {
     "name": "stderr",
     "output_type": "stream",
     "text": [
      "  3%|▎         | 18/657 [00:07<06:06,  1.74it/s]"
     ]
    },
    {
     "name": "stdout",
     "output_type": "stream",
     "text": [
      "[INFO] 0243 already exists\n",
      "Processing: 22_1\n",
      "Processing: /home/kapis20/projects/PPGworkspace/papagei-foundation-model/5459299/PPG-BP Database/Data File/0_subject/22_1.txt\n",
      "Processing: 22_2\n",
      "Processing: /home/kapis20/projects/PPGworkspace/papagei-foundation-model/5459299/PPG-BP Database/Data File/0_subject/22_2.txt\n"
     ]
    },
    {
     "name": "stderr",
     "output_type": "stream",
     "text": [
      "  3%|▎         | 19/657 [00:08<05:57,  1.79it/s]"
     ]
    },
    {
     "name": "stdout",
     "output_type": "stream",
     "text": [
      "Processing: 22_3\n",
      "Processing: /home/kapis20/projects/PPGworkspace/papagei-foundation-model/5459299/PPG-BP Database/Data File/0_subject/22_3.txt\n",
      "[INFO] 0022 already exists\n",
      "Processing: 244_1\n",
      "Processing: /home/kapis20/projects/PPGworkspace/papagei-foundation-model/5459299/PPG-BP Database/Data File/0_subject/244_1.txt\n",
      "Processing: 244_2\n",
      "Processing: /home/kapis20/projects/PPGworkspace/papagei-foundation-model/5459299/PPG-BP Database/Data File/0_subject/244_2.txt\n",
      "Processing: 244_3\n",
      "Processing: /home/kapis20/projects/PPGworkspace/papagei-foundation-model/5459299/PPG-BP Database/Data File/0_subject/244_3.txt\n"
     ]
    },
    {
     "name": "stderr",
     "output_type": "stream",
     "text": [
      "  3%|▎         | 20/657 [00:08<05:54,  1.80it/s]"
     ]
    },
    {
     "name": "stdout",
     "output_type": "stream",
     "text": [
      "[INFO] 0244 already exists\n",
      "Processing: 32_1\n",
      "Processing: /home/kapis20/projects/PPGworkspace/papagei-foundation-model/5459299/PPG-BP Database/Data File/0_subject/32_1.txt\n",
      "Processing: 32_2\n",
      "Processing: /home/kapis20/projects/PPGworkspace/papagei-foundation-model/5459299/PPG-BP Database/Data File/0_subject/32_2.txt\n"
     ]
    },
    {
     "name": "stderr",
     "output_type": "stream",
     "text": [
      "  3%|▎         | 21/657 [00:09<05:46,  1.84it/s]"
     ]
    },
    {
     "name": "stdout",
     "output_type": "stream",
     "text": [
      "Processing: 32_3\n",
      "Processing: /home/kapis20/projects/PPGworkspace/papagei-foundation-model/5459299/PPG-BP Database/Data File/0_subject/32_3.txt\n",
      "[INFO] 0032 already exists\n",
      "Processing: 169_1\n",
      "Processing: /home/kapis20/projects/PPGworkspace/papagei-foundation-model/5459299/PPG-BP Database/Data File/0_subject/169_1.txt\n",
      "Processing: 169_2\n",
      "Processing: /home/kapis20/projects/PPGworkspace/papagei-foundation-model/5459299/PPG-BP Database/Data File/0_subject/169_2.txt\n",
      "Processing: 169_3\n",
      "Processing: /home/kapis20/projects/PPGworkspace/papagei-foundation-model/5459299/PPG-BP Database/Data File/0_subject/169_3.txt\n"
     ]
    },
    {
     "name": "stderr",
     "output_type": "stream",
     "text": [
      "  3%|▎         | 22/657 [00:10<05:49,  1.82it/s]"
     ]
    },
    {
     "name": "stdout",
     "output_type": "stream",
     "text": [
      "[INFO] 0169 already exists\n",
      "Processing: 240_1\n",
      "Processing: /home/kapis20/projects/PPGworkspace/papagei-foundation-model/5459299/PPG-BP Database/Data File/0_subject/240_1.txt\n",
      "Processing: 240_2\n",
      "Processing: /home/kapis20/projects/PPGworkspace/papagei-foundation-model/5459299/PPG-BP Database/Data File/0_subject/240_2.txt\n"
     ]
    },
    {
     "name": "stderr",
     "output_type": "stream",
     "text": [
      "  4%|▎         | 23/657 [00:10<05:34,  1.90it/s]"
     ]
    },
    {
     "name": "stdout",
     "output_type": "stream",
     "text": [
      "Processing: 240_3\n",
      "Processing: /home/kapis20/projects/PPGworkspace/papagei-foundation-model/5459299/PPG-BP Database/Data File/0_subject/240_3.txt\n",
      "[INFO] 0240 already exists\n",
      "Processing: 206_1\n",
      "Processing: /home/kapis20/projects/PPGworkspace/papagei-foundation-model/5459299/PPG-BP Database/Data File/0_subject/206_1.txt\n",
      "Processing: 206_2\n",
      "Processing: /home/kapis20/projects/PPGworkspace/papagei-foundation-model/5459299/PPG-BP Database/Data File/0_subject/206_2.txt\n",
      "Processing: 206_3\n",
      "Processing: /home/kapis20/projects/PPGworkspace/papagei-foundation-model/5459299/PPG-BP Database/Data File/0_subject/206_3.txt\n"
     ]
    },
    {
     "name": "stderr",
     "output_type": "stream",
     "text": [
      "  4%|▎         | 24/657 [00:11<05:30,  1.91it/s]"
     ]
    },
    {
     "name": "stdout",
     "output_type": "stream",
     "text": [
      "[INFO] 0206 already exists\n",
      "Processing: 56_1\n",
      "Processing: /home/kapis20/projects/PPGworkspace/papagei-foundation-model/5459299/PPG-BP Database/Data File/0_subject/56_1.txt\n",
      "Processing: 56_2\n",
      "Processing: /home/kapis20/projects/PPGworkspace/papagei-foundation-model/5459299/PPG-BP Database/Data File/0_subject/56_2.txt\n"
     ]
    },
    {
     "name": "stderr",
     "output_type": "stream",
     "text": [
      "  4%|▍         | 25/657 [00:11<05:21,  1.96it/s]"
     ]
    },
    {
     "name": "stdout",
     "output_type": "stream",
     "text": [
      "Processing: 56_3\n",
      "Processing: /home/kapis20/projects/PPGworkspace/papagei-foundation-model/5459299/PPG-BP Database/Data File/0_subject/56_3.txt\n",
      "[INFO] 0056 already exists\n",
      "Processing: 99_1\n",
      "Processing: /home/kapis20/projects/PPGworkspace/papagei-foundation-model/5459299/PPG-BP Database/Data File/0_subject/99_1.txt\n",
      "Processing: 99_2\n",
      "Processing: /home/kapis20/projects/PPGworkspace/papagei-foundation-model/5459299/PPG-BP Database/Data File/0_subject/99_2.txt\n",
      "Processing: 99_3\n",
      "Processing: /home/kapis20/projects/PPGworkspace/papagei-foundation-model/5459299/PPG-BP Database/Data File/0_subject/99_3.txt\n"
     ]
    },
    {
     "name": "stderr",
     "output_type": "stream",
     "text": [
      "  4%|▍         | 26/657 [00:12<05:23,  1.95it/s]"
     ]
    },
    {
     "name": "stdout",
     "output_type": "stream",
     "text": [
      "[INFO] 0099 already exists\n",
      "Processing: 239_1\n",
      "Processing: /home/kapis20/projects/PPGworkspace/papagei-foundation-model/5459299/PPG-BP Database/Data File/0_subject/239_1.txt\n",
      "Processing: 239_2\n",
      "Processing: /home/kapis20/projects/PPGworkspace/papagei-foundation-model/5459299/PPG-BP Database/Data File/0_subject/239_2.txt\n"
     ]
    },
    {
     "name": "stderr",
     "output_type": "stream",
     "text": [
      "  4%|▍         | 27/657 [00:12<05:21,  1.96it/s]"
     ]
    },
    {
     "name": "stdout",
     "output_type": "stream",
     "text": [
      "Processing: 239_3\n",
      "Processing: /home/kapis20/projects/PPGworkspace/papagei-foundation-model/5459299/PPG-BP Database/Data File/0_subject/239_3.txt\n",
      "[INFO] 0239 already exists\n",
      "Processing: 201_1\n",
      "Processing: /home/kapis20/projects/PPGworkspace/papagei-foundation-model/5459299/PPG-BP Database/Data File/0_subject/201_1.txt\n",
      "Processing: 201_2\n",
      "Processing: /home/kapis20/projects/PPGworkspace/papagei-foundation-model/5459299/PPG-BP Database/Data File/0_subject/201_2.txt\n",
      "Processing: 201_3\n",
      "Processing: /home/kapis20/projects/PPGworkspace/papagei-foundation-model/5459299/PPG-BP Database/Data File/0_subject/201_3.txt\n"
     ]
    },
    {
     "name": "stderr",
     "output_type": "stream",
     "text": [
      "  4%|▍         | 28/657 [00:13<05:21,  1.96it/s]"
     ]
    },
    {
     "name": "stdout",
     "output_type": "stream",
     "text": [
      "[INFO] 0201 already exists\n",
      "Processing: 254_1\n",
      "Processing: /home/kapis20/projects/PPGworkspace/papagei-foundation-model/5459299/PPG-BP Database/Data File/0_subject/254_1.txt\n",
      "Processing: 254_2\n",
      "Processing: /home/kapis20/projects/PPGworkspace/papagei-foundation-model/5459299/PPG-BP Database/Data File/0_subject/254_2.txt\n"
     ]
    },
    {
     "name": "stderr",
     "output_type": "stream",
     "text": [
      "  4%|▍         | 29/657 [00:13<05:24,  1.94it/s]"
     ]
    },
    {
     "name": "stdout",
     "output_type": "stream",
     "text": [
      "Processing: 254_3\n",
      "Processing: /home/kapis20/projects/PPGworkspace/papagei-foundation-model/5459299/PPG-BP Database/Data File/0_subject/254_3.txt\n",
      "[INFO] 0254 already exists\n",
      "Processing: 13_1\n",
      "Processing: /home/kapis20/projects/PPGworkspace/papagei-foundation-model/5459299/PPG-BP Database/Data File/0_subject/13_1.txt\n",
      "Processing: 13_2\n",
      "Processing: /home/kapis20/projects/PPGworkspace/papagei-foundation-model/5459299/PPG-BP Database/Data File/0_subject/13_2.txt\n",
      "Processing: 13_3\n",
      "Processing: /home/kapis20/projects/PPGworkspace/papagei-foundation-model/5459299/PPG-BP Database/Data File/0_subject/13_3.txt\n"
     ]
    },
    {
     "name": "stderr",
     "output_type": "stream",
     "text": [
      "  5%|▍         | 30/657 [00:14<05:17,  1.97it/s]"
     ]
    },
    {
     "name": "stdout",
     "output_type": "stream",
     "text": [
      "[INFO] 0013 already exists\n",
      "Processing: 197_1\n",
      "Processing: /home/kapis20/projects/PPGworkspace/papagei-foundation-model/5459299/PPG-BP Database/Data File/0_subject/197_1.txt\n",
      "Processing: 197_2\n",
      "Processing: /home/kapis20/projects/PPGworkspace/papagei-foundation-model/5459299/PPG-BP Database/Data File/0_subject/197_2.txt\n"
     ]
    },
    {
     "name": "stderr",
     "output_type": "stream",
     "text": [
      "  5%|▍         | 31/657 [00:14<05:15,  1.98it/s]"
     ]
    },
    {
     "name": "stdout",
     "output_type": "stream",
     "text": [
      "Processing: 197_3\n",
      "Processing: /home/kapis20/projects/PPGworkspace/papagei-foundation-model/5459299/PPG-BP Database/Data File/0_subject/197_3.txt\n",
      "[INFO] 0197 already exists\n",
      "Processing: 234_1\n",
      "Processing: /home/kapis20/projects/PPGworkspace/papagei-foundation-model/5459299/PPG-BP Database/Data File/0_subject/234_1.txt\n",
      "Processing: 234_2\n",
      "Processing: /home/kapis20/projects/PPGworkspace/papagei-foundation-model/5459299/PPG-BP Database/Data File/0_subject/234_2.txt\n",
      "Processing: 234_3\n",
      "Processing: /home/kapis20/projects/PPGworkspace/papagei-foundation-model/5459299/PPG-BP Database/Data File/0_subject/234_3.txt\n"
     ]
    },
    {
     "name": "stderr",
     "output_type": "stream",
     "text": [
      "  5%|▍         | 32/657 [00:15<05:35,  1.86it/s]"
     ]
    },
    {
     "name": "stdout",
     "output_type": "stream",
     "text": [
      "[INFO] 0234 already exists\n",
      "Processing: 98_1\n",
      "Processing: /home/kapis20/projects/PPGworkspace/papagei-foundation-model/5459299/PPG-BP Database/Data File/0_subject/98_1.txt\n",
      "Processing: 98_2\n",
      "Processing: /home/kapis20/projects/PPGworkspace/papagei-foundation-model/5459299/PPG-BP Database/Data File/0_subject/98_2.txt\n"
     ]
    },
    {
     "name": "stderr",
     "output_type": "stream",
     "text": [
      "  5%|▌         | 33/657 [00:15<05:24,  1.92it/s]"
     ]
    },
    {
     "name": "stdout",
     "output_type": "stream",
     "text": [
      "Processing: 98_3\n",
      "Processing: /home/kapis20/projects/PPGworkspace/papagei-foundation-model/5459299/PPG-BP Database/Data File/0_subject/98_3.txt\n",
      "[INFO] 0098 already exists\n",
      "Processing: 142_1\n",
      "Processing: /home/kapis20/projects/PPGworkspace/papagei-foundation-model/5459299/PPG-BP Database/Data File/0_subject/142_1.txt\n",
      "Processing: 142_2\n",
      "Processing: /home/kapis20/projects/PPGworkspace/papagei-foundation-model/5459299/PPG-BP Database/Data File/0_subject/142_2.txt\n",
      "Processing: 142_3\n",
      "Processing: /home/kapis20/projects/PPGworkspace/papagei-foundation-model/5459299/PPG-BP Database/Data File/0_subject/142_3.txt\n"
     ]
    },
    {
     "name": "stderr",
     "output_type": "stream",
     "text": [
      "  5%|▌         | 34/657 [00:16<05:22,  1.93it/s]"
     ]
    },
    {
     "name": "stdout",
     "output_type": "stream",
     "text": [
      "[INFO] 0142 already exists\n",
      "Processing: 184_1\n",
      "Processing: /home/kapis20/projects/PPGworkspace/papagei-foundation-model/5459299/PPG-BP Database/Data File/0_subject/184_1.txt\n",
      "Processing: 184_2\n",
      "Processing: /home/kapis20/projects/PPGworkspace/papagei-foundation-model/5459299/PPG-BP Database/Data File/0_subject/184_2.txt\n"
     ]
    },
    {
     "name": "stderr",
     "output_type": "stream",
     "text": [
      "  5%|▌         | 35/657 [00:16<05:20,  1.94it/s]"
     ]
    },
    {
     "name": "stdout",
     "output_type": "stream",
     "text": [
      "Processing: 184_3\n",
      "Processing: /home/kapis20/projects/PPGworkspace/papagei-foundation-model/5459299/PPG-BP Database/Data File/0_subject/184_3.txt\n",
      "[INFO] 0184 already exists\n",
      "Processing: 60_1\n",
      "Processing: /home/kapis20/projects/PPGworkspace/papagei-foundation-model/5459299/PPG-BP Database/Data File/0_subject/60_1.txt\n",
      "Processing: 60_2\n",
      "Processing: /home/kapis20/projects/PPGworkspace/papagei-foundation-model/5459299/PPG-BP Database/Data File/0_subject/60_2.txt\n",
      "Processing: 60_3\n",
      "Processing: /home/kapis20/projects/PPGworkspace/papagei-foundation-model/5459299/PPG-BP Database/Data File/0_subject/60_3.txt\n",
      "[INFO] 0060 already exists\n",
      "Processing: 108_1\n",
      "Processing: /home/kapis20/projects/PPGworkspace/papagei-foundation-model/5459299/PPG-BP Database/Data File/0_subject/108_1.txt\n",
      "Processing: 108_2\n",
      "Processing: /home/kapis20/projects/PPGworkspace/papagei-foundation-model/5459299/PPG-BP Database/Data File/0_subject/108_2.txt\n",
      "Processing: 108_3\n",
      "Processing: /home/kapis20/projects/PPGworkspace/papagei-foundation-model/5459299/PPG-BP Database/Data File/0_subject/108_3.txt\n"
     ]
    },
    {
     "name": "stderr",
     "output_type": "stream",
     "text": [
      "  6%|▌         | 37/657 [00:16<03:31,  2.93it/s]"
     ]
    },
    {
     "name": "stdout",
     "output_type": "stream",
     "text": [
      "[INFO] 0108 already exists\n",
      "Processing: 170_1\n",
      "Processing: /home/kapis20/projects/PPGworkspace/papagei-foundation-model/5459299/PPG-BP Database/Data File/0_subject/170_1.txt\n",
      "Processing: 170_2\n",
      "Processing: /home/kapis20/projects/PPGworkspace/papagei-foundation-model/5459299/PPG-BP Database/Data File/0_subject/170_2.txt\n"
     ]
    },
    {
     "name": "stderr",
     "output_type": "stream",
     "text": [
      "  6%|▌         | 38/657 [00:17<04:55,  2.10it/s]"
     ]
    },
    {
     "name": "stdout",
     "output_type": "stream",
     "text": [
      "Processing: 170_3\n",
      "Processing: /home/kapis20/projects/PPGworkspace/papagei-foundation-model/5459299/PPG-BP Database/Data File/0_subject/170_3.txt\n",
      "[INFO] 0170 already exists\n",
      "Processing: 175_1\n",
      "Processing: /home/kapis20/projects/PPGworkspace/papagei-foundation-model/5459299/PPG-BP Database/Data File/0_subject/175_1.txt\n",
      "Processing: 175_2\n",
      "Processing: /home/kapis20/projects/PPGworkspace/papagei-foundation-model/5459299/PPG-BP Database/Data File/0_subject/175_2.txt\n",
      "Processing: 175_3\n",
      "Processing: /home/kapis20/projects/PPGworkspace/papagei-foundation-model/5459299/PPG-BP Database/Data File/0_subject/175_3.txt\n"
     ]
    },
    {
     "name": "stderr",
     "output_type": "stream",
     "text": [
      "  6%|▌         | 39/657 [00:18<05:05,  2.02it/s]"
     ]
    },
    {
     "name": "stdout",
     "output_type": "stream",
     "text": [
      "[INFO] 0175 already exists\n",
      "Processing: 208_1\n",
      "Processing: /home/kapis20/projects/PPGworkspace/papagei-foundation-model/5459299/PPG-BP Database/Data File/0_subject/208_1.txt\n",
      "Processing: 208_2\n",
      "Processing: /home/kapis20/projects/PPGworkspace/papagei-foundation-model/5459299/PPG-BP Database/Data File/0_subject/208_2.txt\n"
     ]
    },
    {
     "name": "stderr",
     "output_type": "stream",
     "text": [
      "  6%|▌         | 40/657 [00:18<05:12,  1.97it/s]"
     ]
    },
    {
     "name": "stdout",
     "output_type": "stream",
     "text": [
      "Processing: 208_3\n",
      "Processing: /home/kapis20/projects/PPGworkspace/papagei-foundation-model/5459299/PPG-BP Database/Data File/0_subject/208_3.txt\n",
      "[INFO] 0208 already exists\n",
      "Processing: 41_1\n",
      "Processing: /home/kapis20/projects/PPGworkspace/papagei-foundation-model/5459299/PPG-BP Database/Data File/0_subject/41_1.txt\n",
      "Processing: 41_2\n",
      "Processing: /home/kapis20/projects/PPGworkspace/papagei-foundation-model/5459299/PPG-BP Database/Data File/0_subject/41_2.txt\n",
      "Processing: 41_3\n",
      "Processing: /home/kapis20/projects/PPGworkspace/papagei-foundation-model/5459299/PPG-BP Database/Data File/0_subject/41_3.txt\n"
     ]
    },
    {
     "name": "stderr",
     "output_type": "stream",
     "text": [
      "  6%|▌         | 41/657 [00:19<05:31,  1.86it/s]"
     ]
    },
    {
     "name": "stdout",
     "output_type": "stream",
     "text": [
      "[INFO] 0041 already exists\n",
      "Processing: 259_1\n",
      "Processing: /home/kapis20/projects/PPGworkspace/papagei-foundation-model/5459299/PPG-BP Database/Data File/0_subject/259_1.txt\n",
      "Processing: 259_2\n",
      "Processing: /home/kapis20/projects/PPGworkspace/papagei-foundation-model/5459299/PPG-BP Database/Data File/0_subject/259_2.txt\n"
     ]
    },
    {
     "name": "stderr",
     "output_type": "stream",
     "text": [
      "  6%|▋         | 42/657 [00:20<05:36,  1.83it/s]"
     ]
    },
    {
     "name": "stdout",
     "output_type": "stream",
     "text": [
      "Processing: 259_3\n",
      "Processing: /home/kapis20/projects/PPGworkspace/papagei-foundation-model/5459299/PPG-BP Database/Data File/0_subject/259_3.txt\n",
      "[INFO] 0259 already exists\n",
      "Processing: 403_1\n",
      "Processing: /home/kapis20/projects/PPGworkspace/papagei-foundation-model/5459299/PPG-BP Database/Data File/0_subject/403_1.txt\n",
      "Processing: 403_2\n",
      "Processing: /home/kapis20/projects/PPGworkspace/papagei-foundation-model/5459299/PPG-BP Database/Data File/0_subject/403_2.txt\n",
      "Processing: 403_3\n",
      "Processing: /home/kapis20/projects/PPGworkspace/papagei-foundation-model/5459299/PPG-BP Database/Data File/0_subject/403_3.txt\n"
     ]
    },
    {
     "name": "stderr",
     "output_type": "stream",
     "text": [
      "  7%|▋         | 43/657 [00:20<05:21,  1.91it/s]"
     ]
    },
    {
     "name": "stdout",
     "output_type": "stream",
     "text": [
      "[INFO] 0403 already exists\n",
      "Processing: 67_1\n",
      "Processing: /home/kapis20/projects/PPGworkspace/papagei-foundation-model/5459299/PPG-BP Database/Data File/0_subject/67_1.txt\n",
      "Processing: 67_2\n",
      "Processing: /home/kapis20/projects/PPGworkspace/papagei-foundation-model/5459299/PPG-BP Database/Data File/0_subject/67_2.txt\n"
     ]
    },
    {
     "name": "stderr",
     "output_type": "stream",
     "text": [
      "  7%|▋         | 44/657 [00:21<05:16,  1.94it/s]"
     ]
    },
    {
     "name": "stdout",
     "output_type": "stream",
     "text": [
      "Processing: 67_3\n",
      "Processing: /home/kapis20/projects/PPGworkspace/papagei-foundation-model/5459299/PPG-BP Database/Data File/0_subject/67_3.txt\n",
      "[INFO] 0067 already exists\n",
      "Processing: 17_1\n",
      "Processing: /home/kapis20/projects/PPGworkspace/papagei-foundation-model/5459299/PPG-BP Database/Data File/0_subject/17_1.txt\n",
      "Processing: 17_2\n",
      "Processing: /home/kapis20/projects/PPGworkspace/papagei-foundation-model/5459299/PPG-BP Database/Data File/0_subject/17_2.txt\n",
      "Processing: 17_3\n",
      "Processing: /home/kapis20/projects/PPGworkspace/papagei-foundation-model/5459299/PPG-BP Database/Data File/0_subject/17_3.txt\n"
     ]
    },
    {
     "name": "stderr",
     "output_type": "stream",
     "text": [
      "  7%|▋         | 45/657 [00:21<05:16,  1.94it/s]"
     ]
    },
    {
     "name": "stdout",
     "output_type": "stream",
     "text": [
      "[INFO] 0017 already exists\n",
      "Processing: 122_1\n",
      "Processing: /home/kapis20/projects/PPGworkspace/papagei-foundation-model/5459299/PPG-BP Database/Data File/0_subject/122_1.txt\n",
      "Processing: 122_2\n",
      "Processing: /home/kapis20/projects/PPGworkspace/papagei-foundation-model/5459299/PPG-BP Database/Data File/0_subject/122_2.txt\n",
      "Processing: 122_3\n",
      "Processing: /home/kapis20/projects/PPGworkspace/papagei-foundation-model/5459299/PPG-BP Database/Data File/0_subject/122_3.txt\n"
     ]
    },
    {
     "name": "stderr",
     "output_type": "stream",
     "text": [
      "  7%|▋         | 46/657 [00:22<05:37,  1.81it/s]"
     ]
    },
    {
     "name": "stdout",
     "output_type": "stream",
     "text": [
      "[INFO] 0122 already exists\n",
      "Processing: 134_1\n",
      "Processing: /home/kapis20/projects/PPGworkspace/papagei-foundation-model/5459299/PPG-BP Database/Data File/0_subject/134_1.txt\n",
      "Processing: 134_2\n",
      "Processing: /home/kapis20/projects/PPGworkspace/papagei-foundation-model/5459299/PPG-BP Database/Data File/0_subject/134_2.txt\n"
     ]
    },
    {
     "name": "stderr",
     "output_type": "stream",
     "text": [
      "  7%|▋         | 47/657 [00:22<05:54,  1.72it/s]"
     ]
    },
    {
     "name": "stdout",
     "output_type": "stream",
     "text": [
      "Processing: 134_3\n",
      "Processing: /home/kapis20/projects/PPGworkspace/papagei-foundation-model/5459299/PPG-BP Database/Data File/0_subject/134_3.txt\n",
      "[INFO] 0134 already exists\n",
      "Processing: 224_1\n",
      "Processing: /home/kapis20/projects/PPGworkspace/papagei-foundation-model/5459299/PPG-BP Database/Data File/0_subject/224_1.txt\n",
      "Processing: 224_2\n",
      "Processing: /home/kapis20/projects/PPGworkspace/papagei-foundation-model/5459299/PPG-BP Database/Data File/0_subject/224_2.txt\n",
      "Processing: 224_3\n",
      "Processing: /home/kapis20/projects/PPGworkspace/papagei-foundation-model/5459299/PPG-BP Database/Data File/0_subject/224_3.txt\n"
     ]
    },
    {
     "name": "stderr",
     "output_type": "stream",
     "text": [
      "  7%|▋         | 48/657 [00:23<05:43,  1.77it/s]"
     ]
    },
    {
     "name": "stdout",
     "output_type": "stream",
     "text": [
      "[INFO] 0224 already exists\n",
      "Processing: 184_1\n",
      "Processing: /home/kapis20/projects/PPGworkspace/papagei-foundation-model/5459299/PPG-BP Database/Data File/0_subject/184_1.txt\n",
      "Processing: 184_2\n",
      "Processing: /home/kapis20/projects/PPGworkspace/papagei-foundation-model/5459299/PPG-BP Database/Data File/0_subject/184_2.txt\n"
     ]
    },
    {
     "name": "stderr",
     "output_type": "stream",
     "text": [
      "  7%|▋         | 49/657 [00:23<05:29,  1.84it/s]"
     ]
    },
    {
     "name": "stdout",
     "output_type": "stream",
     "text": [
      "Processing: 184_3\n",
      "Processing: /home/kapis20/projects/PPGworkspace/papagei-foundation-model/5459299/PPG-BP Database/Data File/0_subject/184_3.txt\n",
      "[INFO] 0184 already exists\n",
      "Processing: 217_1\n",
      "Processing: /home/kapis20/projects/PPGworkspace/papagei-foundation-model/5459299/PPG-BP Database/Data File/0_subject/217_1.txt\n",
      "Processing: 217_2\n",
      "Processing: /home/kapis20/projects/PPGworkspace/papagei-foundation-model/5459299/PPG-BP Database/Data File/0_subject/217_2.txt\n",
      "Processing: 217_3\n",
      "Processing: /home/kapis20/projects/PPGworkspace/papagei-foundation-model/5459299/PPG-BP Database/Data File/0_subject/217_3.txt\n"
     ]
    },
    {
     "name": "stderr",
     "output_type": "stream",
     "text": [
      "  8%|▊         | 50/657 [00:24<05:22,  1.88it/s]"
     ]
    },
    {
     "name": "stdout",
     "output_type": "stream",
     "text": [
      "[INFO] 0217 already exists\n",
      "Processing: 18_1\n",
      "Processing: /home/kapis20/projects/PPGworkspace/papagei-foundation-model/5459299/PPG-BP Database/Data File/0_subject/18_1.txt\n",
      "Processing: 18_2\n",
      "Processing: /home/kapis20/projects/PPGworkspace/papagei-foundation-model/5459299/PPG-BP Database/Data File/0_subject/18_2.txt\n"
     ]
    },
    {
     "name": "stderr",
     "output_type": "stream",
     "text": [
      "  8%|▊         | 51/657 [00:24<05:18,  1.90it/s]"
     ]
    },
    {
     "name": "stdout",
     "output_type": "stream",
     "text": [
      "Processing: 18_3\n",
      "Processing: /home/kapis20/projects/PPGworkspace/papagei-foundation-model/5459299/PPG-BP Database/Data File/0_subject/18_3.txt\n",
      "[INFO] 0018 already exists\n",
      "Processing: 253_1\n",
      "Processing: /home/kapis20/projects/PPGworkspace/papagei-foundation-model/5459299/PPG-BP Database/Data File/0_subject/253_1.txt\n",
      "Processing: 253_2\n",
      "Processing: /home/kapis20/projects/PPGworkspace/papagei-foundation-model/5459299/PPG-BP Database/Data File/0_subject/253_2.txt\n",
      "Processing: 253_3\n",
      "Processing: /home/kapis20/projects/PPGworkspace/papagei-foundation-model/5459299/PPG-BP Database/Data File/0_subject/253_3.txt\n"
     ]
    },
    {
     "name": "stderr",
     "output_type": "stream",
     "text": [
      "  8%|▊         | 52/657 [00:25<05:17,  1.90it/s]"
     ]
    },
    {
     "name": "stdout",
     "output_type": "stream",
     "text": [
      "[INFO] 0253 already exists\n",
      "Processing: 200_1\n",
      "Processing: /home/kapis20/projects/PPGworkspace/papagei-foundation-model/5459299/PPG-BP Database/Data File/0_subject/200_1.txt\n",
      "Processing: 200_2\n",
      "Processing: /home/kapis20/projects/PPGworkspace/papagei-foundation-model/5459299/PPG-BP Database/Data File/0_subject/200_2.txt\n",
      "Processing: 200_3\n",
      "Processing: /home/kapis20/projects/PPGworkspace/papagei-foundation-model/5459299/PPG-BP Database/Data File/0_subject/200_3.txt\n"
     ]
    },
    {
     "name": "stderr",
     "output_type": "stream",
     "text": [
      "  8%|▊         | 53/657 [00:26<05:36,  1.80it/s]"
     ]
    },
    {
     "name": "stdout",
     "output_type": "stream",
     "text": [
      "[INFO] 0200 already exists\n",
      "Processing: 403_1\n",
      "Processing: /home/kapis20/projects/PPGworkspace/papagei-foundation-model/5459299/PPG-BP Database/Data File/0_subject/403_1.txt\n",
      "Processing: 403_2\n",
      "Processing: /home/kapis20/projects/PPGworkspace/papagei-foundation-model/5459299/PPG-BP Database/Data File/0_subject/403_2.txt\n"
     ]
    },
    {
     "name": "stderr",
     "output_type": "stream",
     "text": [
      "  8%|▊         | 54/657 [00:26<05:15,  1.91it/s]"
     ]
    },
    {
     "name": "stdout",
     "output_type": "stream",
     "text": [
      "Processing: 403_3\n",
      "Processing: /home/kapis20/projects/PPGworkspace/papagei-foundation-model/5459299/PPG-BP Database/Data File/0_subject/403_3.txt\n",
      "[INFO] 0403 already exists\n",
      "Processing: 65_1\n",
      "Processing: /home/kapis20/projects/PPGworkspace/papagei-foundation-model/5459299/PPG-BP Database/Data File/0_subject/65_1.txt\n",
      "Processing: 65_2\n",
      "Processing: /home/kapis20/projects/PPGworkspace/papagei-foundation-model/5459299/PPG-BP Database/Data File/0_subject/65_2.txt\n",
      "Processing: 65_3\n",
      "Processing: /home/kapis20/projects/PPGworkspace/papagei-foundation-model/5459299/PPG-BP Database/Data File/0_subject/65_3.txt\n"
     ]
    },
    {
     "name": "stderr",
     "output_type": "stream",
     "text": [
      "  8%|▊         | 55/657 [00:27<05:17,  1.89it/s]"
     ]
    },
    {
     "name": "stdout",
     "output_type": "stream",
     "text": [
      "[INFO] 0065 already exists\n",
      "Processing: 229_1\n",
      "Processing: /home/kapis20/projects/PPGworkspace/papagei-foundation-model/5459299/PPG-BP Database/Data File/0_subject/229_1.txt\n",
      "Processing: 229_2\n",
      "Processing: /home/kapis20/projects/PPGworkspace/papagei-foundation-model/5459299/PPG-BP Database/Data File/0_subject/229_2.txt\n"
     ]
    },
    {
     "name": "stderr",
     "output_type": "stream",
     "text": [
      "  9%|▊         | 56/657 [00:27<05:13,  1.91it/s]"
     ]
    },
    {
     "name": "stdout",
     "output_type": "stream",
     "text": [
      "Processing: 229_3\n",
      "Processing: /home/kapis20/projects/PPGworkspace/papagei-foundation-model/5459299/PPG-BP Database/Data File/0_subject/229_3.txt\n",
      "[INFO] 0229 already exists\n",
      "Processing: 405_1\n",
      "Processing: /home/kapis20/projects/PPGworkspace/papagei-foundation-model/5459299/PPG-BP Database/Data File/0_subject/405_1.txt\n",
      "Processing: 405_2\n",
      "Processing: /home/kapis20/projects/PPGworkspace/papagei-foundation-model/5459299/PPG-BP Database/Data File/0_subject/405_2.txt\n",
      "Processing: 405_3\n",
      "Processing: /home/kapis20/projects/PPGworkspace/papagei-foundation-model/5459299/PPG-BP Database/Data File/0_subject/405_3.txt\n"
     ]
    },
    {
     "name": "stderr",
     "output_type": "stream",
     "text": [
      "  9%|▊         | 57/657 [00:28<05:05,  1.96it/s]"
     ]
    },
    {
     "name": "stdout",
     "output_type": "stream",
     "text": [
      "[INFO] 0405 already exists\n",
      "Processing: 107_1\n",
      "Processing: /home/kapis20/projects/PPGworkspace/papagei-foundation-model/5459299/PPG-BP Database/Data File/0_subject/107_1.txt\n",
      "Processing: 107_2\n",
      "Processing: /home/kapis20/projects/PPGworkspace/papagei-foundation-model/5459299/PPG-BP Database/Data File/0_subject/107_2.txt\n"
     ]
    },
    {
     "name": "stderr",
     "output_type": "stream",
     "text": [
      "  9%|▉         | 58/657 [00:28<05:05,  1.96it/s]"
     ]
    },
    {
     "name": "stdout",
     "output_type": "stream",
     "text": [
      "Processing: 107_3\n",
      "Processing: /home/kapis20/projects/PPGworkspace/papagei-foundation-model/5459299/PPG-BP Database/Data File/0_subject/107_3.txt\n",
      "[INFO] 0107 already exists\n",
      "Processing: 2_1\n",
      "Processing: /home/kapis20/projects/PPGworkspace/papagei-foundation-model/5459299/PPG-BP Database/Data File/0_subject/2_1.txt\n",
      "Processing: 2_2\n",
      "Processing: /home/kapis20/projects/PPGworkspace/papagei-foundation-model/5459299/PPG-BP Database/Data File/0_subject/2_2.txt\n",
      "Processing: 2_3\n",
      "Processing: /home/kapis20/projects/PPGworkspace/papagei-foundation-model/5459299/PPG-BP Database/Data File/0_subject/2_3.txt\n"
     ]
    },
    {
     "name": "stderr",
     "output_type": "stream",
     "text": [
      "  9%|▉         | 59/657 [00:29<05:07,  1.95it/s]"
     ]
    },
    {
     "name": "stdout",
     "output_type": "stream",
     "text": [
      "[INFO] 0002 already exists\n",
      "Processing: 227_1\n",
      "Processing: /home/kapis20/projects/PPGworkspace/papagei-foundation-model/5459299/PPG-BP Database/Data File/0_subject/227_1.txt\n",
      "Processing: 227_2\n",
      "Processing: /home/kapis20/projects/PPGworkspace/papagei-foundation-model/5459299/PPG-BP Database/Data File/0_subject/227_2.txt\n"
     ]
    },
    {
     "name": "stderr",
     "output_type": "stream",
     "text": [
      "  9%|▉         | 60/657 [00:29<05:23,  1.85it/s]"
     ]
    },
    {
     "name": "stdout",
     "output_type": "stream",
     "text": [
      "Processing: 227_3\n",
      "Processing: /home/kapis20/projects/PPGworkspace/papagei-foundation-model/5459299/PPG-BP Database/Data File/0_subject/227_3.txt\n",
      "[INFO] 0227 already exists\n",
      "Processing: 412_1\n",
      "Processing: /home/kapis20/projects/PPGworkspace/papagei-foundation-model/5459299/PPG-BP Database/Data File/0_subject/412_1.txt\n",
      "Processing: 412_2\n",
      "Processing: /home/kapis20/projects/PPGworkspace/papagei-foundation-model/5459299/PPG-BP Database/Data File/0_subject/412_2.txt\n",
      "Processing: 412_3\n",
      "Processing: /home/kapis20/projects/PPGworkspace/papagei-foundation-model/5459299/PPG-BP Database/Data File/0_subject/412_3.txt\n"
     ]
    },
    {
     "name": "stderr",
     "output_type": "stream",
     "text": [
      "  9%|▉         | 61/657 [00:30<05:15,  1.89it/s]"
     ]
    },
    {
     "name": "stdout",
     "output_type": "stream",
     "text": [
      "[INFO] 0412 already exists\n",
      "Processing: 210_1\n",
      "Processing: /home/kapis20/projects/PPGworkspace/papagei-foundation-model/5459299/PPG-BP Database/Data File/0_subject/210_1.txt\n",
      "Processing: 210_2\n",
      "Processing: /home/kapis20/projects/PPGworkspace/papagei-foundation-model/5459299/PPG-BP Database/Data File/0_subject/210_2.txt\n",
      "Processing: 210_3\n",
      "Processing: /home/kapis20/projects/PPGworkspace/papagei-foundation-model/5459299/PPG-BP Database/Data File/0_subject/210_3.txt\n"
     ]
    },
    {
     "name": "stderr",
     "output_type": "stream",
     "text": [
      "  9%|▉         | 62/657 [00:30<05:27,  1.82it/s]"
     ]
    },
    {
     "name": "stdout",
     "output_type": "stream",
     "text": [
      "[INFO] 0210 already exists\n",
      "Processing: 162_1\n",
      "Processing: /home/kapis20/projects/PPGworkspace/papagei-foundation-model/5459299/PPG-BP Database/Data File/0_subject/162_1.txt\n",
      "Processing: 162_2\n",
      "Processing: /home/kapis20/projects/PPGworkspace/papagei-foundation-model/5459299/PPG-BP Database/Data File/0_subject/162_2.txt\n"
     ]
    },
    {
     "name": "stderr",
     "output_type": "stream",
     "text": [
      " 10%|▉         | 63/657 [00:31<05:17,  1.87it/s]"
     ]
    },
    {
     "name": "stdout",
     "output_type": "stream",
     "text": [
      "Processing: 162_3\n",
      "Processing: /home/kapis20/projects/PPGworkspace/papagei-foundation-model/5459299/PPG-BP Database/Data File/0_subject/162_3.txt\n",
      "[INFO] 0162 already exists\n",
      "Processing: 414_1\n",
      "Processing: /home/kapis20/projects/PPGworkspace/papagei-foundation-model/5459299/PPG-BP Database/Data File/0_subject/414_1.txt\n",
      "Processing: 414_2\n",
      "Processing: /home/kapis20/projects/PPGworkspace/papagei-foundation-model/5459299/PPG-BP Database/Data File/0_subject/414_2.txt\n",
      "Processing: 414_3\n",
      "Processing: /home/kapis20/projects/PPGworkspace/papagei-foundation-model/5459299/PPG-BP Database/Data File/0_subject/414_3.txt\n"
     ]
    },
    {
     "name": "stderr",
     "output_type": "stream",
     "text": [
      " 10%|▉         | 64/657 [00:31<05:13,  1.89it/s]"
     ]
    },
    {
     "name": "stdout",
     "output_type": "stream",
     "text": [
      "[INFO] 0414 already exists\n",
      "Processing: 50_1\n",
      "Processing: /home/kapis20/projects/PPGworkspace/papagei-foundation-model/5459299/PPG-BP Database/Data File/0_subject/50_1.txt\n",
      "Processing: 50_2\n",
      "Processing: /home/kapis20/projects/PPGworkspace/papagei-foundation-model/5459299/PPG-BP Database/Data File/0_subject/50_2.txt\n",
      "Processing: 50_3\n",
      "Processing: /home/kapis20/projects/PPGworkspace/papagei-foundation-model/5459299/PPG-BP Database/Data File/0_subject/50_3.txt\n"
     ]
    },
    {
     "name": "stderr",
     "output_type": "stream",
     "text": [
      " 10%|▉         | 65/657 [00:32<05:43,  1.72it/s]"
     ]
    },
    {
     "name": "stdout",
     "output_type": "stream",
     "text": [
      "[INFO] 0050 already exists\n",
      "Processing: 131_1\n",
      "Processing: /home/kapis20/projects/PPGworkspace/papagei-foundation-model/5459299/PPG-BP Database/Data File/0_subject/131_1.txt\n",
      "Processing: 131_2\n",
      "Processing: /home/kapis20/projects/PPGworkspace/papagei-foundation-model/5459299/PPG-BP Database/Data File/0_subject/131_2.txt\n"
     ]
    },
    {
     "name": "stderr",
     "output_type": "stream",
     "text": [
      " 10%|█         | 66/657 [00:33<05:26,  1.81it/s]"
     ]
    },
    {
     "name": "stdout",
     "output_type": "stream",
     "text": [
      "Processing: 131_3\n",
      "Processing: /home/kapis20/projects/PPGworkspace/papagei-foundation-model/5459299/PPG-BP Database/Data File/0_subject/131_3.txt\n",
      "[INFO] 0131 already exists\n",
      "Processing: 188_1\n",
      "Processing: /home/kapis20/projects/PPGworkspace/papagei-foundation-model/5459299/PPG-BP Database/Data File/0_subject/188_1.txt\n",
      "Processing: 188_2\n",
      "Processing: /home/kapis20/projects/PPGworkspace/papagei-foundation-model/5459299/PPG-BP Database/Data File/0_subject/188_2.txt\n",
      "Processing: 188_3\n",
      "Processing: /home/kapis20/projects/PPGworkspace/papagei-foundation-model/5459299/PPG-BP Database/Data File/0_subject/188_3.txt\n"
     ]
    },
    {
     "name": "stderr",
     "output_type": "stream",
     "text": [
      " 10%|█         | 67/657 [00:33<05:39,  1.74it/s]"
     ]
    },
    {
     "name": "stdout",
     "output_type": "stream",
     "text": [
      "[INFO] 0188 already exists\n",
      "Processing: 198_1\n",
      "Processing: /home/kapis20/projects/PPGworkspace/papagei-foundation-model/5459299/PPG-BP Database/Data File/0_subject/198_1.txt\n",
      "Processing: 198_2\n",
      "Processing: /home/kapis20/projects/PPGworkspace/papagei-foundation-model/5459299/PPG-BP Database/Data File/0_subject/198_2.txt\n"
     ]
    },
    {
     "name": "stderr",
     "output_type": "stream",
     "text": [
      " 10%|█         | 68/657 [00:34<05:29,  1.79it/s]"
     ]
    },
    {
     "name": "stdout",
     "output_type": "stream",
     "text": [
      "Processing: 198_3\n",
      "Processing: /home/kapis20/projects/PPGworkspace/papagei-foundation-model/5459299/PPG-BP Database/Data File/0_subject/198_3.txt\n",
      "[INFO] 0198 already exists\n",
      "Processing: 409_1\n",
      "Processing: /home/kapis20/projects/PPGworkspace/papagei-foundation-model/5459299/PPG-BP Database/Data File/0_subject/409_1.txt\n",
      "Processing: 409_2\n",
      "Processing: /home/kapis20/projects/PPGworkspace/papagei-foundation-model/5459299/PPG-BP Database/Data File/0_subject/409_2.txt\n",
      "Processing: 409_3\n",
      "Processing: /home/kapis20/projects/PPGworkspace/papagei-foundation-model/5459299/PPG-BP Database/Data File/0_subject/409_3.txt\n"
     ]
    },
    {
     "name": "stderr",
     "output_type": "stream",
     "text": [
      " 11%|█         | 69/657 [00:34<05:29,  1.78it/s]"
     ]
    },
    {
     "name": "stdout",
     "output_type": "stream",
     "text": [
      "[INFO] 0409 already exists\n",
      "Processing: 228_1\n",
      "Processing: /home/kapis20/projects/PPGworkspace/papagei-foundation-model/5459299/PPG-BP Database/Data File/0_subject/228_1.txt\n",
      "Processing: 228_2\n",
      "Processing: /home/kapis20/projects/PPGworkspace/papagei-foundation-model/5459299/PPG-BP Database/Data File/0_subject/228_2.txt\n"
     ]
    },
    {
     "name": "stderr",
     "output_type": "stream",
     "text": [
      " 11%|█         | 70/657 [00:35<05:19,  1.84it/s]"
     ]
    },
    {
     "name": "stdout",
     "output_type": "stream",
     "text": [
      "Processing: 228_3\n",
      "Processing: /home/kapis20/projects/PPGworkspace/papagei-foundation-model/5459299/PPG-BP Database/Data File/0_subject/228_3.txt\n",
      "[INFO] 0228 already exists\n",
      "Processing: 148_1\n",
      "Processing: /home/kapis20/projects/PPGworkspace/papagei-foundation-model/5459299/PPG-BP Database/Data File/0_subject/148_1.txt\n",
      "Processing: 148_2\n",
      "Processing: /home/kapis20/projects/PPGworkspace/papagei-foundation-model/5459299/PPG-BP Database/Data File/0_subject/148_2.txt\n",
      "Processing: 148_3\n",
      "Processing: /home/kapis20/projects/PPGworkspace/papagei-foundation-model/5459299/PPG-BP Database/Data File/0_subject/148_3.txt\n"
     ]
    },
    {
     "name": "stderr",
     "output_type": "stream",
     "text": [
      " 11%|█         | 71/657 [00:35<05:12,  1.87it/s]"
     ]
    },
    {
     "name": "stdout",
     "output_type": "stream",
     "text": [
      "[INFO] 0148 already exists\n",
      "Processing: 200_1\n",
      "Processing: /home/kapis20/projects/PPGworkspace/papagei-foundation-model/5459299/PPG-BP Database/Data File/0_subject/200_1.txt\n",
      "Processing: 200_2\n",
      "Processing: /home/kapis20/projects/PPGworkspace/papagei-foundation-model/5459299/PPG-BP Database/Data File/0_subject/200_2.txt\n"
     ]
    },
    {
     "name": "stderr",
     "output_type": "stream",
     "text": [
      " 11%|█         | 72/657 [00:36<05:07,  1.90it/s]"
     ]
    },
    {
     "name": "stdout",
     "output_type": "stream",
     "text": [
      "Processing: 200_3\n",
      "Processing: /home/kapis20/projects/PPGworkspace/papagei-foundation-model/5459299/PPG-BP Database/Data File/0_subject/200_3.txt\n",
      "[INFO] 0200 already exists\n",
      "Processing: 170_1\n",
      "Processing: /home/kapis20/projects/PPGworkspace/papagei-foundation-model/5459299/PPG-BP Database/Data File/0_subject/170_1.txt\n",
      "Processing: 170_2\n",
      "Processing: /home/kapis20/projects/PPGworkspace/papagei-foundation-model/5459299/PPG-BP Database/Data File/0_subject/170_2.txt\n",
      "Processing: 170_3\n",
      "Processing: /home/kapis20/projects/PPGworkspace/papagei-foundation-model/5459299/PPG-BP Database/Data File/0_subject/170_3.txt\n"
     ]
    },
    {
     "name": "stderr",
     "output_type": "stream",
     "text": [
      " 11%|█         | 73/657 [00:36<05:05,  1.91it/s]"
     ]
    },
    {
     "name": "stdout",
     "output_type": "stream",
     "text": [
      "[INFO] 0170 already exists\n",
      "Processing: 66_1\n",
      "Processing: /home/kapis20/projects/PPGworkspace/papagei-foundation-model/5459299/PPG-BP Database/Data File/0_subject/66_1.txt\n",
      "Processing: 66_2\n",
      "Processing: /home/kapis20/projects/PPGworkspace/papagei-foundation-model/5459299/PPG-BP Database/Data File/0_subject/66_2.txt\n"
     ]
    },
    {
     "name": "stderr",
     "output_type": "stream",
     "text": [
      " 11%|█▏        | 74/657 [00:37<05:00,  1.94it/s]"
     ]
    },
    {
     "name": "stdout",
     "output_type": "stream",
     "text": [
      "Processing: 66_3\n",
      "Processing: /home/kapis20/projects/PPGworkspace/papagei-foundation-model/5459299/PPG-BP Database/Data File/0_subject/66_3.txt\n",
      "[INFO] 0066 already exists\n",
      "Processing: 104_1\n",
      "Processing: /home/kapis20/projects/PPGworkspace/papagei-foundation-model/5459299/PPG-BP Database/Data File/0_subject/104_1.txt\n",
      "Processing: 104_2\n",
      "Processing: /home/kapis20/projects/PPGworkspace/papagei-foundation-model/5459299/PPG-BP Database/Data File/0_subject/104_2.txt\n",
      "Processing: 104_3\n",
      "Processing: /home/kapis20/projects/PPGworkspace/papagei-foundation-model/5459299/PPG-BP Database/Data File/0_subject/104_3.txt\n"
     ]
    },
    {
     "name": "stderr",
     "output_type": "stream",
     "text": [
      " 11%|█▏        | 75/657 [00:37<05:01,  1.93it/s]"
     ]
    },
    {
     "name": "stdout",
     "output_type": "stream",
     "text": [
      "[INFO] 0104 already exists\n",
      "Processing: 166_1\n",
      "Processing: /home/kapis20/projects/PPGworkspace/papagei-foundation-model/5459299/PPG-BP Database/Data File/0_subject/166_1.txt\n",
      "Processing: 166_2\n",
      "Processing: /home/kapis20/projects/PPGworkspace/papagei-foundation-model/5459299/PPG-BP Database/Data File/0_subject/166_2.txt\n"
     ]
    },
    {
     "name": "stderr",
     "output_type": "stream",
     "text": [
      " 12%|█▏        | 76/657 [00:38<04:59,  1.94it/s]"
     ]
    },
    {
     "name": "stdout",
     "output_type": "stream",
     "text": [
      "Processing: 166_3\n",
      "Processing: /home/kapis20/projects/PPGworkspace/papagei-foundation-model/5459299/PPG-BP Database/Data File/0_subject/166_3.txt\n",
      "[INFO] 0166 already exists\n",
      "Processing: 176_1\n",
      "Processing: /home/kapis20/projects/PPGworkspace/papagei-foundation-model/5459299/PPG-BP Database/Data File/0_subject/176_1.txt\n",
      "Processing: 176_2\n",
      "Processing: /home/kapis20/projects/PPGworkspace/papagei-foundation-model/5459299/PPG-BP Database/Data File/0_subject/176_2.txt\n",
      "Processing: 176_3\n",
      "Processing: /home/kapis20/projects/PPGworkspace/papagei-foundation-model/5459299/PPG-BP Database/Data File/0_subject/176_3.txt\n"
     ]
    },
    {
     "name": "stderr",
     "output_type": "stream",
     "text": [
      " 12%|█▏        | 77/657 [00:38<04:58,  1.94it/s]"
     ]
    },
    {
     "name": "stdout",
     "output_type": "stream",
     "text": [
      "[INFO] 0176 already exists\n",
      "Processing: 85_1\n",
      "Processing: /home/kapis20/projects/PPGworkspace/papagei-foundation-model/5459299/PPG-BP Database/Data File/0_subject/85_1.txt\n",
      "Processing: 85_2\n",
      "Processing: /home/kapis20/projects/PPGworkspace/papagei-foundation-model/5459299/PPG-BP Database/Data File/0_subject/85_2.txt\n"
     ]
    },
    {
     "name": "stderr",
     "output_type": "stream",
     "text": [
      " 12%|█▏        | 78/657 [00:39<04:53,  1.97it/s]"
     ]
    },
    {
     "name": "stdout",
     "output_type": "stream",
     "text": [
      "Processing: 85_3\n",
      "Processing: /home/kapis20/projects/PPGworkspace/papagei-foundation-model/5459299/PPG-BP Database/Data File/0_subject/85_3.txt\n",
      "[INFO] 0085 already exists\n",
      "Processing: 52_1\n",
      "Processing: /home/kapis20/projects/PPGworkspace/papagei-foundation-model/5459299/PPG-BP Database/Data File/0_subject/52_1.txt\n",
      "Processing: 52_2\n",
      "Processing: /home/kapis20/projects/PPGworkspace/papagei-foundation-model/5459299/PPG-BP Database/Data File/0_subject/52_2.txt\n",
      "Processing: 52_3\n",
      "Processing: /home/kapis20/projects/PPGworkspace/papagei-foundation-model/5459299/PPG-BP Database/Data File/0_subject/52_3.txt\n"
     ]
    },
    {
     "name": "stderr",
     "output_type": "stream",
     "text": [
      " 12%|█▏        | 79/657 [00:39<04:54,  1.96it/s]"
     ]
    },
    {
     "name": "stdout",
     "output_type": "stream",
     "text": [
      "[INFO] 0052 already exists\n",
      "Processing: 409_1\n",
      "Processing: /home/kapis20/projects/PPGworkspace/papagei-foundation-model/5459299/PPG-BP Database/Data File/0_subject/409_1.txt\n",
      "Processing: 409_2\n",
      "Processing: /home/kapis20/projects/PPGworkspace/papagei-foundation-model/5459299/PPG-BP Database/Data File/0_subject/409_2.txt\n"
     ]
    },
    {
     "name": "stderr",
     "output_type": "stream",
     "text": [
      " 12%|█▏        | 80/657 [00:40<04:46,  2.01it/s]"
     ]
    },
    {
     "name": "stdout",
     "output_type": "stream",
     "text": [
      "Processing: 409_3\n",
      "Processing: /home/kapis20/projects/PPGworkspace/papagei-foundation-model/5459299/PPG-BP Database/Data File/0_subject/409_3.txt\n",
      "[INFO] 0409 already exists\n",
      "Processing: 57_1\n",
      "Processing: /home/kapis20/projects/PPGworkspace/papagei-foundation-model/5459299/PPG-BP Database/Data File/0_subject/57_1.txt\n",
      "Processing: 57_2\n",
      "Processing: /home/kapis20/projects/PPGworkspace/papagei-foundation-model/5459299/PPG-BP Database/Data File/0_subject/57_2.txt\n",
      "Processing: 57_3\n",
      "Processing: /home/kapis20/projects/PPGworkspace/papagei-foundation-model/5459299/PPG-BP Database/Data File/0_subject/57_3.txt\n"
     ]
    },
    {
     "name": "stderr",
     "output_type": "stream",
     "text": [
      " 12%|█▏        | 81/657 [00:40<04:52,  1.97it/s]"
     ]
    },
    {
     "name": "stdout",
     "output_type": "stream",
     "text": [
      "[INFO] 0057 already exists\n",
      "Processing: 223_1\n",
      "Processing: /home/kapis20/projects/PPGworkspace/papagei-foundation-model/5459299/PPG-BP Database/Data File/0_subject/223_1.txt\n",
      "Processing: 223_2\n",
      "Processing: /home/kapis20/projects/PPGworkspace/papagei-foundation-model/5459299/PPG-BP Database/Data File/0_subject/223_2.txt\n"
     ]
    },
    {
     "name": "stderr",
     "output_type": "stream",
     "text": [
      " 12%|█▏        | 82/657 [00:41<05:15,  1.82it/s]"
     ]
    },
    {
     "name": "stdout",
     "output_type": "stream",
     "text": [
      "Processing: 223_3\n",
      "Processing: /home/kapis20/projects/PPGworkspace/papagei-foundation-model/5459299/PPG-BP Database/Data File/0_subject/223_3.txt\n",
      "[INFO] 0223 already exists\n",
      "Processing: 209_1\n",
      "Processing: /home/kapis20/projects/PPGworkspace/papagei-foundation-model/5459299/PPG-BP Database/Data File/0_subject/209_1.txt\n",
      "Processing: 209_2\n",
      "Processing: /home/kapis20/projects/PPGworkspace/papagei-foundation-model/5459299/PPG-BP Database/Data File/0_subject/209_2.txt\n",
      "Processing: 209_3\n",
      "Processing: /home/kapis20/projects/PPGworkspace/papagei-foundation-model/5459299/PPG-BP Database/Data File/0_subject/209_3.txt\n"
     ]
    },
    {
     "name": "stderr",
     "output_type": "stream",
     "text": [
      " 13%|█▎        | 83/657 [00:42<05:27,  1.75it/s]"
     ]
    },
    {
     "name": "stdout",
     "output_type": "stream",
     "text": [
      "[INFO] 0209 already exists\n",
      "Processing: 152_1\n",
      "Processing: /home/kapis20/projects/PPGworkspace/papagei-foundation-model/5459299/PPG-BP Database/Data File/0_subject/152_1.txt\n",
      "Processing: 152_2\n",
      "Processing: /home/kapis20/projects/PPGworkspace/papagei-foundation-model/5459299/PPG-BP Database/Data File/0_subject/152_2.txt\n"
     ]
    },
    {
     "name": "stderr",
     "output_type": "stream",
     "text": [
      " 13%|█▎        | 84/657 [00:42<05:16,  1.81it/s]"
     ]
    },
    {
     "name": "stdout",
     "output_type": "stream",
     "text": [
      "Processing: 152_3\n",
      "Processing: /home/kapis20/projects/PPGworkspace/papagei-foundation-model/5459299/PPG-BP Database/Data File/0_subject/152_3.txt\n",
      "[INFO] 0152 already exists\n",
      "Processing: 218_1\n",
      "Processing: /home/kapis20/projects/PPGworkspace/papagei-foundation-model/5459299/PPG-BP Database/Data File/0_subject/218_1.txt\n",
      "Processing: 218_2\n",
      "Processing: /home/kapis20/projects/PPGworkspace/papagei-foundation-model/5459299/PPG-BP Database/Data File/0_subject/218_2.txt\n",
      "Processing: 218_3\n",
      "Processing: /home/kapis20/projects/PPGworkspace/papagei-foundation-model/5459299/PPG-BP Database/Data File/0_subject/218_3.txt\n"
     ]
    },
    {
     "name": "stderr",
     "output_type": "stream",
     "text": [
      " 13%|█▎        | 85/657 [00:43<05:09,  1.85it/s]"
     ]
    },
    {
     "name": "stdout",
     "output_type": "stream",
     "text": [
      "[INFO] 0218 already exists\n",
      "Processing: 24_1\n",
      "Processing: /home/kapis20/projects/PPGworkspace/papagei-foundation-model/5459299/PPG-BP Database/Data File/0_subject/24_1.txt\n",
      "Processing: 24_2\n",
      "Processing: /home/kapis20/projects/PPGworkspace/papagei-foundation-model/5459299/PPG-BP Database/Data File/0_subject/24_2.txt\n"
     ]
    },
    {
     "name": "stderr",
     "output_type": "stream",
     "text": [
      " 13%|█▎        | 86/657 [00:43<05:00,  1.90it/s]"
     ]
    },
    {
     "name": "stdout",
     "output_type": "stream",
     "text": [
      "Processing: 24_3\n",
      "Processing: /home/kapis20/projects/PPGworkspace/papagei-foundation-model/5459299/PPG-BP Database/Data File/0_subject/24_3.txt\n",
      "[INFO] 0024 already exists\n",
      "Processing: 138_1\n",
      "Processing: /home/kapis20/projects/PPGworkspace/papagei-foundation-model/5459299/PPG-BP Database/Data File/0_subject/138_1.txt\n",
      "Processing: 138_2\n",
      "Processing: /home/kapis20/projects/PPGworkspace/papagei-foundation-model/5459299/PPG-BP Database/Data File/0_subject/138_2.txt\n",
      "Processing: 138_3\n",
      "Processing: /home/kapis20/projects/PPGworkspace/papagei-foundation-model/5459299/PPG-BP Database/Data File/0_subject/138_3.txt\n"
     ]
    },
    {
     "name": "stderr",
     "output_type": "stream",
     "text": [
      " 13%|█▎        | 87/657 [00:44<04:57,  1.91it/s]"
     ]
    },
    {
     "name": "stdout",
     "output_type": "stream",
     "text": [
      "[INFO] 0138 already exists\n",
      "Processing: 219_1\n",
      "Processing: /home/kapis20/projects/PPGworkspace/papagei-foundation-model/5459299/PPG-BP Database/Data File/0_subject/219_1.txt\n",
      "Processing: 219_2\n",
      "Processing: /home/kapis20/projects/PPGworkspace/papagei-foundation-model/5459299/PPG-BP Database/Data File/0_subject/219_2.txt\n"
     ]
    },
    {
     "name": "stderr",
     "output_type": "stream",
     "text": [
      " 13%|█▎        | 88/657 [00:44<04:54,  1.94it/s]"
     ]
    },
    {
     "name": "stdout",
     "output_type": "stream",
     "text": [
      "Processing: 219_3\n",
      "Processing: /home/kapis20/projects/PPGworkspace/papagei-foundation-model/5459299/PPG-BP Database/Data File/0_subject/219_3.txt\n",
      "[INFO] 0219 already exists\n",
      "Processing: 185_1\n",
      "Processing: /home/kapis20/projects/PPGworkspace/papagei-foundation-model/5459299/PPG-BP Database/Data File/0_subject/185_1.txt\n",
      "Processing: 185_2\n",
      "Processing: /home/kapis20/projects/PPGworkspace/papagei-foundation-model/5459299/PPG-BP Database/Data File/0_subject/185_2.txt\n",
      "Processing: 185_3\n",
      "Processing: /home/kapis20/projects/PPGworkspace/papagei-foundation-model/5459299/PPG-BP Database/Data File/0_subject/185_3.txt\n"
     ]
    },
    {
     "name": "stderr",
     "output_type": "stream",
     "text": [
      " 14%|█▎        | 89/657 [00:45<04:56,  1.91it/s]"
     ]
    },
    {
     "name": "stdout",
     "output_type": "stream",
     "text": [
      "[INFO] 0185 already exists\n",
      "Processing: 115_1\n",
      "Processing: /home/kapis20/projects/PPGworkspace/papagei-foundation-model/5459299/PPG-BP Database/Data File/0_subject/115_1.txt\n",
      "Processing: 115_2\n",
      "Processing: /home/kapis20/projects/PPGworkspace/papagei-foundation-model/5459299/PPG-BP Database/Data File/0_subject/115_2.txt\n"
     ]
    },
    {
     "name": "stderr",
     "output_type": "stream",
     "text": [
      " 14%|█▎        | 90/657 [00:45<04:56,  1.91it/s]"
     ]
    },
    {
     "name": "stdout",
     "output_type": "stream",
     "text": [
      "Processing: 115_3\n",
      "Processing: /home/kapis20/projects/PPGworkspace/papagei-foundation-model/5459299/PPG-BP Database/Data File/0_subject/115_3.txt\n",
      "[INFO] 0115 already exists\n",
      "Processing: 185_1\n",
      "Processing: /home/kapis20/projects/PPGworkspace/papagei-foundation-model/5459299/PPG-BP Database/Data File/0_subject/185_1.txt\n",
      "Processing: 185_2\n",
      "Processing: /home/kapis20/projects/PPGworkspace/papagei-foundation-model/5459299/PPG-BP Database/Data File/0_subject/185_2.txt\n",
      "Processing: 185_3\n",
      "Processing: /home/kapis20/projects/PPGworkspace/papagei-foundation-model/5459299/PPG-BP Database/Data File/0_subject/185_3.txt\n"
     ]
    },
    {
     "name": "stderr",
     "output_type": "stream",
     "text": [
      " 14%|█▍        | 91/657 [00:46<04:53,  1.93it/s]"
     ]
    },
    {
     "name": "stdout",
     "output_type": "stream",
     "text": [
      "[INFO] 0185 already exists\n",
      "Processing: 190_1\n",
      "Processing: /home/kapis20/projects/PPGworkspace/papagei-foundation-model/5459299/PPG-BP Database/Data File/0_subject/190_1.txt\n",
      "Processing: 190_2\n",
      "Processing: /home/kapis20/projects/PPGworkspace/papagei-foundation-model/5459299/PPG-BP Database/Data File/0_subject/190_2.txt\n"
     ]
    },
    {
     "name": "stderr",
     "output_type": "stream",
     "text": [
      " 14%|█▍        | 92/657 [00:46<04:48,  1.96it/s]"
     ]
    },
    {
     "name": "stdout",
     "output_type": "stream",
     "text": [
      "Processing: 190_3\n",
      "Processing: /home/kapis20/projects/PPGworkspace/papagei-foundation-model/5459299/PPG-BP Database/Data File/0_subject/190_3.txt\n",
      "[INFO] 0190 already exists\n",
      "Processing: 163_1\n",
      "Processing: /home/kapis20/projects/PPGworkspace/papagei-foundation-model/5459299/PPG-BP Database/Data File/0_subject/163_1.txt\n",
      "Processing: 163_2\n",
      "Processing: /home/kapis20/projects/PPGworkspace/papagei-foundation-model/5459299/PPG-BP Database/Data File/0_subject/163_2.txt\n",
      "Processing: 163_3\n",
      "Processing: /home/kapis20/projects/PPGworkspace/papagei-foundation-model/5459299/PPG-BP Database/Data File/0_subject/163_3.txt\n"
     ]
    },
    {
     "name": "stderr",
     "output_type": "stream",
     "text": [
      " 14%|█▍        | 93/657 [00:47<04:50,  1.94it/s]"
     ]
    },
    {
     "name": "stdout",
     "output_type": "stream",
     "text": [
      "[INFO] 0163 already exists\n",
      "Processing: 93_1\n",
      "Processing: /home/kapis20/projects/PPGworkspace/papagei-foundation-model/5459299/PPG-BP Database/Data File/0_subject/93_1.txt\n",
      "Processing: 93_2\n",
      "Processing: /home/kapis20/projects/PPGworkspace/papagei-foundation-model/5459299/PPG-BP Database/Data File/0_subject/93_2.txt\n"
     ]
    },
    {
     "name": "stderr",
     "output_type": "stream",
     "text": [
      " 14%|█▍        | 94/657 [00:47<04:48,  1.95it/s]"
     ]
    },
    {
     "name": "stdout",
     "output_type": "stream",
     "text": [
      "Processing: 93_3\n",
      "Processing: /home/kapis20/projects/PPGworkspace/papagei-foundation-model/5459299/PPG-BP Database/Data File/0_subject/93_3.txt\n",
      "[INFO] 0093 already exists\n",
      "Processing: 184_1\n",
      "Processing: /home/kapis20/projects/PPGworkspace/papagei-foundation-model/5459299/PPG-BP Database/Data File/0_subject/184_1.txt\n",
      "Processing: 184_2\n",
      "Processing: /home/kapis20/projects/PPGworkspace/papagei-foundation-model/5459299/PPG-BP Database/Data File/0_subject/184_2.txt\n",
      "Processing: 184_3\n",
      "Processing: /home/kapis20/projects/PPGworkspace/papagei-foundation-model/5459299/PPG-BP Database/Data File/0_subject/184_3.txt\n",
      "[INFO] 0184 already exists\n",
      "Processing: 30_1\n",
      "Processing: /home/kapis20/projects/PPGworkspace/papagei-foundation-model/5459299/PPG-BP Database/Data File/0_subject/30_1.txt\n",
      "Processing: 30_2\n",
      "Processing: /home/kapis20/projects/PPGworkspace/papagei-foundation-model/5459299/PPG-BP Database/Data File/0_subject/30_2.txt\n",
      "Processing: 30_3\n",
      "Processing: /home/kapis20/projects/PPGworkspace/papagei-foundation-model/5459299/PPG-BP Database/Data File/0_subject/30_3.txt\n",
      "[INFO] 0030 already exists\n",
      "Processing: 165_1\n",
      "Processing: /home/kapis20/projects/PPGworkspace/papagei-foundation-model/5459299/PPG-BP Database/Data File/0_subject/165_1.txt\n",
      "Processing: 165_2\n",
      "Processing: /home/kapis20/projects/PPGworkspace/papagei-foundation-model/5459299/PPG-BP Database/Data File/0_subject/165_2.txt\n",
      "Processing: 165_3\n",
      "Processing: /home/kapis20/projects/PPGworkspace/papagei-foundation-model/5459299/PPG-BP Database/Data File/0_subject/165_3.txt\n"
     ]
    },
    {
     "name": "stderr",
     "output_type": "stream",
     "text": [
      " 15%|█▍        | 97/657 [00:47<02:22,  3.92it/s]"
     ]
    },
    {
     "name": "stdout",
     "output_type": "stream",
     "text": [
      "[INFO] 0165 already exists\n",
      "Processing: 257_1\n",
      "Processing: /home/kapis20/projects/PPGworkspace/papagei-foundation-model/5459299/PPG-BP Database/Data File/0_subject/257_1.txt\n",
      "Processing: 257_2\n",
      "Processing: /home/kapis20/projects/PPGworkspace/papagei-foundation-model/5459299/PPG-BP Database/Data File/0_subject/257_2.txt\n",
      "Processing: 257_3\n",
      "Processing: /home/kapis20/projects/PPGworkspace/papagei-foundation-model/5459299/PPG-BP Database/Data File/0_subject/257_3.txt\n"
     ]
    },
    {
     "name": "stderr",
     "output_type": "stream",
     "text": [
      " 15%|█▍        | 98/657 [00:48<03:02,  3.06it/s]"
     ]
    },
    {
     "name": "stdout",
     "output_type": "stream",
     "text": [
      "[INFO] 0257 already exists\n",
      "Processing: 245_1\n",
      "Processing: /home/kapis20/projects/PPGworkspace/papagei-foundation-model/5459299/PPG-BP Database/Data File/0_subject/245_1.txt\n",
      "Processing: 245_2\n",
      "Processing: /home/kapis20/projects/PPGworkspace/papagei-foundation-model/5459299/PPG-BP Database/Data File/0_subject/245_2.txt\n"
     ]
    },
    {
     "name": "stderr",
     "output_type": "stream",
     "text": [
      " 15%|█▌        | 99/657 [00:48<03:23,  2.74it/s]"
     ]
    },
    {
     "name": "stdout",
     "output_type": "stream",
     "text": [
      "Processing: 245_3\n",
      "Processing: /home/kapis20/projects/PPGworkspace/papagei-foundation-model/5459299/PPG-BP Database/Data File/0_subject/245_3.txt\n",
      "[INFO] 0245 already exists\n",
      "Processing: 38_1\n",
      "Processing: /home/kapis20/projects/PPGworkspace/papagei-foundation-model/5459299/PPG-BP Database/Data File/0_subject/38_1.txt\n",
      "Processing: 38_2\n",
      "Processing: /home/kapis20/projects/PPGworkspace/papagei-foundation-model/5459299/PPG-BP Database/Data File/0_subject/38_2.txt\n",
      "Processing: 38_3\n",
      "Processing: /home/kapis20/projects/PPGworkspace/papagei-foundation-model/5459299/PPG-BP Database/Data File/0_subject/38_3.txt\n"
     ]
    },
    {
     "name": "stderr",
     "output_type": "stream",
     "text": [
      " 15%|█▌        | 100/657 [00:49<03:41,  2.52it/s]"
     ]
    },
    {
     "name": "stdout",
     "output_type": "stream",
     "text": [
      "[INFO] 0038 already exists\n",
      "Processing: 252_1\n",
      "Processing: /home/kapis20/projects/PPGworkspace/papagei-foundation-model/5459299/PPG-BP Database/Data File/0_subject/252_1.txt\n",
      "Processing: 252_2\n",
      "Processing: /home/kapis20/projects/PPGworkspace/papagei-foundation-model/5459299/PPG-BP Database/Data File/0_subject/252_2.txt\n"
     ]
    },
    {
     "name": "stderr",
     "output_type": "stream",
     "text": [
      " 15%|█▌        | 101/657 [00:49<03:55,  2.36it/s]"
     ]
    },
    {
     "name": "stdout",
     "output_type": "stream",
     "text": [
      "Processing: 252_3\n",
      "Processing: /home/kapis20/projects/PPGworkspace/papagei-foundation-model/5459299/PPG-BP Database/Data File/0_subject/252_3.txt\n",
      "[INFO] 0252 already exists\n",
      "Processing: 197_1\n",
      "Processing: /home/kapis20/projects/PPGworkspace/papagei-foundation-model/5459299/PPG-BP Database/Data File/0_subject/197_1.txt\n",
      "Processing: 197_2\n",
      "Processing: /home/kapis20/projects/PPGworkspace/papagei-foundation-model/5459299/PPG-BP Database/Data File/0_subject/197_2.txt\n",
      "Processing: 197_3\n",
      "Processing: /home/kapis20/projects/PPGworkspace/papagei-foundation-model/5459299/PPG-BP Database/Data File/0_subject/197_3.txt\n"
     ]
    },
    {
     "name": "stderr",
     "output_type": "stream",
     "text": [
      " 16%|█▌        | 102/657 [00:50<04:05,  2.26it/s]"
     ]
    },
    {
     "name": "stdout",
     "output_type": "stream",
     "text": [
      "[INFO] 0197 already exists\n",
      "Processing: 105_1\n",
      "Processing: /home/kapis20/projects/PPGworkspace/papagei-foundation-model/5459299/PPG-BP Database/Data File/0_subject/105_1.txt\n",
      "Processing: 105_2\n",
      "Processing: /home/kapis20/projects/PPGworkspace/papagei-foundation-model/5459299/PPG-BP Database/Data File/0_subject/105_2.txt\n"
     ]
    },
    {
     "name": "stderr",
     "output_type": "stream",
     "text": [
      " 16%|█▌        | 103/657 [00:50<04:12,  2.19it/s]"
     ]
    },
    {
     "name": "stdout",
     "output_type": "stream",
     "text": [
      "Processing: 105_3\n",
      "Processing: /home/kapis20/projects/PPGworkspace/papagei-foundation-model/5459299/PPG-BP Database/Data File/0_subject/105_3.txt\n",
      "[INFO] 0105 already exists\n",
      "Processing: 142_1\n",
      "Processing: /home/kapis20/projects/PPGworkspace/papagei-foundation-model/5459299/PPG-BP Database/Data File/0_subject/142_1.txt\n",
      "Processing: 142_2\n",
      "Processing: /home/kapis20/projects/PPGworkspace/papagei-foundation-model/5459299/PPG-BP Database/Data File/0_subject/142_2.txt\n",
      "Processing: 142_3\n",
      "Processing: /home/kapis20/projects/PPGworkspace/papagei-foundation-model/5459299/PPG-BP Database/Data File/0_subject/142_3.txt\n"
     ]
    },
    {
     "name": "stderr",
     "output_type": "stream",
     "text": [
      " 16%|█▌        | 104/657 [00:51<04:18,  2.14it/s]"
     ]
    },
    {
     "name": "stdout",
     "output_type": "stream",
     "text": [
      "[INFO] 0142 already exists\n",
      "Processing: 176_1\n",
      "Processing: /home/kapis20/projects/PPGworkspace/papagei-foundation-model/5459299/PPG-BP Database/Data File/0_subject/176_1.txt\n",
      "Processing: 176_2\n",
      "Processing: /home/kapis20/projects/PPGworkspace/papagei-foundation-model/5459299/PPG-BP Database/Data File/0_subject/176_2.txt\n"
     ]
    },
    {
     "name": "stderr",
     "output_type": "stream",
     "text": [
      " 16%|█▌        | 105/657 [00:51<04:21,  2.11it/s]"
     ]
    },
    {
     "name": "stdout",
     "output_type": "stream",
     "text": [
      "Processing: 176_3\n",
      "Processing: /home/kapis20/projects/PPGworkspace/papagei-foundation-model/5459299/PPG-BP Database/Data File/0_subject/176_3.txt\n",
      "[INFO] 0176 already exists\n",
      "Processing: 32_1\n",
      "Processing: /home/kapis20/projects/PPGworkspace/papagei-foundation-model/5459299/PPG-BP Database/Data File/0_subject/32_1.txt\n",
      "Processing: 32_2\n",
      "Processing: /home/kapis20/projects/PPGworkspace/papagei-foundation-model/5459299/PPG-BP Database/Data File/0_subject/32_2.txt\n",
      "Processing: 32_3\n",
      "Processing: /home/kapis20/projects/PPGworkspace/papagei-foundation-model/5459299/PPG-BP Database/Data File/0_subject/32_3.txt\n"
     ]
    },
    {
     "name": "stderr",
     "output_type": "stream",
     "text": [
      " 16%|█▌        | 106/657 [00:52<04:29,  2.04it/s]"
     ]
    },
    {
     "name": "stdout",
     "output_type": "stream",
     "text": [
      "[INFO] 0032 already exists\n",
      "Processing: 32_1\n",
      "Processing: /home/kapis20/projects/PPGworkspace/papagei-foundation-model/5459299/PPG-BP Database/Data File/0_subject/32_1.txt\n",
      "Processing: 32_2\n",
      "Processing: /home/kapis20/projects/PPGworkspace/papagei-foundation-model/5459299/PPG-BP Database/Data File/0_subject/32_2.txt\n"
     ]
    },
    {
     "name": "stderr",
     "output_type": "stream",
     "text": [
      " 16%|█▋        | 107/657 [00:52<04:27,  2.06it/s]"
     ]
    },
    {
     "name": "stdout",
     "output_type": "stream",
     "text": [
      "Processing: 32_3\n",
      "Processing: /home/kapis20/projects/PPGworkspace/papagei-foundation-model/5459299/PPG-BP Database/Data File/0_subject/32_3.txt\n",
      "[INFO] 0032 already exists\n",
      "Processing: 23_1\n",
      "Processing: /home/kapis20/projects/PPGworkspace/papagei-foundation-model/5459299/PPG-BP Database/Data File/0_subject/23_1.txt\n",
      "Processing: 23_2\n",
      "Processing: /home/kapis20/projects/PPGworkspace/papagei-foundation-model/5459299/PPG-BP Database/Data File/0_subject/23_2.txt\n",
      "Processing: 23_3\n",
      "Processing: /home/kapis20/projects/PPGworkspace/papagei-foundation-model/5459299/PPG-BP Database/Data File/0_subject/23_3.txt\n"
     ]
    },
    {
     "name": "stderr",
     "output_type": "stream",
     "text": [
      " 16%|█▋        | 108/657 [00:53<04:29,  2.04it/s]"
     ]
    },
    {
     "name": "stdout",
     "output_type": "stream",
     "text": [
      "[INFO] 0023 already exists\n",
      "Processing: 231_1\n",
      "Processing: /home/kapis20/projects/PPGworkspace/papagei-foundation-model/5459299/PPG-BP Database/Data File/0_subject/231_1.txt\n",
      "Processing: 231_2\n",
      "Processing: /home/kapis20/projects/PPGworkspace/papagei-foundation-model/5459299/PPG-BP Database/Data File/0_subject/231_2.txt\n"
     ]
    },
    {
     "name": "stderr",
     "output_type": "stream",
     "text": [
      " 17%|█▋        | 109/657 [00:54<05:08,  1.78it/s]"
     ]
    },
    {
     "name": "stdout",
     "output_type": "stream",
     "text": [
      "Processing: 231_3\n",
      "Processing: /home/kapis20/projects/PPGworkspace/papagei-foundation-model/5459299/PPG-BP Database/Data File/0_subject/231_3.txt\n",
      "[INFO] 0231 already exists\n",
      "Processing: 178_1\n",
      "Processing: /home/kapis20/projects/PPGworkspace/papagei-foundation-model/5459299/PPG-BP Database/Data File/0_subject/178_1.txt\n",
      "Processing: 178_2\n",
      "Processing: /home/kapis20/projects/PPGworkspace/papagei-foundation-model/5459299/PPG-BP Database/Data File/0_subject/178_2.txt\n",
      "Processing: 178_3\n",
      "Processing: /home/kapis20/projects/PPGworkspace/papagei-foundation-model/5459299/PPG-BP Database/Data File/0_subject/178_3.txt\n"
     ]
    },
    {
     "name": "stderr",
     "output_type": "stream",
     "text": [
      " 17%|█▋        | 110/657 [00:54<05:00,  1.82it/s]"
     ]
    },
    {
     "name": "stdout",
     "output_type": "stream",
     "text": [
      "[INFO] 0178 already exists\n",
      "Processing: 103_1\n",
      "Processing: /home/kapis20/projects/PPGworkspace/papagei-foundation-model/5459299/PPG-BP Database/Data File/0_subject/103_1.txt\n",
      "Processing: 103_2\n",
      "Processing: /home/kapis20/projects/PPGworkspace/papagei-foundation-model/5459299/PPG-BP Database/Data File/0_subject/103_2.txt\n"
     ]
    },
    {
     "name": "stderr",
     "output_type": "stream",
     "text": [
      " 17%|█▋        | 111/657 [00:55<04:50,  1.88it/s]"
     ]
    },
    {
     "name": "stdout",
     "output_type": "stream",
     "text": [
      "Processing: 103_3\n",
      "Processing: /home/kapis20/projects/PPGworkspace/papagei-foundation-model/5459299/PPG-BP Database/Data File/0_subject/103_3.txt\n",
      "[INFO] 0103 already exists\n",
      "Processing: 230_1\n",
      "Processing: /home/kapis20/projects/PPGworkspace/papagei-foundation-model/5459299/PPG-BP Database/Data File/0_subject/230_1.txt\n",
      "Processing: 230_2\n",
      "Processing: /home/kapis20/projects/PPGworkspace/papagei-foundation-model/5459299/PPG-BP Database/Data File/0_subject/230_2.txt\n",
      "Processing: 230_3\n",
      "Processing: /home/kapis20/projects/PPGworkspace/papagei-foundation-model/5459299/PPG-BP Database/Data File/0_subject/230_3.txt\n"
     ]
    },
    {
     "name": "stderr",
     "output_type": "stream",
     "text": [
      " 17%|█▋        | 112/657 [00:55<04:49,  1.88it/s]"
     ]
    },
    {
     "name": "stdout",
     "output_type": "stream",
     "text": [
      "[INFO] 0230 already exists\n",
      "Processing: 145_1\n",
      "Processing: /home/kapis20/projects/PPGworkspace/papagei-foundation-model/5459299/PPG-BP Database/Data File/0_subject/145_1.txt\n",
      "Processing: 145_2\n",
      "Processing: /home/kapis20/projects/PPGworkspace/papagei-foundation-model/5459299/PPG-BP Database/Data File/0_subject/145_2.txt\n"
     ]
    },
    {
     "name": "stderr",
     "output_type": "stream",
     "text": [
      " 17%|█▋        | 113/657 [00:56<04:45,  1.90it/s]"
     ]
    },
    {
     "name": "stdout",
     "output_type": "stream",
     "text": [
      "Processing: 145_3\n",
      "Processing: /home/kapis20/projects/PPGworkspace/papagei-foundation-model/5459299/PPG-BP Database/Data File/0_subject/145_3.txt\n",
      "[INFO] 0145 already exists\n",
      "Processing: 237_1\n",
      "Processing: /home/kapis20/projects/PPGworkspace/papagei-foundation-model/5459299/PPG-BP Database/Data File/0_subject/237_1.txt\n",
      "Processing: 237_2\n",
      "Processing: /home/kapis20/projects/PPGworkspace/papagei-foundation-model/5459299/PPG-BP Database/Data File/0_subject/237_2.txt\n",
      "Processing: 237_3\n",
      "Processing: /home/kapis20/projects/PPGworkspace/papagei-foundation-model/5459299/PPG-BP Database/Data File/0_subject/237_3.txt\n"
     ]
    },
    {
     "name": "stderr",
     "output_type": "stream",
     "text": [
      " 17%|█▋        | 114/657 [00:56<04:47,  1.89it/s]"
     ]
    },
    {
     "name": "stdout",
     "output_type": "stream",
     "text": [
      "[INFO] 0237 already exists\n",
      "Processing: 26_1\n",
      "Processing: /home/kapis20/projects/PPGworkspace/papagei-foundation-model/5459299/PPG-BP Database/Data File/0_subject/26_1.txt\n",
      "Processing: 26_2\n",
      "Processing: /home/kapis20/projects/PPGworkspace/papagei-foundation-model/5459299/PPG-BP Database/Data File/0_subject/26_2.txt\n"
     ]
    },
    {
     "name": "stderr",
     "output_type": "stream",
     "text": [
      " 18%|█▊        | 115/657 [00:57<04:40,  1.93it/s]"
     ]
    },
    {
     "name": "stdout",
     "output_type": "stream",
     "text": [
      "Processing: 26_3\n",
      "Processing: /home/kapis20/projects/PPGworkspace/papagei-foundation-model/5459299/PPG-BP Database/Data File/0_subject/26_3.txt\n",
      "[INFO] 0026 already exists\n",
      "Processing: 158_1\n",
      "Processing: /home/kapis20/projects/PPGworkspace/papagei-foundation-model/5459299/PPG-BP Database/Data File/0_subject/158_1.txt\n",
      "Processing: 158_2\n",
      "Processing: /home/kapis20/projects/PPGworkspace/papagei-foundation-model/5459299/PPG-BP Database/Data File/0_subject/158_2.txt\n",
      "Processing: 158_3\n",
      "Processing: /home/kapis20/projects/PPGworkspace/papagei-foundation-model/5459299/PPG-BP Database/Data File/0_subject/158_3.txt\n"
     ]
    },
    {
     "name": "stderr",
     "output_type": "stream",
     "text": [
      " 18%|█▊        | 116/657 [00:57<04:40,  1.93it/s]"
     ]
    },
    {
     "name": "stdout",
     "output_type": "stream",
     "text": [
      "[INFO] 0158 already exists\n",
      "Processing: 131_1\n",
      "Processing: /home/kapis20/projects/PPGworkspace/papagei-foundation-model/5459299/PPG-BP Database/Data File/0_subject/131_1.txt\n",
      "Processing: 131_2\n",
      "Processing: /home/kapis20/projects/PPGworkspace/papagei-foundation-model/5459299/PPG-BP Database/Data File/0_subject/131_2.txt\n"
     ]
    },
    {
     "name": "stderr",
     "output_type": "stream",
     "text": [
      " 18%|█▊        | 117/657 [00:58<04:33,  1.98it/s]"
     ]
    },
    {
     "name": "stdout",
     "output_type": "stream",
     "text": [
      "Processing: 131_3\n",
      "Processing: /home/kapis20/projects/PPGworkspace/papagei-foundation-model/5459299/PPG-BP Database/Data File/0_subject/131_3.txt\n",
      "[INFO] 0131 already exists\n",
      "Processing: 196_1\n",
      "Processing: /home/kapis20/projects/PPGworkspace/papagei-foundation-model/5459299/PPG-BP Database/Data File/0_subject/196_1.txt\n",
      "Processing: 196_2\n",
      "Processing: /home/kapis20/projects/PPGworkspace/papagei-foundation-model/5459299/PPG-BP Database/Data File/0_subject/196_2.txt\n",
      "Processing: 196_3\n",
      "Processing: /home/kapis20/projects/PPGworkspace/papagei-foundation-model/5459299/PPG-BP Database/Data File/0_subject/196_3.txt\n"
     ]
    },
    {
     "name": "stderr",
     "output_type": "stream",
     "text": [
      " 18%|█▊        | 118/657 [00:58<04:34,  1.96it/s]"
     ]
    },
    {
     "name": "stdout",
     "output_type": "stream",
     "text": [
      "[INFO] 0196 already exists\n",
      "Processing: 201_1\n",
      "Processing: /home/kapis20/projects/PPGworkspace/papagei-foundation-model/5459299/PPG-BP Database/Data File/0_subject/201_1.txt\n",
      "Processing: 201_2\n",
      "Processing: /home/kapis20/projects/PPGworkspace/papagei-foundation-model/5459299/PPG-BP Database/Data File/0_subject/201_2.txt\n"
     ]
    },
    {
     "name": "stderr",
     "output_type": "stream",
     "text": [
      " 18%|█▊        | 119/657 [00:59<04:31,  1.98it/s]"
     ]
    },
    {
     "name": "stdout",
     "output_type": "stream",
     "text": [
      "Processing: 201_3\n",
      "Processing: /home/kapis20/projects/PPGworkspace/papagei-foundation-model/5459299/PPG-BP Database/Data File/0_subject/201_3.txt\n",
      "[INFO] 0201 already exists\n",
      "Processing: 54_1\n",
      "Processing: /home/kapis20/projects/PPGworkspace/papagei-foundation-model/5459299/PPG-BP Database/Data File/0_subject/54_1.txt\n",
      "Processing: 54_2\n",
      "Processing: /home/kapis20/projects/PPGworkspace/papagei-foundation-model/5459299/PPG-BP Database/Data File/0_subject/54_2.txt\n",
      "Processing: 54_3\n",
      "Processing: /home/kapis20/projects/PPGworkspace/papagei-foundation-model/5459299/PPG-BP Database/Data File/0_subject/54_3.txt\n"
     ]
    },
    {
     "name": "stderr",
     "output_type": "stream",
     "text": [
      " 18%|█▊        | 120/657 [00:59<04:51,  1.84it/s]"
     ]
    },
    {
     "name": "stdout",
     "output_type": "stream",
     "text": [
      "[INFO] 0054 already exists\n",
      "Processing: 91_1\n",
      "Processing: /home/kapis20/projects/PPGworkspace/papagei-foundation-model/5459299/PPG-BP Database/Data File/0_subject/91_1.txt\n",
      "Processing: 91_2\n",
      "Processing: /home/kapis20/projects/PPGworkspace/papagei-foundation-model/5459299/PPG-BP Database/Data File/0_subject/91_2.txt\n",
      "Processing: 91_3\n",
      "Processing: /home/kapis20/projects/PPGworkspace/papagei-foundation-model/5459299/PPG-BP Database/Data File/0_subject/91_3.txt\n"
     ]
    },
    {
     "name": "stderr",
     "output_type": "stream",
     "text": [
      " 18%|█▊        | 121/657 [01:00<04:53,  1.83it/s]"
     ]
    },
    {
     "name": "stdout",
     "output_type": "stream",
     "text": [
      "[INFO] 0091 already exists\n",
      "Processing: 97_1\n",
      "Processing: /home/kapis20/projects/PPGworkspace/papagei-foundation-model/5459299/PPG-BP Database/Data File/0_subject/97_1.txt\n",
      "Processing: 97_2\n",
      "Processing: /home/kapis20/projects/PPGworkspace/papagei-foundation-model/5459299/PPG-BP Database/Data File/0_subject/97_2.txt\n"
     ]
    },
    {
     "name": "stderr",
     "output_type": "stream",
     "text": [
      " 19%|█▊        | 122/657 [01:00<04:44,  1.88it/s]"
     ]
    },
    {
     "name": "stdout",
     "output_type": "stream",
     "text": [
      "Processing: 97_3\n",
      "Processing: /home/kapis20/projects/PPGworkspace/papagei-foundation-model/5459299/PPG-BP Database/Data File/0_subject/97_3.txt\n",
      "[INFO] 0097 already exists\n",
      "Processing: 9_1\n",
      "Processing: /home/kapis20/projects/PPGworkspace/papagei-foundation-model/5459299/PPG-BP Database/Data File/0_subject/9_1.txt\n",
      "Processing: 9_2\n",
      "Processing: /home/kapis20/projects/PPGworkspace/papagei-foundation-model/5459299/PPG-BP Database/Data File/0_subject/9_2.txt\n",
      "Processing: 9_3\n",
      "Processing: /home/kapis20/projects/PPGworkspace/papagei-foundation-model/5459299/PPG-BP Database/Data File/0_subject/9_3.txt\n"
     ]
    },
    {
     "name": "stderr",
     "output_type": "stream",
     "text": [
      " 19%|█▊        | 123/657 [01:01<04:41,  1.90it/s]"
     ]
    },
    {
     "name": "stdout",
     "output_type": "stream",
     "text": [
      "[INFO] 0009 already exists\n",
      "Processing: 189_1\n",
      "Processing: /home/kapis20/projects/PPGworkspace/papagei-foundation-model/5459299/PPG-BP Database/Data File/0_subject/189_1.txt\n",
      "Processing: 189_2\n",
      "Processing: /home/kapis20/projects/PPGworkspace/papagei-foundation-model/5459299/PPG-BP Database/Data File/0_subject/189_2.txt\n"
     ]
    },
    {
     "name": "stderr",
     "output_type": "stream",
     "text": [
      " 19%|█▉        | 124/657 [01:01<04:38,  1.91it/s]"
     ]
    },
    {
     "name": "stdout",
     "output_type": "stream",
     "text": [
      "Processing: 189_3\n",
      "Processing: /home/kapis20/projects/PPGworkspace/papagei-foundation-model/5459299/PPG-BP Database/Data File/0_subject/189_3.txt\n",
      "[INFO] 0189 already exists\n",
      "Processing: 51_1\n",
      "Processing: /home/kapis20/projects/PPGworkspace/papagei-foundation-model/5459299/PPG-BP Database/Data File/0_subject/51_1.txt\n",
      "Processing: 51_2\n",
      "Processing: /home/kapis20/projects/PPGworkspace/papagei-foundation-model/5459299/PPG-BP Database/Data File/0_subject/51_2.txt\n",
      "Processing: 51_3\n",
      "Processing: /home/kapis20/projects/PPGworkspace/papagei-foundation-model/5459299/PPG-BP Database/Data File/0_subject/51_3.txt\n"
     ]
    },
    {
     "name": "stderr",
     "output_type": "stream",
     "text": [
      " 19%|█▉        | 125/657 [01:02<04:34,  1.93it/s]"
     ]
    },
    {
     "name": "stdout",
     "output_type": "stream",
     "text": [
      "[INFO] 0051 already exists\n",
      "Processing: 126_1\n",
      "Processing: /home/kapis20/projects/PPGworkspace/papagei-foundation-model/5459299/PPG-BP Database/Data File/0_subject/126_1.txt\n",
      "Processing: 126_2\n",
      "Processing: /home/kapis20/projects/PPGworkspace/papagei-foundation-model/5459299/PPG-BP Database/Data File/0_subject/126_2.txt\n"
     ]
    },
    {
     "name": "stderr",
     "output_type": "stream",
     "text": [
      " 19%|█▉        | 126/657 [01:02<04:35,  1.93it/s]"
     ]
    },
    {
     "name": "stdout",
     "output_type": "stream",
     "text": [
      "Processing: 126_3\n",
      "Processing: /home/kapis20/projects/PPGworkspace/papagei-foundation-model/5459299/PPG-BP Database/Data File/0_subject/126_3.txt\n",
      "[INFO] 0126 already exists\n",
      "Processing: 62_1\n",
      "Processing: /home/kapis20/projects/PPGworkspace/papagei-foundation-model/5459299/PPG-BP Database/Data File/0_subject/62_1.txt\n",
      "Processing: 62_2\n",
      "Processing: /home/kapis20/projects/PPGworkspace/papagei-foundation-model/5459299/PPG-BP Database/Data File/0_subject/62_2.txt\n",
      "Processing: 62_3\n",
      "Processing: /home/kapis20/projects/PPGworkspace/papagei-foundation-model/5459299/PPG-BP Database/Data File/0_subject/62_3.txt\n"
     ]
    },
    {
     "name": "stderr",
     "output_type": "stream",
     "text": [
      " 19%|█▉        | 127/657 [01:03<04:39,  1.90it/s]"
     ]
    },
    {
     "name": "stdout",
     "output_type": "stream",
     "text": [
      "[INFO] 0062 already exists\n",
      "Processing: 141_1\n",
      "Processing: /home/kapis20/projects/PPGworkspace/papagei-foundation-model/5459299/PPG-BP Database/Data File/0_subject/141_1.txt\n",
      "Processing: 141_2\n",
      "Processing: /home/kapis20/projects/PPGworkspace/papagei-foundation-model/5459299/PPG-BP Database/Data File/0_subject/141_2.txt\n"
     ]
    },
    {
     "name": "stderr",
     "output_type": "stream",
     "text": [
      " 19%|█▉        | 128/657 [01:04<04:38,  1.90it/s]"
     ]
    },
    {
     "name": "stdout",
     "output_type": "stream",
     "text": [
      "Processing: 141_3\n",
      "Processing: /home/kapis20/projects/PPGworkspace/papagei-foundation-model/5459299/PPG-BP Database/Data File/0_subject/141_3.txt\n",
      "[INFO] 0141 already exists\n",
      "Processing: 242_1\n",
      "Processing: /home/kapis20/projects/PPGworkspace/papagei-foundation-model/5459299/PPG-BP Database/Data File/0_subject/242_1.txt\n",
      "Processing: 242_2\n",
      "Processing: /home/kapis20/projects/PPGworkspace/papagei-foundation-model/5459299/PPG-BP Database/Data File/0_subject/242_2.txt\n",
      "Processing: 242_3\n",
      "Processing: /home/kapis20/projects/PPGworkspace/papagei-foundation-model/5459299/PPG-BP Database/Data File/0_subject/242_3.txt\n"
     ]
    },
    {
     "name": "stderr",
     "output_type": "stream",
     "text": [
      " 20%|█▉        | 129/657 [01:04<04:35,  1.91it/s]"
     ]
    },
    {
     "name": "stdout",
     "output_type": "stream",
     "text": [
      "[INFO] 0242 already exists\n",
      "Processing: 87_1\n",
      "Processing: /home/kapis20/projects/PPGworkspace/papagei-foundation-model/5459299/PPG-BP Database/Data File/0_subject/87_1.txt\n",
      "Processing: 87_2\n",
      "Processing: /home/kapis20/projects/PPGworkspace/papagei-foundation-model/5459299/PPG-BP Database/Data File/0_subject/87_2.txt\n"
     ]
    },
    {
     "name": "stderr",
     "output_type": "stream",
     "text": [
      " 20%|█▉        | 130/657 [01:05<04:32,  1.93it/s]"
     ]
    },
    {
     "name": "stdout",
     "output_type": "stream",
     "text": [
      "Processing: 87_3\n",
      "Processing: /home/kapis20/projects/PPGworkspace/papagei-foundation-model/5459299/PPG-BP Database/Data File/0_subject/87_3.txt\n",
      "[INFO] 0087 already exists\n",
      "Processing: 115_1\n",
      "Processing: /home/kapis20/projects/PPGworkspace/papagei-foundation-model/5459299/PPG-BP Database/Data File/0_subject/115_1.txt\n",
      "Processing: 115_2\n",
      "Processing: /home/kapis20/projects/PPGworkspace/papagei-foundation-model/5459299/PPG-BP Database/Data File/0_subject/115_2.txt\n",
      "Processing: 115_3\n",
      "Processing: /home/kapis20/projects/PPGworkspace/papagei-foundation-model/5459299/PPG-BP Database/Data File/0_subject/115_3.txt\n"
     ]
    },
    {
     "name": "stderr",
     "output_type": "stream",
     "text": [
      " 20%|█▉        | 131/657 [01:05<04:54,  1.79it/s]"
     ]
    },
    {
     "name": "stdout",
     "output_type": "stream",
     "text": [
      "[INFO] 0115 already exists\n",
      "Processing: 48_1\n",
      "Processing: /home/kapis20/projects/PPGworkspace/papagei-foundation-model/5459299/PPG-BP Database/Data File/0_subject/48_1.txt\n",
      "Processing: 48_2\n",
      "Processing: /home/kapis20/projects/PPGworkspace/papagei-foundation-model/5459299/PPG-BP Database/Data File/0_subject/48_2.txt\n"
     ]
    },
    {
     "name": "stderr",
     "output_type": "stream",
     "text": [
      " 20%|██        | 132/657 [01:06<04:48,  1.82it/s]"
     ]
    },
    {
     "name": "stdout",
     "output_type": "stream",
     "text": [
      "Processing: 48_3\n",
      "Processing: /home/kapis20/projects/PPGworkspace/papagei-foundation-model/5459299/PPG-BP Database/Data File/0_subject/48_3.txt\n",
      "[INFO] 0048 already exists\n",
      "Processing: 152_1\n",
      "Processing: /home/kapis20/projects/PPGworkspace/papagei-foundation-model/5459299/PPG-BP Database/Data File/0_subject/152_1.txt\n",
      "Processing: 152_2\n",
      "Processing: /home/kapis20/projects/PPGworkspace/papagei-foundation-model/5459299/PPG-BP Database/Data File/0_subject/152_2.txt\n",
      "Processing: 152_3\n",
      "Processing: /home/kapis20/projects/PPGworkspace/papagei-foundation-model/5459299/PPG-BP Database/Data File/0_subject/152_3.txt\n"
     ]
    },
    {
     "name": "stderr",
     "output_type": "stream",
     "text": [
      " 20%|██        | 133/657 [01:06<04:38,  1.88it/s]"
     ]
    },
    {
     "name": "stdout",
     "output_type": "stream",
     "text": [
      "[INFO] 0152 already exists\n",
      "Processing: 31_1\n",
      "Processing: /home/kapis20/projects/PPGworkspace/papagei-foundation-model/5459299/PPG-BP Database/Data File/0_subject/31_1.txt\n",
      "Processing: 31_2\n",
      "Processing: /home/kapis20/projects/PPGworkspace/papagei-foundation-model/5459299/PPG-BP Database/Data File/0_subject/31_2.txt\n"
     ]
    },
    {
     "name": "stderr",
     "output_type": "stream",
     "text": [
      " 20%|██        | 134/657 [01:07<04:36,  1.89it/s]"
     ]
    },
    {
     "name": "stdout",
     "output_type": "stream",
     "text": [
      "Processing: 31_3\n",
      "Processing: /home/kapis20/projects/PPGworkspace/papagei-foundation-model/5459299/PPG-BP Database/Data File/0_subject/31_3.txt\n",
      "[INFO] 0031 already exists\n",
      "Processing: 216_1\n",
      "Processing: /home/kapis20/projects/PPGworkspace/papagei-foundation-model/5459299/PPG-BP Database/Data File/0_subject/216_1.txt\n",
      "Processing: 216_2\n",
      "Processing: /home/kapis20/projects/PPGworkspace/papagei-foundation-model/5459299/PPG-BP Database/Data File/0_subject/216_2.txt\n",
      "Processing: 216_3\n",
      "Processing: /home/kapis20/projects/PPGworkspace/papagei-foundation-model/5459299/PPG-BP Database/Data File/0_subject/216_3.txt\n"
     ]
    },
    {
     "name": "stderr",
     "output_type": "stream",
     "text": [
      " 21%|██        | 135/657 [01:07<04:39,  1.87it/s]"
     ]
    },
    {
     "name": "stdout",
     "output_type": "stream",
     "text": [
      "[INFO] 0216 already exists\n",
      "Processing: 135_1\n",
      "Processing: /home/kapis20/projects/PPGworkspace/papagei-foundation-model/5459299/PPG-BP Database/Data File/0_subject/135_1.txt\n",
      "Processing: 135_2\n",
      "Processing: /home/kapis20/projects/PPGworkspace/papagei-foundation-model/5459299/PPG-BP Database/Data File/0_subject/135_2.txt\n"
     ]
    },
    {
     "name": "stderr",
     "output_type": "stream",
     "text": [
      " 21%|██        | 136/657 [01:08<04:32,  1.91it/s]"
     ]
    },
    {
     "name": "stdout",
     "output_type": "stream",
     "text": [
      "Processing: 135_3\n",
      "Processing: /home/kapis20/projects/PPGworkspace/papagei-foundation-model/5459299/PPG-BP Database/Data File/0_subject/135_3.txt\n",
      "[INFO] 0135 already exists\n",
      "Processing: 419_1\n",
      "Processing: /home/kapis20/projects/PPGworkspace/papagei-foundation-model/5459299/PPG-BP Database/Data File/0_subject/419_1.txt\n",
      "Processing: 419_2\n",
      "Processing: /home/kapis20/projects/PPGworkspace/papagei-foundation-model/5459299/PPG-BP Database/Data File/0_subject/419_2.txt\n",
      "Processing: 419_3\n",
      "Processing: /home/kapis20/projects/PPGworkspace/papagei-foundation-model/5459299/PPG-BP Database/Data File/0_subject/419_3.txt\n"
     ]
    },
    {
     "name": "stderr",
     "output_type": "stream",
     "text": [
      " 21%|██        | 137/657 [01:08<04:32,  1.91it/s]"
     ]
    },
    {
     "name": "stdout",
     "output_type": "stream",
     "text": [
      "[INFO] 0419 already exists\n",
      "Processing: 108_1\n",
      "Processing: /home/kapis20/projects/PPGworkspace/papagei-foundation-model/5459299/PPG-BP Database/Data File/0_subject/108_1.txt\n",
      "Processing: 108_2\n",
      "Processing: /home/kapis20/projects/PPGworkspace/papagei-foundation-model/5459299/PPG-BP Database/Data File/0_subject/108_2.txt\n"
     ]
    },
    {
     "name": "stderr",
     "output_type": "stream",
     "text": [
      " 21%|██        | 138/657 [01:09<04:30,  1.92it/s]"
     ]
    },
    {
     "name": "stdout",
     "output_type": "stream",
     "text": [
      "Processing: 108_3\n",
      "Processing: /home/kapis20/projects/PPGworkspace/papagei-foundation-model/5459299/PPG-BP Database/Data File/0_subject/108_3.txt\n",
      "[INFO] 0108 already exists\n",
      "Processing: 124_1\n",
      "Processing: /home/kapis20/projects/PPGworkspace/papagei-foundation-model/5459299/PPG-BP Database/Data File/0_subject/124_1.txt\n",
      "Processing: 124_2\n",
      "Processing: /home/kapis20/projects/PPGworkspace/papagei-foundation-model/5459299/PPG-BP Database/Data File/0_subject/124_2.txt\n",
      "Processing: 124_3\n",
      "Processing: /home/kapis20/projects/PPGworkspace/papagei-foundation-model/5459299/PPG-BP Database/Data File/0_subject/124_3.txt\n"
     ]
    },
    {
     "name": "stderr",
     "output_type": "stream",
     "text": [
      " 21%|██        | 139/657 [01:09<04:35,  1.88it/s]"
     ]
    },
    {
     "name": "stdout",
     "output_type": "stream",
     "text": [
      "[INFO] 0124 already exists\n",
      "Processing: 235_1\n",
      "Processing: /home/kapis20/projects/PPGworkspace/papagei-foundation-model/5459299/PPG-BP Database/Data File/0_subject/235_1.txt\n",
      "Processing: 235_2\n",
      "Processing: /home/kapis20/projects/PPGworkspace/papagei-foundation-model/5459299/PPG-BP Database/Data File/0_subject/235_2.txt\n"
     ]
    },
    {
     "name": "stderr",
     "output_type": "stream",
     "text": [
      " 21%|██▏       | 140/657 [01:10<04:31,  1.90it/s]"
     ]
    },
    {
     "name": "stdout",
     "output_type": "stream",
     "text": [
      "Processing: 235_3\n",
      "Processing: /home/kapis20/projects/PPGworkspace/papagei-foundation-model/5459299/PPG-BP Database/Data File/0_subject/235_3.txt\n",
      "[INFO] 0235 already exists\n",
      "Processing: 137_1\n",
      "Processing: /home/kapis20/projects/PPGworkspace/papagei-foundation-model/5459299/PPG-BP Database/Data File/0_subject/137_1.txt\n",
      "Processing: 137_2\n",
      "Processing: /home/kapis20/projects/PPGworkspace/papagei-foundation-model/5459299/PPG-BP Database/Data File/0_subject/137_2.txt\n",
      "Processing: 137_3\n",
      "Processing: /home/kapis20/projects/PPGworkspace/papagei-foundation-model/5459299/PPG-BP Database/Data File/0_subject/137_3.txt\n"
     ]
    },
    {
     "name": "stderr",
     "output_type": "stream",
     "text": [
      " 21%|██▏       | 141/657 [01:11<04:50,  1.77it/s]"
     ]
    },
    {
     "name": "stdout",
     "output_type": "stream",
     "text": [
      "[INFO] 0137 already exists\n",
      "Processing: 93_1\n",
      "Processing: /home/kapis20/projects/PPGworkspace/papagei-foundation-model/5459299/PPG-BP Database/Data File/0_subject/93_1.txt\n",
      "Processing: 93_2\n",
      "Processing: /home/kapis20/projects/PPGworkspace/papagei-foundation-model/5459299/PPG-BP Database/Data File/0_subject/93_2.txt\n"
     ]
    },
    {
     "name": "stderr",
     "output_type": "stream",
     "text": [
      " 22%|██▏       | 142/657 [01:11<04:43,  1.81it/s]"
     ]
    },
    {
     "name": "stdout",
     "output_type": "stream",
     "text": [
      "Processing: 93_3\n",
      "Processing: /home/kapis20/projects/PPGworkspace/papagei-foundation-model/5459299/PPG-BP Database/Data File/0_subject/93_3.txt\n",
      "[INFO] 0093 already exists\n",
      "Processing: 10_1\n",
      "Processing: /home/kapis20/projects/PPGworkspace/papagei-foundation-model/5459299/PPG-BP Database/Data File/0_subject/10_1.txt\n",
      "Processing: 10_2\n",
      "Processing: /home/kapis20/projects/PPGworkspace/papagei-foundation-model/5459299/PPG-BP Database/Data File/0_subject/10_2.txt\n",
      "Processing: 10_3\n",
      "Processing: /home/kapis20/projects/PPGworkspace/papagei-foundation-model/5459299/PPG-BP Database/Data File/0_subject/10_3.txt\n"
     ]
    },
    {
     "name": "stderr",
     "output_type": "stream",
     "text": [
      " 22%|██▏       | 143/657 [01:12<04:40,  1.83it/s]"
     ]
    },
    {
     "name": "stdout",
     "output_type": "stream",
     "text": [
      "[INFO] 0010 already exists\n",
      "Processing: 126_1\n",
      "Processing: /home/kapis20/projects/PPGworkspace/papagei-foundation-model/5459299/PPG-BP Database/Data File/0_subject/126_1.txt\n",
      "Processing: 126_2\n",
      "Processing: /home/kapis20/projects/PPGworkspace/papagei-foundation-model/5459299/PPG-BP Database/Data File/0_subject/126_2.txt\n"
     ]
    },
    {
     "name": "stderr",
     "output_type": "stream",
     "text": [
      " 22%|██▏       | 144/657 [01:12<04:30,  1.90it/s]"
     ]
    },
    {
     "name": "stdout",
     "output_type": "stream",
     "text": [
      "Processing: 126_3\n",
      "Processing: /home/kapis20/projects/PPGworkspace/papagei-foundation-model/5459299/PPG-BP Database/Data File/0_subject/126_3.txt\n",
      "[INFO] 0126 already exists\n",
      "Processing: 6_1\n",
      "Processing: /home/kapis20/projects/PPGworkspace/papagei-foundation-model/5459299/PPG-BP Database/Data File/0_subject/6_1.txt\n",
      "Processing: 6_2\n",
      "Processing: /home/kapis20/projects/PPGworkspace/papagei-foundation-model/5459299/PPG-BP Database/Data File/0_subject/6_2.txt\n",
      "Processing: 6_3\n",
      "Processing: /home/kapis20/projects/PPGworkspace/papagei-foundation-model/5459299/PPG-BP Database/Data File/0_subject/6_3.txt\n"
     ]
    },
    {
     "name": "stderr",
     "output_type": "stream",
     "text": [
      " 22%|██▏       | 145/657 [01:13<04:32,  1.88it/s]"
     ]
    },
    {
     "name": "stdout",
     "output_type": "stream",
     "text": [
      "[INFO] 0006 already exists\n",
      "Processing: 3_1\n",
      "Processing: /home/kapis20/projects/PPGworkspace/papagei-foundation-model/5459299/PPG-BP Database/Data File/0_subject/3_1.txt\n",
      "Processing: 3_2\n",
      "Processing: /home/kapis20/projects/PPGworkspace/papagei-foundation-model/5459299/PPG-BP Database/Data File/0_subject/3_2.txt\n"
     ]
    },
    {
     "name": "stderr",
     "output_type": "stream",
     "text": [
      " 22%|██▏       | 146/657 [01:13<04:27,  1.91it/s]"
     ]
    },
    {
     "name": "stdout",
     "output_type": "stream",
     "text": [
      "Processing: 3_3\n",
      "Processing: /home/kapis20/projects/PPGworkspace/papagei-foundation-model/5459299/PPG-BP Database/Data File/0_subject/3_3.txt\n",
      "[INFO] 0003 already exists\n",
      "Processing: 411_1\n",
      "Processing: /home/kapis20/projects/PPGworkspace/papagei-foundation-model/5459299/PPG-BP Database/Data File/0_subject/411_1.txt\n",
      "Processing: 411_2\n",
      "Processing: /home/kapis20/projects/PPGworkspace/papagei-foundation-model/5459299/PPG-BP Database/Data File/0_subject/411_2.txt\n"
     ]
    },
    {
     "name": "stderr",
     "output_type": "stream",
     "text": [
      " 22%|██▏       | 147/657 [01:14<04:39,  1.82it/s]"
     ]
    },
    {
     "name": "stdout",
     "output_type": "stream",
     "text": [
      "Processing: 411_3\n",
      "Processing: /home/kapis20/projects/PPGworkspace/papagei-foundation-model/5459299/PPG-BP Database/Data File/0_subject/411_3.txt\n",
      "[INFO] 0411 already exists\n",
      "Processing: 208_1\n",
      "Processing: /home/kapis20/projects/PPGworkspace/papagei-foundation-model/5459299/PPG-BP Database/Data File/0_subject/208_1.txt\n",
      "Processing: 208_2\n",
      "Processing: /home/kapis20/projects/PPGworkspace/papagei-foundation-model/5459299/PPG-BP Database/Data File/0_subject/208_2.txt\n",
      "Processing: 208_3\n",
      "Processing: /home/kapis20/projects/PPGworkspace/papagei-foundation-model/5459299/PPG-BP Database/Data File/0_subject/208_3.txt\n"
     ]
    },
    {
     "name": "stderr",
     "output_type": "stream",
     "text": [
      " 23%|██▎       | 148/657 [01:14<04:51,  1.75it/s]"
     ]
    },
    {
     "name": "stdout",
     "output_type": "stream",
     "text": [
      "[INFO] 0208 already exists\n",
      "Processing: 217_1\n",
      "Processing: /home/kapis20/projects/PPGworkspace/papagei-foundation-model/5459299/PPG-BP Database/Data File/0_subject/217_1.txt\n",
      "Processing: 217_2\n",
      "Processing: /home/kapis20/projects/PPGworkspace/papagei-foundation-model/5459299/PPG-BP Database/Data File/0_subject/217_2.txt\n"
     ]
    },
    {
     "name": "stderr",
     "output_type": "stream",
     "text": [
      " 23%|██▎       | 149/657 [01:15<04:41,  1.80it/s]"
     ]
    },
    {
     "name": "stdout",
     "output_type": "stream",
     "text": [
      "Processing: 217_3\n",
      "Processing: /home/kapis20/projects/PPGworkspace/papagei-foundation-model/5459299/PPG-BP Database/Data File/0_subject/217_3.txt\n",
      "[INFO] 0217 already exists\n",
      "Processing: 191_1\n",
      "Processing: /home/kapis20/projects/PPGworkspace/papagei-foundation-model/5459299/PPG-BP Database/Data File/0_subject/191_1.txt\n",
      "Processing: 191_2\n",
      "Processing: /home/kapis20/projects/PPGworkspace/papagei-foundation-model/5459299/PPG-BP Database/Data File/0_subject/191_2.txt\n",
      "Processing: 191_3\n",
      "Processing: /home/kapis20/projects/PPGworkspace/papagei-foundation-model/5459299/PPG-BP Database/Data File/0_subject/191_3.txt\n"
     ]
    },
    {
     "name": "stderr",
     "output_type": "stream",
     "text": [
      " 23%|██▎       | 150/657 [01:15<04:34,  1.85it/s]"
     ]
    },
    {
     "name": "stdout",
     "output_type": "stream",
     "text": [
      "[INFO] 0191 already exists\n",
      "Processing: 150_1\n",
      "Processing: /home/kapis20/projects/PPGworkspace/papagei-foundation-model/5459299/PPG-BP Database/Data File/0_subject/150_1.txt\n",
      "Processing: 150_2\n",
      "Processing: /home/kapis20/projects/PPGworkspace/papagei-foundation-model/5459299/PPG-BP Database/Data File/0_subject/150_2.txt\n",
      "Processing: 150_3\n",
      "Processing: /home/kapis20/projects/PPGworkspace/papagei-foundation-model/5459299/PPG-BP Database/Data File/0_subject/150_3.txt\n"
     ]
    },
    {
     "name": "stderr",
     "output_type": "stream",
     "text": [
      " 23%|██▎       | 151/657 [01:16<04:53,  1.72it/s]"
     ]
    },
    {
     "name": "stdout",
     "output_type": "stream",
     "text": [
      "[INFO] 0150 already exists\n",
      "Processing: 11_1\n",
      "Processing: /home/kapis20/projects/PPGworkspace/papagei-foundation-model/5459299/PPG-BP Database/Data File/0_subject/11_1.txt\n",
      "Processing: 11_2\n",
      "Processing: /home/kapis20/projects/PPGworkspace/papagei-foundation-model/5459299/PPG-BP Database/Data File/0_subject/11_2.txt\n"
     ]
    },
    {
     "name": "stderr",
     "output_type": "stream",
     "text": [
      " 23%|██▎       | 152/657 [01:17<04:37,  1.82it/s]"
     ]
    },
    {
     "name": "stdout",
     "output_type": "stream",
     "text": [
      "Processing: 11_3\n",
      "Processing: /home/kapis20/projects/PPGworkspace/papagei-foundation-model/5459299/PPG-BP Database/Data File/0_subject/11_3.txt\n",
      "[INFO] 0011 already exists\n",
      "Processing: 214_1\n",
      "Processing: /home/kapis20/projects/PPGworkspace/papagei-foundation-model/5459299/PPG-BP Database/Data File/0_subject/214_1.txt\n",
      "Processing: 214_2\n",
      "Processing: /home/kapis20/projects/PPGworkspace/papagei-foundation-model/5459299/PPG-BP Database/Data File/0_subject/214_2.txt\n",
      "Processing: 214_3\n",
      "Processing: /home/kapis20/projects/PPGworkspace/papagei-foundation-model/5459299/PPG-BP Database/Data File/0_subject/214_3.txt\n"
     ]
    },
    {
     "name": "stderr",
     "output_type": "stream",
     "text": [
      " 23%|██▎       | 153/657 [01:17<04:35,  1.83it/s]"
     ]
    },
    {
     "name": "stdout",
     "output_type": "stream",
     "text": [
      "[INFO] 0214 already exists\n",
      "Processing: 137_1\n",
      "Processing: /home/kapis20/projects/PPGworkspace/papagei-foundation-model/5459299/PPG-BP Database/Data File/0_subject/137_1.txt\n",
      "Processing: 137_2\n",
      "Processing: /home/kapis20/projects/PPGworkspace/papagei-foundation-model/5459299/PPG-BP Database/Data File/0_subject/137_2.txt\n"
     ]
    },
    {
     "name": "stderr",
     "output_type": "stream",
     "text": [
      " 23%|██▎       | 154/657 [01:18<04:29,  1.87it/s]"
     ]
    },
    {
     "name": "stdout",
     "output_type": "stream",
     "text": [
      "Processing: 137_3\n",
      "Processing: /home/kapis20/projects/PPGworkspace/papagei-foundation-model/5459299/PPG-BP Database/Data File/0_subject/137_3.txt\n",
      "[INFO] 0137 already exists\n",
      "Processing: 165_1\n",
      "Processing: /home/kapis20/projects/PPGworkspace/papagei-foundation-model/5459299/PPG-BP Database/Data File/0_subject/165_1.txt\n",
      "Processing: 165_2\n",
      "Processing: /home/kapis20/projects/PPGworkspace/papagei-foundation-model/5459299/PPG-BP Database/Data File/0_subject/165_2.txt\n",
      "Processing: 165_3\n",
      "Processing: /home/kapis20/projects/PPGworkspace/papagei-foundation-model/5459299/PPG-BP Database/Data File/0_subject/165_3.txt\n"
     ]
    },
    {
     "name": "stderr",
     "output_type": "stream",
     "text": [
      " 24%|██▎       | 155/657 [01:18<04:28,  1.87it/s]"
     ]
    },
    {
     "name": "stdout",
     "output_type": "stream",
     "text": [
      "[INFO] 0165 already exists\n",
      "Processing: 148_1\n",
      "Processing: /home/kapis20/projects/PPGworkspace/papagei-foundation-model/5459299/PPG-BP Database/Data File/0_subject/148_1.txt\n",
      "Processing: 148_2\n",
      "Processing: /home/kapis20/projects/PPGworkspace/papagei-foundation-model/5459299/PPG-BP Database/Data File/0_subject/148_2.txt\n",
      "Processing: 148_3\n",
      "Processing: /home/kapis20/projects/PPGworkspace/papagei-foundation-model/5459299/PPG-BP Database/Data File/0_subject/148_3.txt\n",
      "[INFO] 0148 already exists\n",
      "Processing: 224_1\n",
      "Processing: /home/kapis20/projects/PPGworkspace/papagei-foundation-model/5459299/PPG-BP Database/Data File/0_subject/224_1.txt\n",
      "Processing: 224_2\n",
      "Processing: /home/kapis20/projects/PPGworkspace/papagei-foundation-model/5459299/PPG-BP Database/Data File/0_subject/224_2.txt\n",
      "Processing: 224_3\n",
      "Processing: /home/kapis20/projects/PPGworkspace/papagei-foundation-model/5459299/PPG-BP Database/Data File/0_subject/224_3.txt\n",
      "[INFO] 0224 already exists\n",
      "Processing: 153_1\n",
      "Processing: /home/kapis20/projects/PPGworkspace/papagei-foundation-model/5459299/PPG-BP Database/Data File/0_subject/153_1.txt\n",
      "Processing: 153_2\n",
      "Processing: /home/kapis20/projects/PPGworkspace/papagei-foundation-model/5459299/PPG-BP Database/Data File/0_subject/153_2.txt\n",
      "Processing: 153_3\n",
      "Processing: /home/kapis20/projects/PPGworkspace/papagei-foundation-model/5459299/PPG-BP Database/Data File/0_subject/153_3.txt\n",
      "[INFO] 0153 already exists\n",
      "Processing: 50_1\n",
      "Processing: /home/kapis20/projects/PPGworkspace/papagei-foundation-model/5459299/PPG-BP Database/Data File/0_subject/50_1.txt\n",
      "Processing: 50_2\n",
      "Processing: /home/kapis20/projects/PPGworkspace/papagei-foundation-model/5459299/PPG-BP Database/Data File/0_subject/50_2.txt\n"
     ]
    },
    {
     "name": "stderr",
     "output_type": "stream",
     "text": [
      " 24%|██▍       | 159/657 [01:19<02:20,  3.56it/s]"
     ]
    },
    {
     "name": "stdout",
     "output_type": "stream",
     "text": [
      "Processing: 50_3\n",
      "Processing: /home/kapis20/projects/PPGworkspace/papagei-foundation-model/5459299/PPG-BP Database/Data File/0_subject/50_3.txt\n",
      "[INFO] 0050 already exists\n",
      "Processing: 10_1\n",
      "Processing: /home/kapis20/projects/PPGworkspace/papagei-foundation-model/5459299/PPG-BP Database/Data File/0_subject/10_1.txt\n",
      "Processing: 10_2\n",
      "Processing: /home/kapis20/projects/PPGworkspace/papagei-foundation-model/5459299/PPG-BP Database/Data File/0_subject/10_2.txt\n",
      "Processing: 10_3\n",
      "Processing: /home/kapis20/projects/PPGworkspace/papagei-foundation-model/5459299/PPG-BP Database/Data File/0_subject/10_3.txt\n"
     ]
    },
    {
     "name": "stderr",
     "output_type": "stream",
     "text": [
      " 24%|██▍       | 160/657 [01:19<02:41,  3.07it/s]"
     ]
    },
    {
     "name": "stdout",
     "output_type": "stream",
     "text": [
      "[INFO] 0010 already exists\n",
      "Processing: 140_1\n",
      "Processing: /home/kapis20/projects/PPGworkspace/papagei-foundation-model/5459299/PPG-BP Database/Data File/0_subject/140_1.txt\n",
      "Processing: 140_2\n",
      "Processing: /home/kapis20/projects/PPGworkspace/papagei-foundation-model/5459299/PPG-BP Database/Data File/0_subject/140_2.txt\n"
     ]
    },
    {
     "name": "stderr",
     "output_type": "stream",
     "text": [
      " 25%|██▍       | 161/657 [01:20<03:03,  2.70it/s]"
     ]
    },
    {
     "name": "stdout",
     "output_type": "stream",
     "text": [
      "Processing: 140_3\n",
      "Processing: /home/kapis20/projects/PPGworkspace/papagei-foundation-model/5459299/PPG-BP Database/Data File/0_subject/140_3.txt\n",
      "[INFO] 0140 already exists\n",
      "Processing: 406_1\n",
      "Processing: /home/kapis20/projects/PPGworkspace/papagei-foundation-model/5459299/PPG-BP Database/Data File/0_subject/406_1.txt\n",
      "Processing: 406_2\n",
      "Processing: /home/kapis20/projects/PPGworkspace/papagei-foundation-model/5459299/PPG-BP Database/Data File/0_subject/406_2.txt\n",
      "Processing: 406_3\n",
      "Processing: /home/kapis20/projects/PPGworkspace/papagei-foundation-model/5459299/PPG-BP Database/Data File/0_subject/406_3.txt\n"
     ]
    },
    {
     "name": "stderr",
     "output_type": "stream",
     "text": [
      " 25%|██▍       | 162/657 [01:20<03:15,  2.53it/s]"
     ]
    },
    {
     "name": "stdout",
     "output_type": "stream",
     "text": [
      "[INFO] 0406 already exists\n",
      "Processing: 25_1\n",
      "Processing: /home/kapis20/projects/PPGworkspace/papagei-foundation-model/5459299/PPG-BP Database/Data File/0_subject/25_1.txt\n",
      "Processing: 25_2\n",
      "Processing: /home/kapis20/projects/PPGworkspace/papagei-foundation-model/5459299/PPG-BP Database/Data File/0_subject/25_2.txt\n"
     ]
    },
    {
     "name": "stderr",
     "output_type": "stream",
     "text": [
      " 25%|██▍       | 163/657 [01:21<03:42,  2.22it/s]"
     ]
    },
    {
     "name": "stdout",
     "output_type": "stream",
     "text": [
      "Processing: 25_3\n",
      "Processing: /home/kapis20/projects/PPGworkspace/papagei-foundation-model/5459299/PPG-BP Database/Data File/0_subject/25_3.txt\n",
      "[INFO] 0025 already exists\n",
      "Processing: 183_1\n",
      "Processing: /home/kapis20/projects/PPGworkspace/papagei-foundation-model/5459299/PPG-BP Database/Data File/0_subject/183_1.txt\n",
      "Processing: 183_2\n",
      "Processing: /home/kapis20/projects/PPGworkspace/papagei-foundation-model/5459299/PPG-BP Database/Data File/0_subject/183_2.txt\n",
      "Processing: 183_3\n",
      "Processing: /home/kapis20/projects/PPGworkspace/papagei-foundation-model/5459299/PPG-BP Database/Data File/0_subject/183_3.txt\n"
     ]
    },
    {
     "name": "stderr",
     "output_type": "stream",
     "text": [
      " 25%|██▍       | 164/657 [01:21<03:51,  2.13it/s]"
     ]
    },
    {
     "name": "stdout",
     "output_type": "stream",
     "text": [
      "[INFO] 0183 already exists\n",
      "Processing: 62_1\n",
      "Processing: /home/kapis20/projects/PPGworkspace/papagei-foundation-model/5459299/PPG-BP Database/Data File/0_subject/62_1.txt\n",
      "Processing: 62_2\n",
      "Processing: /home/kapis20/projects/PPGworkspace/papagei-foundation-model/5459299/PPG-BP Database/Data File/0_subject/62_2.txt\n"
     ]
    },
    {
     "name": "stderr",
     "output_type": "stream",
     "text": [
      " 25%|██▌       | 165/657 [01:22<04:25,  1.86it/s]"
     ]
    },
    {
     "name": "stdout",
     "output_type": "stream",
     "text": [
      "Processing: 62_3\n",
      "Processing: /home/kapis20/projects/PPGworkspace/papagei-foundation-model/5459299/PPG-BP Database/Data File/0_subject/62_3.txt\n",
      "[INFO] 0062 already exists\n",
      "Processing: 170_1\n",
      "Processing: /home/kapis20/projects/PPGworkspace/papagei-foundation-model/5459299/PPG-BP Database/Data File/0_subject/170_1.txt\n",
      "Processing: 170_2\n",
      "Processing: /home/kapis20/projects/PPGworkspace/papagei-foundation-model/5459299/PPG-BP Database/Data File/0_subject/170_2.txt\n",
      "Processing: 170_3\n",
      "Processing: /home/kapis20/projects/PPGworkspace/papagei-foundation-model/5459299/PPG-BP Database/Data File/0_subject/170_3.txt\n"
     ]
    },
    {
     "name": "stderr",
     "output_type": "stream",
     "text": [
      " 25%|██▌       | 166/657 [01:23<04:19,  1.89it/s]"
     ]
    },
    {
     "name": "stdout",
     "output_type": "stream",
     "text": [
      "[INFO] 0170 already exists\n",
      "Processing: 146_1\n",
      "Processing: /home/kapis20/projects/PPGworkspace/papagei-foundation-model/5459299/PPG-BP Database/Data File/0_subject/146_1.txt\n",
      "Processing: 146_2\n",
      "Processing: /home/kapis20/projects/PPGworkspace/papagei-foundation-model/5459299/PPG-BP Database/Data File/0_subject/146_2.txt\n"
     ]
    },
    {
     "name": "stderr",
     "output_type": "stream",
     "text": [
      " 25%|██▌       | 167/657 [01:23<04:17,  1.90it/s]"
     ]
    },
    {
     "name": "stdout",
     "output_type": "stream",
     "text": [
      "Processing: 146_3\n",
      "Processing: /home/kapis20/projects/PPGworkspace/papagei-foundation-model/5459299/PPG-BP Database/Data File/0_subject/146_3.txt\n",
      "[INFO] 0146 already exists\n",
      "Processing: 145_1\n",
      "Processing: /home/kapis20/projects/PPGworkspace/papagei-foundation-model/5459299/PPG-BP Database/Data File/0_subject/145_1.txt\n",
      "Processing: 145_2\n",
      "Processing: /home/kapis20/projects/PPGworkspace/papagei-foundation-model/5459299/PPG-BP Database/Data File/0_subject/145_2.txt\n",
      "Processing: 145_3\n",
      "Processing: /home/kapis20/projects/PPGworkspace/papagei-foundation-model/5459299/PPG-BP Database/Data File/0_subject/145_3.txt\n"
     ]
    },
    {
     "name": "stderr",
     "output_type": "stream",
     "text": [
      " 26%|██▌       | 168/657 [01:24<04:16,  1.91it/s]"
     ]
    },
    {
     "name": "stdout",
     "output_type": "stream",
     "text": [
      "[INFO] 0145 already exists\n",
      "Processing: 112_1\n",
      "Processing: /home/kapis20/projects/PPGworkspace/papagei-foundation-model/5459299/PPG-BP Database/Data File/0_subject/112_1.txt\n",
      "Processing: 112_2\n",
      "Processing: /home/kapis20/projects/PPGworkspace/papagei-foundation-model/5459299/PPG-BP Database/Data File/0_subject/112_2.txt\n"
     ]
    },
    {
     "name": "stderr",
     "output_type": "stream",
     "text": [
      " 26%|██▌       | 169/657 [01:24<04:15,  1.91it/s]"
     ]
    },
    {
     "name": "stdout",
     "output_type": "stream",
     "text": [
      "Processing: 112_3\n",
      "Processing: /home/kapis20/projects/PPGworkspace/papagei-foundation-model/5459299/PPG-BP Database/Data File/0_subject/112_3.txt\n",
      "[INFO] 0112 already exists\n",
      "Processing: 179_1\n",
      "Processing: /home/kapis20/projects/PPGworkspace/papagei-foundation-model/5459299/PPG-BP Database/Data File/0_subject/179_1.txt\n",
      "Processing: 179_2\n",
      "Processing: /home/kapis20/projects/PPGworkspace/papagei-foundation-model/5459299/PPG-BP Database/Data File/0_subject/179_2.txt\n",
      "Processing: 179_3\n",
      "Processing: /home/kapis20/projects/PPGworkspace/papagei-foundation-model/5459299/PPG-BP Database/Data File/0_subject/179_3.txt\n"
     ]
    },
    {
     "name": "stderr",
     "output_type": "stream",
     "text": [
      " 26%|██▌       | 170/657 [01:25<04:18,  1.88it/s]"
     ]
    },
    {
     "name": "stdout",
     "output_type": "stream",
     "text": [
      "[INFO] 0179 already exists\n",
      "Processing: 122_1\n",
      "Processing: /home/kapis20/projects/PPGworkspace/papagei-foundation-model/5459299/PPG-BP Database/Data File/0_subject/122_1.txt\n",
      "Processing: 122_2\n",
      "Processing: /home/kapis20/projects/PPGworkspace/papagei-foundation-model/5459299/PPG-BP Database/Data File/0_subject/122_2.txt\n"
     ]
    },
    {
     "name": "stderr",
     "output_type": "stream",
     "text": [
      " 26%|██▌       | 171/657 [01:25<04:12,  1.92it/s]"
     ]
    },
    {
     "name": "stdout",
     "output_type": "stream",
     "text": [
      "Processing: 122_3\n",
      "Processing: /home/kapis20/projects/PPGworkspace/papagei-foundation-model/5459299/PPG-BP Database/Data File/0_subject/122_3.txt\n",
      "[INFO] 0122 already exists\n",
      "Processing: 215_1\n",
      "Processing: /home/kapis20/projects/PPGworkspace/papagei-foundation-model/5459299/PPG-BP Database/Data File/0_subject/215_1.txt\n",
      "Processing: 215_2\n",
      "Processing: /home/kapis20/projects/PPGworkspace/papagei-foundation-model/5459299/PPG-BP Database/Data File/0_subject/215_2.txt\n",
      "Processing: 215_3\n",
      "Processing: /home/kapis20/projects/PPGworkspace/papagei-foundation-model/5459299/PPG-BP Database/Data File/0_subject/215_3.txt\n"
     ]
    },
    {
     "name": "stderr",
     "output_type": "stream",
     "text": [
      " 26%|██▌       | 172/657 [01:26<04:26,  1.82it/s]"
     ]
    },
    {
     "name": "stdout",
     "output_type": "stream",
     "text": [
      "[INFO] 0215 already exists\n",
      "Processing: 252_1\n",
      "Processing: /home/kapis20/projects/PPGworkspace/papagei-foundation-model/5459299/PPG-BP Database/Data File/0_subject/252_1.txt\n",
      "Processing: 252_2\n",
      "Processing: /home/kapis20/projects/PPGworkspace/papagei-foundation-model/5459299/PPG-BP Database/Data File/0_subject/252_2.txt\n"
     ]
    },
    {
     "name": "stderr",
     "output_type": "stream",
     "text": [
      " 26%|██▋       | 173/657 [01:26<04:21,  1.85it/s]"
     ]
    },
    {
     "name": "stdout",
     "output_type": "stream",
     "text": [
      "Processing: 252_3\n",
      "Processing: /home/kapis20/projects/PPGworkspace/papagei-foundation-model/5459299/PPG-BP Database/Data File/0_subject/252_3.txt\n",
      "[INFO] 0252 already exists\n",
      "Processing: 162_1\n",
      "Processing: /home/kapis20/projects/PPGworkspace/papagei-foundation-model/5459299/PPG-BP Database/Data File/0_subject/162_1.txt\n",
      "Processing: 162_2\n",
      "Processing: /home/kapis20/projects/PPGworkspace/papagei-foundation-model/5459299/PPG-BP Database/Data File/0_subject/162_2.txt\n",
      "Processing: 162_3\n",
      "Processing: /home/kapis20/projects/PPGworkspace/papagei-foundation-model/5459299/PPG-BP Database/Data File/0_subject/162_3.txt\n"
     ]
    },
    {
     "name": "stderr",
     "output_type": "stream",
     "text": [
      " 26%|██▋       | 174/657 [01:27<04:11,  1.92it/s]"
     ]
    },
    {
     "name": "stdout",
     "output_type": "stream",
     "text": [
      "[INFO] 0162 already exists\n",
      "Processing: 104_1\n",
      "Processing: /home/kapis20/projects/PPGworkspace/papagei-foundation-model/5459299/PPG-BP Database/Data File/0_subject/104_1.txt\n",
      "Processing: 104_2\n",
      "Processing: /home/kapis20/projects/PPGworkspace/papagei-foundation-model/5459299/PPG-BP Database/Data File/0_subject/104_2.txt\n"
     ]
    },
    {
     "name": "stderr",
     "output_type": "stream",
     "text": [
      " 27%|██▋       | 175/657 [01:27<04:15,  1.88it/s]"
     ]
    },
    {
     "name": "stdout",
     "output_type": "stream",
     "text": [
      "Processing: 104_3\n",
      "Processing: /home/kapis20/projects/PPGworkspace/papagei-foundation-model/5459299/PPG-BP Database/Data File/0_subject/104_3.txt\n",
      "[INFO] 0104 already exists\n",
      "Processing: 122_1\n",
      "Processing: /home/kapis20/projects/PPGworkspace/papagei-foundation-model/5459299/PPG-BP Database/Data File/0_subject/122_1.txt\n",
      "Processing: 122_2\n",
      "Processing: /home/kapis20/projects/PPGworkspace/papagei-foundation-model/5459299/PPG-BP Database/Data File/0_subject/122_2.txt\n",
      "Processing: 122_3\n",
      "Processing: /home/kapis20/projects/PPGworkspace/papagei-foundation-model/5459299/PPG-BP Database/Data File/0_subject/122_3.txt\n"
     ]
    },
    {
     "name": "stderr",
     "output_type": "stream",
     "text": [
      " 27%|██▋       | 176/657 [01:28<04:11,  1.91it/s]"
     ]
    },
    {
     "name": "stdout",
     "output_type": "stream",
     "text": [
      "[INFO] 0122 already exists\n",
      "Processing: 17_1\n",
      "Processing: /home/kapis20/projects/PPGworkspace/papagei-foundation-model/5459299/PPG-BP Database/Data File/0_subject/17_1.txt\n",
      "Processing: 17_2\n",
      "Processing: /home/kapis20/projects/PPGworkspace/papagei-foundation-model/5459299/PPG-BP Database/Data File/0_subject/17_2.txt\n"
     ]
    },
    {
     "name": "stderr",
     "output_type": "stream",
     "text": [
      " 27%|██▋       | 177/657 [01:28<04:10,  1.92it/s]"
     ]
    },
    {
     "name": "stdout",
     "output_type": "stream",
     "text": [
      "Processing: 17_3\n",
      "Processing: /home/kapis20/projects/PPGworkspace/papagei-foundation-model/5459299/PPG-BP Database/Data File/0_subject/17_3.txt\n",
      "[INFO] 0017 already exists\n",
      "Processing: 250_1\n",
      "Processing: /home/kapis20/projects/PPGworkspace/papagei-foundation-model/5459299/PPG-BP Database/Data File/0_subject/250_1.txt\n",
      "Processing: 250_2\n",
      "Processing: /home/kapis20/projects/PPGworkspace/papagei-foundation-model/5459299/PPG-BP Database/Data File/0_subject/250_2.txt\n"
     ]
    },
    {
     "name": "stderr",
     "output_type": "stream",
     "text": [
      " 27%|██▋       | 178/657 [01:29<04:34,  1.75it/s]"
     ]
    },
    {
     "name": "stdout",
     "output_type": "stream",
     "text": [
      "Processing: 250_3\n",
      "Processing: /home/kapis20/projects/PPGworkspace/papagei-foundation-model/5459299/PPG-BP Database/Data File/0_subject/250_3.txt\n",
      "[INFO] 0250 already exists\n",
      "Processing: 411_1\n",
      "Processing: /home/kapis20/projects/PPGworkspace/papagei-foundation-model/5459299/PPG-BP Database/Data File/0_subject/411_1.txt\n",
      "Processing: 411_2\n",
      "Processing: /home/kapis20/projects/PPGworkspace/papagei-foundation-model/5459299/PPG-BP Database/Data File/0_subject/411_2.txt\n",
      "Processing: 411_3\n",
      "Processing: /home/kapis20/projects/PPGworkspace/papagei-foundation-model/5459299/PPG-BP Database/Data File/0_subject/411_3.txt\n"
     ]
    },
    {
     "name": "stderr",
     "output_type": "stream",
     "text": [
      " 27%|██▋       | 179/657 [01:30<04:21,  1.83it/s]"
     ]
    },
    {
     "name": "stdout",
     "output_type": "stream",
     "text": [
      "[INFO] 0411 already exists\n",
      "Processing: 16_1\n",
      "Processing: /home/kapis20/projects/PPGworkspace/papagei-foundation-model/5459299/PPG-BP Database/Data File/0_subject/16_1.txt\n",
      "Processing: 16_2\n",
      "Processing: /home/kapis20/projects/PPGworkspace/papagei-foundation-model/5459299/PPG-BP Database/Data File/0_subject/16_2.txt\n"
     ]
    },
    {
     "name": "stderr",
     "output_type": "stream",
     "text": [
      " 27%|██▋       | 180/657 [01:30<04:12,  1.89it/s]"
     ]
    },
    {
     "name": "stdout",
     "output_type": "stream",
     "text": [
      "Processing: 16_3\n",
      "Processing: /home/kapis20/projects/PPGworkspace/papagei-foundation-model/5459299/PPG-BP Database/Data File/0_subject/16_3.txt\n",
      "[INFO] 0016 already exists\n",
      "Processing: 186_1\n",
      "Processing: /home/kapis20/projects/PPGworkspace/papagei-foundation-model/5459299/PPG-BP Database/Data File/0_subject/186_1.txt\n",
      "Processing: 186_2\n",
      "Processing: /home/kapis20/projects/PPGworkspace/papagei-foundation-model/5459299/PPG-BP Database/Data File/0_subject/186_2.txt\n",
      "Processing: 186_3\n",
      "Processing: /home/kapis20/projects/PPGworkspace/papagei-foundation-model/5459299/PPG-BP Database/Data File/0_subject/186_3.txt\n"
     ]
    },
    {
     "name": "stderr",
     "output_type": "stream",
     "text": [
      " 28%|██▊       | 181/657 [01:31<04:24,  1.80it/s]"
     ]
    },
    {
     "name": "stdout",
     "output_type": "stream",
     "text": [
      "[INFO] 0186 already exists\n",
      "Processing: 148_1\n",
      "Processing: /home/kapis20/projects/PPGworkspace/papagei-foundation-model/5459299/PPG-BP Database/Data File/0_subject/148_1.txt\n",
      "Processing: 148_2\n",
      "Processing: /home/kapis20/projects/PPGworkspace/papagei-foundation-model/5459299/PPG-BP Database/Data File/0_subject/148_2.txt\n"
     ]
    },
    {
     "name": "stderr",
     "output_type": "stream",
     "text": [
      " 28%|██▊       | 182/657 [01:31<04:15,  1.86it/s]"
     ]
    },
    {
     "name": "stdout",
     "output_type": "stream",
     "text": [
      "Processing: 148_3\n",
      "Processing: /home/kapis20/projects/PPGworkspace/papagei-foundation-model/5459299/PPG-BP Database/Data File/0_subject/148_3.txt\n",
      "[INFO] 0148 already exists\n",
      "Processing: 45_1\n",
      "Processing: /home/kapis20/projects/PPGworkspace/papagei-foundation-model/5459299/PPG-BP Database/Data File/0_subject/45_1.txt\n",
      "Processing: 45_2\n",
      "Processing: /home/kapis20/projects/PPGworkspace/papagei-foundation-model/5459299/PPG-BP Database/Data File/0_subject/45_2.txt\n",
      "Processing: 45_3\n",
      "Processing: /home/kapis20/projects/PPGworkspace/papagei-foundation-model/5459299/PPG-BP Database/Data File/0_subject/45_3.txt\n"
     ]
    },
    {
     "name": "stderr",
     "output_type": "stream",
     "text": [
      " 28%|██▊       | 183/657 [01:32<04:11,  1.89it/s]"
     ]
    },
    {
     "name": "stdout",
     "output_type": "stream",
     "text": [
      "[INFO] 0045 already exists\n",
      "Processing: 161_1\n",
      "Processing: /home/kapis20/projects/PPGworkspace/papagei-foundation-model/5459299/PPG-BP Database/Data File/0_subject/161_1.txt\n",
      "Processing: 161_2\n",
      "Processing: /home/kapis20/projects/PPGworkspace/papagei-foundation-model/5459299/PPG-BP Database/Data File/0_subject/161_2.txt\n"
     ]
    },
    {
     "name": "stderr",
     "output_type": "stream",
     "text": [
      " 28%|██▊       | 184/657 [01:32<04:08,  1.90it/s]"
     ]
    },
    {
     "name": "stdout",
     "output_type": "stream",
     "text": [
      "Processing: 161_3\n",
      "Processing: /home/kapis20/projects/PPGworkspace/papagei-foundation-model/5459299/PPG-BP Database/Data File/0_subject/161_3.txt\n",
      "[INFO] 0161 already exists\n",
      "Processing: 226_1\n",
      "Processing: /home/kapis20/projects/PPGworkspace/papagei-foundation-model/5459299/PPG-BP Database/Data File/0_subject/226_1.txt\n",
      "Processing: 226_2\n",
      "Processing: /home/kapis20/projects/PPGworkspace/papagei-foundation-model/5459299/PPG-BP Database/Data File/0_subject/226_2.txt\n",
      "Processing: 226_3\n",
      "Processing: /home/kapis20/projects/PPGworkspace/papagei-foundation-model/5459299/PPG-BP Database/Data File/0_subject/226_3.txt\n"
     ]
    },
    {
     "name": "stderr",
     "output_type": "stream",
     "text": [
      " 28%|██▊       | 185/657 [01:33<04:12,  1.87it/s]"
     ]
    },
    {
     "name": "stdout",
     "output_type": "stream",
     "text": [
      "[INFO] 0226 already exists\n",
      "Processing: 250_1\n",
      "Processing: /home/kapis20/projects/PPGworkspace/papagei-foundation-model/5459299/PPG-BP Database/Data File/0_subject/250_1.txt\n",
      "Processing: 250_2\n",
      "Processing: /home/kapis20/projects/PPGworkspace/papagei-foundation-model/5459299/PPG-BP Database/Data File/0_subject/250_2.txt\n"
     ]
    },
    {
     "name": "stderr",
     "output_type": "stream",
     "text": [
      " 28%|██▊       | 186/657 [01:33<04:04,  1.92it/s]"
     ]
    },
    {
     "name": "stdout",
     "output_type": "stream",
     "text": [
      "Processing: 250_3\n",
      "Processing: /home/kapis20/projects/PPGworkspace/papagei-foundation-model/5459299/PPG-BP Database/Data File/0_subject/250_3.txt\n",
      "[INFO] 0250 already exists\n",
      "Processing: 93_1\n",
      "Processing: /home/kapis20/projects/PPGworkspace/papagei-foundation-model/5459299/PPG-BP Database/Data File/0_subject/93_1.txt\n",
      "Processing: 93_2\n",
      "Processing: /home/kapis20/projects/PPGworkspace/papagei-foundation-model/5459299/PPG-BP Database/Data File/0_subject/93_2.txt\n",
      "Processing: 93_3\n",
      "Processing: /home/kapis20/projects/PPGworkspace/papagei-foundation-model/5459299/PPG-BP Database/Data File/0_subject/93_3.txt\n"
     ]
    },
    {
     "name": "stderr",
     "output_type": "stream",
     "text": [
      " 28%|██▊       | 187/657 [01:34<04:09,  1.88it/s]"
     ]
    },
    {
     "name": "stdout",
     "output_type": "stream",
     "text": [
      "[INFO] 0093 already exists\n",
      "Processing: 256_1\n",
      "Processing: /home/kapis20/projects/PPGworkspace/papagei-foundation-model/5459299/PPG-BP Database/Data File/0_subject/256_1.txt\n",
      "Processing: 256_2\n",
      "Processing: /home/kapis20/projects/PPGworkspace/papagei-foundation-model/5459299/PPG-BP Database/Data File/0_subject/256_2.txt\n"
     ]
    },
    {
     "name": "stderr",
     "output_type": "stream",
     "text": [
      " 29%|██▊       | 188/657 [01:34<04:01,  1.94it/s]"
     ]
    },
    {
     "name": "stdout",
     "output_type": "stream",
     "text": [
      "Processing: 256_3\n",
      "Processing: /home/kapis20/projects/PPGworkspace/papagei-foundation-model/5459299/PPG-BP Database/Data File/0_subject/256_3.txt\n",
      "[INFO] 0256 already exists\n",
      "Processing: 130_1\n",
      "Processing: /home/kapis20/projects/PPGworkspace/papagei-foundation-model/5459299/PPG-BP Database/Data File/0_subject/130_1.txt\n",
      "Processing: 130_2\n",
      "Processing: /home/kapis20/projects/PPGworkspace/papagei-foundation-model/5459299/PPG-BP Database/Data File/0_subject/130_2.txt\n",
      "Processing: 130_3\n",
      "Processing: /home/kapis20/projects/PPGworkspace/papagei-foundation-model/5459299/PPG-BP Database/Data File/0_subject/130_3.txt\n"
     ]
    },
    {
     "name": "stderr",
     "output_type": "stream",
     "text": [
      " 29%|██▉       | 189/657 [01:35<04:20,  1.79it/s]"
     ]
    },
    {
     "name": "stdout",
     "output_type": "stream",
     "text": [
      "[INFO] 0130 already exists\n",
      "Processing: 219_1\n",
      "Processing: /home/kapis20/projects/PPGworkspace/papagei-foundation-model/5459299/PPG-BP Database/Data File/0_subject/219_1.txt\n",
      "Processing: 219_2\n",
      "Processing: /home/kapis20/projects/PPGworkspace/papagei-foundation-model/5459299/PPG-BP Database/Data File/0_subject/219_2.txt\n"
     ]
    },
    {
     "name": "stderr",
     "output_type": "stream",
     "text": [
      " 29%|██▉       | 190/657 [01:35<04:13,  1.84it/s]"
     ]
    },
    {
     "name": "stdout",
     "output_type": "stream",
     "text": [
      "Processing: 219_3\n",
      "Processing: /home/kapis20/projects/PPGworkspace/papagei-foundation-model/5459299/PPG-BP Database/Data File/0_subject/219_3.txt\n",
      "[INFO] 0219 already exists\n",
      "Processing: 403_1\n",
      "Processing: /home/kapis20/projects/PPGworkspace/papagei-foundation-model/5459299/PPG-BP Database/Data File/0_subject/403_1.txt\n",
      "Processing: 403_2\n",
      "Processing: /home/kapis20/projects/PPGworkspace/papagei-foundation-model/5459299/PPG-BP Database/Data File/0_subject/403_2.txt\n",
      "Processing: 403_3\n",
      "Processing: /home/kapis20/projects/PPGworkspace/papagei-foundation-model/5459299/PPG-BP Database/Data File/0_subject/403_3.txt\n"
     ]
    },
    {
     "name": "stderr",
     "output_type": "stream",
     "text": [
      " 29%|██▉       | 191/657 [01:36<04:08,  1.88it/s]"
     ]
    },
    {
     "name": "stdout",
     "output_type": "stream",
     "text": [
      "[INFO] 0403 already exists\n",
      "Processing: 413_1\n",
      "Processing: /home/kapis20/projects/PPGworkspace/papagei-foundation-model/5459299/PPG-BP Database/Data File/0_subject/413_1.txt\n",
      "Processing: 413_2\n",
      "Processing: /home/kapis20/projects/PPGworkspace/papagei-foundation-model/5459299/PPG-BP Database/Data File/0_subject/413_2.txt\n"
     ]
    },
    {
     "name": "stderr",
     "output_type": "stream",
     "text": [
      " 29%|██▉       | 192/657 [01:36<04:00,  1.94it/s]"
     ]
    },
    {
     "name": "stdout",
     "output_type": "stream",
     "text": [
      "Processing: 413_3\n",
      "Processing: /home/kapis20/projects/PPGworkspace/papagei-foundation-model/5459299/PPG-BP Database/Data File/0_subject/413_3.txt\n",
      "[INFO] 0413 already exists\n",
      "Processing: 212_1\n",
      "Processing: /home/kapis20/projects/PPGworkspace/papagei-foundation-model/5459299/PPG-BP Database/Data File/0_subject/212_1.txt\n",
      "Processing: 212_2\n",
      "Processing: /home/kapis20/projects/PPGworkspace/papagei-foundation-model/5459299/PPG-BP Database/Data File/0_subject/212_2.txt\n",
      "Processing: 212_3\n",
      "Processing: /home/kapis20/projects/PPGworkspace/papagei-foundation-model/5459299/PPG-BP Database/Data File/0_subject/212_3.txt\n"
     ]
    },
    {
     "name": "stderr",
     "output_type": "stream",
     "text": [
      " 29%|██▉       | 193/657 [01:37<04:06,  1.88it/s]"
     ]
    },
    {
     "name": "stdout",
     "output_type": "stream",
     "text": [
      "[INFO] 0212 already exists\n",
      "Processing: 145_1\n",
      "Processing: /home/kapis20/projects/PPGworkspace/papagei-foundation-model/5459299/PPG-BP Database/Data File/0_subject/145_1.txt\n",
      "Processing: 145_2\n",
      "Processing: /home/kapis20/projects/PPGworkspace/papagei-foundation-model/5459299/PPG-BP Database/Data File/0_subject/145_2.txt\n"
     ]
    },
    {
     "name": "stderr",
     "output_type": "stream",
     "text": [
      " 30%|██▉       | 194/657 [01:37<04:02,  1.91it/s]"
     ]
    },
    {
     "name": "stdout",
     "output_type": "stream",
     "text": [
      "Processing: 145_3\n",
      "Processing: /home/kapis20/projects/PPGworkspace/papagei-foundation-model/5459299/PPG-BP Database/Data File/0_subject/145_3.txt\n",
      "[INFO] 0145 already exists\n",
      "Processing: 241_1\n",
      "Processing: /home/kapis20/projects/PPGworkspace/papagei-foundation-model/5459299/PPG-BP Database/Data File/0_subject/241_1.txt\n",
      "Processing: 241_2\n",
      "Processing: /home/kapis20/projects/PPGworkspace/papagei-foundation-model/5459299/PPG-BP Database/Data File/0_subject/241_2.txt\n",
      "Processing: 241_3\n",
      "Processing: /home/kapis20/projects/PPGworkspace/papagei-foundation-model/5459299/PPG-BP Database/Data File/0_subject/241_3.txt\n"
     ]
    },
    {
     "name": "stderr",
     "output_type": "stream",
     "text": [
      " 30%|██▉       | 195/657 [01:38<03:58,  1.93it/s]"
     ]
    },
    {
     "name": "stdout",
     "output_type": "stream",
     "text": [
      "[INFO] 0241 already exists\n",
      "Processing: 171_1\n",
      "Processing: /home/kapis20/projects/PPGworkspace/papagei-foundation-model/5459299/PPG-BP Database/Data File/0_subject/171_1.txt\n",
      "Processing: 171_2\n",
      "Processing: /home/kapis20/projects/PPGworkspace/papagei-foundation-model/5459299/PPG-BP Database/Data File/0_subject/171_2.txt\n"
     ]
    },
    {
     "name": "stderr",
     "output_type": "stream",
     "text": [
      " 30%|██▉       | 196/657 [01:38<03:55,  1.96it/s]"
     ]
    },
    {
     "name": "stdout",
     "output_type": "stream",
     "text": [
      "Processing: 171_3\n",
      "Processing: /home/kapis20/projects/PPGworkspace/papagei-foundation-model/5459299/PPG-BP Database/Data File/0_subject/171_3.txt\n",
      "[INFO] 0171 already exists\n",
      "Processing: 224_1\n",
      "Processing: /home/kapis20/projects/PPGworkspace/papagei-foundation-model/5459299/PPG-BP Database/Data File/0_subject/224_1.txt\n",
      "Processing: 224_2\n",
      "Processing: /home/kapis20/projects/PPGworkspace/papagei-foundation-model/5459299/PPG-BP Database/Data File/0_subject/224_2.txt\n",
      "Processing: 224_3\n",
      "Processing: /home/kapis20/projects/PPGworkspace/papagei-foundation-model/5459299/PPG-BP Database/Data File/0_subject/224_3.txt\n"
     ]
    },
    {
     "name": "stderr",
     "output_type": "stream",
     "text": [
      " 30%|██▉       | 197/657 [01:39<04:03,  1.89it/s]"
     ]
    },
    {
     "name": "stdout",
     "output_type": "stream",
     "text": [
      "[INFO] 0224 already exists\n",
      "Processing: 19_1\n",
      "Processing: /home/kapis20/projects/PPGworkspace/papagei-foundation-model/5459299/PPG-BP Database/Data File/0_subject/19_1.txt\n",
      "Processing: 19_2\n",
      "Processing: /home/kapis20/projects/PPGworkspace/papagei-foundation-model/5459299/PPG-BP Database/Data File/0_subject/19_2.txt\n"
     ]
    },
    {
     "name": "stderr",
     "output_type": "stream",
     "text": [
      " 30%|███       | 198/657 [01:40<03:57,  1.93it/s]"
     ]
    },
    {
     "name": "stdout",
     "output_type": "stream",
     "text": [
      "Processing: 19_3\n",
      "Processing: /home/kapis20/projects/PPGworkspace/papagei-foundation-model/5459299/PPG-BP Database/Data File/0_subject/19_3.txt\n",
      "[INFO] 0019 already exists\n",
      "Processing: 173_1\n",
      "Processing: /home/kapis20/projects/PPGworkspace/papagei-foundation-model/5459299/PPG-BP Database/Data File/0_subject/173_1.txt\n",
      "Processing: 173_2\n",
      "Processing: /home/kapis20/projects/PPGworkspace/papagei-foundation-model/5459299/PPG-BP Database/Data File/0_subject/173_2.txt\n",
      "Processing: 173_3\n",
      "Processing: /home/kapis20/projects/PPGworkspace/papagei-foundation-model/5459299/PPG-BP Database/Data File/0_subject/173_3.txt\n"
     ]
    },
    {
     "name": "stderr",
     "output_type": "stream",
     "text": [
      " 30%|███       | 199/657 [01:40<03:58,  1.92it/s]"
     ]
    },
    {
     "name": "stdout",
     "output_type": "stream",
     "text": [
      "[INFO] 0173 already exists\n",
      "Processing: 43_1\n",
      "Processing: /home/kapis20/projects/PPGworkspace/papagei-foundation-model/5459299/PPG-BP Database/Data File/0_subject/43_1.txt\n",
      "Processing: 43_2\n",
      "Processing: /home/kapis20/projects/PPGworkspace/papagei-foundation-model/5459299/PPG-BP Database/Data File/0_subject/43_2.txt\n"
     ]
    },
    {
     "name": "stderr",
     "output_type": "stream",
     "text": [
      " 30%|███       | 200/657 [01:41<03:55,  1.94it/s]"
     ]
    },
    {
     "name": "stdout",
     "output_type": "stream",
     "text": [
      "Processing: 43_3\n",
      "Processing: /home/kapis20/projects/PPGworkspace/papagei-foundation-model/5459299/PPG-BP Database/Data File/0_subject/43_3.txt\n",
      "[INFO] 0043 already exists\n",
      "Processing: 247_1\n",
      "Processing: /home/kapis20/projects/PPGworkspace/papagei-foundation-model/5459299/PPG-BP Database/Data File/0_subject/247_1.txt\n",
      "Processing: 247_2\n",
      "Processing: /home/kapis20/projects/PPGworkspace/papagei-foundation-model/5459299/PPG-BP Database/Data File/0_subject/247_2.txt\n",
      "Processing: 247_3\n",
      "Processing: /home/kapis20/projects/PPGworkspace/papagei-foundation-model/5459299/PPG-BP Database/Data File/0_subject/247_3.txt\n"
     ]
    },
    {
     "name": "stderr",
     "output_type": "stream",
     "text": [
      " 31%|███       | 201/657 [01:41<03:59,  1.90it/s]"
     ]
    },
    {
     "name": "stdout",
     "output_type": "stream",
     "text": [
      "[INFO] 0247 already exists\n",
      "Processing: 40_1\n",
      "Processing: /home/kapis20/projects/PPGworkspace/papagei-foundation-model/5459299/PPG-BP Database/Data File/0_subject/40_1.txt\n",
      "Processing: 40_2\n",
      "Processing: /home/kapis20/projects/PPGworkspace/papagei-foundation-model/5459299/PPG-BP Database/Data File/0_subject/40_2.txt\n"
     ]
    },
    {
     "name": "stderr",
     "output_type": "stream",
     "text": [
      " 31%|███       | 202/657 [01:42<03:57,  1.91it/s]"
     ]
    },
    {
     "name": "stdout",
     "output_type": "stream",
     "text": [
      "Processing: 40_3\n",
      "Processing: /home/kapis20/projects/PPGworkspace/papagei-foundation-model/5459299/PPG-BP Database/Data File/0_subject/40_3.txt\n",
      "[INFO] 0040 already exists\n",
      "Processing: 88_1\n",
      "Processing: /home/kapis20/projects/PPGworkspace/papagei-foundation-model/5459299/PPG-BP Database/Data File/0_subject/88_1.txt\n",
      "Processing: 88_2\n",
      "Processing: /home/kapis20/projects/PPGworkspace/papagei-foundation-model/5459299/PPG-BP Database/Data File/0_subject/88_2.txt\n",
      "Processing: 88_3\n",
      "Processing: /home/kapis20/projects/PPGworkspace/papagei-foundation-model/5459299/PPG-BP Database/Data File/0_subject/88_3.txt\n"
     ]
    },
    {
     "name": "stderr",
     "output_type": "stream",
     "text": [
      " 31%|███       | 203/657 [01:42<04:00,  1.89it/s]"
     ]
    },
    {
     "name": "stdout",
     "output_type": "stream",
     "text": [
      "[INFO] 0088 already exists\n",
      "Processing: 138_1\n",
      "Processing: /home/kapis20/projects/PPGworkspace/papagei-foundation-model/5459299/PPG-BP Database/Data File/0_subject/138_1.txt\n",
      "Processing: 138_2\n",
      "Processing: /home/kapis20/projects/PPGworkspace/papagei-foundation-model/5459299/PPG-BP Database/Data File/0_subject/138_2.txt\n"
     ]
    },
    {
     "name": "stderr",
     "output_type": "stream",
     "text": [
      " 31%|███       | 204/657 [01:43<03:53,  1.94it/s]"
     ]
    },
    {
     "name": "stdout",
     "output_type": "stream",
     "text": [
      "Processing: 138_3\n",
      "Processing: /home/kapis20/projects/PPGworkspace/papagei-foundation-model/5459299/PPG-BP Database/Data File/0_subject/138_3.txt\n",
      "[INFO] 0138 already exists\n",
      "Processing: 86_1\n",
      "Processing: /home/kapis20/projects/PPGworkspace/papagei-foundation-model/5459299/PPG-BP Database/Data File/0_subject/86_1.txt\n",
      "Processing: 86_2\n",
      "Processing: /home/kapis20/projects/PPGworkspace/papagei-foundation-model/5459299/PPG-BP Database/Data File/0_subject/86_2.txt\n",
      "Processing: 86_3\n",
      "Processing: /home/kapis20/projects/PPGworkspace/papagei-foundation-model/5459299/PPG-BP Database/Data File/0_subject/86_3.txt\n"
     ]
    },
    {
     "name": "stderr",
     "output_type": "stream",
     "text": [
      " 31%|███       | 205/657 [01:43<04:07,  1.83it/s]"
     ]
    },
    {
     "name": "stdout",
     "output_type": "stream",
     "text": [
      "[INFO] 0086 already exists\n",
      "Processing: 172_1\n",
      "Processing: /home/kapis20/projects/PPGworkspace/papagei-foundation-model/5459299/PPG-BP Database/Data File/0_subject/172_1.txt\n",
      "Processing: 172_2\n",
      "Processing: /home/kapis20/projects/PPGworkspace/papagei-foundation-model/5459299/PPG-BP Database/Data File/0_subject/172_2.txt\n"
     ]
    },
    {
     "name": "stderr",
     "output_type": "stream",
     "text": [
      " 31%|███▏      | 206/657 [01:44<04:04,  1.84it/s]"
     ]
    },
    {
     "name": "stdout",
     "output_type": "stream",
     "text": [
      "Processing: 172_3\n",
      "Processing: /home/kapis20/projects/PPGworkspace/papagei-foundation-model/5459299/PPG-BP Database/Data File/0_subject/172_3.txt\n",
      "[INFO] 0172 already exists\n",
      "Processing: 237_1\n",
      "Processing: /home/kapis20/projects/PPGworkspace/papagei-foundation-model/5459299/PPG-BP Database/Data File/0_subject/237_1.txt\n",
      "Processing: 237_2\n",
      "Processing: /home/kapis20/projects/PPGworkspace/papagei-foundation-model/5459299/PPG-BP Database/Data File/0_subject/237_2.txt\n",
      "Processing: 237_3\n",
      "Processing: /home/kapis20/projects/PPGworkspace/papagei-foundation-model/5459299/PPG-BP Database/Data File/0_subject/237_3.txt\n"
     ]
    },
    {
     "name": "stderr",
     "output_type": "stream",
     "text": [
      " 32%|███▏      | 207/657 [01:44<04:00,  1.87it/s]"
     ]
    },
    {
     "name": "stdout",
     "output_type": "stream",
     "text": [
      "[INFO] 0237 already exists\n",
      "Processing: 203_1\n",
      "Processing: /home/kapis20/projects/PPGworkspace/papagei-foundation-model/5459299/PPG-BP Database/Data File/0_subject/203_1.txt\n",
      "Processing: 203_2\n",
      "Processing: /home/kapis20/projects/PPGworkspace/papagei-foundation-model/5459299/PPG-BP Database/Data File/0_subject/203_2.txt\n"
     ]
    },
    {
     "name": "stderr",
     "output_type": "stream",
     "text": [
      " 32%|███▏      | 208/657 [01:45<03:58,  1.89it/s]"
     ]
    },
    {
     "name": "stdout",
     "output_type": "stream",
     "text": [
      "Processing: 203_3\n",
      "Processing: /home/kapis20/projects/PPGworkspace/papagei-foundation-model/5459299/PPG-BP Database/Data File/0_subject/203_3.txt\n",
      "[INFO] 0203 already exists\n",
      "Processing: 195_1\n",
      "Processing: /home/kapis20/projects/PPGworkspace/papagei-foundation-model/5459299/PPG-BP Database/Data File/0_subject/195_1.txt\n",
      "Processing: 195_2\n",
      "Processing: /home/kapis20/projects/PPGworkspace/papagei-foundation-model/5459299/PPG-BP Database/Data File/0_subject/195_2.txt\n",
      "Processing: 195_3\n",
      "Processing: /home/kapis20/projects/PPGworkspace/papagei-foundation-model/5459299/PPG-BP Database/Data File/0_subject/195_3.txt\n"
     ]
    },
    {
     "name": "stderr",
     "output_type": "stream",
     "text": [
      " 32%|███▏      | 209/657 [01:45<03:58,  1.88it/s]"
     ]
    },
    {
     "name": "stdout",
     "output_type": "stream",
     "text": [
      "[INFO] 0195 already exists\n",
      "Processing: 47_1\n",
      "Processing: /home/kapis20/projects/PPGworkspace/papagei-foundation-model/5459299/PPG-BP Database/Data File/0_subject/47_1.txt\n",
      "Processing: 47_2\n",
      "Processing: /home/kapis20/projects/PPGworkspace/papagei-foundation-model/5459299/PPG-BP Database/Data File/0_subject/47_2.txt\n"
     ]
    },
    {
     "name": "stderr",
     "output_type": "stream",
     "text": [
      " 32%|███▏      | 210/657 [01:46<03:52,  1.92it/s]"
     ]
    },
    {
     "name": "stdout",
     "output_type": "stream",
     "text": [
      "Processing: 47_3\n",
      "Processing: /home/kapis20/projects/PPGworkspace/papagei-foundation-model/5459299/PPG-BP Database/Data File/0_subject/47_3.txt\n",
      "[INFO] 0047 already exists\n",
      "Processing: 417_1\n",
      "Processing: /home/kapis20/projects/PPGworkspace/papagei-foundation-model/5459299/PPG-BP Database/Data File/0_subject/417_1.txt\n",
      "Processing: 417_2\n",
      "Processing: /home/kapis20/projects/PPGworkspace/papagei-foundation-model/5459299/PPG-BP Database/Data File/0_subject/417_2.txt\n",
      "Processing: 417_3\n",
      "Processing: /home/kapis20/projects/PPGworkspace/papagei-foundation-model/5459299/PPG-BP Database/Data File/0_subject/417_3.txt\n"
     ]
    },
    {
     "name": "stderr",
     "output_type": "stream",
     "text": [
      " 32%|███▏      | 211/657 [01:46<03:50,  1.94it/s]"
     ]
    },
    {
     "name": "stdout",
     "output_type": "stream",
     "text": [
      "[INFO] 0417 already exists\n",
      "Processing: 57_1\n",
      "Processing: /home/kapis20/projects/PPGworkspace/papagei-foundation-model/5459299/PPG-BP Database/Data File/0_subject/57_1.txt\n",
      "Processing: 57_2\n",
      "Processing: /home/kapis20/projects/PPGworkspace/papagei-foundation-model/5459299/PPG-BP Database/Data File/0_subject/57_2.txt\n"
     ]
    },
    {
     "name": "stderr",
     "output_type": "stream",
     "text": [
      " 32%|███▏      | 212/657 [01:47<04:01,  1.84it/s]"
     ]
    },
    {
     "name": "stdout",
     "output_type": "stream",
     "text": [
      "Processing: 57_3\n",
      "Processing: /home/kapis20/projects/PPGworkspace/papagei-foundation-model/5459299/PPG-BP Database/Data File/0_subject/57_3.txt\n",
      "[INFO] 0057 already exists\n",
      "Processing: 151_1\n",
      "Processing: /home/kapis20/projects/PPGworkspace/papagei-foundation-model/5459299/PPG-BP Database/Data File/0_subject/151_1.txt\n",
      "Processing: 151_2\n",
      "Processing: /home/kapis20/projects/PPGworkspace/papagei-foundation-model/5459299/PPG-BP Database/Data File/0_subject/151_2.txt\n",
      "Processing: 151_3\n",
      "Processing: /home/kapis20/projects/PPGworkspace/papagei-foundation-model/5459299/PPG-BP Database/Data File/0_subject/151_3.txt\n"
     ]
    },
    {
     "name": "stderr",
     "output_type": "stream",
     "text": [
      " 32%|███▏      | 213/657 [01:48<04:02,  1.83it/s]"
     ]
    },
    {
     "name": "stdout",
     "output_type": "stream",
     "text": [
      "[INFO] 0151 already exists\n",
      "Processing: 131_1\n",
      "Processing: /home/kapis20/projects/PPGworkspace/papagei-foundation-model/5459299/PPG-BP Database/Data File/0_subject/131_1.txt\n",
      "Processing: 131_2\n",
      "Processing: /home/kapis20/projects/PPGworkspace/papagei-foundation-model/5459299/PPG-BP Database/Data File/0_subject/131_2.txt\n"
     ]
    },
    {
     "name": "stderr",
     "output_type": "stream",
     "text": [
      " 33%|███▎      | 214/657 [01:48<03:56,  1.87it/s]"
     ]
    },
    {
     "name": "stdout",
     "output_type": "stream",
     "text": [
      "Processing: 131_3\n",
      "Processing: /home/kapis20/projects/PPGworkspace/papagei-foundation-model/5459299/PPG-BP Database/Data File/0_subject/131_3.txt\n",
      "[INFO] 0131 already exists\n",
      "Processing: 179_1\n",
      "Processing: /home/kapis20/projects/PPGworkspace/papagei-foundation-model/5459299/PPG-BP Database/Data File/0_subject/179_1.txt\n",
      "Processing: 179_2\n",
      "Processing: /home/kapis20/projects/PPGworkspace/papagei-foundation-model/5459299/PPG-BP Database/Data File/0_subject/179_2.txt\n",
      "Processing: 179_3\n",
      "Processing: /home/kapis20/projects/PPGworkspace/papagei-foundation-model/5459299/PPG-BP Database/Data File/0_subject/179_3.txt\n"
     ]
    },
    {
     "name": "stderr",
     "output_type": "stream",
     "text": [
      " 33%|███▎      | 215/657 [01:49<03:51,  1.91it/s]"
     ]
    },
    {
     "name": "stdout",
     "output_type": "stream",
     "text": [
      "[INFO] 0179 already exists\n",
      "Processing: 142_1\n",
      "Processing: /home/kapis20/projects/PPGworkspace/papagei-foundation-model/5459299/PPG-BP Database/Data File/0_subject/142_1.txt\n",
      "Processing: 142_2\n",
      "Processing: /home/kapis20/projects/PPGworkspace/papagei-foundation-model/5459299/PPG-BP Database/Data File/0_subject/142_2.txt\n"
     ]
    },
    {
     "name": "stderr",
     "output_type": "stream",
     "text": [
      " 33%|███▎      | 216/657 [01:49<03:46,  1.95it/s]"
     ]
    },
    {
     "name": "stdout",
     "output_type": "stream",
     "text": [
      "Processing: 142_3\n",
      "Processing: /home/kapis20/projects/PPGworkspace/papagei-foundation-model/5459299/PPG-BP Database/Data File/0_subject/142_3.txt\n",
      "[INFO] 0142 already exists\n",
      "Processing: 412_1\n",
      "Processing: /home/kapis20/projects/PPGworkspace/papagei-foundation-model/5459299/PPG-BP Database/Data File/0_subject/412_1.txt\n",
      "Processing: 412_2\n",
      "Processing: /home/kapis20/projects/PPGworkspace/papagei-foundation-model/5459299/PPG-BP Database/Data File/0_subject/412_2.txt\n",
      "Processing: 412_3\n",
      "Processing: /home/kapis20/projects/PPGworkspace/papagei-foundation-model/5459299/PPG-BP Database/Data File/0_subject/412_3.txt\n",
      "[INFO] 0412 already exists\n",
      "Processing: 412_1\n",
      "Processing: /home/kapis20/projects/PPGworkspace/papagei-foundation-model/5459299/PPG-BP Database/Data File/0_subject/412_1.txt\n",
      "Processing: 412_2\n",
      "Processing: /home/kapis20/projects/PPGworkspace/papagei-foundation-model/5459299/PPG-BP Database/Data File/0_subject/412_2.txt\n",
      "Processing: 412_3\n",
      "Processing: /home/kapis20/projects/PPGworkspace/papagei-foundation-model/5459299/PPG-BP Database/Data File/0_subject/412_3.txt\n",
      "[INFO] 0412 already exists\n",
      "Processing: 163_1\n",
      "Processing: /home/kapis20/projects/PPGworkspace/papagei-foundation-model/5459299/PPG-BP Database/Data File/0_subject/163_1.txt\n",
      "Processing: 163_2\n",
      "Processing: /home/kapis20/projects/PPGworkspace/papagei-foundation-model/5459299/PPG-BP Database/Data File/0_subject/163_2.txt\n",
      "Processing: 163_3\n",
      "Processing: /home/kapis20/projects/PPGworkspace/papagei-foundation-model/5459299/PPG-BP Database/Data File/0_subject/163_3.txt\n"
     ]
    },
    {
     "name": "stderr",
     "output_type": "stream",
     "text": [
      " 33%|███▎      | 219/657 [01:49<01:47,  4.09it/s]"
     ]
    },
    {
     "name": "stdout",
     "output_type": "stream",
     "text": [
      "[INFO] 0163 already exists\n",
      "Processing: 226_1\n",
      "Processing: /home/kapis20/projects/PPGworkspace/papagei-foundation-model/5459299/PPG-BP Database/Data File/0_subject/226_1.txt\n",
      "Processing: 226_2\n",
      "Processing: /home/kapis20/projects/PPGworkspace/papagei-foundation-model/5459299/PPG-BP Database/Data File/0_subject/226_2.txt\n"
     ]
    },
    {
     "name": "stderr",
     "output_type": "stream",
     "text": [
      " 33%|███▎      | 220/657 [01:50<02:09,  3.38it/s]"
     ]
    },
    {
     "name": "stdout",
     "output_type": "stream",
     "text": [
      "Processing: 226_3\n",
      "Processing: /home/kapis20/projects/PPGworkspace/papagei-foundation-model/5459299/PPG-BP Database/Data File/0_subject/226_3.txt\n",
      "[INFO] 0226 already exists\n",
      "Processing: 61_1\n",
      "Processing: /home/kapis20/projects/PPGworkspace/papagei-foundation-model/5459299/PPG-BP Database/Data File/0_subject/61_1.txt\n",
      "Processing: 61_2\n",
      "Processing: /home/kapis20/projects/PPGworkspace/papagei-foundation-model/5459299/PPG-BP Database/Data File/0_subject/61_2.txt\n",
      "Processing: 61_3\n",
      "Processing: /home/kapis20/projects/PPGworkspace/papagei-foundation-model/5459299/PPG-BP Database/Data File/0_subject/61_3.txt\n"
     ]
    },
    {
     "name": "stderr",
     "output_type": "stream",
     "text": [
      " 34%|███▎      | 221/657 [01:50<02:45,  2.64it/s]"
     ]
    },
    {
     "name": "stdout",
     "output_type": "stream",
     "text": [
      "[INFO] 0061 already exists\n",
      "Processing: 418_1\n",
      "Processing: /home/kapis20/projects/PPGworkspace/papagei-foundation-model/5459299/PPG-BP Database/Data File/0_subject/418_1.txt\n",
      "Processing: 418_2\n",
      "Processing: /home/kapis20/projects/PPGworkspace/papagei-foundation-model/5459299/PPG-BP Database/Data File/0_subject/418_2.txt\n"
     ]
    },
    {
     "name": "stderr",
     "output_type": "stream",
     "text": [
      " 34%|███▍      | 222/657 [01:51<02:56,  2.47it/s]"
     ]
    },
    {
     "name": "stdout",
     "output_type": "stream",
     "text": [
      "Processing: 418_3\n",
      "Processing: /home/kapis20/projects/PPGworkspace/papagei-foundation-model/5459299/PPG-BP Database/Data File/0_subject/418_3.txt\n",
      "[INFO] 0418 already exists\n",
      "Processing: 26_1\n",
      "Processing: /home/kapis20/projects/PPGworkspace/papagei-foundation-model/5459299/PPG-BP Database/Data File/0_subject/26_1.txt\n",
      "Processing: 26_2\n",
      "Processing: /home/kapis20/projects/PPGworkspace/papagei-foundation-model/5459299/PPG-BP Database/Data File/0_subject/26_2.txt\n",
      "Processing: 26_3\n",
      "Processing: /home/kapis20/projects/PPGworkspace/papagei-foundation-model/5459299/PPG-BP Database/Data File/0_subject/26_3.txt\n"
     ]
    },
    {
     "name": "stderr",
     "output_type": "stream",
     "text": [
      " 34%|███▍      | 223/657 [01:51<03:13,  2.24it/s]"
     ]
    },
    {
     "name": "stdout",
     "output_type": "stream",
     "text": [
      "[INFO] 0026 already exists\n",
      "Processing: 237_1\n",
      "Processing: /home/kapis20/projects/PPGworkspace/papagei-foundation-model/5459299/PPG-BP Database/Data File/0_subject/237_1.txt\n",
      "Processing: 237_2\n",
      "Processing: /home/kapis20/projects/PPGworkspace/papagei-foundation-model/5459299/PPG-BP Database/Data File/0_subject/237_2.txt\n"
     ]
    },
    {
     "name": "stderr",
     "output_type": "stream",
     "text": [
      " 34%|███▍      | 224/657 [01:52<03:19,  2.17it/s]"
     ]
    },
    {
     "name": "stdout",
     "output_type": "stream",
     "text": [
      "Processing: 237_3\n",
      "Processing: /home/kapis20/projects/PPGworkspace/papagei-foundation-model/5459299/PPG-BP Database/Data File/0_subject/237_3.txt\n",
      "[INFO] 0237 already exists\n",
      "Processing: 83_1\n",
      "Processing: /home/kapis20/projects/PPGworkspace/papagei-foundation-model/5459299/PPG-BP Database/Data File/0_subject/83_1.txt\n",
      "Processing: 83_2\n",
      "Processing: /home/kapis20/projects/PPGworkspace/papagei-foundation-model/5459299/PPG-BP Database/Data File/0_subject/83_2.txt\n",
      "Processing: 83_3\n",
      "Processing: /home/kapis20/projects/PPGworkspace/papagei-foundation-model/5459299/PPG-BP Database/Data File/0_subject/83_3.txt\n"
     ]
    },
    {
     "name": "stderr",
     "output_type": "stream",
     "text": [
      " 34%|███▍      | 225/657 [01:52<03:34,  2.01it/s]"
     ]
    },
    {
     "name": "stdout",
     "output_type": "stream",
     "text": [
      "[INFO] 0083 already exists\n",
      "Processing: 138_1\n",
      "Processing: /home/kapis20/projects/PPGworkspace/papagei-foundation-model/5459299/PPG-BP Database/Data File/0_subject/138_1.txt\n",
      "Processing: 138_2\n",
      "Processing: /home/kapis20/projects/PPGworkspace/papagei-foundation-model/5459299/PPG-BP Database/Data File/0_subject/138_2.txt\n"
     ]
    },
    {
     "name": "stderr",
     "output_type": "stream",
     "text": [
      " 34%|███▍      | 226/657 [01:53<03:33,  2.01it/s]"
     ]
    },
    {
     "name": "stdout",
     "output_type": "stream",
     "text": [
      "Processing: 138_3\n",
      "Processing: /home/kapis20/projects/PPGworkspace/papagei-foundation-model/5459299/PPG-BP Database/Data File/0_subject/138_3.txt\n",
      "[INFO] 0138 already exists\n",
      "Processing: 47_1\n",
      "Processing: /home/kapis20/projects/PPGworkspace/papagei-foundation-model/5459299/PPG-BP Database/Data File/0_subject/47_1.txt\n",
      "Processing: 47_2\n",
      "Processing: /home/kapis20/projects/PPGworkspace/papagei-foundation-model/5459299/PPG-BP Database/Data File/0_subject/47_2.txt\n",
      "Processing: 47_3\n",
      "Processing: /home/kapis20/projects/PPGworkspace/papagei-foundation-model/5459299/PPG-BP Database/Data File/0_subject/47_3.txt\n"
     ]
    },
    {
     "name": "stderr",
     "output_type": "stream",
     "text": [
      " 35%|███▍      | 227/657 [01:53<03:35,  2.00it/s]"
     ]
    },
    {
     "name": "stdout",
     "output_type": "stream",
     "text": [
      "[INFO] 0047 already exists\n",
      "Processing: 114_1\n",
      "Processing: /home/kapis20/projects/PPGworkspace/papagei-foundation-model/5459299/PPG-BP Database/Data File/0_subject/114_1.txt\n",
      "Processing: 114_2\n",
      "Processing: /home/kapis20/projects/PPGworkspace/papagei-foundation-model/5459299/PPG-BP Database/Data File/0_subject/114_2.txt\n"
     ]
    },
    {
     "name": "stderr",
     "output_type": "stream",
     "text": [
      " 35%|███▍      | 228/657 [01:54<03:48,  1.88it/s]"
     ]
    },
    {
     "name": "stdout",
     "output_type": "stream",
     "text": [
      "Processing: 114_3\n",
      "Processing: /home/kapis20/projects/PPGworkspace/papagei-foundation-model/5459299/PPG-BP Database/Data File/0_subject/114_3.txt\n",
      "[INFO] 0114 already exists\n",
      "Processing: 222_1\n",
      "Processing: /home/kapis20/projects/PPGworkspace/papagei-foundation-model/5459299/PPG-BP Database/Data File/0_subject/222_1.txt\n",
      "Processing: 222_2\n",
      "Processing: /home/kapis20/projects/PPGworkspace/papagei-foundation-model/5459299/PPG-BP Database/Data File/0_subject/222_2.txt\n",
      "Processing: 222_3\n",
      "Processing: /home/kapis20/projects/PPGworkspace/papagei-foundation-model/5459299/PPG-BP Database/Data File/0_subject/222_3.txt\n"
     ]
    },
    {
     "name": "stderr",
     "output_type": "stream",
     "text": [
      " 35%|███▍      | 229/657 [01:55<03:48,  1.87it/s]"
     ]
    },
    {
     "name": "stdout",
     "output_type": "stream",
     "text": [
      "[INFO] 0222 already exists\n",
      "Processing: 413_1\n",
      "Processing: /home/kapis20/projects/PPGworkspace/papagei-foundation-model/5459299/PPG-BP Database/Data File/0_subject/413_1.txt\n",
      "Processing: 413_2\n",
      "Processing: /home/kapis20/projects/PPGworkspace/papagei-foundation-model/5459299/PPG-BP Database/Data File/0_subject/413_2.txt\n"
     ]
    },
    {
     "name": "stderr",
     "output_type": "stream",
     "text": [
      " 35%|███▌      | 230/657 [01:55<03:52,  1.84it/s]"
     ]
    },
    {
     "name": "stdout",
     "output_type": "stream",
     "text": [
      "Processing: 413_3\n",
      "Processing: /home/kapis20/projects/PPGworkspace/papagei-foundation-model/5459299/PPG-BP Database/Data File/0_subject/413_3.txt\n",
      "[INFO] 0413 already exists\n",
      "Processing: 209_1\n",
      "Processing: /home/kapis20/projects/PPGworkspace/papagei-foundation-model/5459299/PPG-BP Database/Data File/0_subject/209_1.txt\n",
      "Processing: 209_2\n",
      "Processing: /home/kapis20/projects/PPGworkspace/papagei-foundation-model/5459299/PPG-BP Database/Data File/0_subject/209_2.txt\n",
      "Processing: 209_3\n",
      "Processing: /home/kapis20/projects/PPGworkspace/papagei-foundation-model/5459299/PPG-BP Database/Data File/0_subject/209_3.txt\n"
     ]
    },
    {
     "name": "stderr",
     "output_type": "stream",
     "text": [
      " 35%|███▌      | 231/657 [01:56<03:53,  1.82it/s]"
     ]
    },
    {
     "name": "stdout",
     "output_type": "stream",
     "text": [
      "[INFO] 0209 already exists\n",
      "Processing: 153_1\n",
      "Processing: /home/kapis20/projects/PPGworkspace/papagei-foundation-model/5459299/PPG-BP Database/Data File/0_subject/153_1.txt\n",
      "Processing: 153_2\n",
      "Processing: /home/kapis20/projects/PPGworkspace/papagei-foundation-model/5459299/PPG-BP Database/Data File/0_subject/153_2.txt\n"
     ]
    },
    {
     "name": "stderr",
     "output_type": "stream",
     "text": [
      " 35%|███▌      | 232/657 [01:56<03:46,  1.88it/s]"
     ]
    },
    {
     "name": "stdout",
     "output_type": "stream",
     "text": [
      "Processing: 153_3\n",
      "Processing: /home/kapis20/projects/PPGworkspace/papagei-foundation-model/5459299/PPG-BP Database/Data File/0_subject/153_3.txt\n",
      "[INFO] 0153 already exists\n",
      "Processing: 418_1\n",
      "Processing: /home/kapis20/projects/PPGworkspace/papagei-foundation-model/5459299/PPG-BP Database/Data File/0_subject/418_1.txt\n",
      "Processing: 418_2\n",
      "Processing: /home/kapis20/projects/PPGworkspace/papagei-foundation-model/5459299/PPG-BP Database/Data File/0_subject/418_2.txt\n",
      "Processing: 418_3\n",
      "Processing: /home/kapis20/projects/PPGworkspace/papagei-foundation-model/5459299/PPG-BP Database/Data File/0_subject/418_3.txt\n"
     ]
    },
    {
     "name": "stderr",
     "output_type": "stream",
     "text": [
      " 35%|███▌      | 233/657 [01:57<03:40,  1.92it/s]"
     ]
    },
    {
     "name": "stdout",
     "output_type": "stream",
     "text": [
      "[INFO] 0418 already exists\n",
      "Processing: 12_1\n",
      "Processing: /home/kapis20/projects/PPGworkspace/papagei-foundation-model/5459299/PPG-BP Database/Data File/0_subject/12_1.txt\n",
      "Processing: 12_2\n",
      "Processing: /home/kapis20/projects/PPGworkspace/papagei-foundation-model/5459299/PPG-BP Database/Data File/0_subject/12_2.txt\n",
      "Processing: 12_3\n",
      "Processing: /home/kapis20/projects/PPGworkspace/papagei-foundation-model/5459299/PPG-BP Database/Data File/0_subject/12_3.txt\n"
     ]
    },
    {
     "name": "stderr",
     "output_type": "stream",
     "text": [
      " 36%|███▌      | 234/657 [01:57<03:46,  1.87it/s]"
     ]
    },
    {
     "name": "stdout",
     "output_type": "stream",
     "text": [
      "[INFO] 0012 already exists\n",
      "Processing: 65_1\n",
      "Processing: /home/kapis20/projects/PPGworkspace/papagei-foundation-model/5459299/PPG-BP Database/Data File/0_subject/65_1.txt\n",
      "Processing: 65_2\n",
      "Processing: /home/kapis20/projects/PPGworkspace/papagei-foundation-model/5459299/PPG-BP Database/Data File/0_subject/65_2.txt\n"
     ]
    },
    {
     "name": "stderr",
     "output_type": "stream",
     "text": [
      " 36%|███▌      | 235/657 [01:58<04:00,  1.75it/s]"
     ]
    },
    {
     "name": "stdout",
     "output_type": "stream",
     "text": [
      "Processing: 65_3\n",
      "Processing: /home/kapis20/projects/PPGworkspace/papagei-foundation-model/5459299/PPG-BP Database/Data File/0_subject/65_3.txt\n",
      "[INFO] 0065 already exists\n",
      "Processing: 160_1\n",
      "Processing: /home/kapis20/projects/PPGworkspace/papagei-foundation-model/5459299/PPG-BP Database/Data File/0_subject/160_1.txt\n",
      "Processing: 160_2\n",
      "Processing: /home/kapis20/projects/PPGworkspace/papagei-foundation-model/5459299/PPG-BP Database/Data File/0_subject/160_2.txt\n",
      "Processing: 160_3\n",
      "Processing: /home/kapis20/projects/PPGworkspace/papagei-foundation-model/5459299/PPG-BP Database/Data File/0_subject/160_3.txt\n"
     ]
    },
    {
     "name": "stderr",
     "output_type": "stream",
     "text": [
      " 36%|███▌      | 236/657 [01:58<03:55,  1.79it/s]"
     ]
    },
    {
     "name": "stdout",
     "output_type": "stream",
     "text": [
      "[INFO] 0160 already exists\n",
      "Processing: 21_1\n",
      "Processing: /home/kapis20/projects/PPGworkspace/papagei-foundation-model/5459299/PPG-BP Database/Data File/0_subject/21_1.txt\n",
      "Processing: 21_2\n",
      "Processing: /home/kapis20/projects/PPGworkspace/papagei-foundation-model/5459299/PPG-BP Database/Data File/0_subject/21_2.txt\n"
     ]
    },
    {
     "name": "stderr",
     "output_type": "stream",
     "text": [
      " 36%|███▌      | 237/657 [01:59<03:49,  1.83it/s]"
     ]
    },
    {
     "name": "stdout",
     "output_type": "stream",
     "text": [
      "Processing: 21_3\n",
      "Processing: /home/kapis20/projects/PPGworkspace/papagei-foundation-model/5459299/PPG-BP Database/Data File/0_subject/21_3.txt\n",
      "[INFO] 0021 already exists\n",
      "Processing: 259_1\n",
      "Processing: /home/kapis20/projects/PPGworkspace/papagei-foundation-model/5459299/PPG-BP Database/Data File/0_subject/259_1.txt\n",
      "Processing: 259_2\n",
      "Processing: /home/kapis20/projects/PPGworkspace/papagei-foundation-model/5459299/PPG-BP Database/Data File/0_subject/259_2.txt\n",
      "Processing: 259_3\n",
      "Processing: /home/kapis20/projects/PPGworkspace/papagei-foundation-model/5459299/PPG-BP Database/Data File/0_subject/259_3.txt\n"
     ]
    },
    {
     "name": "stderr",
     "output_type": "stream",
     "text": [
      " 36%|███▌      | 238/657 [02:00<03:48,  1.84it/s]"
     ]
    },
    {
     "name": "stdout",
     "output_type": "stream",
     "text": [
      "[INFO] 0259 already exists\n",
      "Processing: 242_1\n",
      "Processing: /home/kapis20/projects/PPGworkspace/papagei-foundation-model/5459299/PPG-BP Database/Data File/0_subject/242_1.txt\n",
      "Processing: 242_2\n",
      "Processing: /home/kapis20/projects/PPGworkspace/papagei-foundation-model/5459299/PPG-BP Database/Data File/0_subject/242_2.txt\n"
     ]
    },
    {
     "name": "stderr",
     "output_type": "stream",
     "text": [
      " 36%|███▋      | 239/657 [02:00<03:43,  1.87it/s]"
     ]
    },
    {
     "name": "stdout",
     "output_type": "stream",
     "text": [
      "Processing: 242_3\n",
      "Processing: /home/kapis20/projects/PPGworkspace/papagei-foundation-model/5459299/PPG-BP Database/Data File/0_subject/242_3.txt\n",
      "[INFO] 0242 already exists\n",
      "Processing: 6_1\n",
      "Processing: /home/kapis20/projects/PPGworkspace/papagei-foundation-model/5459299/PPG-BP Database/Data File/0_subject/6_1.txt\n",
      "Processing: 6_2\n",
      "Processing: /home/kapis20/projects/PPGworkspace/papagei-foundation-model/5459299/PPG-BP Database/Data File/0_subject/6_2.txt\n",
      "Processing: 6_3\n",
      "Processing: /home/kapis20/projects/PPGworkspace/papagei-foundation-model/5459299/PPG-BP Database/Data File/0_subject/6_3.txt\n"
     ]
    },
    {
     "name": "stderr",
     "output_type": "stream",
     "text": [
      " 37%|███▋      | 240/657 [02:01<03:42,  1.87it/s]"
     ]
    },
    {
     "name": "stdout",
     "output_type": "stream",
     "text": [
      "[INFO] 0006 already exists\n",
      "Processing: 137_1\n",
      "Processing: /home/kapis20/projects/PPGworkspace/papagei-foundation-model/5459299/PPG-BP Database/Data File/0_subject/137_1.txt\n",
      "Processing: 137_2\n",
      "Processing: /home/kapis20/projects/PPGworkspace/papagei-foundation-model/5459299/PPG-BP Database/Data File/0_subject/137_2.txt\n"
     ]
    },
    {
     "name": "stderr",
     "output_type": "stream",
     "text": [
      " 37%|███▋      | 241/657 [02:01<03:39,  1.90it/s]"
     ]
    },
    {
     "name": "stdout",
     "output_type": "stream",
     "text": [
      "Processing: 137_3\n",
      "Processing: /home/kapis20/projects/PPGworkspace/papagei-foundation-model/5459299/PPG-BP Database/Data File/0_subject/137_3.txt\n",
      "[INFO] 0137 already exists\n",
      "Processing: 247_1\n",
      "Processing: /home/kapis20/projects/PPGworkspace/papagei-foundation-model/5459299/PPG-BP Database/Data File/0_subject/247_1.txt\n",
      "Processing: 247_2\n",
      "Processing: /home/kapis20/projects/PPGworkspace/papagei-foundation-model/5459299/PPG-BP Database/Data File/0_subject/247_2.txt\n",
      "Processing: 247_3\n",
      "Processing: /home/kapis20/projects/PPGworkspace/papagei-foundation-model/5459299/PPG-BP Database/Data File/0_subject/247_3.txt\n"
     ]
    },
    {
     "name": "stderr",
     "output_type": "stream",
     "text": [
      " 37%|███▋      | 242/657 [02:02<03:53,  1.78it/s]"
     ]
    },
    {
     "name": "stdout",
     "output_type": "stream",
     "text": [
      "[INFO] 0247 already exists\n",
      "Processing: 13_1\n",
      "Processing: /home/kapis20/projects/PPGworkspace/papagei-foundation-model/5459299/PPG-BP Database/Data File/0_subject/13_1.txt\n",
      "Processing: 13_2\n",
      "Processing: /home/kapis20/projects/PPGworkspace/papagei-foundation-model/5459299/PPG-BP Database/Data File/0_subject/13_2.txt\n"
     ]
    },
    {
     "name": "stderr",
     "output_type": "stream",
     "text": [
      " 37%|███▋      | 243/657 [02:02<03:48,  1.82it/s]"
     ]
    },
    {
     "name": "stdout",
     "output_type": "stream",
     "text": [
      "Processing: 13_3\n",
      "Processing: /home/kapis20/projects/PPGworkspace/papagei-foundation-model/5459299/PPG-BP Database/Data File/0_subject/13_3.txt\n",
      "[INFO] 0013 already exists\n",
      "Processing: 178_1\n",
      "Processing: /home/kapis20/projects/PPGworkspace/papagei-foundation-model/5459299/PPG-BP Database/Data File/0_subject/178_1.txt\n",
      "Processing: 178_2\n",
      "Processing: /home/kapis20/projects/PPGworkspace/papagei-foundation-model/5459299/PPG-BP Database/Data File/0_subject/178_2.txt\n",
      "Processing: 178_3\n",
      "Processing: /home/kapis20/projects/PPGworkspace/papagei-foundation-model/5459299/PPG-BP Database/Data File/0_subject/178_3.txt\n"
     ]
    },
    {
     "name": "stderr",
     "output_type": "stream",
     "text": [
      " 37%|███▋      | 244/657 [02:03<03:45,  1.83it/s]"
     ]
    },
    {
     "name": "stdout",
     "output_type": "stream",
     "text": [
      "[INFO] 0178 already exists\n",
      "Processing: 257_1\n",
      "Processing: /home/kapis20/projects/PPGworkspace/papagei-foundation-model/5459299/PPG-BP Database/Data File/0_subject/257_1.txt\n",
      "Processing: 257_2\n",
      "Processing: /home/kapis20/projects/PPGworkspace/papagei-foundation-model/5459299/PPG-BP Database/Data File/0_subject/257_2.txt\n"
     ]
    },
    {
     "name": "stderr",
     "output_type": "stream",
     "text": [
      " 37%|███▋      | 245/657 [02:03<03:39,  1.88it/s]"
     ]
    },
    {
     "name": "stdout",
     "output_type": "stream",
     "text": [
      "Processing: 257_3\n",
      "Processing: /home/kapis20/projects/PPGworkspace/papagei-foundation-model/5459299/PPG-BP Database/Data File/0_subject/257_3.txt\n",
      "[INFO] 0257 already exists\n",
      "Processing: 222_1\n",
      "Processing: /home/kapis20/projects/PPGworkspace/papagei-foundation-model/5459299/PPG-BP Database/Data File/0_subject/222_1.txt\n",
      "Processing: 222_2\n",
      "Processing: /home/kapis20/projects/PPGworkspace/papagei-foundation-model/5459299/PPG-BP Database/Data File/0_subject/222_2.txt\n",
      "Processing: 222_3\n",
      "Processing: /home/kapis20/projects/PPGworkspace/papagei-foundation-model/5459299/PPG-BP Database/Data File/0_subject/222_3.txt\n"
     ]
    },
    {
     "name": "stderr",
     "output_type": "stream",
     "text": [
      " 37%|███▋      | 246/657 [02:04<03:40,  1.87it/s]"
     ]
    },
    {
     "name": "stdout",
     "output_type": "stream",
     "text": [
      "[INFO] 0222 already exists\n",
      "Processing: 167_1\n",
      "Processing: /home/kapis20/projects/PPGworkspace/papagei-foundation-model/5459299/PPG-BP Database/Data File/0_subject/167_1.txt\n",
      "Processing: 167_2\n",
      "Processing: /home/kapis20/projects/PPGworkspace/papagei-foundation-model/5459299/PPG-BP Database/Data File/0_subject/167_2.txt\n",
      "Processing: 167_3\n",
      "Processing: /home/kapis20/projects/PPGworkspace/papagei-foundation-model/5459299/PPG-BP Database/Data File/0_subject/167_3.txt\n"
     ]
    },
    {
     "name": "stderr",
     "output_type": "stream",
     "text": [
      " 38%|███▊      | 247/657 [02:04<03:43,  1.84it/s]"
     ]
    },
    {
     "name": "stdout",
     "output_type": "stream",
     "text": [
      "[INFO] 0167 already exists\n",
      "Processing: 189_1\n",
      "Processing: /home/kapis20/projects/PPGworkspace/papagei-foundation-model/5459299/PPG-BP Database/Data File/0_subject/189_1.txt\n",
      "Processing: 189_2\n",
      "Processing: /home/kapis20/projects/PPGworkspace/papagei-foundation-model/5459299/PPG-BP Database/Data File/0_subject/189_2.txt\n"
     ]
    },
    {
     "name": "stderr",
     "output_type": "stream",
     "text": [
      " 38%|███▊      | 248/657 [02:05<03:39,  1.86it/s]"
     ]
    },
    {
     "name": "stdout",
     "output_type": "stream",
     "text": [
      "Processing: 189_3\n",
      "Processing: /home/kapis20/projects/PPGworkspace/papagei-foundation-model/5459299/PPG-BP Database/Data File/0_subject/189_3.txt\n",
      "[INFO] 0189 already exists\n",
      "Processing: 48_1\n",
      "Processing: /home/kapis20/projects/PPGworkspace/papagei-foundation-model/5459299/PPG-BP Database/Data File/0_subject/48_1.txt\n",
      "Processing: 48_2\n",
      "Processing: /home/kapis20/projects/PPGworkspace/papagei-foundation-model/5459299/PPG-BP Database/Data File/0_subject/48_2.txt\n",
      "Processing: 48_3\n",
      "Processing: /home/kapis20/projects/PPGworkspace/papagei-foundation-model/5459299/PPG-BP Database/Data File/0_subject/48_3.txt\n"
     ]
    },
    {
     "name": "stderr",
     "output_type": "stream",
     "text": [
      " 38%|███▊      | 249/657 [02:06<03:54,  1.74it/s]"
     ]
    },
    {
     "name": "stdout",
     "output_type": "stream",
     "text": [
      "[INFO] 0048 already exists\n",
      "Processing: 104_1\n",
      "Processing: /home/kapis20/projects/PPGworkspace/papagei-foundation-model/5459299/PPG-BP Database/Data File/0_subject/104_1.txt\n",
      "Processing: 104_2\n",
      "Processing: /home/kapis20/projects/PPGworkspace/papagei-foundation-model/5459299/PPG-BP Database/Data File/0_subject/104_2.txt\n"
     ]
    },
    {
     "name": "stderr",
     "output_type": "stream",
     "text": [
      " 38%|███▊      | 250/657 [02:06<03:47,  1.79it/s]"
     ]
    },
    {
     "name": "stdout",
     "output_type": "stream",
     "text": [
      "Processing: 104_3\n",
      "Processing: /home/kapis20/projects/PPGworkspace/papagei-foundation-model/5459299/PPG-BP Database/Data File/0_subject/104_3.txt\n",
      "[INFO] 0104 already exists\n",
      "Processing: 199_1\n",
      "Processing: /home/kapis20/projects/PPGworkspace/papagei-foundation-model/5459299/PPG-BP Database/Data File/0_subject/199_1.txt\n",
      "Processing: 199_2\n",
      "Processing: /home/kapis20/projects/PPGworkspace/papagei-foundation-model/5459299/PPG-BP Database/Data File/0_subject/199_2.txt\n",
      "Processing: 199_3\n",
      "Processing: /home/kapis20/projects/PPGworkspace/papagei-foundation-model/5459299/PPG-BP Database/Data File/0_subject/199_3.txt\n"
     ]
    },
    {
     "name": "stderr",
     "output_type": "stream",
     "text": [
      " 38%|███▊      | 251/657 [02:07<03:46,  1.80it/s]"
     ]
    },
    {
     "name": "stdout",
     "output_type": "stream",
     "text": [
      "[INFO] 0199 already exists\n",
      "Processing: 223_1\n",
      "Processing: /home/kapis20/projects/PPGworkspace/papagei-foundation-model/5459299/PPG-BP Database/Data File/0_subject/223_1.txt\n",
      "Processing: 223_2\n",
      "Processing: /home/kapis20/projects/PPGworkspace/papagei-foundation-model/5459299/PPG-BP Database/Data File/0_subject/223_2.txt\n"
     ]
    },
    {
     "name": "stderr",
     "output_type": "stream",
     "text": [
      " 38%|███▊      | 252/657 [02:07<03:36,  1.87it/s]"
     ]
    },
    {
     "name": "stdout",
     "output_type": "stream",
     "text": [
      "Processing: 223_3\n",
      "Processing: /home/kapis20/projects/PPGworkspace/papagei-foundation-model/5459299/PPG-BP Database/Data File/0_subject/223_3.txt\n",
      "[INFO] 0223 already exists\n",
      "Processing: 229_1\n",
      "Processing: /home/kapis20/projects/PPGworkspace/papagei-foundation-model/5459299/PPG-BP Database/Data File/0_subject/229_1.txt\n",
      "Processing: 229_2\n",
      "Processing: /home/kapis20/projects/PPGworkspace/papagei-foundation-model/5459299/PPG-BP Database/Data File/0_subject/229_2.txt\n",
      "Processing: 229_3\n",
      "Processing: /home/kapis20/projects/PPGworkspace/papagei-foundation-model/5459299/PPG-BP Database/Data File/0_subject/229_3.txt\n"
     ]
    },
    {
     "name": "stderr",
     "output_type": "stream",
     "text": [
      " 39%|███▊      | 253/657 [02:08<03:37,  1.85it/s]"
     ]
    },
    {
     "name": "stdout",
     "output_type": "stream",
     "text": [
      "[INFO] 0229 already exists\n",
      "Processing: 150_1\n",
      "Processing: /home/kapis20/projects/PPGworkspace/papagei-foundation-model/5459299/PPG-BP Database/Data File/0_subject/150_1.txt\n",
      "Processing: 150_2\n",
      "Processing: /home/kapis20/projects/PPGworkspace/papagei-foundation-model/5459299/PPG-BP Database/Data File/0_subject/150_2.txt\n",
      "Processing: 150_3\n",
      "Processing: /home/kapis20/projects/PPGworkspace/papagei-foundation-model/5459299/PPG-BP Database/Data File/0_subject/150_3.txt\n"
     ]
    },
    {
     "name": "stderr",
     "output_type": "stream",
     "text": [
      " 39%|███▊      | 254/657 [02:08<03:54,  1.72it/s]"
     ]
    },
    {
     "name": "stdout",
     "output_type": "stream",
     "text": [
      "[INFO] 0150 already exists\n",
      "Processing: 12_1\n",
      "Processing: /home/kapis20/projects/PPGworkspace/papagei-foundation-model/5459299/PPG-BP Database/Data File/0_subject/12_1.txt\n",
      "Processing: 12_2\n",
      "Processing: /home/kapis20/projects/PPGworkspace/papagei-foundation-model/5459299/PPG-BP Database/Data File/0_subject/12_2.txt\n"
     ]
    },
    {
     "name": "stderr",
     "output_type": "stream",
     "text": [
      " 39%|███▉      | 255/657 [02:09<03:45,  1.79it/s]"
     ]
    },
    {
     "name": "stdout",
     "output_type": "stream",
     "text": [
      "Processing: 12_3\n",
      "Processing: /home/kapis20/projects/PPGworkspace/papagei-foundation-model/5459299/PPG-BP Database/Data File/0_subject/12_3.txt\n",
      "[INFO] 0012 already exists\n",
      "Processing: 31_1\n",
      "Processing: /home/kapis20/projects/PPGworkspace/papagei-foundation-model/5459299/PPG-BP Database/Data File/0_subject/31_1.txt\n",
      "Processing: 31_2\n",
      "Processing: /home/kapis20/projects/PPGworkspace/papagei-foundation-model/5459299/PPG-BP Database/Data File/0_subject/31_2.txt\n",
      "Processing: 31_3\n",
      "Processing: /home/kapis20/projects/PPGworkspace/papagei-foundation-model/5459299/PPG-BP Database/Data File/0_subject/31_3.txt\n"
     ]
    },
    {
     "name": "stderr",
     "output_type": "stream",
     "text": [
      " 39%|███▉      | 256/657 [02:10<04:01,  1.66it/s]"
     ]
    },
    {
     "name": "stdout",
     "output_type": "stream",
     "text": [
      "[INFO] 0031 already exists\n",
      "Processing: 67_1\n",
      "Processing: /home/kapis20/projects/PPGworkspace/papagei-foundation-model/5459299/PPG-BP Database/Data File/0_subject/67_1.txt\n",
      "Processing: 67_2\n",
      "Processing: /home/kapis20/projects/PPGworkspace/papagei-foundation-model/5459299/PPG-BP Database/Data File/0_subject/67_2.txt\n"
     ]
    },
    {
     "name": "stderr",
     "output_type": "stream",
     "text": [
      " 39%|███▉      | 257/657 [02:10<03:49,  1.74it/s]"
     ]
    },
    {
     "name": "stdout",
     "output_type": "stream",
     "text": [
      "Processing: 67_3\n",
      "Processing: /home/kapis20/projects/PPGworkspace/papagei-foundation-model/5459299/PPG-BP Database/Data File/0_subject/67_3.txt\n",
      "[INFO] 0067 already exists\n",
      "Processing: 175_1\n",
      "Processing: /home/kapis20/projects/PPGworkspace/papagei-foundation-model/5459299/PPG-BP Database/Data File/0_subject/175_1.txt\n",
      "Processing: 175_2\n",
      "Processing: /home/kapis20/projects/PPGworkspace/papagei-foundation-model/5459299/PPG-BP Database/Data File/0_subject/175_2.txt\n",
      "Processing: 175_3\n",
      "Processing: /home/kapis20/projects/PPGworkspace/papagei-foundation-model/5459299/PPG-BP Database/Data File/0_subject/175_3.txt\n"
     ]
    },
    {
     "name": "stderr",
     "output_type": "stream",
     "text": [
      " 39%|███▉      | 258/657 [02:11<03:45,  1.77it/s]"
     ]
    },
    {
     "name": "stdout",
     "output_type": "stream",
     "text": [
      "[INFO] 0175 already exists\n",
      "Processing: 54_1\n",
      "Processing: /home/kapis20/projects/PPGworkspace/papagei-foundation-model/5459299/PPG-BP Database/Data File/0_subject/54_1.txt\n",
      "Processing: 54_2\n",
      "Processing: /home/kapis20/projects/PPGworkspace/papagei-foundation-model/5459299/PPG-BP Database/Data File/0_subject/54_2.txt\n"
     ]
    },
    {
     "name": "stderr",
     "output_type": "stream",
     "text": [
      " 39%|███▉      | 259/657 [02:11<03:33,  1.86it/s]"
     ]
    },
    {
     "name": "stdout",
     "output_type": "stream",
     "text": [
      "Processing: 54_3\n",
      "Processing: /home/kapis20/projects/PPGworkspace/papagei-foundation-model/5459299/PPG-BP Database/Data File/0_subject/54_3.txt\n",
      "[INFO] 0054 already exists\n",
      "Processing: 113_1\n",
      "Processing: /home/kapis20/projects/PPGworkspace/papagei-foundation-model/5459299/PPG-BP Database/Data File/0_subject/113_1.txt\n",
      "Processing: 113_2\n",
      "Processing: /home/kapis20/projects/PPGworkspace/papagei-foundation-model/5459299/PPG-BP Database/Data File/0_subject/113_2.txt\n",
      "Processing: 113_3\n",
      "Processing: /home/kapis20/projects/PPGworkspace/papagei-foundation-model/5459299/PPG-BP Database/Data File/0_subject/113_3.txt\n"
     ]
    },
    {
     "name": "stderr",
     "output_type": "stream",
     "text": [
      " 40%|███▉      | 260/657 [02:12<03:41,  1.79it/s]"
     ]
    },
    {
     "name": "stdout",
     "output_type": "stream",
     "text": [
      "[INFO] 0113 already exists\n",
      "Processing: 15_1\n",
      "Processing: /home/kapis20/projects/PPGworkspace/papagei-foundation-model/5459299/PPG-BP Database/Data File/0_subject/15_1.txt\n",
      "Processing: 15_2\n",
      "Processing: /home/kapis20/projects/PPGworkspace/papagei-foundation-model/5459299/PPG-BP Database/Data File/0_subject/15_2.txt\n",
      "Processing: 15_3\n",
      "Processing: /home/kapis20/projects/PPGworkspace/papagei-foundation-model/5459299/PPG-BP Database/Data File/0_subject/15_3.txt\n"
     ]
    },
    {
     "name": "stderr",
     "output_type": "stream",
     "text": [
      " 40%|███▉      | 261/657 [02:12<03:56,  1.67it/s]"
     ]
    },
    {
     "name": "stdout",
     "output_type": "stream",
     "text": [
      "[INFO] 0015 already exists\n",
      "Processing: 157_1\n",
      "Processing: /home/kapis20/projects/PPGworkspace/papagei-foundation-model/5459299/PPG-BP Database/Data File/0_subject/157_1.txt\n",
      "Processing: 157_2\n",
      "Processing: /home/kapis20/projects/PPGworkspace/papagei-foundation-model/5459299/PPG-BP Database/Data File/0_subject/157_2.txt\n",
      "Processing: 157_3\n",
      "Processing: /home/kapis20/projects/PPGworkspace/papagei-foundation-model/5459299/PPG-BP Database/Data File/0_subject/157_3.txt\n"
     ]
    },
    {
     "name": "stderr",
     "output_type": "stream",
     "text": [
      " 40%|███▉      | 262/657 [02:13<03:59,  1.65it/s]"
     ]
    },
    {
     "name": "stdout",
     "output_type": "stream",
     "text": [
      "[INFO] 0157 already exists\n",
      "Processing: 134_1\n",
      "Processing: /home/kapis20/projects/PPGworkspace/papagei-foundation-model/5459299/PPG-BP Database/Data File/0_subject/134_1.txt\n",
      "Processing: 134_2\n",
      "Processing: /home/kapis20/projects/PPGworkspace/papagei-foundation-model/5459299/PPG-BP Database/Data File/0_subject/134_2.txt\n"
     ]
    },
    {
     "name": "stderr",
     "output_type": "stream",
     "text": [
      " 40%|████      | 263/657 [02:13<03:43,  1.76it/s]"
     ]
    },
    {
     "name": "stdout",
     "output_type": "stream",
     "text": [
      "Processing: 134_3\n",
      "Processing: /home/kapis20/projects/PPGworkspace/papagei-foundation-model/5459299/PPG-BP Database/Data File/0_subject/134_3.txt\n",
      "[INFO] 0134 already exists\n",
      "Processing: 220_1\n",
      "Processing: /home/kapis20/projects/PPGworkspace/papagei-foundation-model/5459299/PPG-BP Database/Data File/0_subject/220_1.txt\n",
      "Processing: 220_2\n",
      "Processing: /home/kapis20/projects/PPGworkspace/papagei-foundation-model/5459299/PPG-BP Database/Data File/0_subject/220_2.txt\n",
      "Processing: 220_3\n",
      "Processing: /home/kapis20/projects/PPGworkspace/papagei-foundation-model/5459299/PPG-BP Database/Data File/0_subject/220_3.txt\n"
     ]
    },
    {
     "name": "stderr",
     "output_type": "stream",
     "text": [
      " 40%|████      | 264/657 [02:14<03:36,  1.82it/s]"
     ]
    },
    {
     "name": "stdout",
     "output_type": "stream",
     "text": [
      "[INFO] 0220 already exists\n",
      "Processing: 205_1\n",
      "Processing: /home/kapis20/projects/PPGworkspace/papagei-foundation-model/5459299/PPG-BP Database/Data File/0_subject/205_1.txt\n",
      "Processing: 205_2\n",
      "Processing: /home/kapis20/projects/PPGworkspace/papagei-foundation-model/5459299/PPG-BP Database/Data File/0_subject/205_2.txt\n"
     ]
    },
    {
     "name": "stderr",
     "output_type": "stream",
     "text": [
      " 40%|████      | 265/657 [02:15<03:33,  1.83it/s]"
     ]
    },
    {
     "name": "stdout",
     "output_type": "stream",
     "text": [
      "Processing: 205_3\n",
      "Processing: /home/kapis20/projects/PPGworkspace/papagei-foundation-model/5459299/PPG-BP Database/Data File/0_subject/205_3.txt\n",
      "[INFO] 0205 already exists\n",
      "Processing: 230_1\n",
      "Processing: /home/kapis20/projects/PPGworkspace/papagei-foundation-model/5459299/PPG-BP Database/Data File/0_subject/230_1.txt\n",
      "Processing: 230_2\n",
      "Processing: /home/kapis20/projects/PPGworkspace/papagei-foundation-model/5459299/PPG-BP Database/Data File/0_subject/230_2.txt\n",
      "Processing: 230_3\n",
      "Processing: /home/kapis20/projects/PPGworkspace/papagei-foundation-model/5459299/PPG-BP Database/Data File/0_subject/230_3.txt\n"
     ]
    },
    {
     "name": "stderr",
     "output_type": "stream",
     "text": [
      " 40%|████      | 266/657 [02:15<03:44,  1.75it/s]"
     ]
    },
    {
     "name": "stdout",
     "output_type": "stream",
     "text": [
      "[INFO] 0230 already exists\n",
      "Processing: 103_1\n",
      "Processing: /home/kapis20/projects/PPGworkspace/papagei-foundation-model/5459299/PPG-BP Database/Data File/0_subject/103_1.txt\n",
      "Processing: 103_2\n",
      "Processing: /home/kapis20/projects/PPGworkspace/papagei-foundation-model/5459299/PPG-BP Database/Data File/0_subject/103_2.txt\n"
     ]
    },
    {
     "name": "stderr",
     "output_type": "stream",
     "text": [
      " 41%|████      | 267/657 [02:16<03:31,  1.84it/s]"
     ]
    },
    {
     "name": "stdout",
     "output_type": "stream",
     "text": [
      "Processing: 103_3\n",
      "Processing: /home/kapis20/projects/PPGworkspace/papagei-foundation-model/5459299/PPG-BP Database/Data File/0_subject/103_3.txt\n",
      "[INFO] 0103 already exists\n",
      "Processing: 246_1\n",
      "Processing: /home/kapis20/projects/PPGworkspace/papagei-foundation-model/5459299/PPG-BP Database/Data File/0_subject/246_1.txt\n",
      "Processing: 246_2\n",
      "Processing: /home/kapis20/projects/PPGworkspace/papagei-foundation-model/5459299/PPG-BP Database/Data File/0_subject/246_2.txt\n",
      "Processing: 246_3\n",
      "Processing: /home/kapis20/projects/PPGworkspace/papagei-foundation-model/5459299/PPG-BP Database/Data File/0_subject/246_3.txt\n"
     ]
    },
    {
     "name": "stderr",
     "output_type": "stream",
     "text": [
      " 41%|████      | 268/657 [02:16<03:33,  1.82it/s]"
     ]
    },
    {
     "name": "stdout",
     "output_type": "stream",
     "text": [
      "[INFO] 0246 already exists\n",
      "Processing: 172_1\n",
      "Processing: /home/kapis20/projects/PPGworkspace/papagei-foundation-model/5459299/PPG-BP Database/Data File/0_subject/172_1.txt\n",
      "Processing: 172_2\n",
      "Processing: /home/kapis20/projects/PPGworkspace/papagei-foundation-model/5459299/PPG-BP Database/Data File/0_subject/172_2.txt\n"
     ]
    },
    {
     "name": "stderr",
     "output_type": "stream",
     "text": [
      " 41%|████      | 269/657 [02:17<03:20,  1.94it/s]"
     ]
    },
    {
     "name": "stdout",
     "output_type": "stream",
     "text": [
      "Processing: 172_3\n",
      "Processing: /home/kapis20/projects/PPGworkspace/papagei-foundation-model/5459299/PPG-BP Database/Data File/0_subject/172_3.txt\n",
      "[INFO] 0172 already exists\n",
      "Processing: 123_1\n",
      "Processing: /home/kapis20/projects/PPGworkspace/papagei-foundation-model/5459299/PPG-BP Database/Data File/0_subject/123_1.txt\n",
      "Processing: 123_2\n",
      "Processing: /home/kapis20/projects/PPGworkspace/papagei-foundation-model/5459299/PPG-BP Database/Data File/0_subject/123_2.txt\n",
      "Processing: 123_3\n",
      "Processing: /home/kapis20/projects/PPGworkspace/papagei-foundation-model/5459299/PPG-BP Database/Data File/0_subject/123_3.txt\n"
     ]
    },
    {
     "name": "stderr",
     "output_type": "stream",
     "text": [
      " 41%|████      | 270/657 [02:17<03:13,  2.00it/s]"
     ]
    },
    {
     "name": "stdout",
     "output_type": "stream",
     "text": [
      "[INFO] 0123 already exists\n",
      "Processing: 167_1\n",
      "Processing: /home/kapis20/projects/PPGworkspace/papagei-foundation-model/5459299/PPG-BP Database/Data File/0_subject/167_1.txt\n",
      "Processing: 167_2\n",
      "Processing: /home/kapis20/projects/PPGworkspace/papagei-foundation-model/5459299/PPG-BP Database/Data File/0_subject/167_2.txt\n",
      "Processing: 167_3\n",
      "Processing: /home/kapis20/projects/PPGworkspace/papagei-foundation-model/5459299/PPG-BP Database/Data File/0_subject/167_3.txt\n"
     ]
    },
    {
     "name": "stderr",
     "output_type": "stream",
     "text": [
      " 41%|████      | 271/657 [02:18<03:18,  1.94it/s]"
     ]
    },
    {
     "name": "stdout",
     "output_type": "stream",
     "text": [
      "[INFO] 0167 already exists\n",
      "Processing: 223_1\n",
      "Processing: /home/kapis20/projects/PPGworkspace/papagei-foundation-model/5459299/PPG-BP Database/Data File/0_subject/223_1.txt\n",
      "Processing: 223_2\n",
      "Processing: /home/kapis20/projects/PPGworkspace/papagei-foundation-model/5459299/PPG-BP Database/Data File/0_subject/223_2.txt\n"
     ]
    },
    {
     "name": "stderr",
     "output_type": "stream",
     "text": [
      " 41%|████▏     | 272/657 [02:18<03:12,  2.00it/s]"
     ]
    },
    {
     "name": "stdout",
     "output_type": "stream",
     "text": [
      "Processing: 223_3\n",
      "Processing: /home/kapis20/projects/PPGworkspace/papagei-foundation-model/5459299/PPG-BP Database/Data File/0_subject/223_3.txt\n",
      "[INFO] 0223 already exists\n",
      "Processing: 212_1\n",
      "Processing: /home/kapis20/projects/PPGworkspace/papagei-foundation-model/5459299/PPG-BP Database/Data File/0_subject/212_1.txt\n",
      "Processing: 212_2\n",
      "Processing: /home/kapis20/projects/PPGworkspace/papagei-foundation-model/5459299/PPG-BP Database/Data File/0_subject/212_2.txt\n",
      "Processing: 212_3\n",
      "Processing: /home/kapis20/projects/PPGworkspace/papagei-foundation-model/5459299/PPG-BP Database/Data File/0_subject/212_3.txt\n"
     ]
    },
    {
     "name": "stderr",
     "output_type": "stream",
     "text": [
      " 42%|████▏     | 273/657 [02:19<03:14,  1.98it/s]"
     ]
    },
    {
     "name": "stdout",
     "output_type": "stream",
     "text": [
      "[INFO] 0212 already exists\n",
      "Processing: 241_1\n",
      "Processing: /home/kapis20/projects/PPGworkspace/papagei-foundation-model/5459299/PPG-BP Database/Data File/0_subject/241_1.txt\n",
      "Processing: 241_2\n",
      "Processing: /home/kapis20/projects/PPGworkspace/papagei-foundation-model/5459299/PPG-BP Database/Data File/0_subject/241_2.txt\n"
     ]
    },
    {
     "name": "stderr",
     "output_type": "stream",
     "text": [
      " 42%|████▏     | 274/657 [02:19<03:08,  2.03it/s]"
     ]
    },
    {
     "name": "stdout",
     "output_type": "stream",
     "text": [
      "Processing: 241_3\n",
      "Processing: /home/kapis20/projects/PPGworkspace/papagei-foundation-model/5459299/PPG-BP Database/Data File/0_subject/241_3.txt\n",
      "[INFO] 0241 already exists\n",
      "Processing: 97_1\n",
      "Processing: /home/kapis20/projects/PPGworkspace/papagei-foundation-model/5459299/PPG-BP Database/Data File/0_subject/97_1.txt\n",
      "Processing: 97_2\n",
      "Processing: /home/kapis20/projects/PPGworkspace/papagei-foundation-model/5459299/PPG-BP Database/Data File/0_subject/97_2.txt\n",
      "Processing: 97_3\n",
      "Processing: /home/kapis20/projects/PPGworkspace/papagei-foundation-model/5459299/PPG-BP Database/Data File/0_subject/97_3.txt\n"
     ]
    },
    {
     "name": "stderr",
     "output_type": "stream",
     "text": [
      " 42%|████▏     | 275/657 [02:20<03:04,  2.07it/s]"
     ]
    },
    {
     "name": "stdout",
     "output_type": "stream",
     "text": [
      "[INFO] 0097 already exists\n",
      "Processing: 210_1\n",
      "Processing: /home/kapis20/projects/PPGworkspace/papagei-foundation-model/5459299/PPG-BP Database/Data File/0_subject/210_1.txt\n",
      "Processing: 210_2\n",
      "Processing: /home/kapis20/projects/PPGworkspace/papagei-foundation-model/5459299/PPG-BP Database/Data File/0_subject/210_2.txt\n",
      "Processing: 210_3\n",
      "Processing: /home/kapis20/projects/PPGworkspace/papagei-foundation-model/5459299/PPG-BP Database/Data File/0_subject/210_3.txt\n",
      "[INFO] 0210 already exists\n",
      "Processing: 110_1\n",
      "Processing: /home/kapis20/projects/PPGworkspace/papagei-foundation-model/5459299/PPG-BP Database/Data File/0_subject/110_1.txt\n",
      "Processing: 110_2\n",
      "Processing: /home/kapis20/projects/PPGworkspace/papagei-foundation-model/5459299/PPG-BP Database/Data File/0_subject/110_2.txt\n",
      "Processing: 110_3\n",
      "Processing: /home/kapis20/projects/PPGworkspace/papagei-foundation-model/5459299/PPG-BP Database/Data File/0_subject/110_3.txt\n",
      "[INFO] 0110 already exists\n",
      "Processing: 27_1\n",
      "Processing: /home/kapis20/projects/PPGworkspace/papagei-foundation-model/5459299/PPG-BP Database/Data File/0_subject/27_1.txt\n",
      "Processing: 27_2\n",
      "Processing: /home/kapis20/projects/PPGworkspace/papagei-foundation-model/5459299/PPG-BP Database/Data File/0_subject/27_2.txt\n",
      "Processing: 27_3\n",
      "Processing: /home/kapis20/projects/PPGworkspace/papagei-foundation-model/5459299/PPG-BP Database/Data File/0_subject/27_3.txt\n"
     ]
    },
    {
     "name": "stderr",
     "output_type": "stream",
     "text": [
      " 42%|████▏     | 278/657 [02:20<01:32,  4.09it/s]"
     ]
    },
    {
     "name": "stdout",
     "output_type": "stream",
     "text": [
      "[INFO] 0027 already exists\n",
      "Processing: 51_1\n",
      "Processing: /home/kapis20/projects/PPGworkspace/papagei-foundation-model/5459299/PPG-BP Database/Data File/0_subject/51_1.txt\n",
      "Processing: 51_2\n",
      "Processing: /home/kapis20/projects/PPGworkspace/papagei-foundation-model/5459299/PPG-BP Database/Data File/0_subject/51_2.txt\n"
     ]
    },
    {
     "name": "stderr",
     "output_type": "stream",
     "text": [
      " 42%|████▏     | 279/657 [02:20<01:49,  3.44it/s]"
     ]
    },
    {
     "name": "stdout",
     "output_type": "stream",
     "text": [
      "Processing: 51_3\n",
      "Processing: /home/kapis20/projects/PPGworkspace/papagei-foundation-model/5459299/PPG-BP Database/Data File/0_subject/51_3.txt\n",
      "[INFO] 0051 already exists\n",
      "Processing: 110_1\n",
      "Processing: /home/kapis20/projects/PPGworkspace/papagei-foundation-model/5459299/PPG-BP Database/Data File/0_subject/110_1.txt\n",
      "Processing: 110_2\n",
      "Processing: /home/kapis20/projects/PPGworkspace/papagei-foundation-model/5459299/PPG-BP Database/Data File/0_subject/110_2.txt\n",
      "Processing: 110_3\n",
      "Processing: /home/kapis20/projects/PPGworkspace/papagei-foundation-model/5459299/PPG-BP Database/Data File/0_subject/110_3.txt\n"
     ]
    },
    {
     "name": "stderr",
     "output_type": "stream",
     "text": [
      " 43%|████▎     | 280/657 [02:21<02:05,  3.00it/s]"
     ]
    },
    {
     "name": "stdout",
     "output_type": "stream",
     "text": [
      "[INFO] 0110 already exists\n",
      "Processing: 234_1\n",
      "Processing: /home/kapis20/projects/PPGworkspace/papagei-foundation-model/5459299/PPG-BP Database/Data File/0_subject/234_1.txt\n",
      "Processing: 234_2\n",
      "Processing: /home/kapis20/projects/PPGworkspace/papagei-foundation-model/5459299/PPG-BP Database/Data File/0_subject/234_2.txt\n"
     ]
    },
    {
     "name": "stderr",
     "output_type": "stream",
     "text": [
      " 43%|████▎     | 281/657 [02:21<02:16,  2.76it/s]"
     ]
    },
    {
     "name": "stdout",
     "output_type": "stream",
     "text": [
      "Processing: 234_3\n",
      "Processing: /home/kapis20/projects/PPGworkspace/papagei-foundation-model/5459299/PPG-BP Database/Data File/0_subject/234_3.txt\n",
      "[INFO] 0234 already exists\n",
      "Processing: 257_1\n",
      "Processing: /home/kapis20/projects/PPGworkspace/papagei-foundation-model/5459299/PPG-BP Database/Data File/0_subject/257_1.txt\n",
      "Processing: 257_2\n",
      "Processing: /home/kapis20/projects/PPGworkspace/papagei-foundation-model/5459299/PPG-BP Database/Data File/0_subject/257_2.txt\n",
      "Processing: 257_3\n",
      "Processing: /home/kapis20/projects/PPGworkspace/papagei-foundation-model/5459299/PPG-BP Database/Data File/0_subject/257_3.txt\n"
     ]
    },
    {
     "name": "stderr",
     "output_type": "stream",
     "text": [
      " 43%|████▎     | 282/657 [02:22<02:29,  2.51it/s]"
     ]
    },
    {
     "name": "stdout",
     "output_type": "stream",
     "text": [
      "[INFO] 0257 already exists\n",
      "Processing: 192_1\n",
      "Processing: /home/kapis20/projects/PPGworkspace/papagei-foundation-model/5459299/PPG-BP Database/Data File/0_subject/192_1.txt\n",
      "Processing: 192_2\n",
      "Processing: /home/kapis20/projects/PPGworkspace/papagei-foundation-model/5459299/PPG-BP Database/Data File/0_subject/192_2.txt\n",
      "Processing: 192_3\n",
      "Processing: /home/kapis20/projects/PPGworkspace/papagei-foundation-model/5459299/PPG-BP Database/Data File/0_subject/192_3.txt\n"
     ]
    },
    {
     "name": "stderr",
     "output_type": "stream",
     "text": [
      " 43%|████▎     | 283/657 [02:22<02:44,  2.27it/s]"
     ]
    },
    {
     "name": "stdout",
     "output_type": "stream",
     "text": [
      "[INFO] 0192 already exists\n",
      "Processing: 45_1\n",
      "Processing: /home/kapis20/projects/PPGworkspace/papagei-foundation-model/5459299/PPG-BP Database/Data File/0_subject/45_1.txt\n",
      "Processing: 45_2\n",
      "Processing: /home/kapis20/projects/PPGworkspace/papagei-foundation-model/5459299/PPG-BP Database/Data File/0_subject/45_2.txt\n"
     ]
    },
    {
     "name": "stderr",
     "output_type": "stream",
     "text": [
      " 43%|████▎     | 284/657 [02:23<02:49,  2.20it/s]"
     ]
    },
    {
     "name": "stdout",
     "output_type": "stream",
     "text": [
      "Processing: 45_3\n",
      "Processing: /home/kapis20/projects/PPGworkspace/papagei-foundation-model/5459299/PPG-BP Database/Data File/0_subject/45_3.txt\n",
      "[INFO] 0045 already exists\n",
      "Processing: 35_1\n",
      "Processing: /home/kapis20/projects/PPGworkspace/papagei-foundation-model/5459299/PPG-BP Database/Data File/0_subject/35_1.txt\n",
      "Processing: 35_2\n",
      "Processing: /home/kapis20/projects/PPGworkspace/papagei-foundation-model/5459299/PPG-BP Database/Data File/0_subject/35_2.txt\n",
      "Processing: 35_3\n",
      "Processing: /home/kapis20/projects/PPGworkspace/papagei-foundation-model/5459299/PPG-BP Database/Data File/0_subject/35_3.txt\n"
     ]
    },
    {
     "name": "stderr",
     "output_type": "stream",
     "text": [
      " 43%|████▎     | 285/657 [02:23<02:52,  2.16it/s]"
     ]
    },
    {
     "name": "stdout",
     "output_type": "stream",
     "text": [
      "[INFO] 0035 already exists\n",
      "Processing: 55_1\n",
      "Processing: /home/kapis20/projects/PPGworkspace/papagei-foundation-model/5459299/PPG-BP Database/Data File/0_subject/55_1.txt\n",
      "Processing: 55_2\n",
      "Processing: /home/kapis20/projects/PPGworkspace/papagei-foundation-model/5459299/PPG-BP Database/Data File/0_subject/55_2.txt\n"
     ]
    },
    {
     "name": "stderr",
     "output_type": "stream",
     "text": [
      " 44%|████▎     | 286/657 [02:24<02:55,  2.11it/s]"
     ]
    },
    {
     "name": "stdout",
     "output_type": "stream",
     "text": [
      "Processing: 55_3\n",
      "Processing: /home/kapis20/projects/PPGworkspace/papagei-foundation-model/5459299/PPG-BP Database/Data File/0_subject/55_3.txt\n",
      "[INFO] 0055 already exists\n",
      "Processing: 87_1\n",
      "Processing: /home/kapis20/projects/PPGworkspace/papagei-foundation-model/5459299/PPG-BP Database/Data File/0_subject/87_1.txt\n",
      "Processing: 87_2\n",
      "Processing: /home/kapis20/projects/PPGworkspace/papagei-foundation-model/5459299/PPG-BP Database/Data File/0_subject/87_2.txt\n",
      "Processing: 87_3\n",
      "Processing: /home/kapis20/projects/PPGworkspace/papagei-foundation-model/5459299/PPG-BP Database/Data File/0_subject/87_3.txt\n"
     ]
    },
    {
     "name": "stderr",
     "output_type": "stream",
     "text": [
      " 44%|████▎     | 287/657 [02:24<03:02,  2.03it/s]"
     ]
    },
    {
     "name": "stdout",
     "output_type": "stream",
     "text": [
      "[INFO] 0087 already exists\n",
      "Processing: 136_1\n",
      "Processing: /home/kapis20/projects/PPGworkspace/papagei-foundation-model/5459299/PPG-BP Database/Data File/0_subject/136_1.txt\n",
      "Processing: 136_2\n",
      "Processing: /home/kapis20/projects/PPGworkspace/papagei-foundation-model/5459299/PPG-BP Database/Data File/0_subject/136_2.txt\n"
     ]
    },
    {
     "name": "stderr",
     "output_type": "stream",
     "text": [
      " 44%|████▍     | 288/657 [02:25<03:00,  2.04it/s]"
     ]
    },
    {
     "name": "stdout",
     "output_type": "stream",
     "text": [
      "Processing: 136_3\n",
      "Processing: /home/kapis20/projects/PPGworkspace/papagei-foundation-model/5459299/PPG-BP Database/Data File/0_subject/136_3.txt\n",
      "[INFO] 0136 already exists\n",
      "Processing: 112_1\n",
      "Processing: /home/kapis20/projects/PPGworkspace/papagei-foundation-model/5459299/PPG-BP Database/Data File/0_subject/112_1.txt\n",
      "Processing: 112_2\n",
      "Processing: /home/kapis20/projects/PPGworkspace/papagei-foundation-model/5459299/PPG-BP Database/Data File/0_subject/112_2.txt\n",
      "Processing: 112_3\n",
      "Processing: /home/kapis20/projects/PPGworkspace/papagei-foundation-model/5459299/PPG-BP Database/Data File/0_subject/112_3.txt\n"
     ]
    },
    {
     "name": "stderr",
     "output_type": "stream",
     "text": [
      " 44%|████▍     | 289/657 [02:25<02:58,  2.06it/s]"
     ]
    },
    {
     "name": "stdout",
     "output_type": "stream",
     "text": [
      "[INFO] 0112 already exists\n",
      "Processing: 163_1\n",
      "Processing: /home/kapis20/projects/PPGworkspace/papagei-foundation-model/5459299/PPG-BP Database/Data File/0_subject/163_1.txt\n",
      "Processing: 163_2\n",
      "Processing: /home/kapis20/projects/PPGworkspace/papagei-foundation-model/5459299/PPG-BP Database/Data File/0_subject/163_2.txt\n"
     ]
    },
    {
     "name": "stderr",
     "output_type": "stream",
     "text": [
      " 44%|████▍     | 290/657 [02:26<02:57,  2.07it/s]"
     ]
    },
    {
     "name": "stdout",
     "output_type": "stream",
     "text": [
      "Processing: 163_3\n",
      "Processing: /home/kapis20/projects/PPGworkspace/papagei-foundation-model/5459299/PPG-BP Database/Data File/0_subject/163_3.txt\n",
      "[INFO] 0163 already exists\n",
      "Processing: 119_1\n",
      "Processing: /home/kapis20/projects/PPGworkspace/papagei-foundation-model/5459299/PPG-BP Database/Data File/0_subject/119_1.txt\n",
      "Processing: 119_2\n",
      "Processing: /home/kapis20/projects/PPGworkspace/papagei-foundation-model/5459299/PPG-BP Database/Data File/0_subject/119_2.txt\n",
      "Processing: 119_3\n",
      "Processing: /home/kapis20/projects/PPGworkspace/papagei-foundation-model/5459299/PPG-BP Database/Data File/0_subject/119_3.txt\n"
     ]
    },
    {
     "name": "stderr",
     "output_type": "stream",
     "text": [
      " 44%|████▍     | 291/657 [02:26<02:56,  2.07it/s]"
     ]
    },
    {
     "name": "stdout",
     "output_type": "stream",
     "text": [
      "[INFO] 0119 already exists\n",
      "Processing: 251_1\n",
      "Processing: /home/kapis20/projects/PPGworkspace/papagei-foundation-model/5459299/PPG-BP Database/Data File/0_subject/251_1.txt\n",
      "Processing: 251_2\n",
      "Processing: /home/kapis20/projects/PPGworkspace/papagei-foundation-model/5459299/PPG-BP Database/Data File/0_subject/251_2.txt\n",
      "Processing: 251_3\n",
      "Processing: /home/kapis20/projects/PPGworkspace/papagei-foundation-model/5459299/PPG-BP Database/Data File/0_subject/251_3.txt\n"
     ]
    },
    {
     "name": "stderr",
     "output_type": "stream",
     "text": [
      " 44%|████▍     | 292/657 [02:27<03:10,  1.92it/s]"
     ]
    },
    {
     "name": "stdout",
     "output_type": "stream",
     "text": [
      "[INFO] 0251 already exists\n",
      "Processing: 17_1\n",
      "Processing: /home/kapis20/projects/PPGworkspace/papagei-foundation-model/5459299/PPG-BP Database/Data File/0_subject/17_1.txt\n",
      "Processing: 17_2\n",
      "Processing: /home/kapis20/projects/PPGworkspace/papagei-foundation-model/5459299/PPG-BP Database/Data File/0_subject/17_2.txt\n"
     ]
    },
    {
     "name": "stderr",
     "output_type": "stream",
     "text": [
      " 45%|████▍     | 293/657 [02:27<03:04,  1.97it/s]"
     ]
    },
    {
     "name": "stdout",
     "output_type": "stream",
     "text": [
      "Processing: 17_3\n",
      "Processing: /home/kapis20/projects/PPGworkspace/papagei-foundation-model/5459299/PPG-BP Database/Data File/0_subject/17_3.txt\n",
      "[INFO] 0017 already exists\n",
      "Processing: 235_1\n",
      "Processing: /home/kapis20/projects/PPGworkspace/papagei-foundation-model/5459299/PPG-BP Database/Data File/0_subject/235_1.txt\n",
      "Processing: 235_2\n",
      "Processing: /home/kapis20/projects/PPGworkspace/papagei-foundation-model/5459299/PPG-BP Database/Data File/0_subject/235_2.txt\n",
      "Processing: 235_3\n",
      "Processing: /home/kapis20/projects/PPGworkspace/papagei-foundation-model/5459299/PPG-BP Database/Data File/0_subject/235_3.txt\n"
     ]
    },
    {
     "name": "stderr",
     "output_type": "stream",
     "text": [
      " 45%|████▍     | 294/657 [02:28<03:01,  2.00it/s]"
     ]
    },
    {
     "name": "stdout",
     "output_type": "stream",
     "text": [
      "[INFO] 0235 already exists\n",
      "Processing: 209_1\n",
      "Processing: /home/kapis20/projects/PPGworkspace/papagei-foundation-model/5459299/PPG-BP Database/Data File/0_subject/209_1.txt\n",
      "Processing: 209_2\n",
      "Processing: /home/kapis20/projects/PPGworkspace/papagei-foundation-model/5459299/PPG-BP Database/Data File/0_subject/209_2.txt\n"
     ]
    },
    {
     "name": "stderr",
     "output_type": "stream",
     "text": [
      " 45%|████▍     | 295/657 [02:28<02:58,  2.03it/s]"
     ]
    },
    {
     "name": "stdout",
     "output_type": "stream",
     "text": [
      "Processing: 209_3\n",
      "Processing: /home/kapis20/projects/PPGworkspace/papagei-foundation-model/5459299/PPG-BP Database/Data File/0_subject/209_3.txt\n",
      "[INFO] 0209 already exists\n",
      "Processing: 123_1\n",
      "Processing: /home/kapis20/projects/PPGworkspace/papagei-foundation-model/5459299/PPG-BP Database/Data File/0_subject/123_1.txt\n",
      "Processing: 123_2\n",
      "Processing: /home/kapis20/projects/PPGworkspace/papagei-foundation-model/5459299/PPG-BP Database/Data File/0_subject/123_2.txt\n",
      "Processing: 123_3\n",
      "Processing: /home/kapis20/projects/PPGworkspace/papagei-foundation-model/5459299/PPG-BP Database/Data File/0_subject/123_3.txt\n"
     ]
    },
    {
     "name": "stderr",
     "output_type": "stream",
     "text": [
      " 45%|████▌     | 296/657 [02:29<03:09,  1.91it/s]"
     ]
    },
    {
     "name": "stdout",
     "output_type": "stream",
     "text": [
      "[INFO] 0123 already exists\n",
      "Processing: 103_1\n",
      "Processing: /home/kapis20/projects/PPGworkspace/papagei-foundation-model/5459299/PPG-BP Database/Data File/0_subject/103_1.txt\n",
      "Processing: 103_2\n",
      "Processing: /home/kapis20/projects/PPGworkspace/papagei-foundation-model/5459299/PPG-BP Database/Data File/0_subject/103_2.txt\n"
     ]
    },
    {
     "name": "stderr",
     "output_type": "stream",
     "text": [
      " 45%|████▌     | 297/657 [02:29<03:02,  1.97it/s]"
     ]
    },
    {
     "name": "stdout",
     "output_type": "stream",
     "text": [
      "Processing: 103_3\n",
      "Processing: /home/kapis20/projects/PPGworkspace/papagei-foundation-model/5459299/PPG-BP Database/Data File/0_subject/103_3.txt\n",
      "[INFO] 0103 already exists\n",
      "Processing: 43_1\n",
      "Processing: /home/kapis20/projects/PPGworkspace/papagei-foundation-model/5459299/PPG-BP Database/Data File/0_subject/43_1.txt\n",
      "Processing: 43_2\n",
      "Processing: /home/kapis20/projects/PPGworkspace/papagei-foundation-model/5459299/PPG-BP Database/Data File/0_subject/43_2.txt\n",
      "Processing: 43_3\n",
      "Processing: /home/kapis20/projects/PPGworkspace/papagei-foundation-model/5459299/PPG-BP Database/Data File/0_subject/43_3.txt\n"
     ]
    },
    {
     "name": "stderr",
     "output_type": "stream",
     "text": [
      " 45%|████▌     | 298/657 [02:30<02:58,  2.01it/s]"
     ]
    },
    {
     "name": "stdout",
     "output_type": "stream",
     "text": [
      "[INFO] 0043 already exists\n",
      "Processing: 246_1\n",
      "Processing: /home/kapis20/projects/PPGworkspace/papagei-foundation-model/5459299/PPG-BP Database/Data File/0_subject/246_1.txt\n",
      "Processing: 246_2\n",
      "Processing: /home/kapis20/projects/PPGworkspace/papagei-foundation-model/5459299/PPG-BP Database/Data File/0_subject/246_2.txt\n"
     ]
    },
    {
     "name": "stderr",
     "output_type": "stream",
     "text": [
      " 46%|████▌     | 299/657 [02:30<02:56,  2.02it/s]"
     ]
    },
    {
     "name": "stdout",
     "output_type": "stream",
     "text": [
      "Processing: 246_3\n",
      "Processing: /home/kapis20/projects/PPGworkspace/papagei-foundation-model/5459299/PPG-BP Database/Data File/0_subject/246_3.txt\n",
      "[INFO] 0246 already exists\n",
      "Processing: 65_1\n",
      "Processing: /home/kapis20/projects/PPGworkspace/papagei-foundation-model/5459299/PPG-BP Database/Data File/0_subject/65_1.txt\n",
      "Processing: 65_2\n",
      "Processing: /home/kapis20/projects/PPGworkspace/papagei-foundation-model/5459299/PPG-BP Database/Data File/0_subject/65_2.txt\n",
      "Processing: 65_3\n",
      "Processing: /home/kapis20/projects/PPGworkspace/papagei-foundation-model/5459299/PPG-BP Database/Data File/0_subject/65_3.txt\n"
     ]
    },
    {
     "name": "stderr",
     "output_type": "stream",
     "text": [
      " 46%|████▌     | 300/657 [02:31<03:02,  1.95it/s]"
     ]
    },
    {
     "name": "stdout",
     "output_type": "stream",
     "text": [
      "[INFO] 0065 already exists\n",
      "Processing: 3_1\n",
      "Processing: /home/kapis20/projects/PPGworkspace/papagei-foundation-model/5459299/PPG-BP Database/Data File/0_subject/3_1.txt\n",
      "Processing: 3_2\n",
      "Processing: /home/kapis20/projects/PPGworkspace/papagei-foundation-model/5459299/PPG-BP Database/Data File/0_subject/3_2.txt\n"
     ]
    },
    {
     "name": "stderr",
     "output_type": "stream",
     "text": [
      " 46%|████▌     | 301/657 [02:31<02:59,  1.99it/s]"
     ]
    },
    {
     "name": "stdout",
     "output_type": "stream",
     "text": [
      "Processing: 3_3\n",
      "Processing: /home/kapis20/projects/PPGworkspace/papagei-foundation-model/5459299/PPG-BP Database/Data File/0_subject/3_3.txt\n",
      "[INFO] 0003 already exists\n",
      "Processing: 161_1\n",
      "Processing: /home/kapis20/projects/PPGworkspace/papagei-foundation-model/5459299/PPG-BP Database/Data File/0_subject/161_1.txt\n",
      "Processing: 161_2\n",
      "Processing: /home/kapis20/projects/PPGworkspace/papagei-foundation-model/5459299/PPG-BP Database/Data File/0_subject/161_2.txt\n",
      "Processing: 161_3\n",
      "Processing: /home/kapis20/projects/PPGworkspace/papagei-foundation-model/5459299/PPG-BP Database/Data File/0_subject/161_3.txt\n"
     ]
    },
    {
     "name": "stderr",
     "output_type": "stream",
     "text": [
      " 46%|████▌     | 302/657 [02:32<02:55,  2.02it/s]"
     ]
    },
    {
     "name": "stdout",
     "output_type": "stream",
     "text": [
      "[INFO] 0161 already exists\n",
      "Processing: 190_1\n",
      "Processing: /home/kapis20/projects/PPGworkspace/papagei-foundation-model/5459299/PPG-BP Database/Data File/0_subject/190_1.txt\n",
      "Processing: 190_2\n",
      "Processing: /home/kapis20/projects/PPGworkspace/papagei-foundation-model/5459299/PPG-BP Database/Data File/0_subject/190_2.txt\n"
     ]
    },
    {
     "name": "stderr",
     "output_type": "stream",
     "text": [
      " 46%|████▌     | 303/657 [02:32<02:52,  2.06it/s]"
     ]
    },
    {
     "name": "stdout",
     "output_type": "stream",
     "text": [
      "Processing: 190_3\n",
      "Processing: /home/kapis20/projects/PPGworkspace/papagei-foundation-model/5459299/PPG-BP Database/Data File/0_subject/190_3.txt\n",
      "[INFO] 0190 already exists\n",
      "Processing: 62_1\n",
      "Processing: /home/kapis20/projects/PPGworkspace/papagei-foundation-model/5459299/PPG-BP Database/Data File/0_subject/62_1.txt\n",
      "Processing: 62_2\n",
      "Processing: /home/kapis20/projects/PPGworkspace/papagei-foundation-model/5459299/PPG-BP Database/Data File/0_subject/62_2.txt\n",
      "Processing: 62_3\n",
      "Processing: /home/kapis20/projects/PPGworkspace/papagei-foundation-model/5459299/PPG-BP Database/Data File/0_subject/62_3.txt\n"
     ]
    },
    {
     "name": "stderr",
     "output_type": "stream",
     "text": [
      " 46%|████▋     | 304/657 [02:33<02:50,  2.07it/s]"
     ]
    },
    {
     "name": "stdout",
     "output_type": "stream",
     "text": [
      "[INFO] 0062 already exists\n",
      "Processing: 244_1\n",
      "Processing: /home/kapis20/projects/PPGworkspace/papagei-foundation-model/5459299/PPG-BP Database/Data File/0_subject/244_1.txt\n",
      "Processing: 244_2\n",
      "Processing: /home/kapis20/projects/PPGworkspace/papagei-foundation-model/5459299/PPG-BP Database/Data File/0_subject/244_2.txt\n",
      "Processing: 244_3\n",
      "Processing: /home/kapis20/projects/PPGworkspace/papagei-foundation-model/5459299/PPG-BP Database/Data File/0_subject/244_3.txt\n"
     ]
    },
    {
     "name": "stderr",
     "output_type": "stream",
     "text": [
      " 46%|████▋     | 305/657 [02:33<02:57,  1.99it/s]"
     ]
    },
    {
     "name": "stdout",
     "output_type": "stream",
     "text": [
      "[INFO] 0244 already exists\n",
      "Processing: 99_1\n",
      "Processing: /home/kapis20/projects/PPGworkspace/papagei-foundation-model/5459299/PPG-BP Database/Data File/0_subject/99_1.txt\n",
      "Processing: 99_2\n",
      "Processing: /home/kapis20/projects/PPGworkspace/papagei-foundation-model/5459299/PPG-BP Database/Data File/0_subject/99_2.txt\n"
     ]
    },
    {
     "name": "stderr",
     "output_type": "stream",
     "text": [
      " 47%|████▋     | 306/657 [02:34<02:55,  2.01it/s]"
     ]
    },
    {
     "name": "stdout",
     "output_type": "stream",
     "text": [
      "Processing: 99_3\n",
      "Processing: /home/kapis20/projects/PPGworkspace/papagei-foundation-model/5459299/PPG-BP Database/Data File/0_subject/99_3.txt\n",
      "[INFO] 0099 already exists\n",
      "Processing: 38_1\n",
      "Processing: /home/kapis20/projects/PPGworkspace/papagei-foundation-model/5459299/PPG-BP Database/Data File/0_subject/38_1.txt\n",
      "Processing: 38_2\n",
      "Processing: /home/kapis20/projects/PPGworkspace/papagei-foundation-model/5459299/PPG-BP Database/Data File/0_subject/38_2.txt\n",
      "Processing: 38_3\n",
      "Processing: /home/kapis20/projects/PPGworkspace/papagei-foundation-model/5459299/PPG-BP Database/Data File/0_subject/38_3.txt\n"
     ]
    },
    {
     "name": "stderr",
     "output_type": "stream",
     "text": [
      " 47%|████▋     | 307/657 [02:34<02:53,  2.01it/s]"
     ]
    },
    {
     "name": "stdout",
     "output_type": "stream",
     "text": [
      "[INFO] 0038 already exists\n",
      "Processing: 41_1\n",
      "Processing: /home/kapis20/projects/PPGworkspace/papagei-foundation-model/5459299/PPG-BP Database/Data File/0_subject/41_1.txt\n",
      "Processing: 41_2\n",
      "Processing: /home/kapis20/projects/PPGworkspace/papagei-foundation-model/5459299/PPG-BP Database/Data File/0_subject/41_2.txt\n"
     ]
    },
    {
     "name": "stderr",
     "output_type": "stream",
     "text": [
      " 47%|████▋     | 308/657 [02:35<02:51,  2.04it/s]"
     ]
    },
    {
     "name": "stdout",
     "output_type": "stream",
     "text": [
      "Processing: 41_3\n",
      "Processing: /home/kapis20/projects/PPGworkspace/papagei-foundation-model/5459299/PPG-BP Database/Data File/0_subject/41_3.txt\n",
      "[INFO] 0041 already exists\n",
      "Processing: 116_1\n",
      "Processing: /home/kapis20/projects/PPGworkspace/papagei-foundation-model/5459299/PPG-BP Database/Data File/0_subject/116_1.txt\n",
      "Processing: 116_2\n",
      "Processing: /home/kapis20/projects/PPGworkspace/papagei-foundation-model/5459299/PPG-BP Database/Data File/0_subject/116_2.txt\n",
      "Processing: 116_3\n",
      "Processing: /home/kapis20/projects/PPGworkspace/papagei-foundation-model/5459299/PPG-BP Database/Data File/0_subject/116_3.txt\n"
     ]
    },
    {
     "name": "stderr",
     "output_type": "stream",
     "text": [
      " 47%|████▋     | 309/657 [02:35<02:57,  1.96it/s]"
     ]
    },
    {
     "name": "stdout",
     "output_type": "stream",
     "text": [
      "[INFO] 0116 already exists\n",
      "Processing: 192_1\n",
      "Processing: /home/kapis20/projects/PPGworkspace/papagei-foundation-model/5459299/PPG-BP Database/Data File/0_subject/192_1.txt\n",
      "Processing: 192_2\n",
      "Processing: /home/kapis20/projects/PPGworkspace/papagei-foundation-model/5459299/PPG-BP Database/Data File/0_subject/192_2.txt\n"
     ]
    },
    {
     "name": "stderr",
     "output_type": "stream",
     "text": [
      " 47%|████▋     | 310/657 [02:36<02:53,  2.00it/s]"
     ]
    },
    {
     "name": "stdout",
     "output_type": "stream",
     "text": [
      "Processing: 192_3\n",
      "Processing: /home/kapis20/projects/PPGworkspace/papagei-foundation-model/5459299/PPG-BP Database/Data File/0_subject/192_3.txt\n",
      "[INFO] 0192 already exists\n",
      "Processing: 410_1\n",
      "Processing: /home/kapis20/projects/PPGworkspace/papagei-foundation-model/5459299/PPG-BP Database/Data File/0_subject/410_1.txt\n",
      "Processing: 410_2\n",
      "Processing: /home/kapis20/projects/PPGworkspace/papagei-foundation-model/5459299/PPG-BP Database/Data File/0_subject/410_2.txt\n",
      "Processing: 410_3\n",
      "Processing: /home/kapis20/projects/PPGworkspace/papagei-foundation-model/5459299/PPG-BP Database/Data File/0_subject/410_3.txt\n"
     ]
    },
    {
     "name": "stderr",
     "output_type": "stream",
     "text": [
      " 47%|████▋     | 311/657 [02:36<02:57,  1.95it/s]"
     ]
    },
    {
     "name": "stdout",
     "output_type": "stream",
     "text": [
      "[INFO] 0410 already exists\n",
      "Processing: 219_1\n",
      "Processing: /home/kapis20/projects/PPGworkspace/papagei-foundation-model/5459299/PPG-BP Database/Data File/0_subject/219_1.txt\n",
      "Processing: 219_2\n",
      "Processing: /home/kapis20/projects/PPGworkspace/papagei-foundation-model/5459299/PPG-BP Database/Data File/0_subject/219_2.txt\n"
     ]
    },
    {
     "name": "stderr",
     "output_type": "stream",
     "text": [
      " 47%|████▋     | 312/657 [02:37<02:55,  1.97it/s]"
     ]
    },
    {
     "name": "stdout",
     "output_type": "stream",
     "text": [
      "Processing: 219_3\n",
      "Processing: /home/kapis20/projects/PPGworkspace/papagei-foundation-model/5459299/PPG-BP Database/Data File/0_subject/219_3.txt\n",
      "[INFO] 0219 already exists\n",
      "Processing: 22_1\n",
      "Processing: /home/kapis20/projects/PPGworkspace/papagei-foundation-model/5459299/PPG-BP Database/Data File/0_subject/22_1.txt\n",
      "Processing: 22_2\n",
      "Processing: /home/kapis20/projects/PPGworkspace/papagei-foundation-model/5459299/PPG-BP Database/Data File/0_subject/22_2.txt\n",
      "Processing: 22_3\n",
      "Processing: /home/kapis20/projects/PPGworkspace/papagei-foundation-model/5459299/PPG-BP Database/Data File/0_subject/22_3.txt\n"
     ]
    },
    {
     "name": "stderr",
     "output_type": "stream",
     "text": [
      " 48%|████▊     | 313/657 [02:37<03:02,  1.89it/s]"
     ]
    },
    {
     "name": "stdout",
     "output_type": "stream",
     "text": [
      "[INFO] 0022 already exists\n",
      "Processing: 233_1\n",
      "Processing: /home/kapis20/projects/PPGworkspace/papagei-foundation-model/5459299/PPG-BP Database/Data File/0_subject/233_1.txt\n",
      "Processing: 233_2\n",
      "Processing: /home/kapis20/projects/PPGworkspace/papagei-foundation-model/5459299/PPG-BP Database/Data File/0_subject/233_2.txt\n"
     ]
    },
    {
     "name": "stderr",
     "output_type": "stream",
     "text": [
      " 48%|████▊     | 314/657 [02:38<02:56,  1.94it/s]"
     ]
    },
    {
     "name": "stdout",
     "output_type": "stream",
     "text": [
      "Processing: 233_3\n",
      "Processing: /home/kapis20/projects/PPGworkspace/papagei-foundation-model/5459299/PPG-BP Database/Data File/0_subject/233_3.txt\n",
      "[INFO] 0233 already exists\n",
      "Processing: 31_1\n",
      "Processing: /home/kapis20/projects/PPGworkspace/papagei-foundation-model/5459299/PPG-BP Database/Data File/0_subject/31_1.txt\n",
      "Processing: 31_2\n",
      "Processing: /home/kapis20/projects/PPGworkspace/papagei-foundation-model/5459299/PPG-BP Database/Data File/0_subject/31_2.txt\n",
      "Processing: 31_3\n",
      "Processing: /home/kapis20/projects/PPGworkspace/papagei-foundation-model/5459299/PPG-BP Database/Data File/0_subject/31_3.txt\n"
     ]
    },
    {
     "name": "stderr",
     "output_type": "stream",
     "text": [
      " 48%|████▊     | 315/657 [02:38<02:54,  1.96it/s]"
     ]
    },
    {
     "name": "stdout",
     "output_type": "stream",
     "text": [
      "[INFO] 0031 already exists\n",
      "Processing: 207_1\n",
      "Processing: /home/kapis20/projects/PPGworkspace/papagei-foundation-model/5459299/PPG-BP Database/Data File/0_subject/207_1.txt\n",
      "Processing: 207_2\n",
      "Processing: /home/kapis20/projects/PPGworkspace/papagei-foundation-model/5459299/PPG-BP Database/Data File/0_subject/207_2.txt\n"
     ]
    },
    {
     "name": "stderr",
     "output_type": "stream",
     "text": [
      " 48%|████▊     | 316/657 [02:39<02:51,  1.99it/s]"
     ]
    },
    {
     "name": "stdout",
     "output_type": "stream",
     "text": [
      "Processing: 207_3\n",
      "Processing: /home/kapis20/projects/PPGworkspace/papagei-foundation-model/5459299/PPG-BP Database/Data File/0_subject/207_3.txt\n",
      "[INFO] 0207 already exists\n",
      "Processing: 19_1\n",
      "Processing: /home/kapis20/projects/PPGworkspace/papagei-foundation-model/5459299/PPG-BP Database/Data File/0_subject/19_1.txt\n",
      "Processing: 19_2\n",
      "Processing: /home/kapis20/projects/PPGworkspace/papagei-foundation-model/5459299/PPG-BP Database/Data File/0_subject/19_2.txt\n",
      "Processing: 19_3\n",
      "Processing: /home/kapis20/projects/PPGworkspace/papagei-foundation-model/5459299/PPG-BP Database/Data File/0_subject/19_3.txt\n"
     ]
    },
    {
     "name": "stderr",
     "output_type": "stream",
     "text": [
      " 48%|████▊     | 317/657 [02:39<03:00,  1.88it/s]"
     ]
    },
    {
     "name": "stdout",
     "output_type": "stream",
     "text": [
      "[INFO] 0019 already exists\n",
      "Processing: 25_1\n",
      "Processing: /home/kapis20/projects/PPGworkspace/papagei-foundation-model/5459299/PPG-BP Database/Data File/0_subject/25_1.txt\n",
      "Processing: 25_2\n",
      "Processing: /home/kapis20/projects/PPGworkspace/papagei-foundation-model/5459299/PPG-BP Database/Data File/0_subject/25_2.txt\n"
     ]
    },
    {
     "name": "stderr",
     "output_type": "stream",
     "text": [
      " 48%|████▊     | 318/657 [02:40<02:55,  1.93it/s]"
     ]
    },
    {
     "name": "stdout",
     "output_type": "stream",
     "text": [
      "Processing: 25_3\n",
      "Processing: /home/kapis20/projects/PPGworkspace/papagei-foundation-model/5459299/PPG-BP Database/Data File/0_subject/25_3.txt\n",
      "[INFO] 0025 already exists\n",
      "Processing: 186_1\n",
      "Processing: /home/kapis20/projects/PPGworkspace/papagei-foundation-model/5459299/PPG-BP Database/Data File/0_subject/186_1.txt\n",
      "Processing: 186_2\n",
      "Processing: /home/kapis20/projects/PPGworkspace/papagei-foundation-model/5459299/PPG-BP Database/Data File/0_subject/186_2.txt\n",
      "Processing: 186_3\n",
      "Processing: /home/kapis20/projects/PPGworkspace/papagei-foundation-model/5459299/PPG-BP Database/Data File/0_subject/186_3.txt\n"
     ]
    },
    {
     "name": "stderr",
     "output_type": "stream",
     "text": [
      " 49%|████▊     | 319/657 [02:40<02:51,  1.97it/s]"
     ]
    },
    {
     "name": "stdout",
     "output_type": "stream",
     "text": [
      "[INFO] 0186 already exists\n",
      "Processing: 67_1\n",
      "Processing: /home/kapis20/projects/PPGworkspace/papagei-foundation-model/5459299/PPG-BP Database/Data File/0_subject/67_1.txt\n",
      "Processing: 67_2\n",
      "Processing: /home/kapis20/projects/PPGworkspace/papagei-foundation-model/5459299/PPG-BP Database/Data File/0_subject/67_2.txt\n"
     ]
    },
    {
     "name": "stderr",
     "output_type": "stream",
     "text": [
      " 49%|████▊     | 320/657 [02:41<02:47,  2.01it/s]"
     ]
    },
    {
     "name": "stdout",
     "output_type": "stream",
     "text": [
      "Processing: 67_3\n",
      "Processing: /home/kapis20/projects/PPGworkspace/papagei-foundation-model/5459299/PPG-BP Database/Data File/0_subject/67_3.txt\n",
      "[INFO] 0067 already exists\n",
      "Processing: 130_1\n",
      "Processing: /home/kapis20/projects/PPGworkspace/papagei-foundation-model/5459299/PPG-BP Database/Data File/0_subject/130_1.txt\n",
      "Processing: 130_2\n",
      "Processing: /home/kapis20/projects/PPGworkspace/papagei-foundation-model/5459299/PPG-BP Database/Data File/0_subject/130_2.txt\n",
      "Processing: 130_3\n",
      "Processing: /home/kapis20/projects/PPGworkspace/papagei-foundation-model/5459299/PPG-BP Database/Data File/0_subject/130_3.txt\n"
     ]
    },
    {
     "name": "stderr",
     "output_type": "stream",
     "text": [
      " 49%|████▉     | 321/657 [02:41<02:57,  1.90it/s]"
     ]
    },
    {
     "name": "stdout",
     "output_type": "stream",
     "text": [
      "[INFO] 0130 already exists\n",
      "Processing: 130_1\n",
      "Processing: /home/kapis20/projects/PPGworkspace/papagei-foundation-model/5459299/PPG-BP Database/Data File/0_subject/130_1.txt\n",
      "Processing: 130_2\n",
      "Processing: /home/kapis20/projects/PPGworkspace/papagei-foundation-model/5459299/PPG-BP Database/Data File/0_subject/130_2.txt\n"
     ]
    },
    {
     "name": "stderr",
     "output_type": "stream",
     "text": [
      " 49%|████▉     | 322/657 [02:42<02:50,  1.97it/s]"
     ]
    },
    {
     "name": "stdout",
     "output_type": "stream",
     "text": [
      "Processing: 130_3\n",
      "Processing: /home/kapis20/projects/PPGworkspace/papagei-foundation-model/5459299/PPG-BP Database/Data File/0_subject/130_3.txt\n",
      "[INFO] 0130 already exists\n",
      "Processing: 120_1\n",
      "Processing: /home/kapis20/projects/PPGworkspace/papagei-foundation-model/5459299/PPG-BP Database/Data File/0_subject/120_1.txt\n",
      "Processing: 120_2\n",
      "Processing: /home/kapis20/projects/PPGworkspace/papagei-foundation-model/5459299/PPG-BP Database/Data File/0_subject/120_2.txt\n",
      "Processing: 120_3\n",
      "Processing: /home/kapis20/projects/PPGworkspace/papagei-foundation-model/5459299/PPG-BP Database/Data File/0_subject/120_3.txt\n"
     ]
    },
    {
     "name": "stderr",
     "output_type": "stream",
     "text": [
      " 49%|████▉     | 323/657 [02:42<02:48,  1.98it/s]"
     ]
    },
    {
     "name": "stdout",
     "output_type": "stream",
     "text": [
      "[INFO] 0120 already exists\n",
      "Processing: 199_1\n",
      "Processing: /home/kapis20/projects/PPGworkspace/papagei-foundation-model/5459299/PPG-BP Database/Data File/0_subject/199_1.txt\n",
      "Processing: 199_2\n",
      "Processing: /home/kapis20/projects/PPGworkspace/papagei-foundation-model/5459299/PPG-BP Database/Data File/0_subject/199_2.txt\n"
     ]
    },
    {
     "name": "stderr",
     "output_type": "stream",
     "text": [
      " 49%|████▉     | 324/657 [02:43<02:43,  2.03it/s]"
     ]
    },
    {
     "name": "stdout",
     "output_type": "stream",
     "text": [
      "Processing: 199_3\n",
      "Processing: /home/kapis20/projects/PPGworkspace/papagei-foundation-model/5459299/PPG-BP Database/Data File/0_subject/199_3.txt\n",
      "[INFO] 0199 already exists\n",
      "Processing: 248_1\n",
      "Processing: /home/kapis20/projects/PPGworkspace/papagei-foundation-model/5459299/PPG-BP Database/Data File/0_subject/248_1.txt\n",
      "Processing: 248_2\n",
      "Processing: /home/kapis20/projects/PPGworkspace/papagei-foundation-model/5459299/PPG-BP Database/Data File/0_subject/248_2.txt\n",
      "Processing: 248_3\n",
      "Processing: /home/kapis20/projects/PPGworkspace/papagei-foundation-model/5459299/PPG-BP Database/Data File/0_subject/248_3.txt\n"
     ]
    },
    {
     "name": "stderr",
     "output_type": "stream",
     "text": [
      " 49%|████▉     | 325/657 [02:43<02:55,  1.89it/s]"
     ]
    },
    {
     "name": "stdout",
     "output_type": "stream",
     "text": [
      "[INFO] 0248 already exists\n",
      "Processing: 114_1\n",
      "Processing: /home/kapis20/projects/PPGworkspace/papagei-foundation-model/5459299/PPG-BP Database/Data File/0_subject/114_1.txt\n",
      "Processing: 114_2\n",
      "Processing: /home/kapis20/projects/PPGworkspace/papagei-foundation-model/5459299/PPG-BP Database/Data File/0_subject/114_2.txt\n"
     ]
    },
    {
     "name": "stderr",
     "output_type": "stream",
     "text": [
      " 50%|████▉     | 326/657 [02:44<02:49,  1.95it/s]"
     ]
    },
    {
     "name": "stdout",
     "output_type": "stream",
     "text": [
      "Processing: 114_3\n",
      "Processing: /home/kapis20/projects/PPGworkspace/papagei-foundation-model/5459299/PPG-BP Database/Data File/0_subject/114_3.txt\n",
      "[INFO] 0114 already exists\n",
      "Processing: 29_1\n",
      "Processing: /home/kapis20/projects/PPGworkspace/papagei-foundation-model/5459299/PPG-BP Database/Data File/0_subject/29_1.txt\n",
      "Processing: 29_2\n",
      "Processing: /home/kapis20/projects/PPGworkspace/papagei-foundation-model/5459299/PPG-BP Database/Data File/0_subject/29_2.txt\n",
      "Processing: 29_3\n",
      "Processing: /home/kapis20/projects/PPGworkspace/papagei-foundation-model/5459299/PPG-BP Database/Data File/0_subject/29_3.txt\n"
     ]
    },
    {
     "name": "stderr",
     "output_type": "stream",
     "text": [
      " 50%|████▉     | 327/657 [02:44<02:47,  1.96it/s]"
     ]
    },
    {
     "name": "stdout",
     "output_type": "stream",
     "text": [
      "[INFO] 0029 already exists\n",
      "Processing: 124_1\n",
      "Processing: /home/kapis20/projects/PPGworkspace/papagei-foundation-model/5459299/PPG-BP Database/Data File/0_subject/124_1.txt\n",
      "Processing: 124_2\n",
      "Processing: /home/kapis20/projects/PPGworkspace/papagei-foundation-model/5459299/PPG-BP Database/Data File/0_subject/124_2.txt\n"
     ]
    },
    {
     "name": "stderr",
     "output_type": "stream",
     "text": [
      " 50%|████▉     | 328/657 [02:45<02:43,  2.01it/s]"
     ]
    },
    {
     "name": "stdout",
     "output_type": "stream",
     "text": [
      "Processing: 124_3\n",
      "Processing: /home/kapis20/projects/PPGworkspace/papagei-foundation-model/5459299/PPG-BP Database/Data File/0_subject/124_3.txt\n",
      "[INFO] 0124 already exists\n",
      "Processing: 29_1\n",
      "Processing: /home/kapis20/projects/PPGworkspace/papagei-foundation-model/5459299/PPG-BP Database/Data File/0_subject/29_1.txt\n",
      "Processing: 29_2\n",
      "Processing: /home/kapis20/projects/PPGworkspace/papagei-foundation-model/5459299/PPG-BP Database/Data File/0_subject/29_2.txt\n",
      "Processing: 29_3\n",
      "Processing: /home/kapis20/projects/PPGworkspace/papagei-foundation-model/5459299/PPG-BP Database/Data File/0_subject/29_3.txt\n"
     ]
    },
    {
     "name": "stderr",
     "output_type": "stream",
     "text": [
      " 50%|█████     | 329/657 [02:45<02:48,  1.94it/s]"
     ]
    },
    {
     "name": "stdout",
     "output_type": "stream",
     "text": [
      "[INFO] 0029 already exists\n",
      "Processing: 182_1\n",
      "Processing: /home/kapis20/projects/PPGworkspace/papagei-foundation-model/5459299/PPG-BP Database/Data File/0_subject/182_1.txt\n",
      "Processing: 182_2\n",
      "Processing: /home/kapis20/projects/PPGworkspace/papagei-foundation-model/5459299/PPG-BP Database/Data File/0_subject/182_2.txt\n"
     ]
    },
    {
     "name": "stderr",
     "output_type": "stream",
     "text": [
      " 50%|█████     | 330/657 [02:46<02:42,  2.01it/s]"
     ]
    },
    {
     "name": "stdout",
     "output_type": "stream",
     "text": [
      "Processing: 182_3\n",
      "Processing: /home/kapis20/projects/PPGworkspace/papagei-foundation-model/5459299/PPG-BP Database/Data File/0_subject/182_3.txt\n",
      "[INFO] 0182 already exists\n",
      "Processing: 199_1\n",
      "Processing: /home/kapis20/projects/PPGworkspace/papagei-foundation-model/5459299/PPG-BP Database/Data File/0_subject/199_1.txt\n",
      "Processing: 199_2\n",
      "Processing: /home/kapis20/projects/PPGworkspace/papagei-foundation-model/5459299/PPG-BP Database/Data File/0_subject/199_2.txt\n",
      "Processing: 199_3\n",
      "Processing: /home/kapis20/projects/PPGworkspace/papagei-foundation-model/5459299/PPG-BP Database/Data File/0_subject/199_3.txt\n"
     ]
    },
    {
     "name": "stderr",
     "output_type": "stream",
     "text": [
      " 50%|█████     | 331/657 [02:46<02:40,  2.03it/s]"
     ]
    },
    {
     "name": "stdout",
     "output_type": "stream",
     "text": [
      "[INFO] 0199 already exists\n",
      "Processing: 161_1\n",
      "Processing: /home/kapis20/projects/PPGworkspace/papagei-foundation-model/5459299/PPG-BP Database/Data File/0_subject/161_1.txt\n",
      "Processing: 161_2\n",
      "Processing: /home/kapis20/projects/PPGworkspace/papagei-foundation-model/5459299/PPG-BP Database/Data File/0_subject/161_2.txt\n"
     ]
    },
    {
     "name": "stderr",
     "output_type": "stream",
     "text": [
      " 51%|█████     | 332/657 [02:47<02:36,  2.07it/s]"
     ]
    },
    {
     "name": "stdout",
     "output_type": "stream",
     "text": [
      "Processing: 161_3\n",
      "Processing: /home/kapis20/projects/PPGworkspace/papagei-foundation-model/5459299/PPG-BP Database/Data File/0_subject/161_3.txt\n",
      "[INFO] 0161 already exists\n",
      "Processing: 84_1\n",
      "Processing: /home/kapis20/projects/PPGworkspace/papagei-foundation-model/5459299/PPG-BP Database/Data File/0_subject/84_1.txt\n",
      "Processing: 84_2\n",
      "Processing: /home/kapis20/projects/PPGworkspace/papagei-foundation-model/5459299/PPG-BP Database/Data File/0_subject/84_2.txt\n"
     ]
    },
    {
     "name": "stderr",
     "output_type": "stream",
     "text": [
      " 51%|█████     | 333/657 [02:47<02:49,  1.91it/s]"
     ]
    },
    {
     "name": "stdout",
     "output_type": "stream",
     "text": [
      "Processing: 84_3\n",
      "Processing: /home/kapis20/projects/PPGworkspace/papagei-foundation-model/5459299/PPG-BP Database/Data File/0_subject/84_3.txt\n",
      "[INFO] 0084 already exists\n",
      "Processing: 157_1\n",
      "Processing: /home/kapis20/projects/PPGworkspace/papagei-foundation-model/5459299/PPG-BP Database/Data File/0_subject/157_1.txt\n",
      "Processing: 157_2\n",
      "Processing: /home/kapis20/projects/PPGworkspace/papagei-foundation-model/5459299/PPG-BP Database/Data File/0_subject/157_2.txt\n",
      "Processing: 157_3\n",
      "Processing: /home/kapis20/projects/PPGworkspace/papagei-foundation-model/5459299/PPG-BP Database/Data File/0_subject/157_3.txt\n"
     ]
    },
    {
     "name": "stderr",
     "output_type": "stream",
     "text": [
      " 51%|█████     | 334/657 [02:48<02:52,  1.88it/s]"
     ]
    },
    {
     "name": "stdout",
     "output_type": "stream",
     "text": [
      "[INFO] 0157 already exists\n",
      "Processing: 86_1\n",
      "Processing: /home/kapis20/projects/PPGworkspace/papagei-foundation-model/5459299/PPG-BP Database/Data File/0_subject/86_1.txt\n",
      "Processing: 86_2\n",
      "Processing: /home/kapis20/projects/PPGworkspace/papagei-foundation-model/5459299/PPG-BP Database/Data File/0_subject/86_2.txt\n"
     ]
    },
    {
     "name": "stderr",
     "output_type": "stream",
     "text": [
      " 51%|█████     | 335/657 [02:49<02:52,  1.87it/s]"
     ]
    },
    {
     "name": "stdout",
     "output_type": "stream",
     "text": [
      "Processing: 86_3\n",
      "Processing: /home/kapis20/projects/PPGworkspace/papagei-foundation-model/5459299/PPG-BP Database/Data File/0_subject/86_3.txt\n",
      "[INFO] 0086 already exists\n",
      "Processing: 151_1\n",
      "Processing: /home/kapis20/projects/PPGworkspace/papagei-foundation-model/5459299/PPG-BP Database/Data File/0_subject/151_1.txt\n",
      "Processing: 151_2\n",
      "Processing: /home/kapis20/projects/PPGworkspace/papagei-foundation-model/5459299/PPG-BP Database/Data File/0_subject/151_2.txt\n"
     ]
    },
    {
     "name": "stderr",
     "output_type": "stream",
     "text": [
      " 51%|█████     | 336/657 [02:49<03:02,  1.76it/s]"
     ]
    },
    {
     "name": "stdout",
     "output_type": "stream",
     "text": [
      "Processing: 151_3\n",
      "Processing: /home/kapis20/projects/PPGworkspace/papagei-foundation-model/5459299/PPG-BP Database/Data File/0_subject/151_3.txt\n",
      "[INFO] 0151 already exists\n",
      "Processing: 85_1\n",
      "Processing: /home/kapis20/projects/PPGworkspace/papagei-foundation-model/5459299/PPG-BP Database/Data File/0_subject/85_1.txt\n",
      "Processing: 85_2\n",
      "Processing: /home/kapis20/projects/PPGworkspace/papagei-foundation-model/5459299/PPG-BP Database/Data File/0_subject/85_2.txt\n",
      "Processing: 85_3\n",
      "Processing: /home/kapis20/projects/PPGworkspace/papagei-foundation-model/5459299/PPG-BP Database/Data File/0_subject/85_3.txt\n"
     ]
    },
    {
     "name": "stderr",
     "output_type": "stream",
     "text": [
      " 51%|█████▏    | 337/657 [02:50<03:04,  1.73it/s]"
     ]
    },
    {
     "name": "stdout",
     "output_type": "stream",
     "text": [
      "[INFO] 0085 already exists\n",
      "Processing: 92_1\n",
      "Processing: /home/kapis20/projects/PPGworkspace/papagei-foundation-model/5459299/PPG-BP Database/Data File/0_subject/92_1.txt\n",
      "Processing: 92_2\n",
      "Processing: /home/kapis20/projects/PPGworkspace/papagei-foundation-model/5459299/PPG-BP Database/Data File/0_subject/92_2.txt\n",
      "Processing: 92_3\n",
      "Processing: /home/kapis20/projects/PPGworkspace/papagei-foundation-model/5459299/PPG-BP Database/Data File/0_subject/92_3.txt\n"
     ]
    },
    {
     "name": "stderr",
     "output_type": "stream",
     "text": [
      " 51%|█████▏    | 338/657 [02:50<03:07,  1.70it/s]"
     ]
    },
    {
     "name": "stdout",
     "output_type": "stream",
     "text": [
      "[INFO] 0092 already exists\n",
      "Processing: 214_1\n",
      "Processing: /home/kapis20/projects/PPGworkspace/papagei-foundation-model/5459299/PPG-BP Database/Data File/0_subject/214_1.txt\n",
      "Processing: 214_2\n",
      "Processing: /home/kapis20/projects/PPGworkspace/papagei-foundation-model/5459299/PPG-BP Database/Data File/0_subject/214_2.txt\n",
      "Processing: 214_3\n",
      "Processing: /home/kapis20/projects/PPGworkspace/papagei-foundation-model/5459299/PPG-BP Database/Data File/0_subject/214_3.txt\n"
     ]
    },
    {
     "name": "stderr",
     "output_type": "stream",
     "text": [
      " 52%|█████▏    | 339/657 [02:51<02:57,  1.80it/s]"
     ]
    },
    {
     "name": "stdout",
     "output_type": "stream",
     "text": [
      "[INFO] 0214 already exists\n",
      "Processing: 193_1\n",
      "Processing: /home/kapis20/projects/PPGworkspace/papagei-foundation-model/5459299/PPG-BP Database/Data File/0_subject/193_1.txt\n",
      "Processing: 193_2\n",
      "Processing: /home/kapis20/projects/PPGworkspace/papagei-foundation-model/5459299/PPG-BP Database/Data File/0_subject/193_2.txt\n",
      "Processing: 193_3\n",
      "Processing: /home/kapis20/projects/PPGworkspace/papagei-foundation-model/5459299/PPG-BP Database/Data File/0_subject/193_3.txt\n"
     ]
    },
    {
     "name": "stderr",
     "output_type": "stream",
     "text": [
      " 52%|█████▏    | 340/657 [02:53<05:12,  1.01it/s]"
     ]
    },
    {
     "name": "stdout",
     "output_type": "stream",
     "text": [
      "[INFO] 0193 already exists\n",
      "Processing: 35_1\n",
      "Processing: /home/kapis20/projects/PPGworkspace/papagei-foundation-model/5459299/PPG-BP Database/Data File/0_subject/35_1.txt\n",
      "Processing: 35_2\n",
      "Processing: /home/kapis20/projects/PPGworkspace/papagei-foundation-model/5459299/PPG-BP Database/Data File/0_subject/35_2.txt\n",
      "Processing: 35_3\n",
      "Processing: /home/kapis20/projects/PPGworkspace/papagei-foundation-model/5459299/PPG-BP Database/Data File/0_subject/35_3.txt\n"
     ]
    },
    {
     "name": "stderr",
     "output_type": "stream",
     "text": [
      " 52%|█████▏    | 341/657 [02:54<05:53,  1.12s/it]"
     ]
    },
    {
     "name": "stdout",
     "output_type": "stream",
     "text": [
      "[INFO] 0035 already exists\n",
      "Processing: 100_1\n",
      "Processing: /home/kapis20/projects/PPGworkspace/papagei-foundation-model/5459299/PPG-BP Database/Data File/0_subject/100_1.txt\n",
      "Processing: 100_2\n",
      "Processing: /home/kapis20/projects/PPGworkspace/papagei-foundation-model/5459299/PPG-BP Database/Data File/0_subject/100_2.txt\n",
      "Processing: 100_3\n",
      "Processing: /home/kapis20/projects/PPGworkspace/papagei-foundation-model/5459299/PPG-BP Database/Data File/0_subject/100_3.txt\n"
     ]
    },
    {
     "name": "stderr",
     "output_type": "stream",
     "text": [
      " 52%|█████▏    | 342/657 [02:56<06:31,  1.24s/it]"
     ]
    },
    {
     "name": "stdout",
     "output_type": "stream",
     "text": [
      "[INFO] 0100 already exists\n",
      "Processing: 48_1\n",
      "Processing: /home/kapis20/projects/PPGworkspace/papagei-foundation-model/5459299/PPG-BP Database/Data File/0_subject/48_1.txt\n",
      "Processing: 48_2\n",
      "Processing: /home/kapis20/projects/PPGworkspace/papagei-foundation-model/5459299/PPG-BP Database/Data File/0_subject/48_2.txt\n",
      "Processing: 48_3\n",
      "Processing: /home/kapis20/projects/PPGworkspace/papagei-foundation-model/5459299/PPG-BP Database/Data File/0_subject/48_3.txt\n"
     ]
    },
    {
     "name": "stderr",
     "output_type": "stream",
     "text": [
      " 52%|█████▏    | 343/657 [02:57<07:04,  1.35s/it]"
     ]
    },
    {
     "name": "stdout",
     "output_type": "stream",
     "text": [
      "[INFO] 0048 already exists\n",
      "Processing: 165_1\n",
      "Processing: /home/kapis20/projects/PPGworkspace/papagei-foundation-model/5459299/PPG-BP Database/Data File/0_subject/165_1.txt\n",
      "Processing: 165_2\n",
      "Processing: /home/kapis20/projects/PPGworkspace/papagei-foundation-model/5459299/PPG-BP Database/Data File/0_subject/165_2.txt\n",
      "Processing: 165_3\n",
      "Processing: /home/kapis20/projects/PPGworkspace/papagei-foundation-model/5459299/PPG-BP Database/Data File/0_subject/165_3.txt\n"
     ]
    },
    {
     "name": "stderr",
     "output_type": "stream",
     "text": [
      " 52%|█████▏    | 344/657 [02:59<07:04,  1.36s/it]"
     ]
    },
    {
     "name": "stdout",
     "output_type": "stream",
     "text": [
      "[INFO] 0165 already exists\n",
      "Processing: 256_1\n",
      "Processing: /home/kapis20/projects/PPGworkspace/papagei-foundation-model/5459299/PPG-BP Database/Data File/0_subject/256_1.txt\n",
      "Processing: 256_2\n",
      "Processing: /home/kapis20/projects/PPGworkspace/papagei-foundation-model/5459299/PPG-BP Database/Data File/0_subject/256_2.txt\n",
      "Processing: 256_3\n",
      "Processing: /home/kapis20/projects/PPGworkspace/papagei-foundation-model/5459299/PPG-BP Database/Data File/0_subject/256_3.txt\n"
     ]
    },
    {
     "name": "stderr",
     "output_type": "stream",
     "text": [
      " 53%|█████▎    | 345/657 [03:01<07:38,  1.47s/it]"
     ]
    },
    {
     "name": "stdout",
     "output_type": "stream",
     "text": [
      "[INFO] 0256 already exists\n",
      "Processing: 176_1\n",
      "Processing: /home/kapis20/projects/PPGworkspace/papagei-foundation-model/5459299/PPG-BP Database/Data File/0_subject/176_1.txt\n",
      "Processing: 176_2\n",
      "Processing: /home/kapis20/projects/PPGworkspace/papagei-foundation-model/5459299/PPG-BP Database/Data File/0_subject/176_2.txt\n",
      "Processing: 176_3\n",
      "Processing: /home/kapis20/projects/PPGworkspace/papagei-foundation-model/5459299/PPG-BP Database/Data File/0_subject/176_3.txt\n"
     ]
    },
    {
     "name": "stderr",
     "output_type": "stream",
     "text": [
      " 53%|█████▎    | 346/657 [03:03<08:25,  1.63s/it]"
     ]
    },
    {
     "name": "stdout",
     "output_type": "stream",
     "text": [
      "[INFO] 0176 already exists\n",
      "Processing: 175_1\n",
      "Processing: /home/kapis20/projects/PPGworkspace/papagei-foundation-model/5459299/PPG-BP Database/Data File/0_subject/175_1.txt\n",
      "Processing: 175_2\n",
      "Processing: /home/kapis20/projects/PPGworkspace/papagei-foundation-model/5459299/PPG-BP Database/Data File/0_subject/175_2.txt\n",
      "Processing: 175_3\n",
      "Processing: /home/kapis20/projects/PPGworkspace/papagei-foundation-model/5459299/PPG-BP Database/Data File/0_subject/175_3.txt\n"
     ]
    },
    {
     "name": "stderr",
     "output_type": "stream",
     "text": [
      " 53%|█████▎    | 347/657 [03:04<08:43,  1.69s/it]"
     ]
    },
    {
     "name": "stdout",
     "output_type": "stream",
     "text": [
      "[INFO] 0175 already exists\n",
      "Processing: 15_1\n",
      "Processing: /home/kapis20/projects/PPGworkspace/papagei-foundation-model/5459299/PPG-BP Database/Data File/0_subject/15_1.txt\n",
      "Processing: 15_2\n",
      "Processing: /home/kapis20/projects/PPGworkspace/papagei-foundation-model/5459299/PPG-BP Database/Data File/0_subject/15_2.txt\n",
      "Processing: 15_3\n",
      "Processing: /home/kapis20/projects/PPGworkspace/papagei-foundation-model/5459299/PPG-BP Database/Data File/0_subject/15_3.txt\n"
     ]
    },
    {
     "name": "stderr",
     "output_type": "stream",
     "text": [
      " 53%|█████▎    | 348/657 [03:06<07:57,  1.54s/it]"
     ]
    },
    {
     "name": "stdout",
     "output_type": "stream",
     "text": [
      "[INFO] 0015 already exists\n",
      "Processing: 156_1\n",
      "Processing: /home/kapis20/projects/PPGworkspace/papagei-foundation-model/5459299/PPG-BP Database/Data File/0_subject/156_1.txt\n",
      "Processing: 156_2\n",
      "Processing: /home/kapis20/projects/PPGworkspace/papagei-foundation-model/5459299/PPG-BP Database/Data File/0_subject/156_2.txt\n",
      "Processing: 156_3\n",
      "Processing: /home/kapis20/projects/PPGworkspace/papagei-foundation-model/5459299/PPG-BP Database/Data File/0_subject/156_3.txt\n"
     ]
    },
    {
     "name": "stderr",
     "output_type": "stream",
     "text": [
      " 53%|█████▎    | 349/657 [03:07<07:09,  1.39s/it]"
     ]
    },
    {
     "name": "stdout",
     "output_type": "stream",
     "text": [
      "[INFO] 0156 already exists\n",
      "Processing: 410_1\n",
      "Processing: /home/kapis20/projects/PPGworkspace/papagei-foundation-model/5459299/PPG-BP Database/Data File/0_subject/410_1.txt\n",
      "Processing: 410_2\n",
      "Processing: /home/kapis20/projects/PPGworkspace/papagei-foundation-model/5459299/PPG-BP Database/Data File/0_subject/410_2.txt\n",
      "Processing: 410_3\n",
      "Processing: /home/kapis20/projects/PPGworkspace/papagei-foundation-model/5459299/PPG-BP Database/Data File/0_subject/410_3.txt\n"
     ]
    },
    {
     "name": "stderr",
     "output_type": "stream",
     "text": [
      " 53%|█████▎    | 350/657 [03:08<06:59,  1.37s/it]"
     ]
    },
    {
     "name": "stdout",
     "output_type": "stream",
     "text": [
      "[INFO] 0410 already exists\n",
      "Processing: 416_1\n",
      "Processing: /home/kapis20/projects/PPGworkspace/papagei-foundation-model/5459299/PPG-BP Database/Data File/0_subject/416_1.txt\n",
      "Processing: 416_2\n",
      "Processing: /home/kapis20/projects/PPGworkspace/papagei-foundation-model/5459299/PPG-BP Database/Data File/0_subject/416_2.txt\n",
      "Processing: 416_3\n",
      "Processing: /home/kapis20/projects/PPGworkspace/papagei-foundation-model/5459299/PPG-BP Database/Data File/0_subject/416_3.txt\n"
     ]
    },
    {
     "name": "stderr",
     "output_type": "stream",
     "text": [
      " 53%|█████▎    | 351/657 [03:09<06:45,  1.33s/it]"
     ]
    },
    {
     "name": "stdout",
     "output_type": "stream",
     "text": [
      "[INFO] 0416 already exists\n",
      "Processing: 254_1\n",
      "Processing: /home/kapis20/projects/PPGworkspace/papagei-foundation-model/5459299/PPG-BP Database/Data File/0_subject/254_1.txt\n",
      "Processing: 254_2\n",
      "Processing: /home/kapis20/projects/PPGworkspace/papagei-foundation-model/5459299/PPG-BP Database/Data File/0_subject/254_2.txt\n",
      "Processing: 254_3\n",
      "Processing: /home/kapis20/projects/PPGworkspace/papagei-foundation-model/5459299/PPG-BP Database/Data File/0_subject/254_3.txt\n"
     ]
    },
    {
     "name": "stderr",
     "output_type": "stream",
     "text": [
      " 54%|█████▎    | 352/657 [03:10<06:19,  1.24s/it]"
     ]
    },
    {
     "name": "stdout",
     "output_type": "stream",
     "text": [
      "[INFO] 0254 already exists\n",
      "Processing: 12_1\n",
      "Processing: /home/kapis20/projects/PPGworkspace/papagei-foundation-model/5459299/PPG-BP Database/Data File/0_subject/12_1.txt\n",
      "Processing: 12_2\n",
      "Processing: /home/kapis20/projects/PPGworkspace/papagei-foundation-model/5459299/PPG-BP Database/Data File/0_subject/12_2.txt\n",
      "Processing: 12_3\n",
      "Processing: /home/kapis20/projects/PPGworkspace/papagei-foundation-model/5459299/PPG-BP Database/Data File/0_subject/12_3.txt\n"
     ]
    },
    {
     "name": "stderr",
     "output_type": "stream",
     "text": [
      " 54%|█████▎    | 353/657 [03:11<05:25,  1.07s/it]"
     ]
    },
    {
     "name": "stdout",
     "output_type": "stream",
     "text": [
      "[INFO] 0012 already exists\n",
      "Processing: 245_1\n",
      "Processing: /home/kapis20/projects/PPGworkspace/papagei-foundation-model/5459299/PPG-BP Database/Data File/0_subject/245_1.txt\n",
      "Processing: 245_2\n",
      "Processing: /home/kapis20/projects/PPGworkspace/papagei-foundation-model/5459299/PPG-BP Database/Data File/0_subject/245_2.txt\n",
      "Processing: 245_3\n",
      "Processing: /home/kapis20/projects/PPGworkspace/papagei-foundation-model/5459299/PPG-BP Database/Data File/0_subject/245_3.txt\n"
     ]
    },
    {
     "name": "stderr",
     "output_type": "stream",
     "text": [
      " 54%|█████▍    | 354/657 [03:11<04:38,  1.09it/s]"
     ]
    },
    {
     "name": "stdout",
     "output_type": "stream",
     "text": [
      "[INFO] 0245 already exists\n",
      "Processing: 61_1\n",
      "Processing: /home/kapis20/projects/PPGworkspace/papagei-foundation-model/5459299/PPG-BP Database/Data File/0_subject/61_1.txt\n",
      "Processing: 61_2\n",
      "Processing: /home/kapis20/projects/PPGworkspace/papagei-foundation-model/5459299/PPG-BP Database/Data File/0_subject/61_2.txt\n",
      "Processing: 61_3\n",
      "Processing: /home/kapis20/projects/PPGworkspace/papagei-foundation-model/5459299/PPG-BP Database/Data File/0_subject/61_3.txt\n"
     ]
    },
    {
     "name": "stderr",
     "output_type": "stream",
     "text": [
      " 54%|█████▍    | 355/657 [03:12<04:10,  1.21it/s]"
     ]
    },
    {
     "name": "stdout",
     "output_type": "stream",
     "text": [
      "[INFO] 0061 already exists\n",
      "Processing: 108_1\n",
      "Processing: /home/kapis20/projects/PPGworkspace/papagei-foundation-model/5459299/PPG-BP Database/Data File/0_subject/108_1.txt\n",
      "Processing: 108_2\n",
      "Processing: /home/kapis20/projects/PPGworkspace/papagei-foundation-model/5459299/PPG-BP Database/Data File/0_subject/108_2.txt\n"
     ]
    },
    {
     "name": "stderr",
     "output_type": "stream",
     "text": [
      " 54%|█████▍    | 356/657 [03:13<03:43,  1.35it/s]"
     ]
    },
    {
     "name": "stdout",
     "output_type": "stream",
     "text": [
      "Processing: 108_3\n",
      "Processing: /home/kapis20/projects/PPGworkspace/papagei-foundation-model/5459299/PPG-BP Database/Data File/0_subject/108_3.txt\n",
      "[INFO] 0108 already exists\n",
      "Processing: 135_1\n",
      "Processing: /home/kapis20/projects/PPGworkspace/papagei-foundation-model/5459299/PPG-BP Database/Data File/0_subject/135_1.txt\n",
      "Processing: 135_2\n",
      "Processing: /home/kapis20/projects/PPGworkspace/papagei-foundation-model/5459299/PPG-BP Database/Data File/0_subject/135_2.txt\n",
      "Processing: 135_3\n",
      "Processing: /home/kapis20/projects/PPGworkspace/papagei-foundation-model/5459299/PPG-BP Database/Data File/0_subject/135_3.txt\n"
     ]
    },
    {
     "name": "stderr",
     "output_type": "stream",
     "text": [
      " 54%|█████▍    | 357/657 [03:13<03:34,  1.40it/s]"
     ]
    },
    {
     "name": "stdout",
     "output_type": "stream",
     "text": [
      "[INFO] 0135 already exists\n",
      "Processing: 23_1\n",
      "Processing: /home/kapis20/projects/PPGworkspace/papagei-foundation-model/5459299/PPG-BP Database/Data File/0_subject/23_1.txt\n",
      "Processing: 23_2\n",
      "Processing: /home/kapis20/projects/PPGworkspace/papagei-foundation-model/5459299/PPG-BP Database/Data File/0_subject/23_2.txt\n"
     ]
    },
    {
     "name": "stderr",
     "output_type": "stream",
     "text": [
      " 54%|█████▍    | 358/657 [03:14<03:14,  1.54it/s]"
     ]
    },
    {
     "name": "stdout",
     "output_type": "stream",
     "text": [
      "Processing: 23_3\n",
      "Processing: /home/kapis20/projects/PPGworkspace/papagei-foundation-model/5459299/PPG-BP Database/Data File/0_subject/23_3.txt\n",
      "[INFO] 0023 already exists\n",
      "Processing: 186_1\n",
      "Processing: /home/kapis20/projects/PPGworkspace/papagei-foundation-model/5459299/PPG-BP Database/Data File/0_subject/186_1.txt\n",
      "Processing: 186_2\n",
      "Processing: /home/kapis20/projects/PPGworkspace/papagei-foundation-model/5459299/PPG-BP Database/Data File/0_subject/186_2.txt\n",
      "Processing: 186_3\n",
      "Processing: /home/kapis20/projects/PPGworkspace/papagei-foundation-model/5459299/PPG-BP Database/Data File/0_subject/186_3.txt\n"
     ]
    },
    {
     "name": "stderr",
     "output_type": "stream",
     "text": [
      " 55%|█████▍    | 359/657 [03:14<02:58,  1.67it/s]"
     ]
    },
    {
     "name": "stdout",
     "output_type": "stream",
     "text": [
      "[INFO] 0186 already exists\n",
      "Processing: 41_1\n",
      "Processing: /home/kapis20/projects/PPGworkspace/papagei-foundation-model/5459299/PPG-BP Database/Data File/0_subject/41_1.txt\n",
      "Processing: 41_2\n",
      "Processing: /home/kapis20/projects/PPGworkspace/papagei-foundation-model/5459299/PPG-BP Database/Data File/0_subject/41_2.txt\n"
     ]
    },
    {
     "name": "stderr",
     "output_type": "stream",
     "text": [
      " 55%|█████▍    | 360/657 [03:15<02:47,  1.77it/s]"
     ]
    },
    {
     "name": "stdout",
     "output_type": "stream",
     "text": [
      "Processing: 41_3\n",
      "Processing: /home/kapis20/projects/PPGworkspace/papagei-foundation-model/5459299/PPG-BP Database/Data File/0_subject/41_3.txt\n",
      "[INFO] 0041 already exists\n",
      "Processing: 92_1\n",
      "Processing: /home/kapis20/projects/PPGworkspace/papagei-foundation-model/5459299/PPG-BP Database/Data File/0_subject/92_1.txt\n",
      "Processing: 92_2\n",
      "Processing: /home/kapis20/projects/PPGworkspace/papagei-foundation-model/5459299/PPG-BP Database/Data File/0_subject/92_2.txt\n",
      "Processing: 92_3\n",
      "Processing: /home/kapis20/projects/PPGworkspace/papagei-foundation-model/5459299/PPG-BP Database/Data File/0_subject/92_3.txt\n"
     ]
    },
    {
     "name": "stderr",
     "output_type": "stream",
     "text": [
      " 55%|█████▍    | 361/657 [03:15<02:42,  1.82it/s]"
     ]
    },
    {
     "name": "stdout",
     "output_type": "stream",
     "text": [
      "[INFO] 0092 already exists\n",
      "Processing: 242_1\n",
      "Processing: /home/kapis20/projects/PPGworkspace/papagei-foundation-model/5459299/PPG-BP Database/Data File/0_subject/242_1.txt\n",
      "Processing: 242_2\n",
      "Processing: /home/kapis20/projects/PPGworkspace/papagei-foundation-model/5459299/PPG-BP Database/Data File/0_subject/242_2.txt\n"
     ]
    },
    {
     "name": "stderr",
     "output_type": "stream",
     "text": [
      " 55%|█████▌    | 362/657 [03:16<02:34,  1.91it/s]"
     ]
    },
    {
     "name": "stdout",
     "output_type": "stream",
     "text": [
      "Processing: 242_3\n",
      "Processing: /home/kapis20/projects/PPGworkspace/papagei-foundation-model/5459299/PPG-BP Database/Data File/0_subject/242_3.txt\n",
      "[INFO] 0242 already exists\n",
      "Processing: 119_1\n",
      "Processing: /home/kapis20/projects/PPGworkspace/papagei-foundation-model/5459299/PPG-BP Database/Data File/0_subject/119_1.txt\n",
      "Processing: 119_2\n",
      "Processing: /home/kapis20/projects/PPGworkspace/papagei-foundation-model/5459299/PPG-BP Database/Data File/0_subject/119_2.txt\n"
     ]
    },
    {
     "name": "stderr",
     "output_type": "stream",
     "text": [
      " 55%|█████▌    | 363/657 [03:16<02:38,  1.86it/s]"
     ]
    },
    {
     "name": "stdout",
     "output_type": "stream",
     "text": [
      "Processing: 119_3\n",
      "Processing: /home/kapis20/projects/PPGworkspace/papagei-foundation-model/5459299/PPG-BP Database/Data File/0_subject/119_3.txt\n",
      "[INFO] 0119 already exists\n",
      "Processing: 217_1\n",
      "Processing: /home/kapis20/projects/PPGworkspace/papagei-foundation-model/5459299/PPG-BP Database/Data File/0_subject/217_1.txt\n",
      "Processing: 217_2\n",
      "Processing: /home/kapis20/projects/PPGworkspace/papagei-foundation-model/5459299/PPG-BP Database/Data File/0_subject/217_2.txt\n",
      "Processing: 217_3\n",
      "Processing: /home/kapis20/projects/PPGworkspace/papagei-foundation-model/5459299/PPG-BP Database/Data File/0_subject/217_3.txt\n"
     ]
    },
    {
     "name": "stderr",
     "output_type": "stream",
     "text": [
      " 55%|█████▌    | 364/657 [03:17<02:32,  1.92it/s]"
     ]
    },
    {
     "name": "stdout",
     "output_type": "stream",
     "text": [
      "[INFO] 0217 already exists\n",
      "Processing: 227_1\n",
      "Processing: /home/kapis20/projects/PPGworkspace/papagei-foundation-model/5459299/PPG-BP Database/Data File/0_subject/227_1.txt\n",
      "Processing: 227_2\n",
      "Processing: /home/kapis20/projects/PPGworkspace/papagei-foundation-model/5459299/PPG-BP Database/Data File/0_subject/227_2.txt\n"
     ]
    },
    {
     "name": "stderr",
     "output_type": "stream",
     "text": [
      " 56%|█████▌    | 365/657 [03:17<02:30,  1.94it/s]"
     ]
    },
    {
     "name": "stdout",
     "output_type": "stream",
     "text": [
      "Processing: 227_3\n",
      "Processing: /home/kapis20/projects/PPGworkspace/papagei-foundation-model/5459299/PPG-BP Database/Data File/0_subject/227_3.txt\n",
      "[INFO] 0227 already exists\n",
      "Processing: 88_1\n",
      "Processing: /home/kapis20/projects/PPGworkspace/papagei-foundation-model/5459299/PPG-BP Database/Data File/0_subject/88_1.txt\n",
      "Processing: 88_2\n",
      "Processing: /home/kapis20/projects/PPGworkspace/papagei-foundation-model/5459299/PPG-BP Database/Data File/0_subject/88_2.txt\n",
      "Processing: 88_3\n",
      "Processing: /home/kapis20/projects/PPGworkspace/papagei-foundation-model/5459299/PPG-BP Database/Data File/0_subject/88_3.txt\n"
     ]
    },
    {
     "name": "stderr",
     "output_type": "stream",
     "text": [
      " 56%|█████▌    | 366/657 [03:18<02:27,  1.97it/s]"
     ]
    },
    {
     "name": "stdout",
     "output_type": "stream",
     "text": [
      "[INFO] 0088 already exists\n",
      "Processing: 164_1\n",
      "Processing: /home/kapis20/projects/PPGworkspace/papagei-foundation-model/5459299/PPG-BP Database/Data File/0_subject/164_1.txt\n",
      "Processing: 164_2\n",
      "Processing: /home/kapis20/projects/PPGworkspace/papagei-foundation-model/5459299/PPG-BP Database/Data File/0_subject/164_2.txt\n"
     ]
    },
    {
     "name": "stderr",
     "output_type": "stream",
     "text": [
      " 56%|█████▌    | 367/657 [03:18<02:30,  1.92it/s]"
     ]
    },
    {
     "name": "stdout",
     "output_type": "stream",
     "text": [
      "Processing: 164_3\n",
      "Processing: /home/kapis20/projects/PPGworkspace/papagei-foundation-model/5459299/PPG-BP Database/Data File/0_subject/164_3.txt\n",
      "[INFO] 0164 already exists\n",
      "Processing: 215_1\n",
      "Processing: /home/kapis20/projects/PPGworkspace/papagei-foundation-model/5459299/PPG-BP Database/Data File/0_subject/215_1.txt\n",
      "Processing: 215_2\n",
      "Processing: /home/kapis20/projects/PPGworkspace/papagei-foundation-model/5459299/PPG-BP Database/Data File/0_subject/215_2.txt\n",
      "Processing: 215_3\n",
      "Processing: /home/kapis20/projects/PPGworkspace/papagei-foundation-model/5459299/PPG-BP Database/Data File/0_subject/215_3.txt\n"
     ]
    },
    {
     "name": "stderr",
     "output_type": "stream",
     "text": [
      " 56%|█████▌    | 368/657 [03:19<02:29,  1.94it/s]"
     ]
    },
    {
     "name": "stdout",
     "output_type": "stream",
     "text": [
      "[INFO] 0215 already exists\n",
      "Processing: 106_1\n",
      "Processing: /home/kapis20/projects/PPGworkspace/papagei-foundation-model/5459299/PPG-BP Database/Data File/0_subject/106_1.txt\n",
      "Processing: 106_2\n",
      "Processing: /home/kapis20/projects/PPGworkspace/papagei-foundation-model/5459299/PPG-BP Database/Data File/0_subject/106_2.txt\n",
      "Processing: 106_3\n",
      "Processing: /home/kapis20/projects/PPGworkspace/papagei-foundation-model/5459299/PPG-BP Database/Data File/0_subject/106_3.txt\n"
     ]
    },
    {
     "name": "stderr",
     "output_type": "stream",
     "text": [
      " 56%|█████▌    | 369/657 [03:19<02:34,  1.87it/s]"
     ]
    },
    {
     "name": "stdout",
     "output_type": "stream",
     "text": [
      "[INFO] 0106 already exists\n",
      "Processing: 174_1\n",
      "Processing: /home/kapis20/projects/PPGworkspace/papagei-foundation-model/5459299/PPG-BP Database/Data File/0_subject/174_1.txt\n",
      "Processing: 174_2\n",
      "Processing: /home/kapis20/projects/PPGworkspace/papagei-foundation-model/5459299/PPG-BP Database/Data File/0_subject/174_2.txt\n"
     ]
    },
    {
     "name": "stderr",
     "output_type": "stream",
     "text": [
      " 56%|█████▋    | 370/657 [03:20<02:29,  1.92it/s]"
     ]
    },
    {
     "name": "stdout",
     "output_type": "stream",
     "text": [
      "Processing: 174_3\n",
      "Processing: /home/kapis20/projects/PPGworkspace/papagei-foundation-model/5459299/PPG-BP Database/Data File/0_subject/174_3.txt\n",
      "[INFO] 0174 already exists\n",
      "Processing: 40_1\n",
      "Processing: /home/kapis20/projects/PPGworkspace/papagei-foundation-model/5459299/PPG-BP Database/Data File/0_subject/40_1.txt\n",
      "Processing: 40_2\n",
      "Processing: /home/kapis20/projects/PPGworkspace/papagei-foundation-model/5459299/PPG-BP Database/Data File/0_subject/40_2.txt\n",
      "Processing: 40_3\n",
      "Processing: /home/kapis20/projects/PPGworkspace/papagei-foundation-model/5459299/PPG-BP Database/Data File/0_subject/40_3.txt\n"
     ]
    },
    {
     "name": "stderr",
     "output_type": "stream",
     "text": [
      " 56%|█████▋    | 371/657 [03:20<02:26,  1.95it/s]"
     ]
    },
    {
     "name": "stdout",
     "output_type": "stream",
     "text": [
      "[INFO] 0040 already exists\n",
      "Processing: 232_1\n",
      "Processing: /home/kapis20/projects/PPGworkspace/papagei-foundation-model/5459299/PPG-BP Database/Data File/0_subject/232_1.txt\n",
      "Processing: 232_2\n",
      "Processing: /home/kapis20/projects/PPGworkspace/papagei-foundation-model/5459299/PPG-BP Database/Data File/0_subject/232_2.txt\n"
     ]
    },
    {
     "name": "stderr",
     "output_type": "stream",
     "text": [
      " 57%|█████▋    | 372/657 [03:21<02:22,  2.00it/s]"
     ]
    },
    {
     "name": "stdout",
     "output_type": "stream",
     "text": [
      "Processing: 232_3\n",
      "Processing: /home/kapis20/projects/PPGworkspace/papagei-foundation-model/5459299/PPG-BP Database/Data File/0_subject/232_3.txt\n",
      "[INFO] 0232 already exists\n",
      "Processing: 13_1\n",
      "Processing: /home/kapis20/projects/PPGworkspace/papagei-foundation-model/5459299/PPG-BP Database/Data File/0_subject/13_1.txt\n",
      "Processing: 13_2\n",
      "Processing: /home/kapis20/projects/PPGworkspace/papagei-foundation-model/5459299/PPG-BP Database/Data File/0_subject/13_2.txt\n",
      "Processing: 13_3\n",
      "Processing: /home/kapis20/projects/PPGworkspace/papagei-foundation-model/5459299/PPG-BP Database/Data File/0_subject/13_3.txt\n"
     ]
    },
    {
     "name": "stderr",
     "output_type": "stream",
     "text": [
      " 57%|█████▋    | 373/657 [03:21<02:19,  2.03it/s]"
     ]
    },
    {
     "name": "stdout",
     "output_type": "stream",
     "text": [
      "[INFO] 0013 already exists\n",
      "Processing: 259_1\n",
      "Processing: /home/kapis20/projects/PPGworkspace/papagei-foundation-model/5459299/PPG-BP Database/Data File/0_subject/259_1.txt\n",
      "Processing: 259_2\n",
      "Processing: /home/kapis20/projects/PPGworkspace/papagei-foundation-model/5459299/PPG-BP Database/Data File/0_subject/259_2.txt\n"
     ]
    },
    {
     "name": "stderr",
     "output_type": "stream",
     "text": [
      " 57%|█████▋    | 374/657 [03:22<02:24,  1.96it/s]"
     ]
    },
    {
     "name": "stdout",
     "output_type": "stream",
     "text": [
      "Processing: 259_3\n",
      "Processing: /home/kapis20/projects/PPGworkspace/papagei-foundation-model/5459299/PPG-BP Database/Data File/0_subject/259_3.txt\n",
      "[INFO] 0259 already exists\n",
      "Processing: 128_1\n",
      "Processing: /home/kapis20/projects/PPGworkspace/papagei-foundation-model/5459299/PPG-BP Database/Data File/0_subject/128_1.txt\n",
      "Processing: 128_2\n",
      "Processing: /home/kapis20/projects/PPGworkspace/papagei-foundation-model/5459299/PPG-BP Database/Data File/0_subject/128_2.txt\n",
      "Processing: 128_3\n",
      "Processing: /home/kapis20/projects/PPGworkspace/papagei-foundation-model/5459299/PPG-BP Database/Data File/0_subject/128_3.txt\n"
     ]
    },
    {
     "name": "stderr",
     "output_type": "stream",
     "text": [
      " 57%|█████▋    | 375/657 [03:22<02:20,  2.01it/s]"
     ]
    },
    {
     "name": "stdout",
     "output_type": "stream",
     "text": [
      "[INFO] 0128 already exists\n",
      "Processing: 193_1\n",
      "Processing: /home/kapis20/projects/PPGworkspace/papagei-foundation-model/5459299/PPG-BP Database/Data File/0_subject/193_1.txt\n",
      "Processing: 193_2\n",
      "Processing: /home/kapis20/projects/PPGworkspace/papagei-foundation-model/5459299/PPG-BP Database/Data File/0_subject/193_2.txt\n",
      "Processing: 193_3\n",
      "Processing: /home/kapis20/projects/PPGworkspace/papagei-foundation-model/5459299/PPG-BP Database/Data File/0_subject/193_3.txt\n",
      "[INFO] 0193 already exists\n",
      "Processing: 11_1\n",
      "Processing: /home/kapis20/projects/PPGworkspace/papagei-foundation-model/5459299/PPG-BP Database/Data File/0_subject/11_1.txt\n",
      "Processing: 11_2\n",
      "Processing: /home/kapis20/projects/PPGworkspace/papagei-foundation-model/5459299/PPG-BP Database/Data File/0_subject/11_2.txt\n",
      "Processing: 11_3\n",
      "Processing: /home/kapis20/projects/PPGworkspace/papagei-foundation-model/5459299/PPG-BP Database/Data File/0_subject/11_3.txt\n",
      "[INFO] 0011 already exists\n",
      "Processing: 115_1\n",
      "Processing: /home/kapis20/projects/PPGworkspace/papagei-foundation-model/5459299/PPG-BP Database/Data File/0_subject/115_1.txt\n",
      "Processing: 115_2\n",
      "Processing: /home/kapis20/projects/PPGworkspace/papagei-foundation-model/5459299/PPG-BP Database/Data File/0_subject/115_2.txt\n",
      "Processing: 115_3\n",
      "Processing: /home/kapis20/projects/PPGworkspace/papagei-foundation-model/5459299/PPG-BP Database/Data File/0_subject/115_3.txt\n"
     ]
    },
    {
     "name": "stderr",
     "output_type": "stream",
     "text": [
      " 58%|█████▊    | 378/657 [03:23<01:13,  3.80it/s]"
     ]
    },
    {
     "name": "stdout",
     "output_type": "stream",
     "text": [
      "[INFO] 0115 already exists\n",
      "Processing: 99_1\n",
      "Processing: /home/kapis20/projects/PPGworkspace/papagei-foundation-model/5459299/PPG-BP Database/Data File/0_subject/99_1.txt\n",
      "Processing: 99_2\n",
      "Processing: /home/kapis20/projects/PPGworkspace/papagei-foundation-model/5459299/PPG-BP Database/Data File/0_subject/99_2.txt\n"
     ]
    },
    {
     "name": "stderr",
     "output_type": "stream",
     "text": [
      " 58%|█████▊    | 379/657 [03:23<01:25,  3.25it/s]"
     ]
    },
    {
     "name": "stdout",
     "output_type": "stream",
     "text": [
      "Processing: 99_3\n",
      "Processing: /home/kapis20/projects/PPGworkspace/papagei-foundation-model/5459299/PPG-BP Database/Data File/0_subject/99_3.txt\n",
      "[INFO] 0099 already exists\n",
      "Processing: 127_1\n",
      "Processing: /home/kapis20/projects/PPGworkspace/papagei-foundation-model/5459299/PPG-BP Database/Data File/0_subject/127_1.txt\n",
      "Processing: 127_2\n",
      "Processing: /home/kapis20/projects/PPGworkspace/papagei-foundation-model/5459299/PPG-BP Database/Data File/0_subject/127_2.txt\n",
      "Processing: 127_3\n",
      "Processing: /home/kapis20/projects/PPGworkspace/papagei-foundation-model/5459299/PPG-BP Database/Data File/0_subject/127_3.txt\n"
     ]
    },
    {
     "name": "stderr",
     "output_type": "stream",
     "text": [
      " 58%|█████▊    | 380/657 [03:24<01:36,  2.86it/s]"
     ]
    },
    {
     "name": "stdout",
     "output_type": "stream",
     "text": [
      "[INFO] 0127 already exists\n",
      "Processing: 91_1\n",
      "Processing: /home/kapis20/projects/PPGworkspace/papagei-foundation-model/5459299/PPG-BP Database/Data File/0_subject/91_1.txt\n",
      "Processing: 91_2\n",
      "Processing: /home/kapis20/projects/PPGworkspace/papagei-foundation-model/5459299/PPG-BP Database/Data File/0_subject/91_2.txt\n"
     ]
    },
    {
     "name": "stderr",
     "output_type": "stream",
     "text": [
      " 58%|█████▊    | 381/657 [03:24<01:44,  2.64it/s]"
     ]
    },
    {
     "name": "stdout",
     "output_type": "stream",
     "text": [
      "Processing: 91_3\n",
      "Processing: /home/kapis20/projects/PPGworkspace/papagei-foundation-model/5459299/PPG-BP Database/Data File/0_subject/91_3.txt\n",
      "[INFO] 0091 already exists\n",
      "Processing: 228_1\n",
      "Processing: /home/kapis20/projects/PPGworkspace/papagei-foundation-model/5459299/PPG-BP Database/Data File/0_subject/228_1.txt\n",
      "Processing: 228_2\n",
      "Processing: /home/kapis20/projects/PPGworkspace/papagei-foundation-model/5459299/PPG-BP Database/Data File/0_subject/228_2.txt\n",
      "Processing: 228_3\n",
      "Processing: /home/kapis20/projects/PPGworkspace/papagei-foundation-model/5459299/PPG-BP Database/Data File/0_subject/228_3.txt\n"
     ]
    },
    {
     "name": "stderr",
     "output_type": "stream",
     "text": [
      " 58%|█████▊    | 382/657 [03:25<02:01,  2.26it/s]"
     ]
    },
    {
     "name": "stdout",
     "output_type": "stream",
     "text": [
      "[INFO] 0228 already exists\n",
      "Processing: 156_1\n",
      "Processing: /home/kapis20/projects/PPGworkspace/papagei-foundation-model/5459299/PPG-BP Database/Data File/0_subject/156_1.txt\n",
      "Processing: 156_2\n",
      "Processing: /home/kapis20/projects/PPGworkspace/papagei-foundation-model/5459299/PPG-BP Database/Data File/0_subject/156_2.txt\n"
     ]
    },
    {
     "name": "stderr",
     "output_type": "stream",
     "text": [
      " 58%|█████▊    | 383/657 [03:25<02:06,  2.17it/s]"
     ]
    },
    {
     "name": "stdout",
     "output_type": "stream",
     "text": [
      "Processing: 156_3\n",
      "Processing: /home/kapis20/projects/PPGworkspace/papagei-foundation-model/5459299/PPG-BP Database/Data File/0_subject/156_3.txt\n",
      "[INFO] 0156 already exists\n",
      "Processing: 111_1\n",
      "Processing: /home/kapis20/projects/PPGworkspace/papagei-foundation-model/5459299/PPG-BP Database/Data File/0_subject/111_1.txt\n",
      "Processing: 111_2\n",
      "Processing: /home/kapis20/projects/PPGworkspace/papagei-foundation-model/5459299/PPG-BP Database/Data File/0_subject/111_2.txt\n",
      "Processing: 111_3\n",
      "Processing: /home/kapis20/projects/PPGworkspace/papagei-foundation-model/5459299/PPG-BP Database/Data File/0_subject/111_3.txt\n"
     ]
    },
    {
     "name": "stderr",
     "output_type": "stream",
     "text": [
      " 58%|█████▊    | 384/657 [03:26<02:11,  2.08it/s]"
     ]
    },
    {
     "name": "stdout",
     "output_type": "stream",
     "text": [
      "[INFO] 0111 already exists\n",
      "Processing: 405_1\n",
      "Processing: /home/kapis20/projects/PPGworkspace/papagei-foundation-model/5459299/PPG-BP Database/Data File/0_subject/405_1.txt\n",
      "Processing: 405_2\n",
      "Processing: /home/kapis20/projects/PPGworkspace/papagei-foundation-model/5459299/PPG-BP Database/Data File/0_subject/405_2.txt\n"
     ]
    },
    {
     "name": "stderr",
     "output_type": "stream",
     "text": [
      " 59%|█████▊    | 385/657 [03:26<02:05,  2.16it/s]"
     ]
    },
    {
     "name": "stdout",
     "output_type": "stream",
     "text": [
      "Processing: 405_3\n",
      "Processing: /home/kapis20/projects/PPGworkspace/papagei-foundation-model/5459299/PPG-BP Database/Data File/0_subject/405_3.txt\n",
      "[INFO] 0405 already exists\n",
      "Processing: 2_1\n",
      "Processing: /home/kapis20/projects/PPGworkspace/papagei-foundation-model/5459299/PPG-BP Database/Data File/0_subject/2_1.txt\n",
      "Processing: 2_2\n",
      "Processing: /home/kapis20/projects/PPGworkspace/papagei-foundation-model/5459299/PPG-BP Database/Data File/0_subject/2_2.txt\n",
      "Processing: 2_3\n",
      "Processing: /home/kapis20/projects/PPGworkspace/papagei-foundation-model/5459299/PPG-BP Database/Data File/0_subject/2_3.txt\n"
     ]
    },
    {
     "name": "stderr",
     "output_type": "stream",
     "text": [
      " 59%|█████▉    | 386/657 [03:27<02:06,  2.14it/s]"
     ]
    },
    {
     "name": "stdout",
     "output_type": "stream",
     "text": [
      "[INFO] 0002 already exists\n",
      "Processing: 66_1\n",
      "Processing: /home/kapis20/projects/PPGworkspace/papagei-foundation-model/5459299/PPG-BP Database/Data File/0_subject/66_1.txt\n",
      "Processing: 66_2\n",
      "Processing: /home/kapis20/projects/PPGworkspace/papagei-foundation-model/5459299/PPG-BP Database/Data File/0_subject/66_2.txt\n"
     ]
    },
    {
     "name": "stderr",
     "output_type": "stream",
     "text": [
      " 59%|█████▉    | 387/657 [03:27<02:06,  2.13it/s]"
     ]
    },
    {
     "name": "stdout",
     "output_type": "stream",
     "text": [
      "Processing: 66_3\n",
      "Processing: /home/kapis20/projects/PPGworkspace/papagei-foundation-model/5459299/PPG-BP Database/Data File/0_subject/66_3.txt\n",
      "[INFO] 0066 already exists\n",
      "Processing: 171_1\n",
      "Processing: /home/kapis20/projects/PPGworkspace/papagei-foundation-model/5459299/PPG-BP Database/Data File/0_subject/171_1.txt\n",
      "Processing: 171_2\n",
      "Processing: /home/kapis20/projects/PPGworkspace/papagei-foundation-model/5459299/PPG-BP Database/Data File/0_subject/171_2.txt\n",
      "Processing: 171_3\n",
      "Processing: /home/kapis20/projects/PPGworkspace/papagei-foundation-model/5459299/PPG-BP Database/Data File/0_subject/171_3.txt\n"
     ]
    },
    {
     "name": "stderr",
     "output_type": "stream",
     "text": [
      " 59%|█████▉    | 388/657 [03:28<02:12,  2.03it/s]"
     ]
    },
    {
     "name": "stdout",
     "output_type": "stream",
     "text": [
      "[INFO] 0171 already exists\n",
      "Processing: 8_1\n",
      "Processing: /home/kapis20/projects/PPGworkspace/papagei-foundation-model/5459299/PPG-BP Database/Data File/0_subject/8_1.txt\n",
      "Processing: 8_2\n",
      "Processing: /home/kapis20/projects/PPGworkspace/papagei-foundation-model/5459299/PPG-BP Database/Data File/0_subject/8_2.txt\n"
     ]
    },
    {
     "name": "stderr",
     "output_type": "stream",
     "text": [
      " 59%|█████▉    | 389/657 [03:28<02:11,  2.03it/s]"
     ]
    },
    {
     "name": "stdout",
     "output_type": "stream",
     "text": [
      "Processing: 8_3\n",
      "Processing: /home/kapis20/projects/PPGworkspace/papagei-foundation-model/5459299/PPG-BP Database/Data File/0_subject/8_3.txt\n",
      "[INFO] 0008 already exists\n",
      "Processing: 111_1\n",
      "Processing: /home/kapis20/projects/PPGworkspace/papagei-foundation-model/5459299/PPG-BP Database/Data File/0_subject/111_1.txt\n",
      "Processing: 111_2\n",
      "Processing: /home/kapis20/projects/PPGworkspace/papagei-foundation-model/5459299/PPG-BP Database/Data File/0_subject/111_2.txt\n",
      "Processing: 111_3\n",
      "Processing: /home/kapis20/projects/PPGworkspace/papagei-foundation-model/5459299/PPG-BP Database/Data File/0_subject/111_3.txt\n"
     ]
    },
    {
     "name": "stderr",
     "output_type": "stream",
     "text": [
      " 59%|█████▉    | 390/657 [03:29<02:10,  2.05it/s]"
     ]
    },
    {
     "name": "stdout",
     "output_type": "stream",
     "text": [
      "[INFO] 0111 already exists\n",
      "Processing: 160_1\n",
      "Processing: /home/kapis20/projects/PPGworkspace/papagei-foundation-model/5459299/PPG-BP Database/Data File/0_subject/160_1.txt\n",
      "Processing: 160_2\n",
      "Processing: /home/kapis20/projects/PPGworkspace/papagei-foundation-model/5459299/PPG-BP Database/Data File/0_subject/160_2.txt\n"
     ]
    },
    {
     "name": "stderr",
     "output_type": "stream",
     "text": [
      " 60%|█████▉    | 391/657 [03:29<02:09,  2.05it/s]"
     ]
    },
    {
     "name": "stdout",
     "output_type": "stream",
     "text": [
      "Processing: 160_3\n",
      "Processing: /home/kapis20/projects/PPGworkspace/papagei-foundation-model/5459299/PPG-BP Database/Data File/0_subject/160_3.txt\n",
      "[INFO] 0160 already exists\n",
      "Processing: 231_1\n",
      "Processing: /home/kapis20/projects/PPGworkspace/papagei-foundation-model/5459299/PPG-BP Database/Data File/0_subject/231_1.txt\n",
      "Processing: 231_2\n",
      "Processing: /home/kapis20/projects/PPGworkspace/papagei-foundation-model/5459299/PPG-BP Database/Data File/0_subject/231_2.txt\n"
     ]
    },
    {
     "name": "stderr",
     "output_type": "stream",
     "text": [
      " 60%|█████▉    | 392/657 [03:30<02:18,  1.91it/s]"
     ]
    },
    {
     "name": "stdout",
     "output_type": "stream",
     "text": [
      "Processing: 231_3\n",
      "Processing: /home/kapis20/projects/PPGworkspace/papagei-foundation-model/5459299/PPG-BP Database/Data File/0_subject/231_3.txt\n",
      "[INFO] 0231 already exists\n",
      "Processing: 174_1\n",
      "Processing: /home/kapis20/projects/PPGworkspace/papagei-foundation-model/5459299/PPG-BP Database/Data File/0_subject/174_1.txt\n",
      "Processing: 174_2\n",
      "Processing: /home/kapis20/projects/PPGworkspace/papagei-foundation-model/5459299/PPG-BP Database/Data File/0_subject/174_2.txt\n",
      "Processing: 174_3\n",
      "Processing: /home/kapis20/projects/PPGworkspace/papagei-foundation-model/5459299/PPG-BP Database/Data File/0_subject/174_3.txt\n"
     ]
    },
    {
     "name": "stderr",
     "output_type": "stream",
     "text": [
      " 60%|█████▉    | 393/657 [03:30<02:22,  1.85it/s]"
     ]
    },
    {
     "name": "stdout",
     "output_type": "stream",
     "text": [
      "[INFO] 0174 already exists\n",
      "Processing: 139_1\n",
      "Processing: /home/kapis20/projects/PPGworkspace/papagei-foundation-model/5459299/PPG-BP Database/Data File/0_subject/139_1.txt\n",
      "Processing: 139_2\n",
      "Processing: /home/kapis20/projects/PPGworkspace/papagei-foundation-model/5459299/PPG-BP Database/Data File/0_subject/139_2.txt\n"
     ]
    },
    {
     "name": "stderr",
     "output_type": "stream",
     "text": [
      " 60%|█████▉    | 394/657 [03:31<02:16,  1.92it/s]"
     ]
    },
    {
     "name": "stdout",
     "output_type": "stream",
     "text": [
      "Processing: 139_3\n",
      "Processing: /home/kapis20/projects/PPGworkspace/papagei-foundation-model/5459299/PPG-BP Database/Data File/0_subject/139_3.txt\n",
      "[INFO] 0139 already exists\n",
      "Processing: 149_1\n",
      "Processing: /home/kapis20/projects/PPGworkspace/papagei-foundation-model/5459299/PPG-BP Database/Data File/0_subject/149_1.txt\n",
      "Processing: 149_2\n",
      "Processing: /home/kapis20/projects/PPGworkspace/papagei-foundation-model/5459299/PPG-BP Database/Data File/0_subject/149_2.txt\n",
      "Processing: 149_3\n",
      "Processing: /home/kapis20/projects/PPGworkspace/papagei-foundation-model/5459299/PPG-BP Database/Data File/0_subject/149_3.txt\n"
     ]
    },
    {
     "name": "stderr",
     "output_type": "stream",
     "text": [
      " 60%|██████    | 395/657 [03:31<02:14,  1.95it/s]"
     ]
    },
    {
     "name": "stdout",
     "output_type": "stream",
     "text": [
      "[INFO] 0149 already exists\n",
      "Processing: 92_1\n",
      "Processing: /home/kapis20/projects/PPGworkspace/papagei-foundation-model/5459299/PPG-BP Database/Data File/0_subject/92_1.txt\n",
      "Processing: 92_2\n",
      "Processing: /home/kapis20/projects/PPGworkspace/papagei-foundation-model/5459299/PPG-BP Database/Data File/0_subject/92_2.txt\n"
     ]
    },
    {
     "name": "stderr",
     "output_type": "stream",
     "text": [
      " 60%|██████    | 396/657 [03:32<02:10,  2.00it/s]"
     ]
    },
    {
     "name": "stdout",
     "output_type": "stream",
     "text": [
      "Processing: 92_3\n",
      "Processing: /home/kapis20/projects/PPGworkspace/papagei-foundation-model/5459299/PPG-BP Database/Data File/0_subject/92_3.txt\n",
      "[INFO] 0092 already exists\n",
      "Processing: 16_1\n",
      "Processing: /home/kapis20/projects/PPGworkspace/papagei-foundation-model/5459299/PPG-BP Database/Data File/0_subject/16_1.txt\n",
      "Processing: 16_2\n",
      "Processing: /home/kapis20/projects/PPGworkspace/papagei-foundation-model/5459299/PPG-BP Database/Data File/0_subject/16_2.txt\n",
      "Processing: 16_3\n",
      "Processing: /home/kapis20/projects/PPGworkspace/papagei-foundation-model/5459299/PPG-BP Database/Data File/0_subject/16_3.txt\n"
     ]
    },
    {
     "name": "stderr",
     "output_type": "stream",
     "text": [
      " 60%|██████    | 397/657 [03:32<02:14,  1.93it/s]"
     ]
    },
    {
     "name": "stdout",
     "output_type": "stream",
     "text": [
      "[INFO] 0016 already exists\n",
      "Processing: 153_1\n",
      "Processing: /home/kapis20/projects/PPGworkspace/papagei-foundation-model/5459299/PPG-BP Database/Data File/0_subject/153_1.txt\n",
      "Processing: 153_2\n",
      "Processing: /home/kapis20/projects/PPGworkspace/papagei-foundation-model/5459299/PPG-BP Database/Data File/0_subject/153_2.txt\n"
     ]
    },
    {
     "name": "stderr",
     "output_type": "stream",
     "text": [
      " 61%|██████    | 398/657 [03:33<02:09,  1.99it/s]"
     ]
    },
    {
     "name": "stdout",
     "output_type": "stream",
     "text": [
      "Processing: 153_3\n",
      "Processing: /home/kapis20/projects/PPGworkspace/papagei-foundation-model/5459299/PPG-BP Database/Data File/0_subject/153_3.txt\n",
      "[INFO] 0153 already exists\n",
      "Processing: 14_1\n",
      "Processing: /home/kapis20/projects/PPGworkspace/papagei-foundation-model/5459299/PPG-BP Database/Data File/0_subject/14_1.txt\n",
      "Processing: 14_2\n",
      "Processing: /home/kapis20/projects/PPGworkspace/papagei-foundation-model/5459299/PPG-BP Database/Data File/0_subject/14_2.txt\n",
      "Processing: 14_3\n",
      "Processing: /home/kapis20/projects/PPGworkspace/papagei-foundation-model/5459299/PPG-BP Database/Data File/0_subject/14_3.txt\n"
     ]
    },
    {
     "name": "stderr",
     "output_type": "stream",
     "text": [
      " 61%|██████    | 399/657 [03:33<02:09,  1.99it/s]"
     ]
    },
    {
     "name": "stdout",
     "output_type": "stream",
     "text": [
      "[INFO] 0014 already exists\n",
      "Processing: 180_1\n",
      "Processing: /home/kapis20/projects/PPGworkspace/papagei-foundation-model/5459299/PPG-BP Database/Data File/0_subject/180_1.txt\n",
      "Processing: 180_2\n",
      "Processing: /home/kapis20/projects/PPGworkspace/papagei-foundation-model/5459299/PPG-BP Database/Data File/0_subject/180_2.txt\n",
      "Processing: 180_3\n",
      "Processing: /home/kapis20/projects/PPGworkspace/papagei-foundation-model/5459299/PPG-BP Database/Data File/0_subject/180_3.txt\n"
     ]
    },
    {
     "name": "stderr",
     "output_type": "stream",
     "text": [
      " 61%|██████    | 400/657 [03:34<02:11,  1.95it/s]"
     ]
    },
    {
     "name": "stdout",
     "output_type": "stream",
     "text": [
      "[INFO] 0180 already exists\n",
      "Processing: 105_1\n",
      "Processing: /home/kapis20/projects/PPGworkspace/papagei-foundation-model/5459299/PPG-BP Database/Data File/0_subject/105_1.txt\n",
      "Processing: 105_2\n",
      "Processing: /home/kapis20/projects/PPGworkspace/papagei-foundation-model/5459299/PPG-BP Database/Data File/0_subject/105_2.txt\n"
     ]
    },
    {
     "name": "stderr",
     "output_type": "stream",
     "text": [
      " 61%|██████    | 401/657 [03:34<02:06,  2.02it/s]"
     ]
    },
    {
     "name": "stdout",
     "output_type": "stream",
     "text": [
      "Processing: 105_3\n",
      "Processing: /home/kapis20/projects/PPGworkspace/papagei-foundation-model/5459299/PPG-BP Database/Data File/0_subject/105_3.txt\n",
      "[INFO] 0105 already exists\n",
      "Processing: 180_1\n",
      "Processing: /home/kapis20/projects/PPGworkspace/papagei-foundation-model/5459299/PPG-BP Database/Data File/0_subject/180_1.txt\n",
      "Processing: 180_2\n",
      "Processing: /home/kapis20/projects/PPGworkspace/papagei-foundation-model/5459299/PPG-BP Database/Data File/0_subject/180_2.txt\n",
      "Processing: 180_3\n",
      "Processing: /home/kapis20/projects/PPGworkspace/papagei-foundation-model/5459299/PPG-BP Database/Data File/0_subject/180_3.txt\n"
     ]
    },
    {
     "name": "stderr",
     "output_type": "stream",
     "text": [
      " 61%|██████    | 402/657 [03:35<02:03,  2.06it/s]"
     ]
    },
    {
     "name": "stdout",
     "output_type": "stream",
     "text": [
      "[INFO] 0180 already exists\n",
      "Processing: 178_1\n",
      "Processing: /home/kapis20/projects/PPGworkspace/papagei-foundation-model/5459299/PPG-BP Database/Data File/0_subject/178_1.txt\n",
      "Processing: 178_2\n",
      "Processing: /home/kapis20/projects/PPGworkspace/papagei-foundation-model/5459299/PPG-BP Database/Data File/0_subject/178_2.txt\n"
     ]
    },
    {
     "name": "stderr",
     "output_type": "stream",
     "text": [
      " 61%|██████▏   | 403/657 [03:35<02:00,  2.10it/s]"
     ]
    },
    {
     "name": "stdout",
     "output_type": "stream",
     "text": [
      "Processing: 178_3\n",
      "Processing: /home/kapis20/projects/PPGworkspace/papagei-foundation-model/5459299/PPG-BP Database/Data File/0_subject/178_3.txt\n",
      "[INFO] 0178 already exists\n",
      "Processing: 126_1\n",
      "Processing: /home/kapis20/projects/PPGworkspace/papagei-foundation-model/5459299/PPG-BP Database/Data File/0_subject/126_1.txt\n",
      "Processing: 126_2\n",
      "Processing: /home/kapis20/projects/PPGworkspace/papagei-foundation-model/5459299/PPG-BP Database/Data File/0_subject/126_2.txt\n",
      "Processing: 126_3\n",
      "Processing: /home/kapis20/projects/PPGworkspace/papagei-foundation-model/5459299/PPG-BP Database/Data File/0_subject/126_3.txt\n"
     ]
    },
    {
     "name": "stderr",
     "output_type": "stream",
     "text": [
      " 61%|██████▏   | 404/657 [03:36<02:09,  1.95it/s]"
     ]
    },
    {
     "name": "stdout",
     "output_type": "stream",
     "text": [
      "[INFO] 0126 already exists\n",
      "Processing: 213_1\n",
      "Processing: /home/kapis20/projects/PPGworkspace/papagei-foundation-model/5459299/PPG-BP Database/Data File/0_subject/213_1.txt\n",
      "Processing: 213_2\n",
      "Processing: /home/kapis20/projects/PPGworkspace/papagei-foundation-model/5459299/PPG-BP Database/Data File/0_subject/213_2.txt\n"
     ]
    },
    {
     "name": "stderr",
     "output_type": "stream",
     "text": [
      " 62%|██████▏   | 405/657 [03:36<02:05,  2.00it/s]"
     ]
    },
    {
     "name": "stdout",
     "output_type": "stream",
     "text": [
      "Processing: 213_3\n",
      "Processing: /home/kapis20/projects/PPGworkspace/papagei-foundation-model/5459299/PPG-BP Database/Data File/0_subject/213_3.txt\n",
      "[INFO] 0213 already exists\n",
      "Processing: 234_1\n",
      "Processing: /home/kapis20/projects/PPGworkspace/papagei-foundation-model/5459299/PPG-BP Database/Data File/0_subject/234_1.txt\n",
      "Processing: 234_2\n",
      "Processing: /home/kapis20/projects/PPGworkspace/papagei-foundation-model/5459299/PPG-BP Database/Data File/0_subject/234_2.txt\n",
      "Processing: 234_3\n",
      "Processing: /home/kapis20/projects/PPGworkspace/papagei-foundation-model/5459299/PPG-BP Database/Data File/0_subject/234_3.txt\n"
     ]
    },
    {
     "name": "stderr",
     "output_type": "stream",
     "text": [
      " 62%|██████▏   | 406/657 [03:37<02:04,  2.02it/s]"
     ]
    },
    {
     "name": "stdout",
     "output_type": "stream",
     "text": [
      "[INFO] 0234 already exists\n",
      "Processing: 100_1\n",
      "Processing: /home/kapis20/projects/PPGworkspace/papagei-foundation-model/5459299/PPG-BP Database/Data File/0_subject/100_1.txt\n",
      "Processing: 100_2\n",
      "Processing: /home/kapis20/projects/PPGworkspace/papagei-foundation-model/5459299/PPG-BP Database/Data File/0_subject/100_2.txt\n"
     ]
    },
    {
     "name": "stderr",
     "output_type": "stream",
     "text": [
      " 62%|██████▏   | 407/657 [03:37<02:07,  1.97it/s]"
     ]
    },
    {
     "name": "stdout",
     "output_type": "stream",
     "text": [
      "Processing: 100_3\n",
      "Processing: /home/kapis20/projects/PPGworkspace/papagei-foundation-model/5459299/PPG-BP Database/Data File/0_subject/100_3.txt\n",
      "[INFO] 0100 already exists\n",
      "Processing: 218_1\n",
      "Processing: /home/kapis20/projects/PPGworkspace/papagei-foundation-model/5459299/PPG-BP Database/Data File/0_subject/218_1.txt\n",
      "Processing: 218_2\n",
      "Processing: /home/kapis20/projects/PPGworkspace/papagei-foundation-model/5459299/PPG-BP Database/Data File/0_subject/218_2.txt\n",
      "Processing: 218_3\n",
      "Processing: /home/kapis20/projects/PPGworkspace/papagei-foundation-model/5459299/PPG-BP Database/Data File/0_subject/218_3.txt\n"
     ]
    },
    {
     "name": "stderr",
     "output_type": "stream",
     "text": [
      " 62%|██████▏   | 408/657 [03:38<02:05,  1.99it/s]"
     ]
    },
    {
     "name": "stdout",
     "output_type": "stream",
     "text": [
      "[INFO] 0218 already exists\n",
      "Processing: 144_1\n",
      "Processing: /home/kapis20/projects/PPGworkspace/papagei-foundation-model/5459299/PPG-BP Database/Data File/0_subject/144_1.txt\n",
      "Processing: 144_2\n",
      "Processing: /home/kapis20/projects/PPGworkspace/papagei-foundation-model/5459299/PPG-BP Database/Data File/0_subject/144_2.txt\n"
     ]
    },
    {
     "name": "stderr",
     "output_type": "stream",
     "text": [
      " 62%|██████▏   | 409/657 [03:38<02:03,  2.01it/s]"
     ]
    },
    {
     "name": "stdout",
     "output_type": "stream",
     "text": [
      "Processing: 144_3\n",
      "Processing: /home/kapis20/projects/PPGworkspace/papagei-foundation-model/5459299/PPG-BP Database/Data File/0_subject/144_3.txt\n",
      "[INFO] 0144 already exists\n",
      "Processing: 405_1\n",
      "Processing: /home/kapis20/projects/PPGworkspace/papagei-foundation-model/5459299/PPG-BP Database/Data File/0_subject/405_1.txt\n",
      "Processing: 405_2\n",
      "Processing: /home/kapis20/projects/PPGworkspace/papagei-foundation-model/5459299/PPG-BP Database/Data File/0_subject/405_2.txt\n"
     ]
    },
    {
     "name": "stderr",
     "output_type": "stream",
     "text": [
      " 62%|██████▏   | 410/657 [03:39<02:05,  1.96it/s]"
     ]
    },
    {
     "name": "stdout",
     "output_type": "stream",
     "text": [
      "Processing: 405_3\n",
      "Processing: /home/kapis20/projects/PPGworkspace/papagei-foundation-model/5459299/PPG-BP Database/Data File/0_subject/405_3.txt\n",
      "[INFO] 0405 already exists\n",
      "Processing: 227_1\n",
      "Processing: /home/kapis20/projects/PPGworkspace/papagei-foundation-model/5459299/PPG-BP Database/Data File/0_subject/227_1.txt\n",
      "Processing: 227_2\n",
      "Processing: /home/kapis20/projects/PPGworkspace/papagei-foundation-model/5459299/PPG-BP Database/Data File/0_subject/227_2.txt\n",
      "Processing: 227_3\n",
      "Processing: /home/kapis20/projects/PPGworkspace/papagei-foundation-model/5459299/PPG-BP Database/Data File/0_subject/227_3.txt\n"
     ]
    },
    {
     "name": "stderr",
     "output_type": "stream",
     "text": [
      " 63%|██████▎   | 411/657 [03:39<02:03,  1.99it/s]"
     ]
    },
    {
     "name": "stdout",
     "output_type": "stream",
     "text": [
      "[INFO] 0227 already exists\n",
      "Processing: 203_1\n",
      "Processing: /home/kapis20/projects/PPGworkspace/papagei-foundation-model/5459299/PPG-BP Database/Data File/0_subject/203_1.txt\n",
      "Processing: 203_2\n",
      "Processing: /home/kapis20/projects/PPGworkspace/papagei-foundation-model/5459299/PPG-BP Database/Data File/0_subject/203_2.txt\n"
     ]
    },
    {
     "name": "stderr",
     "output_type": "stream",
     "text": [
      " 63%|██████▎   | 412/657 [03:40<02:01,  2.02it/s]"
     ]
    },
    {
     "name": "stdout",
     "output_type": "stream",
     "text": [
      "Processing: 203_3\n",
      "Processing: /home/kapis20/projects/PPGworkspace/papagei-foundation-model/5459299/PPG-BP Database/Data File/0_subject/203_3.txt\n",
      "[INFO] 0203 already exists\n",
      "Processing: 113_1\n",
      "Processing: /home/kapis20/projects/PPGworkspace/papagei-foundation-model/5459299/PPG-BP Database/Data File/0_subject/113_1.txt\n",
      "Processing: 113_2\n",
      "Processing: /home/kapis20/projects/PPGworkspace/papagei-foundation-model/5459299/PPG-BP Database/Data File/0_subject/113_2.txt\n",
      "Processing: 113_3\n",
      "Processing: /home/kapis20/projects/PPGworkspace/papagei-foundation-model/5459299/PPG-BP Database/Data File/0_subject/113_3.txt\n"
     ]
    },
    {
     "name": "stderr",
     "output_type": "stream",
     "text": [
      " 63%|██████▎   | 413/657 [03:40<02:08,  1.91it/s]"
     ]
    },
    {
     "name": "stdout",
     "output_type": "stream",
     "text": [
      "[INFO] 0113 already exists\n",
      "Processing: 54_1\n",
      "Processing: /home/kapis20/projects/PPGworkspace/papagei-foundation-model/5459299/PPG-BP Database/Data File/0_subject/54_1.txt\n",
      "Processing: 54_2\n",
      "Processing: /home/kapis20/projects/PPGworkspace/papagei-foundation-model/5459299/PPG-BP Database/Data File/0_subject/54_2.txt\n"
     ]
    },
    {
     "name": "stderr",
     "output_type": "stream",
     "text": [
      " 63%|██████▎   | 414/657 [03:41<02:02,  1.98it/s]"
     ]
    },
    {
     "name": "stdout",
     "output_type": "stream",
     "text": [
      "Processing: 54_3\n",
      "Processing: /home/kapis20/projects/PPGworkspace/papagei-foundation-model/5459299/PPG-BP Database/Data File/0_subject/54_3.txt\n",
      "[INFO] 0054 already exists\n",
      "Processing: 195_1\n",
      "Processing: /home/kapis20/projects/PPGworkspace/papagei-foundation-model/5459299/PPG-BP Database/Data File/0_subject/195_1.txt\n",
      "Processing: 195_2\n",
      "Processing: /home/kapis20/projects/PPGworkspace/papagei-foundation-model/5459299/PPG-BP Database/Data File/0_subject/195_2.txt\n",
      "Processing: 195_3\n",
      "Processing: /home/kapis20/projects/PPGworkspace/papagei-foundation-model/5459299/PPG-BP Database/Data File/0_subject/195_3.txt\n"
     ]
    },
    {
     "name": "stderr",
     "output_type": "stream",
     "text": [
      " 63%|██████▎   | 415/657 [03:41<01:59,  2.02it/s]"
     ]
    },
    {
     "name": "stdout",
     "output_type": "stream",
     "text": [
      "[INFO] 0195 already exists\n",
      "Processing: 51_1\n",
      "Processing: /home/kapis20/projects/PPGworkspace/papagei-foundation-model/5459299/PPG-BP Database/Data File/0_subject/51_1.txt\n",
      "Processing: 51_2\n",
      "Processing: /home/kapis20/projects/PPGworkspace/papagei-foundation-model/5459299/PPG-BP Database/Data File/0_subject/51_2.txt\n"
     ]
    },
    {
     "name": "stderr",
     "output_type": "stream",
     "text": [
      " 63%|██████▎   | 416/657 [03:42<02:03,  1.96it/s]"
     ]
    },
    {
     "name": "stdout",
     "output_type": "stream",
     "text": [
      "Processing: 51_3\n",
      "Processing: /home/kapis20/projects/PPGworkspace/papagei-foundation-model/5459299/PPG-BP Database/Data File/0_subject/51_3.txt\n",
      "[INFO] 0051 already exists\n",
      "Processing: 58_1\n",
      "Processing: /home/kapis20/projects/PPGworkspace/papagei-foundation-model/5459299/PPG-BP Database/Data File/0_subject/58_1.txt\n",
      "Processing: 58_2\n",
      "Processing: /home/kapis20/projects/PPGworkspace/papagei-foundation-model/5459299/PPG-BP Database/Data File/0_subject/58_2.txt\n",
      "Processing: 58_3\n",
      "Processing: /home/kapis20/projects/PPGworkspace/papagei-foundation-model/5459299/PPG-BP Database/Data File/0_subject/58_3.txt\n"
     ]
    },
    {
     "name": "stderr",
     "output_type": "stream",
     "text": [
      " 63%|██████▎   | 417/657 [03:42<02:01,  1.97it/s]"
     ]
    },
    {
     "name": "stdout",
     "output_type": "stream",
     "text": [
      "[INFO] 0058 already exists\n",
      "Processing: 84_1\n",
      "Processing: /home/kapis20/projects/PPGworkspace/papagei-foundation-model/5459299/PPG-BP Database/Data File/0_subject/84_1.txt\n",
      "Processing: 84_2\n",
      "Processing: /home/kapis20/projects/PPGworkspace/papagei-foundation-model/5459299/PPG-BP Database/Data File/0_subject/84_2.txt\n"
     ]
    },
    {
     "name": "stderr",
     "output_type": "stream",
     "text": [
      " 64%|██████▎   | 418/657 [03:43<01:57,  2.04it/s]"
     ]
    },
    {
     "name": "stdout",
     "output_type": "stream",
     "text": [
      "Processing: 84_3\n",
      "Processing: /home/kapis20/projects/PPGworkspace/papagei-foundation-model/5459299/PPG-BP Database/Data File/0_subject/84_3.txt\n",
      "[INFO] 0084 already exists\n",
      "Processing: 167_1\n",
      "Processing: /home/kapis20/projects/PPGworkspace/papagei-foundation-model/5459299/PPG-BP Database/Data File/0_subject/167_1.txt\n",
      "Processing: 167_2\n",
      "Processing: /home/kapis20/projects/PPGworkspace/papagei-foundation-model/5459299/PPG-BP Database/Data File/0_subject/167_2.txt\n"
     ]
    },
    {
     "name": "stderr",
     "output_type": "stream",
     "text": [
      " 64%|██████▍   | 419/657 [03:43<02:03,  1.93it/s]"
     ]
    },
    {
     "name": "stdout",
     "output_type": "stream",
     "text": [
      "Processing: 167_3\n",
      "Processing: /home/kapis20/projects/PPGworkspace/papagei-foundation-model/5459299/PPG-BP Database/Data File/0_subject/167_3.txt\n",
      "[INFO] 0167 already exists\n",
      "Processing: 235_1\n",
      "Processing: /home/kapis20/projects/PPGworkspace/papagei-foundation-model/5459299/PPG-BP Database/Data File/0_subject/235_1.txt\n",
      "Processing: 235_2\n",
      "Processing: /home/kapis20/projects/PPGworkspace/papagei-foundation-model/5459299/PPG-BP Database/Data File/0_subject/235_2.txt\n",
      "Processing: 235_3\n",
      "Processing: /home/kapis20/projects/PPGworkspace/papagei-foundation-model/5459299/PPG-BP Database/Data File/0_subject/235_3.txt\n"
     ]
    },
    {
     "name": "stderr",
     "output_type": "stream",
     "text": [
      " 64%|██████▍   | 420/657 [03:44<01:59,  1.98it/s]"
     ]
    },
    {
     "name": "stdout",
     "output_type": "stream",
     "text": [
      "[INFO] 0235 already exists\n",
      "Processing: 114_1\n",
      "Processing: /home/kapis20/projects/PPGworkspace/papagei-foundation-model/5459299/PPG-BP Database/Data File/0_subject/114_1.txt\n",
      "Processing: 114_2\n",
      "Processing: /home/kapis20/projects/PPGworkspace/papagei-foundation-model/5459299/PPG-BP Database/Data File/0_subject/114_2.txt\n"
     ]
    },
    {
     "name": "stderr",
     "output_type": "stream",
     "text": [
      " 64%|██████▍   | 421/657 [03:44<01:56,  2.02it/s]"
     ]
    },
    {
     "name": "stdout",
     "output_type": "stream",
     "text": [
      "Processing: 114_3\n",
      "Processing: /home/kapis20/projects/PPGworkspace/papagei-foundation-model/5459299/PPG-BP Database/Data File/0_subject/114_3.txt\n",
      "[INFO] 0114 already exists\n",
      "Processing: 251_1\n",
      "Processing: /home/kapis20/projects/PPGworkspace/papagei-foundation-model/5459299/PPG-BP Database/Data File/0_subject/251_1.txt\n",
      "Processing: 251_2\n",
      "Processing: /home/kapis20/projects/PPGworkspace/papagei-foundation-model/5459299/PPG-BP Database/Data File/0_subject/251_2.txt\n",
      "Processing: 251_3\n",
      "Processing: /home/kapis20/projects/PPGworkspace/papagei-foundation-model/5459299/PPG-BP Database/Data File/0_subject/251_3.txt\n"
     ]
    },
    {
     "name": "stderr",
     "output_type": "stream",
     "text": [
      " 64%|██████▍   | 422/657 [03:45<02:00,  1.95it/s]"
     ]
    },
    {
     "name": "stdout",
     "output_type": "stream",
     "text": [
      "[INFO] 0251 already exists\n",
      "Processing: 218_1\n",
      "Processing: /home/kapis20/projects/PPGworkspace/papagei-foundation-model/5459299/PPG-BP Database/Data File/0_subject/218_1.txt\n",
      "Processing: 218_2\n",
      "Processing: /home/kapis20/projects/PPGworkspace/papagei-foundation-model/5459299/PPG-BP Database/Data File/0_subject/218_2.txt\n"
     ]
    },
    {
     "name": "stderr",
     "output_type": "stream",
     "text": [
      " 64%|██████▍   | 423/657 [03:45<01:59,  1.96it/s]"
     ]
    },
    {
     "name": "stdout",
     "output_type": "stream",
     "text": [
      "Processing: 218_3\n",
      "Processing: /home/kapis20/projects/PPGworkspace/papagei-foundation-model/5459299/PPG-BP Database/Data File/0_subject/218_3.txt\n",
      "[INFO] 0218 already exists\n",
      "Processing: 120_1\n",
      "Processing: /home/kapis20/projects/PPGworkspace/papagei-foundation-model/5459299/PPG-BP Database/Data File/0_subject/120_1.txt\n",
      "Processing: 120_2\n",
      "Processing: /home/kapis20/projects/PPGworkspace/papagei-foundation-model/5459299/PPG-BP Database/Data File/0_subject/120_2.txt\n",
      "Processing: 120_3\n",
      "Processing: /home/kapis20/projects/PPGworkspace/papagei-foundation-model/5459299/PPG-BP Database/Data File/0_subject/120_3.txt\n"
     ]
    },
    {
     "name": "stderr",
     "output_type": "stream",
     "text": [
      " 65%|██████▍   | 424/657 [03:46<01:55,  2.02it/s]"
     ]
    },
    {
     "name": "stdout",
     "output_type": "stream",
     "text": [
      "[INFO] 0120 already exists\n",
      "Processing: 89_1\n",
      "Processing: /home/kapis20/projects/PPGworkspace/papagei-foundation-model/5459299/PPG-BP Database/Data File/0_subject/89_1.txt\n",
      "Processing: 89_2\n",
      "Processing: /home/kapis20/projects/PPGworkspace/papagei-foundation-model/5459299/PPG-BP Database/Data File/0_subject/89_2.txt\n",
      "Processing: 89_3\n",
      "Processing: /home/kapis20/projects/PPGworkspace/papagei-foundation-model/5459299/PPG-BP Database/Data File/0_subject/89_3.txt\n"
     ]
    },
    {
     "name": "stderr",
     "output_type": "stream",
     "text": [
      " 65%|██████▍   | 425/657 [03:46<01:58,  1.96it/s]"
     ]
    },
    {
     "name": "stdout",
     "output_type": "stream",
     "text": [
      "[INFO] 0089 already exists\n",
      "Processing: 23_1\n",
      "Processing: /home/kapis20/projects/PPGworkspace/papagei-foundation-model/5459299/PPG-BP Database/Data File/0_subject/23_1.txt\n",
      "Processing: 23_2\n",
      "Processing: /home/kapis20/projects/PPGworkspace/papagei-foundation-model/5459299/PPG-BP Database/Data File/0_subject/23_2.txt\n"
     ]
    },
    {
     "name": "stderr",
     "output_type": "stream",
     "text": [
      " 65%|██████▍   | 426/657 [03:47<01:53,  2.03it/s]"
     ]
    },
    {
     "name": "stdout",
     "output_type": "stream",
     "text": [
      "Processing: 23_3\n",
      "Processing: /home/kapis20/projects/PPGworkspace/papagei-foundation-model/5459299/PPG-BP Database/Data File/0_subject/23_3.txt\n",
      "[INFO] 0023 already exists\n",
      "Processing: 243_1\n",
      "Processing: /home/kapis20/projects/PPGworkspace/papagei-foundation-model/5459299/PPG-BP Database/Data File/0_subject/243_1.txt\n",
      "Processing: 243_2\n",
      "Processing: /home/kapis20/projects/PPGworkspace/papagei-foundation-model/5459299/PPG-BP Database/Data File/0_subject/243_2.txt\n",
      "Processing: 243_3\n",
      "Processing: /home/kapis20/projects/PPGworkspace/papagei-foundation-model/5459299/PPG-BP Database/Data File/0_subject/243_3.txt\n"
     ]
    },
    {
     "name": "stderr",
     "output_type": "stream",
     "text": [
      " 65%|██████▍   | 427/657 [03:47<01:50,  2.08it/s]"
     ]
    },
    {
     "name": "stdout",
     "output_type": "stream",
     "text": [
      "[INFO] 0243 already exists\n",
      "Processing: 229_1\n",
      "Processing: /home/kapis20/projects/PPGworkspace/papagei-foundation-model/5459299/PPG-BP Database/Data File/0_subject/229_1.txt\n",
      "Processing: 229_2\n",
      "Processing: /home/kapis20/projects/PPGworkspace/papagei-foundation-model/5459299/PPG-BP Database/Data File/0_subject/229_2.txt\n"
     ]
    },
    {
     "name": "stderr",
     "output_type": "stream",
     "text": [
      " 65%|██████▌   | 428/657 [03:48<01:55,  1.98it/s]"
     ]
    },
    {
     "name": "stdout",
     "output_type": "stream",
     "text": [
      "Processing: 229_3\n",
      "Processing: /home/kapis20/projects/PPGworkspace/papagei-foundation-model/5459299/PPG-BP Database/Data File/0_subject/229_3.txt\n",
      "[INFO] 0229 already exists\n",
      "Processing: 419_1\n",
      "Processing: /home/kapis20/projects/PPGworkspace/papagei-foundation-model/5459299/PPG-BP Database/Data File/0_subject/419_1.txt\n",
      "Processing: 419_2\n",
      "Processing: /home/kapis20/projects/PPGworkspace/papagei-foundation-model/5459299/PPG-BP Database/Data File/0_subject/419_2.txt\n",
      "Processing: 419_3\n",
      "Processing: /home/kapis20/projects/PPGworkspace/papagei-foundation-model/5459299/PPG-BP Database/Data File/0_subject/419_3.txt\n"
     ]
    },
    {
     "name": "stderr",
     "output_type": "stream",
     "text": [
      " 65%|██████▌   | 429/657 [03:48<01:49,  2.09it/s]"
     ]
    },
    {
     "name": "stdout",
     "output_type": "stream",
     "text": [
      "[INFO] 0419 already exists\n",
      "Processing: 413_1\n",
      "Processing: /home/kapis20/projects/PPGworkspace/papagei-foundation-model/5459299/PPG-BP Database/Data File/0_subject/413_1.txt\n",
      "Processing: 413_2\n",
      "Processing: /home/kapis20/projects/PPGworkspace/papagei-foundation-model/5459299/PPG-BP Database/Data File/0_subject/413_2.txt\n"
     ]
    },
    {
     "name": "stderr",
     "output_type": "stream",
     "text": [
      " 65%|██████▌   | 430/657 [03:49<01:46,  2.13it/s]"
     ]
    },
    {
     "name": "stdout",
     "output_type": "stream",
     "text": [
      "Processing: 413_3\n",
      "Processing: /home/kapis20/projects/PPGworkspace/papagei-foundation-model/5459299/PPG-BP Database/Data File/0_subject/413_3.txt\n",
      "[INFO] 0413 already exists\n",
      "Processing: 205_1\n",
      "Processing: /home/kapis20/projects/PPGworkspace/papagei-foundation-model/5459299/PPG-BP Database/Data File/0_subject/205_1.txt\n",
      "Processing: 205_2\n",
      "Processing: /home/kapis20/projects/PPGworkspace/papagei-foundation-model/5459299/PPG-BP Database/Data File/0_subject/205_2.txt\n",
      "Processing: 205_3\n",
      "Processing: /home/kapis20/projects/PPGworkspace/papagei-foundation-model/5459299/PPG-BP Database/Data File/0_subject/205_3.txt\n"
     ]
    },
    {
     "name": "stderr",
     "output_type": "stream",
     "text": [
      " 66%|██████▌   | 431/657 [03:49<01:46,  2.13it/s]"
     ]
    },
    {
     "name": "stdout",
     "output_type": "stream",
     "text": [
      "[INFO] 0205 already exists\n",
      "Processing: 206_1\n",
      "Processing: /home/kapis20/projects/PPGworkspace/papagei-foundation-model/5459299/PPG-BP Database/Data File/0_subject/206_1.txt\n",
      "Processing: 206_2\n",
      "Processing: /home/kapis20/projects/PPGworkspace/papagei-foundation-model/5459299/PPG-BP Database/Data File/0_subject/206_2.txt\n",
      "Processing: 206_3\n",
      "Processing: /home/kapis20/projects/PPGworkspace/papagei-foundation-model/5459299/PPG-BP Database/Data File/0_subject/206_3.txt\n"
     ]
    },
    {
     "name": "stderr",
     "output_type": "stream",
     "text": [
      " 66%|██████▌   | 432/657 [03:50<01:52,  2.00it/s]"
     ]
    },
    {
     "name": "stdout",
     "output_type": "stream",
     "text": [
      "[INFO] 0206 already exists\n",
      "Processing: 116_1\n",
      "Processing: /home/kapis20/projects/PPGworkspace/papagei-foundation-model/5459299/PPG-BP Database/Data File/0_subject/116_1.txt\n",
      "Processing: 116_2\n",
      "Processing: /home/kapis20/projects/PPGworkspace/papagei-foundation-model/5459299/PPG-BP Database/Data File/0_subject/116_2.txt\n"
     ]
    },
    {
     "name": "stderr",
     "output_type": "stream",
     "text": [
      " 66%|██████▌   | 433/657 [03:50<01:48,  2.06it/s]"
     ]
    },
    {
     "name": "stdout",
     "output_type": "stream",
     "text": [
      "Processing: 116_3\n",
      "Processing: /home/kapis20/projects/PPGworkspace/papagei-foundation-model/5459299/PPG-BP Database/Data File/0_subject/116_3.txt\n",
      "[INFO] 0116 already exists\n",
      "Processing: 53_1\n",
      "Processing: /home/kapis20/projects/PPGworkspace/papagei-foundation-model/5459299/PPG-BP Database/Data File/0_subject/53_1.txt\n",
      "Processing: 53_2\n",
      "Processing: /home/kapis20/projects/PPGworkspace/papagei-foundation-model/5459299/PPG-BP Database/Data File/0_subject/53_2.txt\n",
      "Processing: 53_3\n",
      "Processing: /home/kapis20/projects/PPGworkspace/papagei-foundation-model/5459299/PPG-BP Database/Data File/0_subject/53_3.txt\n"
     ]
    },
    {
     "name": "stderr",
     "output_type": "stream",
     "text": [
      " 66%|██████▌   | 434/657 [03:51<01:47,  2.07it/s]"
     ]
    },
    {
     "name": "stdout",
     "output_type": "stream",
     "text": [
      "[INFO] 0053 already exists\n",
      "Processing: 212_1\n",
      "Processing: /home/kapis20/projects/PPGworkspace/papagei-foundation-model/5459299/PPG-BP Database/Data File/0_subject/212_1.txt\n",
      "Processing: 212_2\n",
      "Processing: /home/kapis20/projects/PPGworkspace/papagei-foundation-model/5459299/PPG-BP Database/Data File/0_subject/212_2.txt\n",
      "Processing: 212_3\n",
      "Processing: /home/kapis20/projects/PPGworkspace/papagei-foundation-model/5459299/PPG-BP Database/Data File/0_subject/212_3.txt\n"
     ]
    },
    {
     "name": "stderr",
     "output_type": "stream",
     "text": [
      " 66%|██████▌   | 435/657 [03:51<01:55,  1.92it/s]"
     ]
    },
    {
     "name": "stdout",
     "output_type": "stream",
     "text": [
      "[INFO] 0212 already exists\n",
      "Processing: 158_1\n",
      "Processing: /home/kapis20/projects/PPGworkspace/papagei-foundation-model/5459299/PPG-BP Database/Data File/0_subject/158_1.txt\n",
      "Processing: 158_2\n",
      "Processing: /home/kapis20/projects/PPGworkspace/papagei-foundation-model/5459299/PPG-BP Database/Data File/0_subject/158_2.txt\n"
     ]
    },
    {
     "name": "stderr",
     "output_type": "stream",
     "text": [
      " 66%|██████▋   | 436/657 [03:52<01:51,  1.98it/s]"
     ]
    },
    {
     "name": "stdout",
     "output_type": "stream",
     "text": [
      "Processing: 158_3\n",
      "Processing: /home/kapis20/projects/PPGworkspace/papagei-foundation-model/5459299/PPG-BP Database/Data File/0_subject/158_3.txt\n",
      "[INFO] 0158 already exists\n",
      "Processing: 86_1\n",
      "Processing: /home/kapis20/projects/PPGworkspace/papagei-foundation-model/5459299/PPG-BP Database/Data File/0_subject/86_1.txt\n",
      "Processing: 86_2\n",
      "Processing: /home/kapis20/projects/PPGworkspace/papagei-foundation-model/5459299/PPG-BP Database/Data File/0_subject/86_2.txt\n",
      "Processing: 86_3\n",
      "Processing: /home/kapis20/projects/PPGworkspace/papagei-foundation-model/5459299/PPG-BP Database/Data File/0_subject/86_3.txt\n"
     ]
    },
    {
     "name": "stderr",
     "output_type": "stream",
     "text": [
      " 67%|██████▋   | 437/657 [03:52<01:48,  2.03it/s]"
     ]
    },
    {
     "name": "stdout",
     "output_type": "stream",
     "text": [
      "[INFO] 0086 already exists\n",
      "Processing: 55_1\n",
      "Processing: /home/kapis20/projects/PPGworkspace/papagei-foundation-model/5459299/PPG-BP Database/Data File/0_subject/55_1.txt\n",
      "Processing: 55_2\n",
      "Processing: /home/kapis20/projects/PPGworkspace/papagei-foundation-model/5459299/PPG-BP Database/Data File/0_subject/55_2.txt\n",
      "Processing: 55_3\n",
      "Processing: /home/kapis20/projects/PPGworkspace/papagei-foundation-model/5459299/PPG-BP Database/Data File/0_subject/55_3.txt\n"
     ]
    },
    {
     "name": "stderr",
     "output_type": "stream",
     "text": [
      " 67%|██████▋   | 438/657 [03:53<01:49,  2.01it/s]"
     ]
    },
    {
     "name": "stdout",
     "output_type": "stream",
     "text": [
      "[INFO] 0055 already exists\n",
      "Processing: 150_1\n",
      "Processing: /home/kapis20/projects/PPGworkspace/papagei-foundation-model/5459299/PPG-BP Database/Data File/0_subject/150_1.txt\n",
      "Processing: 150_2\n",
      "Processing: /home/kapis20/projects/PPGworkspace/papagei-foundation-model/5459299/PPG-BP Database/Data File/0_subject/150_2.txt\n"
     ]
    },
    {
     "name": "stderr",
     "output_type": "stream",
     "text": [
      " 67%|██████▋   | 439/657 [03:53<01:47,  2.03it/s]"
     ]
    },
    {
     "name": "stdout",
     "output_type": "stream",
     "text": [
      "Processing: 150_3\n",
      "Processing: /home/kapis20/projects/PPGworkspace/papagei-foundation-model/5459299/PPG-BP Database/Data File/0_subject/150_3.txt\n",
      "[INFO] 0150 already exists\n",
      "Processing: 30_1\n",
      "Processing: /home/kapis20/projects/PPGworkspace/papagei-foundation-model/5459299/PPG-BP Database/Data File/0_subject/30_1.txt\n",
      "Processing: 30_2\n",
      "Processing: /home/kapis20/projects/PPGworkspace/papagei-foundation-model/5459299/PPG-BP Database/Data File/0_subject/30_2.txt\n",
      "Processing: 30_3\n",
      "Processing: /home/kapis20/projects/PPGworkspace/papagei-foundation-model/5459299/PPG-BP Database/Data File/0_subject/30_3.txt\n",
      "[INFO] 0030 already exists\n",
      "Processing: 415_1\n",
      "Processing: /home/kapis20/projects/PPGworkspace/papagei-foundation-model/5459299/PPG-BP Database/Data File/0_subject/415_1.txt\n",
      "Processing: 415_2\n",
      "Processing: /home/kapis20/projects/PPGworkspace/papagei-foundation-model/5459299/PPG-BP Database/Data File/0_subject/415_2.txt\n",
      "Processing: 415_3\n",
      "Processing: /home/kapis20/projects/PPGworkspace/papagei-foundation-model/5459299/PPG-BP Database/Data File/0_subject/415_3.txt\n",
      "[INFO] 0415 already exists\n",
      "Processing: 25_1\n",
      "Processing: /home/kapis20/projects/PPGworkspace/papagei-foundation-model/5459299/PPG-BP Database/Data File/0_subject/25_1.txt\n",
      "Processing: 25_2\n",
      "Processing: /home/kapis20/projects/PPGworkspace/papagei-foundation-model/5459299/PPG-BP Database/Data File/0_subject/25_2.txt\n",
      "Processing: 25_3\n",
      "Processing: /home/kapis20/projects/PPGworkspace/papagei-foundation-model/5459299/PPG-BP Database/Data File/0_subject/25_3.txt\n",
      "[INFO] 0025 already exists\n",
      "Processing: 149_1\n",
      "Processing: /home/kapis20/projects/PPGworkspace/papagei-foundation-model/5459299/PPG-BP Database/Data File/0_subject/149_1.txt\n",
      "Processing: 149_2\n",
      "Processing: /home/kapis20/projects/PPGworkspace/papagei-foundation-model/5459299/PPG-BP Database/Data File/0_subject/149_2.txt\n"
     ]
    },
    {
     "name": "stderr",
     "output_type": "stream",
     "text": [
      " 67%|██████▋   | 443/657 [03:54<00:52,  4.04it/s]"
     ]
    },
    {
     "name": "stdout",
     "output_type": "stream",
     "text": [
      "Processing: 149_3\n",
      "Processing: /home/kapis20/projects/PPGworkspace/papagei-foundation-model/5459299/PPG-BP Database/Data File/0_subject/149_3.txt\n",
      "[INFO] 0149 already exists\n",
      "Processing: 240_1\n",
      "Processing: /home/kapis20/projects/PPGworkspace/papagei-foundation-model/5459299/PPG-BP Database/Data File/0_subject/240_1.txt\n",
      "Processing: 240_2\n",
      "Processing: /home/kapis20/projects/PPGworkspace/papagei-foundation-model/5459299/PPG-BP Database/Data File/0_subject/240_2.txt\n",
      "Processing: 240_3\n",
      "Processing: /home/kapis20/projects/PPGworkspace/papagei-foundation-model/5459299/PPG-BP Database/Data File/0_subject/240_3.txt\n"
     ]
    },
    {
     "name": "stderr",
     "output_type": "stream",
     "text": [
      " 68%|██████▊   | 444/657 [03:54<01:04,  3.29it/s]"
     ]
    },
    {
     "name": "stdout",
     "output_type": "stream",
     "text": [
      "[INFO] 0240 already exists\n",
      "Processing: 230_1\n",
      "Processing: /home/kapis20/projects/PPGworkspace/papagei-foundation-model/5459299/PPG-BP Database/Data File/0_subject/230_1.txt\n",
      "Processing: 230_2\n",
      "Processing: /home/kapis20/projects/PPGworkspace/papagei-foundation-model/5459299/PPG-BP Database/Data File/0_subject/230_2.txt\n"
     ]
    },
    {
     "name": "stderr",
     "output_type": "stream",
     "text": [
      " 68%|██████▊   | 445/657 [03:55<01:11,  2.95it/s]"
     ]
    },
    {
     "name": "stdout",
     "output_type": "stream",
     "text": [
      "Processing: 230_3\n",
      "Processing: /home/kapis20/projects/PPGworkspace/papagei-foundation-model/5459299/PPG-BP Database/Data File/0_subject/230_3.txt\n",
      "[INFO] 0230 already exists\n",
      "Processing: 201_1\n",
      "Processing: /home/kapis20/projects/PPGworkspace/papagei-foundation-model/5459299/PPG-BP Database/Data File/0_subject/201_1.txt\n",
      "Processing: 201_2\n",
      "Processing: /home/kapis20/projects/PPGworkspace/papagei-foundation-model/5459299/PPG-BP Database/Data File/0_subject/201_2.txt\n",
      "Processing: 201_3\n",
      "Processing: /home/kapis20/projects/PPGworkspace/papagei-foundation-model/5459299/PPG-BP Database/Data File/0_subject/201_3.txt\n"
     ]
    },
    {
     "name": "stderr",
     "output_type": "stream",
     "text": [
      " 68%|██████▊   | 446/657 [03:55<01:18,  2.67it/s]"
     ]
    },
    {
     "name": "stdout",
     "output_type": "stream",
     "text": [
      "[INFO] 0201 already exists\n",
      "Processing: 52_1\n",
      "Processing: /home/kapis20/projects/PPGworkspace/papagei-foundation-model/5459299/PPG-BP Database/Data File/0_subject/52_1.txt\n",
      "Processing: 52_2\n",
      "Processing: /home/kapis20/projects/PPGworkspace/papagei-foundation-model/5459299/PPG-BP Database/Data File/0_subject/52_2.txt\n"
     ]
    },
    {
     "name": "stderr",
     "output_type": "stream",
     "text": [
      " 68%|██████▊   | 447/657 [03:56<01:27,  2.41it/s]"
     ]
    },
    {
     "name": "stdout",
     "output_type": "stream",
     "text": [
      "Processing: 52_3\n",
      "Processing: /home/kapis20/projects/PPGworkspace/papagei-foundation-model/5459299/PPG-BP Database/Data File/0_subject/52_3.txt\n",
      "[INFO] 0052 already exists\n",
      "Processing: 415_1\n",
      "Processing: /home/kapis20/projects/PPGworkspace/papagei-foundation-model/5459299/PPG-BP Database/Data File/0_subject/415_1.txt\n",
      "Processing: 415_2\n",
      "Processing: /home/kapis20/projects/PPGworkspace/papagei-foundation-model/5459299/PPG-BP Database/Data File/0_subject/415_2.txt\n",
      "Processing: 415_3\n",
      "Processing: /home/kapis20/projects/PPGworkspace/papagei-foundation-model/5459299/PPG-BP Database/Data File/0_subject/415_3.txt\n"
     ]
    },
    {
     "name": "stderr",
     "output_type": "stream",
     "text": [
      " 68%|██████▊   | 448/657 [03:56<01:28,  2.36it/s]"
     ]
    },
    {
     "name": "stdout",
     "output_type": "stream",
     "text": [
      "[INFO] 0415 already exists\n",
      "Processing: 203_1\n",
      "Processing: /home/kapis20/projects/PPGworkspace/papagei-foundation-model/5459299/PPG-BP Database/Data File/0_subject/203_1.txt\n",
      "Processing: 203_2\n",
      "Processing: /home/kapis20/projects/PPGworkspace/papagei-foundation-model/5459299/PPG-BP Database/Data File/0_subject/203_2.txt\n"
     ]
    },
    {
     "name": "stderr",
     "output_type": "stream",
     "text": [
      " 68%|██████▊   | 449/657 [03:57<01:30,  2.30it/s]"
     ]
    },
    {
     "name": "stdout",
     "output_type": "stream",
     "text": [
      "Processing: 203_3\n",
      "Processing: /home/kapis20/projects/PPGworkspace/papagei-foundation-model/5459299/PPG-BP Database/Data File/0_subject/203_3.txt\n",
      "[INFO] 0203 already exists\n",
      "Processing: 57_1\n",
      "Processing: /home/kapis20/projects/PPGworkspace/papagei-foundation-model/5459299/PPG-BP Database/Data File/0_subject/57_1.txt\n",
      "Processing: 57_2\n",
      "Processing: /home/kapis20/projects/PPGworkspace/papagei-foundation-model/5459299/PPG-BP Database/Data File/0_subject/57_2.txt\n",
      "Processing: 57_3\n",
      "Processing: /home/kapis20/projects/PPGworkspace/papagei-foundation-model/5459299/PPG-BP Database/Data File/0_subject/57_3.txt\n"
     ]
    },
    {
     "name": "stderr",
     "output_type": "stream",
     "text": [
      " 68%|██████▊   | 450/657 [03:57<01:38,  2.10it/s]"
     ]
    },
    {
     "name": "stdout",
     "output_type": "stream",
     "text": [
      "[INFO] 0057 already exists\n",
      "Processing: 100_1\n",
      "Processing: /home/kapis20/projects/PPGworkspace/papagei-foundation-model/5459299/PPG-BP Database/Data File/0_subject/100_1.txt\n",
      "Processing: 100_2\n",
      "Processing: /home/kapis20/projects/PPGworkspace/papagei-foundation-model/5459299/PPG-BP Database/Data File/0_subject/100_2.txt\n"
     ]
    },
    {
     "name": "stderr",
     "output_type": "stream",
     "text": [
      " 69%|██████▊   | 451/657 [03:58<01:38,  2.09it/s]"
     ]
    },
    {
     "name": "stdout",
     "output_type": "stream",
     "text": [
      "Processing: 100_3\n",
      "Processing: /home/kapis20/projects/PPGworkspace/papagei-foundation-model/5459299/PPG-BP Database/Data File/0_subject/100_3.txt\n",
      "[INFO] 0100 already exists\n",
      "Processing: 253_1\n",
      "Processing: /home/kapis20/projects/PPGworkspace/papagei-foundation-model/5459299/PPG-BP Database/Data File/0_subject/253_1.txt\n",
      "Processing: 253_2\n",
      "Processing: /home/kapis20/projects/PPGworkspace/papagei-foundation-model/5459299/PPG-BP Database/Data File/0_subject/253_2.txt\n",
      "Processing: 253_3\n",
      "Processing: /home/kapis20/projects/PPGworkspace/papagei-foundation-model/5459299/PPG-BP Database/Data File/0_subject/253_3.txt\n"
     ]
    },
    {
     "name": "stderr",
     "output_type": "stream",
     "text": [
      " 69%|██████▉   | 452/657 [03:58<01:37,  2.10it/s]"
     ]
    },
    {
     "name": "stdout",
     "output_type": "stream",
     "text": [
      "[INFO] 0253 already exists\n",
      "Processing: 189_1\n",
      "Processing: /home/kapis20/projects/PPGworkspace/papagei-foundation-model/5459299/PPG-BP Database/Data File/0_subject/189_1.txt\n",
      "Processing: 189_2\n",
      "Processing: /home/kapis20/projects/PPGworkspace/papagei-foundation-model/5459299/PPG-BP Database/Data File/0_subject/189_2.txt\n"
     ]
    },
    {
     "name": "stderr",
     "output_type": "stream",
     "text": [
      " 69%|██████▉   | 453/657 [03:59<01:44,  1.96it/s]"
     ]
    },
    {
     "name": "stdout",
     "output_type": "stream",
     "text": [
      "Processing: 189_3\n",
      "Processing: /home/kapis20/projects/PPGworkspace/papagei-foundation-model/5459299/PPG-BP Database/Data File/0_subject/189_3.txt\n",
      "[INFO] 0189 already exists\n",
      "Processing: 64_1\n",
      "Processing: /home/kapis20/projects/PPGworkspace/papagei-foundation-model/5459299/PPG-BP Database/Data File/0_subject/64_1.txt\n",
      "Processing: 64_2\n",
      "Processing: /home/kapis20/projects/PPGworkspace/papagei-foundation-model/5459299/PPG-BP Database/Data File/0_subject/64_2.txt\n",
      "Processing: 64_3\n",
      "Processing: /home/kapis20/projects/PPGworkspace/papagei-foundation-model/5459299/PPG-BP Database/Data File/0_subject/64_3.txt\n"
     ]
    },
    {
     "name": "stderr",
     "output_type": "stream",
     "text": [
      " 69%|██████▉   | 454/657 [03:59<01:41,  2.00it/s]"
     ]
    },
    {
     "name": "stdout",
     "output_type": "stream",
     "text": [
      "[INFO] 0064 already exists\n",
      "Processing: 411_1\n",
      "Processing: /home/kapis20/projects/PPGworkspace/papagei-foundation-model/5459299/PPG-BP Database/Data File/0_subject/411_1.txt\n",
      "Processing: 411_2\n",
      "Processing: /home/kapis20/projects/PPGworkspace/papagei-foundation-model/5459299/PPG-BP Database/Data File/0_subject/411_2.txt\n"
     ]
    },
    {
     "name": "stderr",
     "output_type": "stream",
     "text": [
      " 69%|██████▉   | 455/657 [04:00<01:37,  2.07it/s]"
     ]
    },
    {
     "name": "stdout",
     "output_type": "stream",
     "text": [
      "Processing: 411_3\n",
      "Processing: /home/kapis20/projects/PPGworkspace/papagei-foundation-model/5459299/PPG-BP Database/Data File/0_subject/411_3.txt\n",
      "[INFO] 0411 already exists\n",
      "Processing: 248_1\n",
      "Processing: /home/kapis20/projects/PPGworkspace/papagei-foundation-model/5459299/PPG-BP Database/Data File/0_subject/248_1.txt\n",
      "Processing: 248_2\n",
      "Processing: /home/kapis20/projects/PPGworkspace/papagei-foundation-model/5459299/PPG-BP Database/Data File/0_subject/248_2.txt\n",
      "Processing: 248_3\n",
      "Processing: /home/kapis20/projects/PPGworkspace/papagei-foundation-model/5459299/PPG-BP Database/Data File/0_subject/248_3.txt\n"
     ]
    },
    {
     "name": "stderr",
     "output_type": "stream",
     "text": [
      " 69%|██████▉   | 456/657 [04:00<01:41,  1.98it/s]"
     ]
    },
    {
     "name": "stdout",
     "output_type": "stream",
     "text": [
      "[INFO] 0248 already exists\n",
      "Processing: 53_1\n",
      "Processing: /home/kapis20/projects/PPGworkspace/papagei-foundation-model/5459299/PPG-BP Database/Data File/0_subject/53_1.txt\n",
      "Processing: 53_2\n",
      "Processing: /home/kapis20/projects/PPGworkspace/papagei-foundation-model/5459299/PPG-BP Database/Data File/0_subject/53_2.txt\n"
     ]
    },
    {
     "name": "stderr",
     "output_type": "stream",
     "text": [
      " 70%|██████▉   | 457/657 [04:01<01:40,  2.00it/s]"
     ]
    },
    {
     "name": "stdout",
     "output_type": "stream",
     "text": [
      "Processing: 53_3\n",
      "Processing: /home/kapis20/projects/PPGworkspace/papagei-foundation-model/5459299/PPG-BP Database/Data File/0_subject/53_3.txt\n",
      "[INFO] 0053 already exists\n",
      "Processing: 111_1\n",
      "Processing: /home/kapis20/projects/PPGworkspace/papagei-foundation-model/5459299/PPG-BP Database/Data File/0_subject/111_1.txt\n",
      "Processing: 111_2\n",
      "Processing: /home/kapis20/projects/PPGworkspace/papagei-foundation-model/5459299/PPG-BP Database/Data File/0_subject/111_2.txt\n",
      "Processing: 111_3\n",
      "Processing: /home/kapis20/projects/PPGworkspace/papagei-foundation-model/5459299/PPG-BP Database/Data File/0_subject/111_3.txt\n"
     ]
    },
    {
     "name": "stderr",
     "output_type": "stream",
     "text": [
      " 70%|██████▉   | 458/657 [04:01<01:38,  2.02it/s]"
     ]
    },
    {
     "name": "stdout",
     "output_type": "stream",
     "text": [
      "[INFO] 0111 already exists\n",
      "Processing: 58_1\n",
      "Processing: /home/kapis20/projects/PPGworkspace/papagei-foundation-model/5459299/PPG-BP Database/Data File/0_subject/58_1.txt\n",
      "Processing: 58_2\n",
      "Processing: /home/kapis20/projects/PPGworkspace/papagei-foundation-model/5459299/PPG-BP Database/Data File/0_subject/58_2.txt\n",
      "Processing: 58_3\n",
      "Processing: /home/kapis20/projects/PPGworkspace/papagei-foundation-model/5459299/PPG-BP Database/Data File/0_subject/58_3.txt\n"
     ]
    },
    {
     "name": "stderr",
     "output_type": "stream",
     "text": [
      " 70%|██████▉   | 459/657 [04:02<01:42,  1.93it/s]"
     ]
    },
    {
     "name": "stdout",
     "output_type": "stream",
     "text": [
      "[INFO] 0058 already exists\n",
      "Processing: 173_1\n",
      "Processing: /home/kapis20/projects/PPGworkspace/papagei-foundation-model/5459299/PPG-BP Database/Data File/0_subject/173_1.txt\n",
      "Processing: 173_2\n",
      "Processing: /home/kapis20/projects/PPGworkspace/papagei-foundation-model/5459299/PPG-BP Database/Data File/0_subject/173_2.txt\n"
     ]
    },
    {
     "name": "stderr",
     "output_type": "stream",
     "text": [
      " 70%|███████   | 460/657 [04:02<01:39,  1.97it/s]"
     ]
    },
    {
     "name": "stdout",
     "output_type": "stream",
     "text": [
      "Processing: 173_3\n",
      "Processing: /home/kapis20/projects/PPGworkspace/papagei-foundation-model/5459299/PPG-BP Database/Data File/0_subject/173_3.txt\n",
      "[INFO] 0173 already exists\n",
      "Processing: 125_1\n",
      "Processing: /home/kapis20/projects/PPGworkspace/papagei-foundation-model/5459299/PPG-BP Database/Data File/0_subject/125_1.txt\n",
      "Processing: 125_2\n",
      "Processing: /home/kapis20/projects/PPGworkspace/papagei-foundation-model/5459299/PPG-BP Database/Data File/0_subject/125_2.txt\n",
      "Processing: 125_3\n",
      "Processing: /home/kapis20/projects/PPGworkspace/papagei-foundation-model/5459299/PPG-BP Database/Data File/0_subject/125_3.txt\n"
     ]
    },
    {
     "name": "stderr",
     "output_type": "stream",
     "text": [
      " 70%|███████   | 461/657 [04:03<01:39,  1.96it/s]"
     ]
    },
    {
     "name": "stdout",
     "output_type": "stream",
     "text": [
      "[INFO] 0125 already exists\n",
      "Processing: 134_1\n",
      "Processing: /home/kapis20/projects/PPGworkspace/papagei-foundation-model/5459299/PPG-BP Database/Data File/0_subject/134_1.txt\n",
      "Processing: 134_2\n",
      "Processing: /home/kapis20/projects/PPGworkspace/papagei-foundation-model/5459299/PPG-BP Database/Data File/0_subject/134_2.txt\n"
     ]
    },
    {
     "name": "stderr",
     "output_type": "stream",
     "text": [
      " 70%|███████   | 462/657 [04:03<01:42,  1.90it/s]"
     ]
    },
    {
     "name": "stdout",
     "output_type": "stream",
     "text": [
      "Processing: 134_3\n",
      "Processing: /home/kapis20/projects/PPGworkspace/papagei-foundation-model/5459299/PPG-BP Database/Data File/0_subject/134_3.txt\n",
      "[INFO] 0134 already exists\n",
      "Processing: 193_1\n",
      "Processing: /home/kapis20/projects/PPGworkspace/papagei-foundation-model/5459299/PPG-BP Database/Data File/0_subject/193_1.txt\n",
      "Processing: 193_2\n",
      "Processing: /home/kapis20/projects/PPGworkspace/papagei-foundation-model/5459299/PPG-BP Database/Data File/0_subject/193_2.txt\n",
      "Processing: 193_3\n",
      "Processing: /home/kapis20/projects/PPGworkspace/papagei-foundation-model/5459299/PPG-BP Database/Data File/0_subject/193_3.txt\n"
     ]
    },
    {
     "name": "stderr",
     "output_type": "stream",
     "text": [
      " 70%|███████   | 463/657 [04:04<01:40,  1.93it/s]"
     ]
    },
    {
     "name": "stdout",
     "output_type": "stream",
     "text": [
      "[INFO] 0193 already exists\n",
      "Processing: 211_1\n",
      "Processing: /home/kapis20/projects/PPGworkspace/papagei-foundation-model/5459299/PPG-BP Database/Data File/0_subject/211_1.txt\n",
      "Processing: 211_2\n",
      "Processing: /home/kapis20/projects/PPGworkspace/papagei-foundation-model/5459299/PPG-BP Database/Data File/0_subject/211_2.txt\n"
     ]
    },
    {
     "name": "stderr",
     "output_type": "stream",
     "text": [
      " 71%|███████   | 464/657 [04:04<01:37,  1.97it/s]"
     ]
    },
    {
     "name": "stdout",
     "output_type": "stream",
     "text": [
      "Processing: 211_3\n",
      "Processing: /home/kapis20/projects/PPGworkspace/papagei-foundation-model/5459299/PPG-BP Database/Data File/0_subject/211_3.txt\n",
      "[INFO] 0211 already exists\n",
      "Processing: 14_1\n",
      "Processing: /home/kapis20/projects/PPGworkspace/papagei-foundation-model/5459299/PPG-BP Database/Data File/0_subject/14_1.txt\n",
      "Processing: 14_2\n",
      "Processing: /home/kapis20/projects/PPGworkspace/papagei-foundation-model/5459299/PPG-BP Database/Data File/0_subject/14_2.txt\n",
      "Processing: 14_3\n",
      "Processing: /home/kapis20/projects/PPGworkspace/papagei-foundation-model/5459299/PPG-BP Database/Data File/0_subject/14_3.txt\n"
     ]
    },
    {
     "name": "stderr",
     "output_type": "stream",
     "text": [
      " 71%|███████   | 465/657 [04:05<01:43,  1.86it/s]"
     ]
    },
    {
     "name": "stdout",
     "output_type": "stream",
     "text": [
      "[INFO] 0014 already exists\n",
      "Processing: 21_1\n",
      "Processing: /home/kapis20/projects/PPGworkspace/papagei-foundation-model/5459299/PPG-BP Database/Data File/0_subject/21_1.txt\n",
      "Processing: 21_2\n",
      "Processing: /home/kapis20/projects/PPGworkspace/papagei-foundation-model/5459299/PPG-BP Database/Data File/0_subject/21_2.txt\n"
     ]
    },
    {
     "name": "stderr",
     "output_type": "stream",
     "text": [
      " 71%|███████   | 466/657 [04:05<01:38,  1.93it/s]"
     ]
    },
    {
     "name": "stdout",
     "output_type": "stream",
     "text": [
      "Processing: 21_3\n",
      "Processing: /home/kapis20/projects/PPGworkspace/papagei-foundation-model/5459299/PPG-BP Database/Data File/0_subject/21_3.txt\n",
      "[INFO] 0021 already exists\n",
      "Processing: 185_1\n",
      "Processing: /home/kapis20/projects/PPGworkspace/papagei-foundation-model/5459299/PPG-BP Database/Data File/0_subject/185_1.txt\n",
      "Processing: 185_2\n",
      "Processing: /home/kapis20/projects/PPGworkspace/papagei-foundation-model/5459299/PPG-BP Database/Data File/0_subject/185_2.txt\n",
      "Processing: 185_3\n",
      "Processing: /home/kapis20/projects/PPGworkspace/papagei-foundation-model/5459299/PPG-BP Database/Data File/0_subject/185_3.txt\n"
     ]
    },
    {
     "name": "stderr",
     "output_type": "stream",
     "text": [
      " 71%|███████   | 467/657 [04:06<01:37,  1.96it/s]"
     ]
    },
    {
     "name": "stdout",
     "output_type": "stream",
     "text": [
      "[INFO] 0185 already exists\n",
      "Processing: 221_1\n",
      "Processing: /home/kapis20/projects/PPGworkspace/papagei-foundation-model/5459299/PPG-BP Database/Data File/0_subject/221_1.txt\n",
      "Processing: 221_2\n",
      "Processing: /home/kapis20/projects/PPGworkspace/papagei-foundation-model/5459299/PPG-BP Database/Data File/0_subject/221_2.txt\n"
     ]
    },
    {
     "name": "stderr",
     "output_type": "stream",
     "text": [
      " 71%|███████   | 468/657 [04:06<01:39,  1.89it/s]"
     ]
    },
    {
     "name": "stdout",
     "output_type": "stream",
     "text": [
      "Processing: 221_3\n",
      "Processing: /home/kapis20/projects/PPGworkspace/papagei-foundation-model/5459299/PPG-BP Database/Data File/0_subject/221_3.txt\n",
      "[INFO] 0221 already exists\n",
      "Processing: 8_1\n",
      "Processing: /home/kapis20/projects/PPGworkspace/papagei-foundation-model/5459299/PPG-BP Database/Data File/0_subject/8_1.txt\n",
      "Processing: 8_2\n",
      "Processing: /home/kapis20/projects/PPGworkspace/papagei-foundation-model/5459299/PPG-BP Database/Data File/0_subject/8_2.txt\n",
      "Processing: 8_3\n",
      "Processing: /home/kapis20/projects/PPGworkspace/papagei-foundation-model/5459299/PPG-BP Database/Data File/0_subject/8_3.txt\n"
     ]
    },
    {
     "name": "stderr",
     "output_type": "stream",
     "text": [
      " 71%|███████▏  | 469/657 [04:07<01:38,  1.91it/s]"
     ]
    },
    {
     "name": "stdout",
     "output_type": "stream",
     "text": [
      "[INFO] 0008 already exists\n",
      "Processing: 404_1\n",
      "Processing: /home/kapis20/projects/PPGworkspace/papagei-foundation-model/5459299/PPG-BP Database/Data File/0_subject/404_1.txt\n",
      "Processing: 404_2\n",
      "Processing: /home/kapis20/projects/PPGworkspace/papagei-foundation-model/5459299/PPG-BP Database/Data File/0_subject/404_2.txt\n"
     ]
    },
    {
     "name": "stderr",
     "output_type": "stream",
     "text": [
      " 72%|███████▏  | 470/657 [04:07<01:34,  1.98it/s]"
     ]
    },
    {
     "name": "stdout",
     "output_type": "stream",
     "text": [
      "Processing: 404_3\n",
      "Processing: /home/kapis20/projects/PPGworkspace/papagei-foundation-model/5459299/PPG-BP Database/Data File/0_subject/404_3.txt\n",
      "[INFO] 0404 already exists\n",
      "Processing: 157_1\n",
      "Processing: /home/kapis20/projects/PPGworkspace/papagei-foundation-model/5459299/PPG-BP Database/Data File/0_subject/157_1.txt\n",
      "Processing: 157_2\n",
      "Processing: /home/kapis20/projects/PPGworkspace/papagei-foundation-model/5459299/PPG-BP Database/Data File/0_subject/157_2.txt\n",
      "Processing: 157_3\n",
      "Processing: /home/kapis20/projects/PPGworkspace/papagei-foundation-model/5459299/PPG-BP Database/Data File/0_subject/157_3.txt\n"
     ]
    },
    {
     "name": "stderr",
     "output_type": "stream",
     "text": [
      " 72%|███████▏  | 471/657 [04:08<01:38,  1.88it/s]"
     ]
    },
    {
     "name": "stdout",
     "output_type": "stream",
     "text": [
      "[INFO] 0157 already exists\n",
      "Processing: 182_1\n",
      "Processing: /home/kapis20/projects/PPGworkspace/papagei-foundation-model/5459299/PPG-BP Database/Data File/0_subject/182_1.txt\n",
      "Processing: 182_2\n",
      "Processing: /home/kapis20/projects/PPGworkspace/papagei-foundation-model/5459299/PPG-BP Database/Data File/0_subject/182_2.txt\n"
     ]
    },
    {
     "name": "stderr",
     "output_type": "stream",
     "text": [
      " 72%|███████▏  | 472/657 [04:08<01:38,  1.88it/s]"
     ]
    },
    {
     "name": "stdout",
     "output_type": "stream",
     "text": [
      "Processing: 182_3\n",
      "Processing: /home/kapis20/projects/PPGworkspace/papagei-foundation-model/5459299/PPG-BP Database/Data File/0_subject/182_3.txt\n",
      "[INFO] 0182 already exists\n",
      "Processing: 136_1\n",
      "Processing: /home/kapis20/projects/PPGworkspace/papagei-foundation-model/5459299/PPG-BP Database/Data File/0_subject/136_1.txt\n",
      "Processing: 136_2\n",
      "Processing: /home/kapis20/projects/PPGworkspace/papagei-foundation-model/5459299/PPG-BP Database/Data File/0_subject/136_2.txt\n",
      "Processing: 136_3\n",
      "Processing: /home/kapis20/projects/PPGworkspace/papagei-foundation-model/5459299/PPG-BP Database/Data File/0_subject/136_3.txt\n"
     ]
    },
    {
     "name": "stderr",
     "output_type": "stream",
     "text": [
      " 72%|███████▏  | 473/657 [04:09<01:36,  1.91it/s]"
     ]
    },
    {
     "name": "stdout",
     "output_type": "stream",
     "text": [
      "[INFO] 0136 already exists\n",
      "Processing: 53_1\n",
      "Processing: /home/kapis20/projects/PPGworkspace/papagei-foundation-model/5459299/PPG-BP Database/Data File/0_subject/53_1.txt\n",
      "Processing: 53_2\n",
      "Processing: /home/kapis20/projects/PPGworkspace/papagei-foundation-model/5459299/PPG-BP Database/Data File/0_subject/53_2.txt\n"
     ]
    },
    {
     "name": "stderr",
     "output_type": "stream",
     "text": [
      " 72%|███████▏  | 474/657 [04:10<01:39,  1.84it/s]"
     ]
    },
    {
     "name": "stdout",
     "output_type": "stream",
     "text": [
      "Processing: 53_3\n",
      "Processing: /home/kapis20/projects/PPGworkspace/papagei-foundation-model/5459299/PPG-BP Database/Data File/0_subject/53_3.txt\n",
      "[INFO] 0053 already exists\n",
      "Processing: 243_1\n",
      "Processing: /home/kapis20/projects/PPGworkspace/papagei-foundation-model/5459299/PPG-BP Database/Data File/0_subject/243_1.txt\n",
      "Processing: 243_2\n",
      "Processing: /home/kapis20/projects/PPGworkspace/papagei-foundation-model/5459299/PPG-BP Database/Data File/0_subject/243_2.txt\n",
      "Processing: 243_3\n",
      "Processing: /home/kapis20/projects/PPGworkspace/papagei-foundation-model/5459299/PPG-BP Database/Data File/0_subject/243_3.txt\n"
     ]
    },
    {
     "name": "stderr",
     "output_type": "stream",
     "text": [
      " 72%|███████▏  | 475/657 [04:10<01:35,  1.91it/s]"
     ]
    },
    {
     "name": "stdout",
     "output_type": "stream",
     "text": [
      "[INFO] 0243 already exists\n",
      "Processing: 83_1\n",
      "Processing: /home/kapis20/projects/PPGworkspace/papagei-foundation-model/5459299/PPG-BP Database/Data File/0_subject/83_1.txt\n",
      "Processing: 83_2\n",
      "Processing: /home/kapis20/projects/PPGworkspace/papagei-foundation-model/5459299/PPG-BP Database/Data File/0_subject/83_2.txt\n"
     ]
    },
    {
     "name": "stderr",
     "output_type": "stream",
     "text": [
      " 72%|███████▏  | 476/657 [04:10<01:31,  1.97it/s]"
     ]
    },
    {
     "name": "stdout",
     "output_type": "stream",
     "text": [
      "Processing: 83_3\n",
      "Processing: /home/kapis20/projects/PPGworkspace/papagei-foundation-model/5459299/PPG-BP Database/Data File/0_subject/83_3.txt\n",
      "[INFO] 0083 already exists\n",
      "Processing: 88_1\n",
      "Processing: /home/kapis20/projects/PPGworkspace/papagei-foundation-model/5459299/PPG-BP Database/Data File/0_subject/88_1.txt\n",
      "Processing: 88_2\n",
      "Processing: /home/kapis20/projects/PPGworkspace/papagei-foundation-model/5459299/PPG-BP Database/Data File/0_subject/88_2.txt\n",
      "Processing: 88_3\n",
      "Processing: /home/kapis20/projects/PPGworkspace/papagei-foundation-model/5459299/PPG-BP Database/Data File/0_subject/88_3.txt\n"
     ]
    },
    {
     "name": "stderr",
     "output_type": "stream",
     "text": [
      " 73%|███████▎  | 477/657 [04:11<01:35,  1.89it/s]"
     ]
    },
    {
     "name": "stdout",
     "output_type": "stream",
     "text": [
      "[INFO] 0088 already exists\n",
      "Processing: 21_1\n",
      "Processing: /home/kapis20/projects/PPGworkspace/papagei-foundation-model/5459299/PPG-BP Database/Data File/0_subject/21_1.txt\n",
      "Processing: 21_2\n",
      "Processing: /home/kapis20/projects/PPGworkspace/papagei-foundation-model/5459299/PPG-BP Database/Data File/0_subject/21_2.txt\n"
     ]
    },
    {
     "name": "stderr",
     "output_type": "stream",
     "text": [
      " 73%|███████▎  | 478/657 [04:12<01:32,  1.94it/s]"
     ]
    },
    {
     "name": "stdout",
     "output_type": "stream",
     "text": [
      "Processing: 21_3\n",
      "Processing: /home/kapis20/projects/PPGworkspace/papagei-foundation-model/5459299/PPG-BP Database/Data File/0_subject/21_3.txt\n",
      "[INFO] 0021 already exists\n",
      "Processing: 169_1\n",
      "Processing: /home/kapis20/projects/PPGworkspace/papagei-foundation-model/5459299/PPG-BP Database/Data File/0_subject/169_1.txt\n",
      "Processing: 169_2\n",
      "Processing: /home/kapis20/projects/PPGworkspace/papagei-foundation-model/5459299/PPG-BP Database/Data File/0_subject/169_2.txt\n",
      "Processing: 169_3\n",
      "Processing: /home/kapis20/projects/PPGworkspace/papagei-foundation-model/5459299/PPG-BP Database/Data File/0_subject/169_3.txt\n"
     ]
    },
    {
     "name": "stderr",
     "output_type": "stream",
     "text": [
      " 73%|███████▎  | 479/657 [04:12<01:29,  1.99it/s]"
     ]
    },
    {
     "name": "stdout",
     "output_type": "stream",
     "text": [
      "[INFO] 0169 already exists\n",
      "Processing: 183_1\n",
      "Processing: /home/kapis20/projects/PPGworkspace/papagei-foundation-model/5459299/PPG-BP Database/Data File/0_subject/183_1.txt\n",
      "Processing: 183_2\n",
      "Processing: /home/kapis20/projects/PPGworkspace/papagei-foundation-model/5459299/PPG-BP Database/Data File/0_subject/183_2.txt\n",
      "Processing: 183_3\n",
      "Processing: /home/kapis20/projects/PPGworkspace/papagei-foundation-model/5459299/PPG-BP Database/Data File/0_subject/183_3.txt\n"
     ]
    },
    {
     "name": "stderr",
     "output_type": "stream",
     "text": [
      " 73%|███████▎  | 480/657 [04:13<01:32,  1.92it/s]"
     ]
    },
    {
     "name": "stdout",
     "output_type": "stream",
     "text": [
      "[INFO] 0183 already exists\n",
      "Processing: 162_1\n",
      "Processing: /home/kapis20/projects/PPGworkspace/papagei-foundation-model/5459299/PPG-BP Database/Data File/0_subject/162_1.txt\n",
      "Processing: 162_2\n",
      "Processing: /home/kapis20/projects/PPGworkspace/papagei-foundation-model/5459299/PPG-BP Database/Data File/0_subject/162_2.txt\n"
     ]
    },
    {
     "name": "stderr",
     "output_type": "stream",
     "text": [
      " 73%|███████▎  | 481/657 [04:13<01:29,  1.96it/s]"
     ]
    },
    {
     "name": "stdout",
     "output_type": "stream",
     "text": [
      "Processing: 162_3\n",
      "Processing: /home/kapis20/projects/PPGworkspace/papagei-foundation-model/5459299/PPG-BP Database/Data File/0_subject/162_3.txt\n",
      "[INFO] 0162 already exists\n",
      "Processing: 409_1\n",
      "Processing: /home/kapis20/projects/PPGworkspace/papagei-foundation-model/5459299/PPG-BP Database/Data File/0_subject/409_1.txt\n",
      "Processing: 409_2\n",
      "Processing: /home/kapis20/projects/PPGworkspace/papagei-foundation-model/5459299/PPG-BP Database/Data File/0_subject/409_2.txt\n",
      "Processing: 409_3\n",
      "Processing: /home/kapis20/projects/PPGworkspace/papagei-foundation-model/5459299/PPG-BP Database/Data File/0_subject/409_3.txt\n"
     ]
    },
    {
     "name": "stderr",
     "output_type": "stream",
     "text": [
      " 73%|███████▎  | 482/657 [04:14<01:25,  2.04it/s]"
     ]
    },
    {
     "name": "stdout",
     "output_type": "stream",
     "text": [
      "[INFO] 0409 already exists\n",
      "Processing: 127_1\n",
      "Processing: /home/kapis20/projects/PPGworkspace/papagei-foundation-model/5459299/PPG-BP Database/Data File/0_subject/127_1.txt\n",
      "Processing: 127_2\n",
      "Processing: /home/kapis20/projects/PPGworkspace/papagei-foundation-model/5459299/PPG-BP Database/Data File/0_subject/127_2.txt\n",
      "Processing: 127_3\n",
      "Processing: /home/kapis20/projects/PPGworkspace/papagei-foundation-model/5459299/PPG-BP Database/Data File/0_subject/127_3.txt\n"
     ]
    },
    {
     "name": "stderr",
     "output_type": "stream",
     "text": [
      " 74%|███████▎  | 483/657 [04:14<01:29,  1.94it/s]"
     ]
    },
    {
     "name": "stdout",
     "output_type": "stream",
     "text": [
      "[INFO] 0127 already exists\n",
      "Processing: 9_1\n",
      "Processing: /home/kapis20/projects/PPGworkspace/papagei-foundation-model/5459299/PPG-BP Database/Data File/0_subject/9_1.txt\n",
      "Processing: 9_2\n",
      "Processing: /home/kapis20/projects/PPGworkspace/papagei-foundation-model/5459299/PPG-BP Database/Data File/0_subject/9_2.txt\n"
     ]
    },
    {
     "name": "stderr",
     "output_type": "stream",
     "text": [
      " 74%|███████▎  | 484/657 [04:15<01:27,  1.98it/s]"
     ]
    },
    {
     "name": "stdout",
     "output_type": "stream",
     "text": [
      "Processing: 9_3\n",
      "Processing: /home/kapis20/projects/PPGworkspace/papagei-foundation-model/5459299/PPG-BP Database/Data File/0_subject/9_3.txt\n",
      "[INFO] 0009 already exists\n",
      "Processing: 222_1\n",
      "Processing: /home/kapis20/projects/PPGworkspace/papagei-foundation-model/5459299/PPG-BP Database/Data File/0_subject/222_1.txt\n",
      "Processing: 222_2\n",
      "Processing: /home/kapis20/projects/PPGworkspace/papagei-foundation-model/5459299/PPG-BP Database/Data File/0_subject/222_2.txt\n",
      "Processing: 222_3\n",
      "Processing: /home/kapis20/projects/PPGworkspace/papagei-foundation-model/5459299/PPG-BP Database/Data File/0_subject/222_3.txt\n"
     ]
    },
    {
     "name": "stderr",
     "output_type": "stream",
     "text": [
      " 74%|███████▍  | 485/657 [04:15<01:25,  2.01it/s]"
     ]
    },
    {
     "name": "stdout",
     "output_type": "stream",
     "text": [
      "[INFO] 0222 already exists\n",
      "Processing: 416_1\n",
      "Processing: /home/kapis20/projects/PPGworkspace/papagei-foundation-model/5459299/PPG-BP Database/Data File/0_subject/416_1.txt\n",
      "Processing: 416_2\n",
      "Processing: /home/kapis20/projects/PPGworkspace/papagei-foundation-model/5459299/PPG-BP Database/Data File/0_subject/416_2.txt\n",
      "Processing: 416_3\n",
      "Processing: /home/kapis20/projects/PPGworkspace/papagei-foundation-model/5459299/PPG-BP Database/Data File/0_subject/416_3.txt\n"
     ]
    },
    {
     "name": "stderr",
     "output_type": "stream",
     "text": [
      " 74%|███████▍  | 486/657 [04:16<01:28,  1.93it/s]"
     ]
    },
    {
     "name": "stdout",
     "output_type": "stream",
     "text": [
      "[INFO] 0416 already exists\n",
      "Processing: 149_1\n",
      "Processing: /home/kapis20/projects/PPGworkspace/papagei-foundation-model/5459299/PPG-BP Database/Data File/0_subject/149_1.txt\n",
      "Processing: 149_2\n",
      "Processing: /home/kapis20/projects/PPGworkspace/papagei-foundation-model/5459299/PPG-BP Database/Data File/0_subject/149_2.txt\n"
     ]
    },
    {
     "name": "stderr",
     "output_type": "stream",
     "text": [
      " 74%|███████▍  | 487/657 [04:16<01:26,  1.97it/s]"
     ]
    },
    {
     "name": "stdout",
     "output_type": "stream",
     "text": [
      "Processing: 149_3\n",
      "Processing: /home/kapis20/projects/PPGworkspace/papagei-foundation-model/5459299/PPG-BP Database/Data File/0_subject/149_3.txt\n",
      "[INFO] 0149 already exists\n",
      "Processing: 95_1\n",
      "Processing: /home/kapis20/projects/PPGworkspace/papagei-foundation-model/5459299/PPG-BP Database/Data File/0_subject/95_1.txt\n",
      "Processing: 95_2\n",
      "Processing: /home/kapis20/projects/PPGworkspace/papagei-foundation-model/5459299/PPG-BP Database/Data File/0_subject/95_2.txt\n",
      "Processing: 95_3\n",
      "Processing: /home/kapis20/projects/PPGworkspace/papagei-foundation-model/5459299/PPG-BP Database/Data File/0_subject/95_3.txt\n"
     ]
    },
    {
     "name": "stderr",
     "output_type": "stream",
     "text": [
      " 74%|███████▍  | 488/657 [04:17<01:30,  1.87it/s]"
     ]
    },
    {
     "name": "stdout",
     "output_type": "stream",
     "text": [
      "[INFO] 0095 already exists\n",
      "Processing: 24_1\n",
      "Processing: /home/kapis20/projects/PPGworkspace/papagei-foundation-model/5459299/PPG-BP Database/Data File/0_subject/24_1.txt\n",
      "Processing: 24_2\n",
      "Processing: /home/kapis20/projects/PPGworkspace/papagei-foundation-model/5459299/PPG-BP Database/Data File/0_subject/24_2.txt\n"
     ]
    },
    {
     "name": "stderr",
     "output_type": "stream",
     "text": [
      " 74%|███████▍  | 489/657 [04:17<01:28,  1.91it/s]"
     ]
    },
    {
     "name": "stdout",
     "output_type": "stream",
     "text": [
      "Processing: 24_3\n",
      "Processing: /home/kapis20/projects/PPGworkspace/papagei-foundation-model/5459299/PPG-BP Database/Data File/0_subject/24_3.txt\n",
      "[INFO] 0024 already exists\n",
      "Processing: 136_1\n",
      "Processing: /home/kapis20/projects/PPGworkspace/papagei-foundation-model/5459299/PPG-BP Database/Data File/0_subject/136_1.txt\n",
      "Processing: 136_2\n",
      "Processing: /home/kapis20/projects/PPGworkspace/papagei-foundation-model/5459299/PPG-BP Database/Data File/0_subject/136_2.txt\n",
      "Processing: 136_3\n",
      "Processing: /home/kapis20/projects/PPGworkspace/papagei-foundation-model/5459299/PPG-BP Database/Data File/0_subject/136_3.txt\n"
     ]
    },
    {
     "name": "stderr",
     "output_type": "stream",
     "text": [
      " 75%|███████▍  | 490/657 [04:18<01:24,  1.98it/s]"
     ]
    },
    {
     "name": "stdout",
     "output_type": "stream",
     "text": [
      "[INFO] 0136 already exists\n",
      "Processing: 155_1\n",
      "Processing: /home/kapis20/projects/PPGworkspace/papagei-foundation-model/5459299/PPG-BP Database/Data File/0_subject/155_1.txt\n",
      "Processing: 155_2\n",
      "Processing: /home/kapis20/projects/PPGworkspace/papagei-foundation-model/5459299/PPG-BP Database/Data File/0_subject/155_2.txt\n",
      "Processing: 155_3\n",
      "Processing: /home/kapis20/projects/PPGworkspace/papagei-foundation-model/5459299/PPG-BP Database/Data File/0_subject/155_3.txt\n"
     ]
    },
    {
     "name": "stderr",
     "output_type": "stream",
     "text": [
      " 75%|███████▍  | 491/657 [04:18<01:29,  1.85it/s]"
     ]
    },
    {
     "name": "stdout",
     "output_type": "stream",
     "text": [
      "[INFO] 0155 already exists\n",
      "Processing: 18_1\n",
      "Processing: /home/kapis20/projects/PPGworkspace/papagei-foundation-model/5459299/PPG-BP Database/Data File/0_subject/18_1.txt\n",
      "Processing: 18_2\n",
      "Processing: /home/kapis20/projects/PPGworkspace/papagei-foundation-model/5459299/PPG-BP Database/Data File/0_subject/18_2.txt\n"
     ]
    },
    {
     "name": "stderr",
     "output_type": "stream",
     "text": [
      " 75%|███████▍  | 492/657 [04:19<01:25,  1.93it/s]"
     ]
    },
    {
     "name": "stdout",
     "output_type": "stream",
     "text": [
      "Processing: 18_3\n",
      "Processing: /home/kapis20/projects/PPGworkspace/papagei-foundation-model/5459299/PPG-BP Database/Data File/0_subject/18_3.txt\n",
      "[INFO] 0018 already exists\n",
      "Processing: 417_1\n",
      "Processing: /home/kapis20/projects/PPGworkspace/papagei-foundation-model/5459299/PPG-BP Database/Data File/0_subject/417_1.txt\n",
      "Processing: 417_2\n",
      "Processing: /home/kapis20/projects/PPGworkspace/papagei-foundation-model/5459299/PPG-BP Database/Data File/0_subject/417_2.txt\n",
      "Processing: 417_3\n",
      "Processing: /home/kapis20/projects/PPGworkspace/papagei-foundation-model/5459299/PPG-BP Database/Data File/0_subject/417_3.txt\n"
     ]
    },
    {
     "name": "stderr",
     "output_type": "stream",
     "text": [
      " 75%|███████▌  | 493/657 [04:19<01:26,  1.89it/s]"
     ]
    },
    {
     "name": "stdout",
     "output_type": "stream",
     "text": [
      "[INFO] 0417 already exists\n",
      "Processing: 139_1\n",
      "Processing: /home/kapis20/projects/PPGworkspace/papagei-foundation-model/5459299/PPG-BP Database/Data File/0_subject/139_1.txt\n",
      "Processing: 139_2\n",
      "Processing: /home/kapis20/projects/PPGworkspace/papagei-foundation-model/5459299/PPG-BP Database/Data File/0_subject/139_2.txt\n"
     ]
    },
    {
     "name": "stderr",
     "output_type": "stream",
     "text": [
      " 75%|███████▌  | 494/657 [04:20<01:23,  1.96it/s]"
     ]
    },
    {
     "name": "stdout",
     "output_type": "stream",
     "text": [
      "Processing: 139_3\n",
      "Processing: /home/kapis20/projects/PPGworkspace/papagei-foundation-model/5459299/PPG-BP Database/Data File/0_subject/139_3.txt\n",
      "[INFO] 0139 already exists\n",
      "Processing: 9_1\n",
      "Processing: /home/kapis20/projects/PPGworkspace/papagei-foundation-model/5459299/PPG-BP Database/Data File/0_subject/9_1.txt\n",
      "Processing: 9_2\n",
      "Processing: /home/kapis20/projects/PPGworkspace/papagei-foundation-model/5459299/PPG-BP Database/Data File/0_subject/9_2.txt\n",
      "Processing: 9_3\n",
      "Processing: /home/kapis20/projects/PPGworkspace/papagei-foundation-model/5459299/PPG-BP Database/Data File/0_subject/9_3.txt\n"
     ]
    },
    {
     "name": "stderr",
     "output_type": "stream",
     "text": [
      " 75%|███████▌  | 495/657 [04:20<01:20,  2.00it/s]"
     ]
    },
    {
     "name": "stdout",
     "output_type": "stream",
     "text": [
      "[INFO] 0009 already exists\n",
      "Processing: 207_1\n",
      "Processing: /home/kapis20/projects/PPGworkspace/papagei-foundation-model/5459299/PPG-BP Database/Data File/0_subject/207_1.txt\n",
      "Processing: 207_2\n",
      "Processing: /home/kapis20/projects/PPGworkspace/papagei-foundation-model/5459299/PPG-BP Database/Data File/0_subject/207_2.txt\n",
      "Processing: 207_3\n",
      "Processing: /home/kapis20/projects/PPGworkspace/papagei-foundation-model/5459299/PPG-BP Database/Data File/0_subject/207_3.txt\n"
     ]
    },
    {
     "name": "stderr",
     "output_type": "stream",
     "text": [
      " 75%|███████▌  | 496/657 [04:21<01:23,  1.94it/s]"
     ]
    },
    {
     "name": "stdout",
     "output_type": "stream",
     "text": [
      "[INFO] 0207 already exists\n",
      "Processing: 140_1\n",
      "Processing: /home/kapis20/projects/PPGworkspace/papagei-foundation-model/5459299/PPG-BP Database/Data File/0_subject/140_1.txt\n",
      "Processing: 140_2\n",
      "Processing: /home/kapis20/projects/PPGworkspace/papagei-foundation-model/5459299/PPG-BP Database/Data File/0_subject/140_2.txt\n"
     ]
    },
    {
     "name": "stderr",
     "output_type": "stream",
     "text": [
      " 76%|███████▌  | 497/657 [04:21<01:21,  1.98it/s]"
     ]
    },
    {
     "name": "stdout",
     "output_type": "stream",
     "text": [
      "Processing: 140_3\n",
      "Processing: /home/kapis20/projects/PPGworkspace/papagei-foundation-model/5459299/PPG-BP Database/Data File/0_subject/140_3.txt\n",
      "[INFO] 0140 already exists\n",
      "Processing: 43_1\n",
      "Processing: /home/kapis20/projects/PPGworkspace/papagei-foundation-model/5459299/PPG-BP Database/Data File/0_subject/43_1.txt\n",
      "Processing: 43_2\n",
      "Processing: /home/kapis20/projects/PPGworkspace/papagei-foundation-model/5459299/PPG-BP Database/Data File/0_subject/43_2.txt\n",
      "Processing: 43_3\n",
      "Processing: /home/kapis20/projects/PPGworkspace/papagei-foundation-model/5459299/PPG-BP Database/Data File/0_subject/43_3.txt\n"
     ]
    },
    {
     "name": "stderr",
     "output_type": "stream",
     "text": [
      " 76%|███████▌  | 498/657 [04:22<01:33,  1.71it/s]"
     ]
    },
    {
     "name": "stdout",
     "output_type": "stream",
     "text": [
      "[INFO] 0043 already exists\n",
      "Processing: 64_1\n",
      "Processing: /home/kapis20/projects/PPGworkspace/papagei-foundation-model/5459299/PPG-BP Database/Data File/0_subject/64_1.txt\n",
      "Processing: 64_2\n",
      "Processing: /home/kapis20/projects/PPGworkspace/papagei-foundation-model/5459299/PPG-BP Database/Data File/0_subject/64_2.txt\n"
     ]
    },
    {
     "name": "stderr",
     "output_type": "stream",
     "text": [
      " 76%|███████▌  | 499/657 [04:23<01:27,  1.80it/s]"
     ]
    },
    {
     "name": "stdout",
     "output_type": "stream",
     "text": [
      "Processing: 64_3\n",
      "Processing: /home/kapis20/projects/PPGworkspace/papagei-foundation-model/5459299/PPG-BP Database/Data File/0_subject/64_3.txt\n",
      "[INFO] 0064 already exists\n",
      "Processing: 154_1\n",
      "Processing: /home/kapis20/projects/PPGworkspace/papagei-foundation-model/5459299/PPG-BP Database/Data File/0_subject/154_1.txt\n",
      "Processing: 154_2\n",
      "Processing: /home/kapis20/projects/PPGworkspace/papagei-foundation-model/5459299/PPG-BP Database/Data File/0_subject/154_2.txt\n",
      "Processing: 154_3\n",
      "Processing: /home/kapis20/projects/PPGworkspace/papagei-foundation-model/5459299/PPG-BP Database/Data File/0_subject/154_3.txt\n"
     ]
    },
    {
     "name": "stderr",
     "output_type": "stream",
     "text": [
      " 76%|███████▌  | 500/657 [04:23<01:35,  1.65it/s]"
     ]
    },
    {
     "name": "stdout",
     "output_type": "stream",
     "text": [
      "[INFO] 0154 already exists\n",
      "Processing: 188_1\n",
      "Processing: /home/kapis20/projects/PPGworkspace/papagei-foundation-model/5459299/PPG-BP Database/Data File/0_subject/188_1.txt\n",
      "Processing: 188_2\n",
      "Processing: /home/kapis20/projects/PPGworkspace/papagei-foundation-model/5459299/PPG-BP Database/Data File/0_subject/188_2.txt\n",
      "Processing: 188_3\n",
      "Processing: /home/kapis20/projects/PPGworkspace/papagei-foundation-model/5459299/PPG-BP Database/Data File/0_subject/188_3.txt\n"
     ]
    },
    {
     "name": "stderr",
     "output_type": "stream",
     "text": [
      " 76%|███████▋  | 501/657 [04:24<01:35,  1.63it/s]"
     ]
    },
    {
     "name": "stdout",
     "output_type": "stream",
     "text": [
      "[INFO] 0188 already exists\n",
      "Processing: 197_1\n",
      "Processing: /home/kapis20/projects/PPGworkspace/papagei-foundation-model/5459299/PPG-BP Database/Data File/0_subject/197_1.txt\n",
      "Processing: 197_2\n",
      "Processing: /home/kapis20/projects/PPGworkspace/papagei-foundation-model/5459299/PPG-BP Database/Data File/0_subject/197_2.txt\n",
      "Processing: 197_3\n",
      "Processing: /home/kapis20/projects/PPGworkspace/papagei-foundation-model/5459299/PPG-BP Database/Data File/0_subject/197_3.txt\n",
      "[INFO] 0197 already exists\n",
      "Processing: 22_1\n",
      "Processing: /home/kapis20/projects/PPGworkspace/papagei-foundation-model/5459299/PPG-BP Database/Data File/0_subject/22_1.txt\n",
      "Processing: 22_2\n",
      "Processing: /home/kapis20/projects/PPGworkspace/papagei-foundation-model/5459299/PPG-BP Database/Data File/0_subject/22_2.txt\n",
      "Processing: 22_3\n",
      "Processing: /home/kapis20/projects/PPGworkspace/papagei-foundation-model/5459299/PPG-BP Database/Data File/0_subject/22_3.txt\n",
      "[INFO] 0022 already exists\n",
      "Processing: 154_1\n",
      "Processing: /home/kapis20/projects/PPGworkspace/papagei-foundation-model/5459299/PPG-BP Database/Data File/0_subject/154_1.txt\n",
      "Processing: 154_2\n",
      "Processing: /home/kapis20/projects/PPGworkspace/papagei-foundation-model/5459299/PPG-BP Database/Data File/0_subject/154_2.txt\n",
      "Processing: 154_3\n",
      "Processing: /home/kapis20/projects/PPGworkspace/papagei-foundation-model/5459299/PPG-BP Database/Data File/0_subject/154_3.txt\n",
      "[INFO] 0154 already exists\n",
      "Processing: 241_1\n",
      "Processing: /home/kapis20/projects/PPGworkspace/papagei-foundation-model/5459299/PPG-BP Database/Data File/0_subject/241_1.txt\n",
      "Processing: 241_2\n",
      "Processing: /home/kapis20/projects/PPGworkspace/papagei-foundation-model/5459299/PPG-BP Database/Data File/0_subject/241_2.txt\n",
      "Processing: 241_3\n",
      "Processing: /home/kapis20/projects/PPGworkspace/papagei-foundation-model/5459299/PPG-BP Database/Data File/0_subject/241_3.txt\n"
     ]
    },
    {
     "name": "stderr",
     "output_type": "stream",
     "text": [
      " 77%|███████▋  | 505/657 [04:24<00:44,  3.38it/s]"
     ]
    },
    {
     "name": "stdout",
     "output_type": "stream",
     "text": [
      "[INFO] 0241 already exists\n",
      "Processing: 10_1\n",
      "Processing: /home/kapis20/projects/PPGworkspace/papagei-foundation-model/5459299/PPG-BP Database/Data File/0_subject/10_1.txt\n",
      "Processing: 10_2\n",
      "Processing: /home/kapis20/projects/PPGworkspace/papagei-foundation-model/5459299/PPG-BP Database/Data File/0_subject/10_2.txt\n"
     ]
    },
    {
     "name": "stderr",
     "output_type": "stream",
     "text": [
      " 77%|███████▋  | 506/657 [04:25<00:53,  2.84it/s]"
     ]
    },
    {
     "name": "stdout",
     "output_type": "stream",
     "text": [
      "Processing: 10_3\n",
      "Processing: /home/kapis20/projects/PPGworkspace/papagei-foundation-model/5459299/PPG-BP Database/Data File/0_subject/10_3.txt\n",
      "[INFO] 0010 already exists\n",
      "Processing: 61_1\n",
      "Processing: /home/kapis20/projects/PPGworkspace/papagei-foundation-model/5459299/PPG-BP Database/Data File/0_subject/61_1.txt\n",
      "Processing: 61_2\n",
      "Processing: /home/kapis20/projects/PPGworkspace/papagei-foundation-model/5459299/PPG-BP Database/Data File/0_subject/61_2.txt\n",
      "Processing: 61_3\n",
      "Processing: /home/kapis20/projects/PPGworkspace/papagei-foundation-model/5459299/PPG-BP Database/Data File/0_subject/61_3.txt\n"
     ]
    },
    {
     "name": "stderr",
     "output_type": "stream",
     "text": [
      " 77%|███████▋  | 507/657 [04:25<00:58,  2.56it/s]"
     ]
    },
    {
     "name": "stdout",
     "output_type": "stream",
     "text": [
      "[INFO] 0061 already exists\n",
      "Processing: 233_1\n",
      "Processing: /home/kapis20/projects/PPGworkspace/papagei-foundation-model/5459299/PPG-BP Database/Data File/0_subject/233_1.txt\n",
      "Processing: 233_2\n",
      "Processing: /home/kapis20/projects/PPGworkspace/papagei-foundation-model/5459299/PPG-BP Database/Data File/0_subject/233_2.txt\n"
     ]
    },
    {
     "name": "stderr",
     "output_type": "stream",
     "text": [
      " 77%|███████▋  | 508/657 [04:26<01:00,  2.46it/s]"
     ]
    },
    {
     "name": "stdout",
     "output_type": "stream",
     "text": [
      "Processing: 233_3\n",
      "Processing: /home/kapis20/projects/PPGworkspace/papagei-foundation-model/5459299/PPG-BP Database/Data File/0_subject/233_3.txt\n",
      "[INFO] 0233 already exists\n",
      "Processing: 246_1\n",
      "Processing: /home/kapis20/projects/PPGworkspace/papagei-foundation-model/5459299/PPG-BP Database/Data File/0_subject/246_1.txt\n",
      "Processing: 246_2\n",
      "Processing: /home/kapis20/projects/PPGworkspace/papagei-foundation-model/5459299/PPG-BP Database/Data File/0_subject/246_2.txt\n",
      "Processing: 246_3\n",
      "Processing: /home/kapis20/projects/PPGworkspace/papagei-foundation-model/5459299/PPG-BP Database/Data File/0_subject/246_3.txt\n"
     ]
    },
    {
     "name": "stderr",
     "output_type": "stream",
     "text": [
      " 77%|███████▋  | 509/657 [04:27<01:07,  2.20it/s]"
     ]
    },
    {
     "name": "stdout",
     "output_type": "stream",
     "text": [
      "[INFO] 0246 already exists\n",
      "Processing: 125_1\n",
      "Processing: /home/kapis20/projects/PPGworkspace/papagei-foundation-model/5459299/PPG-BP Database/Data File/0_subject/125_1.txt\n",
      "Processing: 125_2\n",
      "Processing: /home/kapis20/projects/PPGworkspace/papagei-foundation-model/5459299/PPG-BP Database/Data File/0_subject/125_2.txt\n"
     ]
    },
    {
     "name": "stderr",
     "output_type": "stream",
     "text": [
      " 78%|███████▊  | 510/657 [04:27<01:07,  2.19it/s]"
     ]
    },
    {
     "name": "stdout",
     "output_type": "stream",
     "text": [
      "Processing: 125_3\n",
      "Processing: /home/kapis20/projects/PPGworkspace/papagei-foundation-model/5459299/PPG-BP Database/Data File/0_subject/125_3.txt\n",
      "[INFO] 0125 already exists\n",
      "Processing: 155_1\n",
      "Processing: /home/kapis20/projects/PPGworkspace/papagei-foundation-model/5459299/PPG-BP Database/Data File/0_subject/155_1.txt\n",
      "Processing: 155_2\n",
      "Processing: /home/kapis20/projects/PPGworkspace/papagei-foundation-model/5459299/PPG-BP Database/Data File/0_subject/155_2.txt\n",
      "Processing: 155_3\n",
      "Processing: /home/kapis20/projects/PPGworkspace/papagei-foundation-model/5459299/PPG-BP Database/Data File/0_subject/155_3.txt\n"
     ]
    },
    {
     "name": "stderr",
     "output_type": "stream",
     "text": [
      " 78%|███████▊  | 511/657 [04:28<01:08,  2.12it/s]"
     ]
    },
    {
     "name": "stdout",
     "output_type": "stream",
     "text": [
      "[INFO] 0155 already exists\n",
      "Processing: 135_1\n",
      "Processing: /home/kapis20/projects/PPGworkspace/papagei-foundation-model/5459299/PPG-BP Database/Data File/0_subject/135_1.txt\n",
      "Processing: 135_2\n",
      "Processing: /home/kapis20/projects/PPGworkspace/papagei-foundation-model/5459299/PPG-BP Database/Data File/0_subject/135_2.txt\n"
     ]
    },
    {
     "name": "stderr",
     "output_type": "stream",
     "text": [
      " 78%|███████▊  | 512/657 [04:28<01:08,  2.12it/s]"
     ]
    },
    {
     "name": "stdout",
     "output_type": "stream",
     "text": [
      "Processing: 135_3\n",
      "Processing: /home/kapis20/projects/PPGworkspace/papagei-foundation-model/5459299/PPG-BP Database/Data File/0_subject/135_3.txt\n",
      "[INFO] 0135 already exists\n",
      "Processing: 98_1\n",
      "Processing: /home/kapis20/projects/PPGworkspace/papagei-foundation-model/5459299/PPG-BP Database/Data File/0_subject/98_1.txt\n",
      "Processing: 98_2\n",
      "Processing: /home/kapis20/projects/PPGworkspace/papagei-foundation-model/5459299/PPG-BP Database/Data File/0_subject/98_2.txt\n",
      "Processing: 98_3\n",
      "Processing: /home/kapis20/projects/PPGworkspace/papagei-foundation-model/5459299/PPG-BP Database/Data File/0_subject/98_3.txt\n"
     ]
    },
    {
     "name": "stderr",
     "output_type": "stream",
     "text": [
      " 78%|███████▊  | 513/657 [04:29<01:12,  2.00it/s]"
     ]
    },
    {
     "name": "stdout",
     "output_type": "stream",
     "text": [
      "[INFO] 0098 already exists\n",
      "Processing: 214_1\n",
      "Processing: /home/kapis20/projects/PPGworkspace/papagei-foundation-model/5459299/PPG-BP Database/Data File/0_subject/214_1.txt\n",
      "Processing: 214_2\n",
      "Processing: /home/kapis20/projects/PPGworkspace/papagei-foundation-model/5459299/PPG-BP Database/Data File/0_subject/214_2.txt\n"
     ]
    },
    {
     "name": "stderr",
     "output_type": "stream",
     "text": [
      " 78%|███████▊  | 514/657 [04:29<01:09,  2.05it/s]"
     ]
    },
    {
     "name": "stdout",
     "output_type": "stream",
     "text": [
      "Processing: 214_3\n",
      "Processing: /home/kapis20/projects/PPGworkspace/papagei-foundation-model/5459299/PPG-BP Database/Data File/0_subject/214_3.txt\n",
      "[INFO] 0214 already exists\n",
      "Processing: 96_1\n",
      "Processing: /home/kapis20/projects/PPGworkspace/papagei-foundation-model/5459299/PPG-BP Database/Data File/0_subject/96_1.txt\n",
      "Processing: 96_2\n",
      "Processing: /home/kapis20/projects/PPGworkspace/papagei-foundation-model/5459299/PPG-BP Database/Data File/0_subject/96_2.txt\n",
      "Processing: 96_3\n",
      "Processing: /home/kapis20/projects/PPGworkspace/papagei-foundation-model/5459299/PPG-BP Database/Data File/0_subject/96_3.txt\n"
     ]
    },
    {
     "name": "stderr",
     "output_type": "stream",
     "text": [
      " 78%|███████▊  | 515/657 [04:29<01:09,  2.05it/s]"
     ]
    },
    {
     "name": "stdout",
     "output_type": "stream",
     "text": [
      "[INFO] 0096 already exists\n",
      "Processing: 228_1\n",
      "Processing: /home/kapis20/projects/PPGworkspace/papagei-foundation-model/5459299/PPG-BP Database/Data File/0_subject/228_1.txt\n",
      "Processing: 228_2\n",
      "Processing: /home/kapis20/projects/PPGworkspace/papagei-foundation-model/5459299/PPG-BP Database/Data File/0_subject/228_2.txt\n"
     ]
    },
    {
     "name": "stderr",
     "output_type": "stream",
     "text": [
      " 79%|███████▊  | 516/657 [04:30<01:07,  2.09it/s]"
     ]
    },
    {
     "name": "stdout",
     "output_type": "stream",
     "text": [
      "Processing: 228_3\n",
      "Processing: /home/kapis20/projects/PPGworkspace/papagei-foundation-model/5459299/PPG-BP Database/Data File/0_subject/228_3.txt\n",
      "[INFO] 0228 already exists\n",
      "Processing: 58_1\n",
      "Processing: /home/kapis20/projects/PPGworkspace/papagei-foundation-model/5459299/PPG-BP Database/Data File/0_subject/58_1.txt\n",
      "Processing: 58_2\n",
      "Processing: /home/kapis20/projects/PPGworkspace/papagei-foundation-model/5459299/PPG-BP Database/Data File/0_subject/58_2.txt\n",
      "Processing: 58_3\n",
      "Processing: /home/kapis20/projects/PPGworkspace/papagei-foundation-model/5459299/PPG-BP Database/Data File/0_subject/58_3.txt\n"
     ]
    },
    {
     "name": "stderr",
     "output_type": "stream",
     "text": [
      " 79%|███████▊  | 517/657 [04:31<01:10,  1.99it/s]"
     ]
    },
    {
     "name": "stdout",
     "output_type": "stream",
     "text": [
      "[INFO] 0058 already exists\n",
      "Processing: 112_1\n",
      "Processing: /home/kapis20/projects/PPGworkspace/papagei-foundation-model/5459299/PPG-BP Database/Data File/0_subject/112_1.txt\n",
      "Processing: 112_2\n",
      "Processing: /home/kapis20/projects/PPGworkspace/papagei-foundation-model/5459299/PPG-BP Database/Data File/0_subject/112_2.txt\n",
      "Processing: 112_3\n",
      "Processing: /home/kapis20/projects/PPGworkspace/papagei-foundation-model/5459299/PPG-BP Database/Data File/0_subject/112_3.txt\n"
     ]
    },
    {
     "name": "stderr",
     "output_type": "stream",
     "text": [
      " 79%|███████▉  | 518/657 [04:31<01:11,  1.95it/s]"
     ]
    },
    {
     "name": "stdout",
     "output_type": "stream",
     "text": [
      "[INFO] 0112 already exists\n",
      "Processing: 27_1\n",
      "Processing: /home/kapis20/projects/PPGworkspace/papagei-foundation-model/5459299/PPG-BP Database/Data File/0_subject/27_1.txt\n",
      "Processing: 27_2\n",
      "Processing: /home/kapis20/projects/PPGworkspace/papagei-foundation-model/5459299/PPG-BP Database/Data File/0_subject/27_2.txt\n"
     ]
    },
    {
     "name": "stderr",
     "output_type": "stream",
     "text": [
      " 79%|███████▉  | 519/657 [04:32<01:09,  1.99it/s]"
     ]
    },
    {
     "name": "stdout",
     "output_type": "stream",
     "text": [
      "Processing: 27_3\n",
      "Processing: /home/kapis20/projects/PPGworkspace/papagei-foundation-model/5459299/PPG-BP Database/Data File/0_subject/27_3.txt\n",
      "[INFO] 0027 already exists\n",
      "Processing: 220_1\n",
      "Processing: /home/kapis20/projects/PPGworkspace/papagei-foundation-model/5459299/PPG-BP Database/Data File/0_subject/220_1.txt\n",
      "Processing: 220_2\n",
      "Processing: /home/kapis20/projects/PPGworkspace/papagei-foundation-model/5459299/PPG-BP Database/Data File/0_subject/220_2.txt\n",
      "Processing: 220_3\n",
      "Processing: /home/kapis20/projects/PPGworkspace/papagei-foundation-model/5459299/PPG-BP Database/Data File/0_subject/220_3.txt\n"
     ]
    },
    {
     "name": "stderr",
     "output_type": "stream",
     "text": [
      " 79%|███████▉  | 520/657 [04:32<01:06,  2.06it/s]"
     ]
    },
    {
     "name": "stdout",
     "output_type": "stream",
     "text": [
      "[INFO] 0220 already exists\n",
      "Processing: 3_1\n",
      "Processing: /home/kapis20/projects/PPGworkspace/papagei-foundation-model/5459299/PPG-BP Database/Data File/0_subject/3_1.txt\n",
      "Processing: 3_2\n",
      "Processing: /home/kapis20/projects/PPGworkspace/papagei-foundation-model/5459299/PPG-BP Database/Data File/0_subject/3_2.txt\n",
      "Processing: 3_3\n",
      "Processing: /home/kapis20/projects/PPGworkspace/papagei-foundation-model/5459299/PPG-BP Database/Data File/0_subject/3_3.txt\n"
     ]
    },
    {
     "name": "stderr",
     "output_type": "stream",
     "text": [
      " 79%|███████▉  | 521/657 [04:33<01:09,  1.96it/s]"
     ]
    },
    {
     "name": "stdout",
     "output_type": "stream",
     "text": [
      "[INFO] 0003 already exists\n",
      "Processing: 30_1\n",
      "Processing: /home/kapis20/projects/PPGworkspace/papagei-foundation-model/5459299/PPG-BP Database/Data File/0_subject/30_1.txt\n",
      "Processing: 30_2\n",
      "Processing: /home/kapis20/projects/PPGworkspace/papagei-foundation-model/5459299/PPG-BP Database/Data File/0_subject/30_2.txt\n"
     ]
    },
    {
     "name": "stderr",
     "output_type": "stream",
     "text": [
      " 79%|███████▉  | 522/657 [04:33<01:07,  2.01it/s]"
     ]
    },
    {
     "name": "stdout",
     "output_type": "stream",
     "text": [
      "Processing: 30_3\n",
      "Processing: /home/kapis20/projects/PPGworkspace/papagei-foundation-model/5459299/PPG-BP Database/Data File/0_subject/30_3.txt\n",
      "[INFO] 0030 already exists\n",
      "Processing: 60_1\n",
      "Processing: /home/kapis20/projects/PPGworkspace/papagei-foundation-model/5459299/PPG-BP Database/Data File/0_subject/60_1.txt\n",
      "Processing: 60_2\n",
      "Processing: /home/kapis20/projects/PPGworkspace/papagei-foundation-model/5459299/PPG-BP Database/Data File/0_subject/60_2.txt\n",
      "Processing: 60_3\n",
      "Processing: /home/kapis20/projects/PPGworkspace/papagei-foundation-model/5459299/PPG-BP Database/Data File/0_subject/60_3.txt\n"
     ]
    },
    {
     "name": "stderr",
     "output_type": "stream",
     "text": [
      " 80%|███████▉  | 523/657 [04:33<01:05,  2.04it/s]"
     ]
    },
    {
     "name": "stdout",
     "output_type": "stream",
     "text": [
      "[INFO] 0060 already exists\n",
      "Processing: 407_1\n",
      "Processing: /home/kapis20/projects/PPGworkspace/papagei-foundation-model/5459299/PPG-BP Database/Data File/0_subject/407_1.txt\n",
      "Processing: 407_2\n",
      "Processing: /home/kapis20/projects/PPGworkspace/papagei-foundation-model/5459299/PPG-BP Database/Data File/0_subject/407_2.txt\n"
     ]
    },
    {
     "name": "stderr",
     "output_type": "stream",
     "text": [
      " 80%|███████▉  | 524/657 [04:34<01:09,  1.90it/s]"
     ]
    },
    {
     "name": "stdout",
     "output_type": "stream",
     "text": [
      "Processing: 407_3\n",
      "Processing: /home/kapis20/projects/PPGworkspace/papagei-foundation-model/5459299/PPG-BP Database/Data File/0_subject/407_3.txt\n",
      "[INFO] 0407 already exists\n",
      "Processing: 207_1\n",
      "Processing: /home/kapis20/projects/PPGworkspace/papagei-foundation-model/5459299/PPG-BP Database/Data File/0_subject/207_1.txt\n",
      "Processing: 207_2\n",
      "Processing: /home/kapis20/projects/PPGworkspace/papagei-foundation-model/5459299/PPG-BP Database/Data File/0_subject/207_2.txt\n",
      "Processing: 207_3\n",
      "Processing: /home/kapis20/projects/PPGworkspace/papagei-foundation-model/5459299/PPG-BP Database/Data File/0_subject/207_3.txt\n"
     ]
    },
    {
     "name": "stderr",
     "output_type": "stream",
     "text": [
      " 80%|███████▉  | 525/657 [04:35<01:08,  1.94it/s]"
     ]
    },
    {
     "name": "stdout",
     "output_type": "stream",
     "text": [
      "[INFO] 0207 already exists\n",
      "Processing: 247_1\n",
      "Processing: /home/kapis20/projects/PPGworkspace/papagei-foundation-model/5459299/PPG-BP Database/Data File/0_subject/247_1.txt\n",
      "Processing: 247_2\n",
      "Processing: /home/kapis20/projects/PPGworkspace/papagei-foundation-model/5459299/PPG-BP Database/Data File/0_subject/247_2.txt\n"
     ]
    },
    {
     "name": "stderr",
     "output_type": "stream",
     "text": [
      " 80%|████████  | 526/657 [04:35<01:07,  1.95it/s]"
     ]
    },
    {
     "name": "stdout",
     "output_type": "stream",
     "text": [
      "Processing: 247_3\n",
      "Processing: /home/kapis20/projects/PPGworkspace/papagei-foundation-model/5459299/PPG-BP Database/Data File/0_subject/247_3.txt\n",
      "[INFO] 0247 already exists\n",
      "Processing: 180_1\n",
      "Processing: /home/kapis20/projects/PPGworkspace/papagei-foundation-model/5459299/PPG-BP Database/Data File/0_subject/180_1.txt\n",
      "Processing: 180_2\n",
      "Processing: /home/kapis20/projects/PPGworkspace/papagei-foundation-model/5459299/PPG-BP Database/Data File/0_subject/180_2.txt\n",
      "Processing: 180_3\n",
      "Processing: /home/kapis20/projects/PPGworkspace/papagei-foundation-model/5459299/PPG-BP Database/Data File/0_subject/180_3.txt\n"
     ]
    },
    {
     "name": "stderr",
     "output_type": "stream",
     "text": [
      " 80%|████████  | 527/657 [04:36<01:06,  1.97it/s]"
     ]
    },
    {
     "name": "stdout",
     "output_type": "stream",
     "text": [
      "[INFO] 0180 already exists\n",
      "Processing: 146_1\n",
      "Processing: /home/kapis20/projects/PPGworkspace/papagei-foundation-model/5459299/PPG-BP Database/Data File/0_subject/146_1.txt\n",
      "Processing: 146_2\n",
      "Processing: /home/kapis20/projects/PPGworkspace/papagei-foundation-model/5459299/PPG-BP Database/Data File/0_subject/146_2.txt\n",
      "Processing: 146_3\n",
      "Processing: /home/kapis20/projects/PPGworkspace/papagei-foundation-model/5459299/PPG-BP Database/Data File/0_subject/146_3.txt\n"
     ]
    },
    {
     "name": "stderr",
     "output_type": "stream",
     "text": [
      " 80%|████████  | 528/657 [04:36<01:09,  1.84it/s]"
     ]
    },
    {
     "name": "stdout",
     "output_type": "stream",
     "text": [
      "[INFO] 0146 already exists\n",
      "Processing: 119_1\n",
      "Processing: /home/kapis20/projects/PPGworkspace/papagei-foundation-model/5459299/PPG-BP Database/Data File/0_subject/119_1.txt\n",
      "Processing: 119_2\n",
      "Processing: /home/kapis20/projects/PPGworkspace/papagei-foundation-model/5459299/PPG-BP Database/Data File/0_subject/119_2.txt\n"
     ]
    },
    {
     "name": "stderr",
     "output_type": "stream",
     "text": [
      " 81%|████████  | 529/657 [04:37<01:07,  1.91it/s]"
     ]
    },
    {
     "name": "stdout",
     "output_type": "stream",
     "text": [
      "Processing: 119_3\n",
      "Processing: /home/kapis20/projects/PPGworkspace/papagei-foundation-model/5459299/PPG-BP Database/Data File/0_subject/119_3.txt\n",
      "[INFO] 0119 already exists\n",
      "Processing: 182_1\n",
      "Processing: /home/kapis20/projects/PPGworkspace/papagei-foundation-model/5459299/PPG-BP Database/Data File/0_subject/182_1.txt\n",
      "Processing: 182_2\n",
      "Processing: /home/kapis20/projects/PPGworkspace/papagei-foundation-model/5459299/PPG-BP Database/Data File/0_subject/182_2.txt\n",
      "Processing: 182_3\n",
      "Processing: /home/kapis20/projects/PPGworkspace/papagei-foundation-model/5459299/PPG-BP Database/Data File/0_subject/182_3.txt\n"
     ]
    },
    {
     "name": "stderr",
     "output_type": "stream",
     "text": [
      " 81%|████████  | 530/657 [04:37<01:05,  1.95it/s]"
     ]
    },
    {
     "name": "stdout",
     "output_type": "stream",
     "text": [
      "[INFO] 0182 already exists\n",
      "Processing: 155_1\n",
      "Processing: /home/kapis20/projects/PPGworkspace/papagei-foundation-model/5459299/PPG-BP Database/Data File/0_subject/155_1.txt\n",
      "Processing: 155_2\n",
      "Processing: /home/kapis20/projects/PPGworkspace/papagei-foundation-model/5459299/PPG-BP Database/Data File/0_subject/155_2.txt\n"
     ]
    },
    {
     "name": "stderr",
     "output_type": "stream",
     "text": [
      " 81%|████████  | 531/657 [04:38<01:06,  1.90it/s]"
     ]
    },
    {
     "name": "stdout",
     "output_type": "stream",
     "text": [
      "Processing: 155_3\n",
      "Processing: /home/kapis20/projects/PPGworkspace/papagei-foundation-model/5459299/PPG-BP Database/Data File/0_subject/155_3.txt\n",
      "[INFO] 0155 already exists\n",
      "Processing: 106_1\n",
      "Processing: /home/kapis20/projects/PPGworkspace/papagei-foundation-model/5459299/PPG-BP Database/Data File/0_subject/106_1.txt\n",
      "Processing: 106_2\n",
      "Processing: /home/kapis20/projects/PPGworkspace/papagei-foundation-model/5459299/PPG-BP Database/Data File/0_subject/106_2.txt\n",
      "Processing: 106_3\n",
      "Processing: /home/kapis20/projects/PPGworkspace/papagei-foundation-model/5459299/PPG-BP Database/Data File/0_subject/106_3.txt\n"
     ]
    },
    {
     "name": "stderr",
     "output_type": "stream",
     "text": [
      " 81%|████████  | 532/657 [04:38<01:05,  1.92it/s]"
     ]
    },
    {
     "name": "stdout",
     "output_type": "stream",
     "text": [
      "[INFO] 0106 already exists\n",
      "Processing: 216_1\n",
      "Processing: /home/kapis20/projects/PPGworkspace/papagei-foundation-model/5459299/PPG-BP Database/Data File/0_subject/216_1.txt\n",
      "Processing: 216_2\n",
      "Processing: /home/kapis20/projects/PPGworkspace/papagei-foundation-model/5459299/PPG-BP Database/Data File/0_subject/216_2.txt\n"
     ]
    },
    {
     "name": "stderr",
     "output_type": "stream",
     "text": [
      " 81%|████████  | 533/657 [04:39<01:02,  2.00it/s]"
     ]
    },
    {
     "name": "stdout",
     "output_type": "stream",
     "text": [
      "Processing: 216_3\n",
      "Processing: /home/kapis20/projects/PPGworkspace/papagei-foundation-model/5459299/PPG-BP Database/Data File/0_subject/216_3.txt\n",
      "[INFO] 0216 already exists\n",
      "Processing: 63_1\n",
      "Processing: /home/kapis20/projects/PPGworkspace/papagei-foundation-model/5459299/PPG-BP Database/Data File/0_subject/63_1.txt\n",
      "Processing: 63_2\n",
      "Processing: /home/kapis20/projects/PPGworkspace/papagei-foundation-model/5459299/PPG-BP Database/Data File/0_subject/63_2.txt\n",
      "Processing: 63_3\n",
      "Processing: /home/kapis20/projects/PPGworkspace/papagei-foundation-model/5459299/PPG-BP Database/Data File/0_subject/63_3.txt\n"
     ]
    },
    {
     "name": "stderr",
     "output_type": "stream",
     "text": [
      " 81%|████████▏ | 534/657 [04:39<01:00,  2.02it/s]"
     ]
    },
    {
     "name": "stdout",
     "output_type": "stream",
     "text": [
      "[INFO] 0063 already exists\n",
      "Processing: 169_1\n",
      "Processing: /home/kapis20/projects/PPGworkspace/papagei-foundation-model/5459299/PPG-BP Database/Data File/0_subject/169_1.txt\n",
      "Processing: 169_2\n",
      "Processing: /home/kapis20/projects/PPGworkspace/papagei-foundation-model/5459299/PPG-BP Database/Data File/0_subject/169_2.txt\n",
      "Processing: 169_3\n",
      "Processing: /home/kapis20/projects/PPGworkspace/papagei-foundation-model/5459299/PPG-BP Database/Data File/0_subject/169_3.txt\n"
     ]
    },
    {
     "name": "stderr",
     "output_type": "stream",
     "text": [
      " 81%|████████▏ | 535/657 [04:40<01:02,  1.94it/s]"
     ]
    },
    {
     "name": "stdout",
     "output_type": "stream",
     "text": [
      "[INFO] 0169 already exists\n",
      "Processing: 171_1\n",
      "Processing: /home/kapis20/projects/PPGworkspace/papagei-foundation-model/5459299/PPG-BP Database/Data File/0_subject/171_1.txt\n",
      "Processing: 171_2\n",
      "Processing: /home/kapis20/projects/PPGworkspace/papagei-foundation-model/5459299/PPG-BP Database/Data File/0_subject/171_2.txt\n"
     ]
    },
    {
     "name": "stderr",
     "output_type": "stream",
     "text": [
      " 82%|████████▏ | 536/657 [04:40<01:00,  2.01it/s]"
     ]
    },
    {
     "name": "stdout",
     "output_type": "stream",
     "text": [
      "Processing: 171_3\n",
      "Processing: /home/kapis20/projects/PPGworkspace/papagei-foundation-model/5459299/PPG-BP Database/Data File/0_subject/171_3.txt\n",
      "[INFO] 0171 already exists\n",
      "Processing: 232_1\n",
      "Processing: /home/kapis20/projects/PPGworkspace/papagei-foundation-model/5459299/PPG-BP Database/Data File/0_subject/232_1.txt\n",
      "Processing: 232_2\n",
      "Processing: /home/kapis20/projects/PPGworkspace/papagei-foundation-model/5459299/PPG-BP Database/Data File/0_subject/232_2.txt\n",
      "Processing: 232_3\n",
      "Processing: /home/kapis20/projects/PPGworkspace/papagei-foundation-model/5459299/PPG-BP Database/Data File/0_subject/232_3.txt\n"
     ]
    },
    {
     "name": "stderr",
     "output_type": "stream",
     "text": [
      " 82%|████████▏ | 537/657 [04:41<00:59,  2.01it/s]"
     ]
    },
    {
     "name": "stdout",
     "output_type": "stream",
     "text": [
      "[INFO] 0232 already exists\n",
      "Processing: 45_1\n",
      "Processing: /home/kapis20/projects/PPGworkspace/papagei-foundation-model/5459299/PPG-BP Database/Data File/0_subject/45_1.txt\n",
      "Processing: 45_2\n",
      "Processing: /home/kapis20/projects/PPGworkspace/papagei-foundation-model/5459299/PPG-BP Database/Data File/0_subject/45_2.txt\n"
     ]
    },
    {
     "name": "stderr",
     "output_type": "stream",
     "text": [
      " 82%|████████▏ | 538/657 [04:41<01:00,  1.97it/s]"
     ]
    },
    {
     "name": "stdout",
     "output_type": "stream",
     "text": [
      "Processing: 45_3\n",
      "Processing: /home/kapis20/projects/PPGworkspace/papagei-foundation-model/5459299/PPG-BP Database/Data File/0_subject/45_3.txt\n",
      "[INFO] 0045 already exists\n",
      "Processing: 239_1\n",
      "Processing: /home/kapis20/projects/PPGworkspace/papagei-foundation-model/5459299/PPG-BP Database/Data File/0_subject/239_1.txt\n",
      "Processing: 239_2\n",
      "Processing: /home/kapis20/projects/PPGworkspace/papagei-foundation-model/5459299/PPG-BP Database/Data File/0_subject/239_2.txt\n",
      "Processing: 239_3\n",
      "Processing: /home/kapis20/projects/PPGworkspace/papagei-foundation-model/5459299/PPG-BP Database/Data File/0_subject/239_3.txt\n"
     ]
    },
    {
     "name": "stderr",
     "output_type": "stream",
     "text": [
      " 82%|████████▏ | 539/657 [04:42<00:59,  1.99it/s]"
     ]
    },
    {
     "name": "stdout",
     "output_type": "stream",
     "text": [
      "[INFO] 0239 already exists\n",
      "Processing: 248_1\n",
      "Processing: /home/kapis20/projects/PPGworkspace/papagei-foundation-model/5459299/PPG-BP Database/Data File/0_subject/248_1.txt\n",
      "Processing: 248_2\n",
      "Processing: /home/kapis20/projects/PPGworkspace/papagei-foundation-model/5459299/PPG-BP Database/Data File/0_subject/248_2.txt\n"
     ]
    },
    {
     "name": "stderr",
     "output_type": "stream",
     "text": [
      " 82%|████████▏ | 540/657 [04:42<00:57,  2.02it/s]"
     ]
    },
    {
     "name": "stdout",
     "output_type": "stream",
     "text": [
      "Processing: 248_3\n",
      "Processing: /home/kapis20/projects/PPGworkspace/papagei-foundation-model/5459299/PPG-BP Database/Data File/0_subject/248_3.txt\n",
      "[INFO] 0248 already exists\n",
      "Processing: 85_1\n",
      "Processing: /home/kapis20/projects/PPGworkspace/papagei-foundation-model/5459299/PPG-BP Database/Data File/0_subject/85_1.txt\n",
      "Processing: 85_2\n",
      "Processing: /home/kapis20/projects/PPGworkspace/papagei-foundation-model/5459299/PPG-BP Database/Data File/0_subject/85_2.txt\n",
      "Processing: 85_3\n",
      "Processing: /home/kapis20/projects/PPGworkspace/papagei-foundation-model/5459299/PPG-BP Database/Data File/0_subject/85_3.txt\n"
     ]
    },
    {
     "name": "stderr",
     "output_type": "stream",
     "text": [
      " 82%|████████▏ | 541/657 [04:43<00:59,  1.96it/s]"
     ]
    },
    {
     "name": "stdout",
     "output_type": "stream",
     "text": [
      "[INFO] 0085 already exists\n",
      "Processing: 29_1\n",
      "Processing: /home/kapis20/projects/PPGworkspace/papagei-foundation-model/5459299/PPG-BP Database/Data File/0_subject/29_1.txt\n",
      "Processing: 29_2\n",
      "Processing: /home/kapis20/projects/PPGworkspace/papagei-foundation-model/5459299/PPG-BP Database/Data File/0_subject/29_2.txt\n",
      "Processing: 29_3\n",
      "Processing: /home/kapis20/projects/PPGworkspace/papagei-foundation-model/5459299/PPG-BP Database/Data File/0_subject/29_3.txt\n"
     ]
    },
    {
     "name": "stderr",
     "output_type": "stream",
     "text": [
      " 82%|████████▏ | 542/657 [04:43<01:00,  1.90it/s]"
     ]
    },
    {
     "name": "stdout",
     "output_type": "stream",
     "text": [
      "[INFO] 0029 already exists\n",
      "Processing: 208_1\n",
      "Processing: /home/kapis20/projects/PPGworkspace/papagei-foundation-model/5459299/PPG-BP Database/Data File/0_subject/208_1.txt\n",
      "Processing: 208_2\n",
      "Processing: /home/kapis20/projects/PPGworkspace/papagei-foundation-model/5459299/PPG-BP Database/Data File/0_subject/208_2.txt\n"
     ]
    },
    {
     "name": "stderr",
     "output_type": "stream",
     "text": [
      " 83%|████████▎ | 543/657 [04:44<00:58,  1.96it/s]"
     ]
    },
    {
     "name": "stdout",
     "output_type": "stream",
     "text": [
      "Processing: 208_3\n",
      "Processing: /home/kapis20/projects/PPGworkspace/papagei-foundation-model/5459299/PPG-BP Database/Data File/0_subject/208_3.txt\n",
      "[INFO] 0208 already exists\n",
      "Processing: 14_1\n",
      "Processing: /home/kapis20/projects/PPGworkspace/papagei-foundation-model/5459299/PPG-BP Database/Data File/0_subject/14_1.txt\n",
      "Processing: 14_2\n",
      "Processing: /home/kapis20/projects/PPGworkspace/papagei-foundation-model/5459299/PPG-BP Database/Data File/0_subject/14_2.txt\n",
      "Processing: 14_3\n",
      "Processing: /home/kapis20/projects/PPGworkspace/papagei-foundation-model/5459299/PPG-BP Database/Data File/0_subject/14_3.txt\n"
     ]
    },
    {
     "name": "stderr",
     "output_type": "stream",
     "text": [
      " 83%|████████▎ | 544/657 [04:44<00:55,  2.02it/s]"
     ]
    },
    {
     "name": "stdout",
     "output_type": "stream",
     "text": [
      "[INFO] 0014 already exists\n",
      "Processing: 156_1\n",
      "Processing: /home/kapis20/projects/PPGworkspace/papagei-foundation-model/5459299/PPG-BP Database/Data File/0_subject/156_1.txt\n",
      "Processing: 156_2\n",
      "Processing: /home/kapis20/projects/PPGworkspace/papagei-foundation-model/5459299/PPG-BP Database/Data File/0_subject/156_2.txt\n"
     ]
    },
    {
     "name": "stderr",
     "output_type": "stream",
     "text": [
      " 83%|████████▎ | 545/657 [04:45<00:55,  2.02it/s]"
     ]
    },
    {
     "name": "stdout",
     "output_type": "stream",
     "text": [
      "Processing: 156_3\n",
      "Processing: /home/kapis20/projects/PPGworkspace/papagei-foundation-model/5459299/PPG-BP Database/Data File/0_subject/156_3.txt\n",
      "[INFO] 0156 already exists\n",
      "Processing: 196_1\n",
      "Processing: /home/kapis20/projects/PPGworkspace/papagei-foundation-model/5459299/PPG-BP Database/Data File/0_subject/196_1.txt\n",
      "Processing: 196_2\n",
      "Processing: /home/kapis20/projects/PPGworkspace/papagei-foundation-model/5459299/PPG-BP Database/Data File/0_subject/196_2.txt\n",
      "Processing: 196_3\n",
      "Processing: /home/kapis20/projects/PPGworkspace/papagei-foundation-model/5459299/PPG-BP Database/Data File/0_subject/196_3.txt\n"
     ]
    },
    {
     "name": "stderr",
     "output_type": "stream",
     "text": [
      " 83%|████████▎ | 546/657 [04:45<00:57,  1.93it/s]"
     ]
    },
    {
     "name": "stdout",
     "output_type": "stream",
     "text": [
      "[INFO] 0196 already exists\n",
      "Processing: 404_1\n",
      "Processing: /home/kapis20/projects/PPGworkspace/papagei-foundation-model/5459299/PPG-BP Database/Data File/0_subject/404_1.txt\n",
      "Processing: 404_2\n",
      "Processing: /home/kapis20/projects/PPGworkspace/papagei-foundation-model/5459299/PPG-BP Database/Data File/0_subject/404_2.txt\n"
     ]
    },
    {
     "name": "stderr",
     "output_type": "stream",
     "text": [
      " 83%|████████▎ | 547/657 [04:46<00:54,  2.00it/s]"
     ]
    },
    {
     "name": "stdout",
     "output_type": "stream",
     "text": [
      "Processing: 404_3\n",
      "Processing: /home/kapis20/projects/PPGworkspace/papagei-foundation-model/5459299/PPG-BP Database/Data File/0_subject/404_3.txt\n",
      "[INFO] 0404 already exists\n",
      "Processing: 211_1\n",
      "Processing: /home/kapis20/projects/PPGworkspace/papagei-foundation-model/5459299/PPG-BP Database/Data File/0_subject/211_1.txt\n",
      "Processing: 211_2\n",
      "Processing: /home/kapis20/projects/PPGworkspace/papagei-foundation-model/5459299/PPG-BP Database/Data File/0_subject/211_2.txt\n",
      "Processing: 211_3\n",
      "Processing: /home/kapis20/projects/PPGworkspace/papagei-foundation-model/5459299/PPG-BP Database/Data File/0_subject/211_3.txt\n"
     ]
    },
    {
     "name": "stderr",
     "output_type": "stream",
     "text": [
      " 83%|████████▎ | 548/657 [04:46<00:53,  2.04it/s]"
     ]
    },
    {
     "name": "stdout",
     "output_type": "stream",
     "text": [
      "[INFO] 0211 already exists\n",
      "Processing: 106_1\n",
      "Processing: /home/kapis20/projects/PPGworkspace/papagei-foundation-model/5459299/PPG-BP Database/Data File/0_subject/106_1.txt\n",
      "Processing: 106_2\n",
      "Processing: /home/kapis20/projects/PPGworkspace/papagei-foundation-model/5459299/PPG-BP Database/Data File/0_subject/106_2.txt\n"
     ]
    },
    {
     "name": "stderr",
     "output_type": "stream",
     "text": [
      " 84%|████████▎ | 549/657 [04:47<00:52,  2.06it/s]"
     ]
    },
    {
     "name": "stdout",
     "output_type": "stream",
     "text": [
      "Processing: 106_3\n",
      "Processing: /home/kapis20/projects/PPGworkspace/papagei-foundation-model/5459299/PPG-BP Database/Data File/0_subject/106_3.txt\n",
      "[INFO] 0106 already exists\n",
      "Processing: 418_1\n",
      "Processing: /home/kapis20/projects/PPGworkspace/papagei-foundation-model/5459299/PPG-BP Database/Data File/0_subject/418_1.txt\n",
      "Processing: 418_2\n",
      "Processing: /home/kapis20/projects/PPGworkspace/papagei-foundation-model/5459299/PPG-BP Database/Data File/0_subject/418_2.txt\n",
      "Processing: 418_3\n",
      "Processing: /home/kapis20/projects/PPGworkspace/papagei-foundation-model/5459299/PPG-BP Database/Data File/0_subject/418_3.txt\n"
     ]
    },
    {
     "name": "stderr",
     "output_type": "stream",
     "text": [
      " 84%|████████▎ | 550/657 [04:47<00:56,  1.88it/s]"
     ]
    },
    {
     "name": "stdout",
     "output_type": "stream",
     "text": [
      "[INFO] 0418 already exists\n",
      "Processing: 34_1\n",
      "Processing: /home/kapis20/projects/PPGworkspace/papagei-foundation-model/5459299/PPG-BP Database/Data File/0_subject/34_1.txt\n",
      "Processing: 34_2\n",
      "Processing: /home/kapis20/projects/PPGworkspace/papagei-foundation-model/5459299/PPG-BP Database/Data File/0_subject/34_2.txt\n"
     ]
    },
    {
     "name": "stderr",
     "output_type": "stream",
     "text": [
      " 84%|████████▍ | 551/657 [04:48<00:55,  1.92it/s]"
     ]
    },
    {
     "name": "stdout",
     "output_type": "stream",
     "text": [
      "Processing: 34_3\n",
      "Processing: /home/kapis20/projects/PPGworkspace/papagei-foundation-model/5459299/PPG-BP Database/Data File/0_subject/34_3.txt\n",
      "[INFO] 0034 already exists\n",
      "Processing: 152_1\n",
      "Processing: /home/kapis20/projects/PPGworkspace/papagei-foundation-model/5459299/PPG-BP Database/Data File/0_subject/152_1.txt\n",
      "Processing: 152_2\n",
      "Processing: /home/kapis20/projects/PPGworkspace/papagei-foundation-model/5459299/PPG-BP Database/Data File/0_subject/152_2.txt\n",
      "Processing: 152_3\n",
      "Processing: /home/kapis20/projects/PPGworkspace/papagei-foundation-model/5459299/PPG-BP Database/Data File/0_subject/152_3.txt\n"
     ]
    },
    {
     "name": "stderr",
     "output_type": "stream",
     "text": [
      " 84%|████████▍ | 552/657 [04:48<00:53,  1.95it/s]"
     ]
    },
    {
     "name": "stdout",
     "output_type": "stream",
     "text": [
      "[INFO] 0152 already exists\n",
      "Processing: 144_1\n",
      "Processing: /home/kapis20/projects/PPGworkspace/papagei-foundation-model/5459299/PPG-BP Database/Data File/0_subject/144_1.txt\n",
      "Processing: 144_2\n",
      "Processing: /home/kapis20/projects/PPGworkspace/papagei-foundation-model/5459299/PPG-BP Database/Data File/0_subject/144_2.txt\n",
      "Processing: 144_3\n",
      "Processing: /home/kapis20/projects/PPGworkspace/papagei-foundation-model/5459299/PPG-BP Database/Data File/0_subject/144_3.txt\n"
     ]
    },
    {
     "name": "stderr",
     "output_type": "stream",
     "text": [
      " 84%|████████▍ | 553/657 [04:49<00:55,  1.87it/s]"
     ]
    },
    {
     "name": "stdout",
     "output_type": "stream",
     "text": [
      "[INFO] 0144 already exists\n",
      "Processing: 127_1\n",
      "Processing: /home/kapis20/projects/PPGworkspace/papagei-foundation-model/5459299/PPG-BP Database/Data File/0_subject/127_1.txt\n",
      "Processing: 127_2\n",
      "Processing: /home/kapis20/projects/PPGworkspace/papagei-foundation-model/5459299/PPG-BP Database/Data File/0_subject/127_2.txt\n"
     ]
    },
    {
     "name": "stderr",
     "output_type": "stream",
     "text": [
      " 84%|████████▍ | 554/657 [04:49<00:53,  1.91it/s]"
     ]
    },
    {
     "name": "stdout",
     "output_type": "stream",
     "text": [
      "Processing: 127_3\n",
      "Processing: /home/kapis20/projects/PPGworkspace/papagei-foundation-model/5459299/PPG-BP Database/Data File/0_subject/127_3.txt\n",
      "[INFO] 0127 already exists\n",
      "Processing: 164_1\n",
      "Processing: /home/kapis20/projects/PPGworkspace/papagei-foundation-model/5459299/PPG-BP Database/Data File/0_subject/164_1.txt\n",
      "Processing: 164_2\n",
      "Processing: /home/kapis20/projects/PPGworkspace/papagei-foundation-model/5459299/PPG-BP Database/Data File/0_subject/164_2.txt\n"
     ]
    },
    {
     "name": "stderr",
     "output_type": "stream",
     "text": [
      " 84%|████████▍ | 555/657 [04:50<00:54,  1.89it/s]"
     ]
    },
    {
     "name": "stdout",
     "output_type": "stream",
     "text": [
      "Processing: 164_3\n",
      "Processing: /home/kapis20/projects/PPGworkspace/papagei-foundation-model/5459299/PPG-BP Database/Data File/0_subject/164_3.txt\n",
      "[INFO] 0164 already exists\n",
      "Processing: 151_1\n",
      "Processing: /home/kapis20/projects/PPGworkspace/papagei-foundation-model/5459299/PPG-BP Database/Data File/0_subject/151_1.txt\n",
      "Processing: 151_2\n",
      "Processing: /home/kapis20/projects/PPGworkspace/papagei-foundation-model/5459299/PPG-BP Database/Data File/0_subject/151_2.txt\n",
      "Processing: 151_3\n",
      "Processing: /home/kapis20/projects/PPGworkspace/papagei-foundation-model/5459299/PPG-BP Database/Data File/0_subject/151_3.txt\n"
     ]
    },
    {
     "name": "stderr",
     "output_type": "stream",
     "text": [
      " 85%|████████▍ | 556/657 [04:50<00:52,  1.92it/s]"
     ]
    },
    {
     "name": "stdout",
     "output_type": "stream",
     "text": [
      "[INFO] 0151 already exists\n",
      "Processing: 16_1\n",
      "Processing: /home/kapis20/projects/PPGworkspace/papagei-foundation-model/5459299/PPG-BP Database/Data File/0_subject/16_1.txt\n",
      "Processing: 16_2\n",
      "Processing: /home/kapis20/projects/PPGworkspace/papagei-foundation-model/5459299/PPG-BP Database/Data File/0_subject/16_2.txt\n"
     ]
    },
    {
     "name": "stderr",
     "output_type": "stream",
     "text": [
      " 85%|████████▍ | 557/657 [04:51<00:50,  1.99it/s]"
     ]
    },
    {
     "name": "stdout",
     "output_type": "stream",
     "text": [
      "Processing: 16_3\n",
      "Processing: /home/kapis20/projects/PPGworkspace/papagei-foundation-model/5459299/PPG-BP Database/Data File/0_subject/16_3.txt\n",
      "[INFO] 0016 already exists\n",
      "Processing: 84_1\n",
      "Processing: /home/kapis20/projects/PPGworkspace/papagei-foundation-model/5459299/PPG-BP Database/Data File/0_subject/84_1.txt\n",
      "Processing: 84_2\n",
      "Processing: /home/kapis20/projects/PPGworkspace/papagei-foundation-model/5459299/PPG-BP Database/Data File/0_subject/84_2.txt\n",
      "Processing: 84_3\n",
      "Processing: /home/kapis20/projects/PPGworkspace/papagei-foundation-model/5459299/PPG-BP Database/Data File/0_subject/84_3.txt\n"
     ]
    },
    {
     "name": "stderr",
     "output_type": "stream",
     "text": [
      " 85%|████████▍ | 558/657 [04:51<00:52,  1.90it/s]"
     ]
    },
    {
     "name": "stdout",
     "output_type": "stream",
     "text": [
      "[INFO] 0084 already exists\n",
      "Processing: 416_1\n",
      "Processing: /home/kapis20/projects/PPGworkspace/papagei-foundation-model/5459299/PPG-BP Database/Data File/0_subject/416_1.txt\n",
      "Processing: 416_2\n",
      "Processing: /home/kapis20/projects/PPGworkspace/papagei-foundation-model/5459299/PPG-BP Database/Data File/0_subject/416_2.txt\n"
     ]
    },
    {
     "name": "stderr",
     "output_type": "stream",
     "text": [
      " 85%|████████▌ | 559/657 [04:52<00:49,  1.99it/s]"
     ]
    },
    {
     "name": "stdout",
     "output_type": "stream",
     "text": [
      "Processing: 416_3\n",
      "Processing: /home/kapis20/projects/PPGworkspace/papagei-foundation-model/5459299/PPG-BP Database/Data File/0_subject/416_3.txt\n",
      "[INFO] 0416 already exists\n",
      "Processing: 66_1\n",
      "Processing: /home/kapis20/projects/PPGworkspace/papagei-foundation-model/5459299/PPG-BP Database/Data File/0_subject/66_1.txt\n",
      "Processing: 66_2\n",
      "Processing: /home/kapis20/projects/PPGworkspace/papagei-foundation-model/5459299/PPG-BP Database/Data File/0_subject/66_2.txt\n",
      "Processing: 66_3\n",
      "Processing: /home/kapis20/projects/PPGworkspace/papagei-foundation-model/5459299/PPG-BP Database/Data File/0_subject/66_3.txt\n"
     ]
    },
    {
     "name": "stderr",
     "output_type": "stream",
     "text": [
      " 85%|████████▌ | 560/657 [04:52<00:48,  2.02it/s]"
     ]
    },
    {
     "name": "stdout",
     "output_type": "stream",
     "text": [
      "[INFO] 0066 already exists\n",
      "Processing: 191_1\n",
      "Processing: /home/kapis20/projects/PPGworkspace/papagei-foundation-model/5459299/PPG-BP Database/Data File/0_subject/191_1.txt\n",
      "Processing: 191_2\n",
      "Processing: /home/kapis20/projects/PPGworkspace/papagei-foundation-model/5459299/PPG-BP Database/Data File/0_subject/191_2.txt\n",
      "Processing: 191_3\n",
      "Processing: /home/kapis20/projects/PPGworkspace/papagei-foundation-model/5459299/PPG-BP Database/Data File/0_subject/191_3.txt\n"
     ]
    },
    {
     "name": "stderr",
     "output_type": "stream",
     "text": [
      " 85%|████████▌ | 561/657 [04:53<00:49,  1.93it/s]"
     ]
    },
    {
     "name": "stdout",
     "output_type": "stream",
     "text": [
      "[INFO] 0191 already exists\n",
      "Processing: 125_1\n",
      "Processing: /home/kapis20/projects/PPGworkspace/papagei-foundation-model/5459299/PPG-BP Database/Data File/0_subject/125_1.txt\n",
      "Processing: 125_2\n",
      "Processing: /home/kapis20/projects/PPGworkspace/papagei-foundation-model/5459299/PPG-BP Database/Data File/0_subject/125_2.txt\n"
     ]
    },
    {
     "name": "stderr",
     "output_type": "stream",
     "text": [
      " 86%|████████▌ | 562/657 [04:53<00:48,  1.95it/s]"
     ]
    },
    {
     "name": "stdout",
     "output_type": "stream",
     "text": [
      "Processing: 125_3\n",
      "Processing: /home/kapis20/projects/PPGworkspace/papagei-foundation-model/5459299/PPG-BP Database/Data File/0_subject/125_3.txt\n",
      "[INFO] 0125 already exists\n",
      "Processing: 50_1\n",
      "Processing: /home/kapis20/projects/PPGworkspace/papagei-foundation-model/5459299/PPG-BP Database/Data File/0_subject/50_1.txt\n",
      "Processing: 50_2\n",
      "Processing: /home/kapis20/projects/PPGworkspace/papagei-foundation-model/5459299/PPG-BP Database/Data File/0_subject/50_2.txt\n",
      "Processing: 50_3\n",
      "Processing: /home/kapis20/projects/PPGworkspace/papagei-foundation-model/5459299/PPG-BP Database/Data File/0_subject/50_3.txt\n"
     ]
    },
    {
     "name": "stderr",
     "output_type": "stream",
     "text": [
      " 86%|████████▌ | 563/657 [04:54<00:48,  1.92it/s]"
     ]
    },
    {
     "name": "stdout",
     "output_type": "stream",
     "text": [
      "[INFO] 0050 already exists\n",
      "Processing: 6_1\n",
      "Processing: /home/kapis20/projects/PPGworkspace/papagei-foundation-model/5459299/PPG-BP Database/Data File/0_subject/6_1.txt\n",
      "Processing: 6_2\n",
      "Processing: /home/kapis20/projects/PPGworkspace/papagei-foundation-model/5459299/PPG-BP Database/Data File/0_subject/6_2.txt\n"
     ]
    },
    {
     "name": "stderr",
     "output_type": "stream",
     "text": [
      " 86%|████████▌ | 564/657 [04:54<00:46,  1.99it/s]"
     ]
    },
    {
     "name": "stdout",
     "output_type": "stream",
     "text": [
      "Processing: 6_3\n",
      "Processing: /home/kapis20/projects/PPGworkspace/papagei-foundation-model/5459299/PPG-BP Database/Data File/0_subject/6_3.txt\n",
      "[INFO] 0006 already exists\n",
      "Processing: 210_1\n",
      "Processing: /home/kapis20/projects/PPGworkspace/papagei-foundation-model/5459299/PPG-BP Database/Data File/0_subject/210_1.txt\n",
      "Processing: 210_2\n",
      "Processing: /home/kapis20/projects/PPGworkspace/papagei-foundation-model/5459299/PPG-BP Database/Data File/0_subject/210_2.txt\n",
      "Processing: 210_3\n",
      "Processing: /home/kapis20/projects/PPGworkspace/papagei-foundation-model/5459299/PPG-BP Database/Data File/0_subject/210_3.txt\n",
      "[INFO] 0210 already exists\n",
      "Processing: 120_1\n",
      "Processing: /home/kapis20/projects/PPGworkspace/papagei-foundation-model/5459299/PPG-BP Database/Data File/0_subject/120_1.txt\n",
      "Processing: 120_2\n",
      "Processing: /home/kapis20/projects/PPGworkspace/papagei-foundation-model/5459299/PPG-BP Database/Data File/0_subject/120_2.txt\n",
      "Processing: 120_3\n",
      "Processing: /home/kapis20/projects/PPGworkspace/papagei-foundation-model/5459299/PPG-BP Database/Data File/0_subject/120_3.txt\n",
      "[INFO] 0120 already exists\n",
      "Processing: 245_1\n",
      "Processing: /home/kapis20/projects/PPGworkspace/papagei-foundation-model/5459299/PPG-BP Database/Data File/0_subject/245_1.txt\n",
      "Processing: 245_2\n",
      "Processing: /home/kapis20/projects/PPGworkspace/papagei-foundation-model/5459299/PPG-BP Database/Data File/0_subject/245_2.txt\n",
      "Processing: 245_3\n",
      "Processing: /home/kapis20/projects/PPGworkspace/papagei-foundation-model/5459299/PPG-BP Database/Data File/0_subject/245_3.txt\n",
      "[INFO] 0245 already exists\n",
      "Processing: 8_1\n",
      "Processing: /home/kapis20/projects/PPGworkspace/papagei-foundation-model/5459299/PPG-BP Database/Data File/0_subject/8_1.txt\n",
      "Processing: 8_2\n",
      "Processing: /home/kapis20/projects/PPGworkspace/papagei-foundation-model/5459299/PPG-BP Database/Data File/0_subject/8_2.txt\n"
     ]
    },
    {
     "name": "stderr",
     "output_type": "stream",
     "text": [
      " 86%|████████▋ | 568/657 [04:55<00:22,  3.99it/s]"
     ]
    },
    {
     "name": "stdout",
     "output_type": "stream",
     "text": [
      "Processing: 8_3\n",
      "Processing: /home/kapis20/projects/PPGworkspace/papagei-foundation-model/5459299/PPG-BP Database/Data File/0_subject/8_3.txt\n",
      "[INFO] 0008 already exists\n",
      "Processing: 154_1\n",
      "Processing: /home/kapis20/projects/PPGworkspace/papagei-foundation-model/5459299/PPG-BP Database/Data File/0_subject/154_1.txt\n",
      "Processing: 154_2\n",
      "Processing: /home/kapis20/projects/PPGworkspace/papagei-foundation-model/5459299/PPG-BP Database/Data File/0_subject/154_2.txt\n",
      "Processing: 154_3\n",
      "Processing: /home/kapis20/projects/PPGworkspace/papagei-foundation-model/5459299/PPG-BP Database/Data File/0_subject/154_3.txt\n"
     ]
    },
    {
     "name": "stderr",
     "output_type": "stream",
     "text": [
      " 87%|████████▋ | 569/657 [04:55<00:27,  3.20it/s]"
     ]
    },
    {
     "name": "stdout",
     "output_type": "stream",
     "text": [
      "[INFO] 0154 already exists\n",
      "Processing: 107_1\n",
      "Processing: /home/kapis20/projects/PPGworkspace/papagei-foundation-model/5459299/PPG-BP Database/Data File/0_subject/107_1.txt\n",
      "Processing: 107_2\n",
      "Processing: /home/kapis20/projects/PPGworkspace/papagei-foundation-model/5459299/PPG-BP Database/Data File/0_subject/107_2.txt\n"
     ]
    },
    {
     "name": "stderr",
     "output_type": "stream",
     "text": [
      " 87%|████████▋ | 570/657 [04:56<00:29,  2.92it/s]"
     ]
    },
    {
     "name": "stdout",
     "output_type": "stream",
     "text": [
      "Processing: 107_3\n",
      "Processing: /home/kapis20/projects/PPGworkspace/papagei-foundation-model/5459299/PPG-BP Database/Data File/0_subject/107_3.txt\n",
      "[INFO] 0107 already exists\n",
      "Processing: 128_1\n",
      "Processing: /home/kapis20/projects/PPGworkspace/papagei-foundation-model/5459299/PPG-BP Database/Data File/0_subject/128_1.txt\n",
      "Processing: 128_2\n",
      "Processing: /home/kapis20/projects/PPGworkspace/papagei-foundation-model/5459299/PPG-BP Database/Data File/0_subject/128_2.txt\n",
      "Processing: 128_3\n",
      "Processing: /home/kapis20/projects/PPGworkspace/papagei-foundation-model/5459299/PPG-BP Database/Data File/0_subject/128_3.txt\n"
     ]
    },
    {
     "name": "stderr",
     "output_type": "stream",
     "text": [
      " 87%|████████▋ | 571/657 [04:56<00:32,  2.66it/s]"
     ]
    },
    {
     "name": "stdout",
     "output_type": "stream",
     "text": [
      "[INFO] 0128 already exists\n",
      "Processing: 144_1\n",
      "Processing: /home/kapis20/projects/PPGworkspace/papagei-foundation-model/5459299/PPG-BP Database/Data File/0_subject/144_1.txt\n",
      "Processing: 144_2\n",
      "Processing: /home/kapis20/projects/PPGworkspace/papagei-foundation-model/5459299/PPG-BP Database/Data File/0_subject/144_2.txt\n",
      "Processing: 144_3\n",
      "Processing: /home/kapis20/projects/PPGworkspace/papagei-foundation-model/5459299/PPG-BP Database/Data File/0_subject/144_3.txt\n"
     ]
    },
    {
     "name": "stderr",
     "output_type": "stream",
     "text": [
      " 87%|████████▋ | 572/657 [04:57<00:35,  2.38it/s]"
     ]
    },
    {
     "name": "stdout",
     "output_type": "stream",
     "text": [
      "[INFO] 0144 already exists\n",
      "Processing: 128_1\n",
      "Processing: /home/kapis20/projects/PPGworkspace/papagei-foundation-model/5459299/PPG-BP Database/Data File/0_subject/128_1.txt\n",
      "Processing: 128_2\n",
      "Processing: /home/kapis20/projects/PPGworkspace/papagei-foundation-model/5459299/PPG-BP Database/Data File/0_subject/128_2.txt\n"
     ]
    },
    {
     "name": "stderr",
     "output_type": "stream",
     "text": [
      " 87%|████████▋ | 573/657 [04:57<00:36,  2.30it/s]"
     ]
    },
    {
     "name": "stdout",
     "output_type": "stream",
     "text": [
      "Processing: 128_3\n",
      "Processing: /home/kapis20/projects/PPGworkspace/papagei-foundation-model/5459299/PPG-BP Database/Data File/0_subject/128_3.txt\n",
      "[INFO] 0128 already exists\n",
      "Processing: 190_1\n",
      "Processing: /home/kapis20/projects/PPGworkspace/papagei-foundation-model/5459299/PPG-BP Database/Data File/0_subject/190_1.txt\n",
      "Processing: 190_2\n",
      "Processing: /home/kapis20/projects/PPGworkspace/papagei-foundation-model/5459299/PPG-BP Database/Data File/0_subject/190_2.txt\n"
     ]
    },
    {
     "name": "stderr",
     "output_type": "stream",
     "text": [
      " 87%|████████▋ | 574/657 [04:58<00:38,  2.16it/s]"
     ]
    },
    {
     "name": "stdout",
     "output_type": "stream",
     "text": [
      "Processing: 190_3\n",
      "Processing: /home/kapis20/projects/PPGworkspace/papagei-foundation-model/5459299/PPG-BP Database/Data File/0_subject/190_3.txt\n",
      "[INFO] 0190 already exists\n",
      "Processing: 232_1\n",
      "Processing: /home/kapis20/projects/PPGworkspace/papagei-foundation-model/5459299/PPG-BP Database/Data File/0_subject/232_1.txt\n",
      "Processing: 232_2\n",
      "Processing: /home/kapis20/projects/PPGworkspace/papagei-foundation-model/5459299/PPG-BP Database/Data File/0_subject/232_2.txt\n",
      "Processing: 232_3\n",
      "Processing: /home/kapis20/projects/PPGworkspace/papagei-foundation-model/5459299/PPG-BP Database/Data File/0_subject/232_3.txt\n"
     ]
    },
    {
     "name": "stderr",
     "output_type": "stream",
     "text": [
      " 88%|████████▊ | 575/657 [04:59<00:38,  2.10it/s]"
     ]
    },
    {
     "name": "stdout",
     "output_type": "stream",
     "text": [
      "[INFO] 0232 already exists\n",
      "Processing: 414_1\n",
      "Processing: /home/kapis20/projects/PPGworkspace/papagei-foundation-model/5459299/PPG-BP Database/Data File/0_subject/414_1.txt\n",
      "Processing: 414_2\n",
      "Processing: /home/kapis20/projects/PPGworkspace/papagei-foundation-model/5459299/PPG-BP Database/Data File/0_subject/414_2.txt\n"
     ]
    },
    {
     "name": "stderr",
     "output_type": "stream",
     "text": [
      " 88%|████████▊ | 576/657 [04:59<00:37,  2.17it/s]"
     ]
    },
    {
     "name": "stdout",
     "output_type": "stream",
     "text": [
      "Processing: 414_3\n",
      "Processing: /home/kapis20/projects/PPGworkspace/papagei-foundation-model/5459299/PPG-BP Database/Data File/0_subject/414_3.txt\n",
      "[INFO] 0414 already exists\n",
      "Processing: 206_1\n",
      "Processing: /home/kapis20/projects/PPGworkspace/papagei-foundation-model/5459299/PPG-BP Database/Data File/0_subject/206_1.txt\n",
      "Processing: 206_2\n",
      "Processing: /home/kapis20/projects/PPGworkspace/papagei-foundation-model/5459299/PPG-BP Database/Data File/0_subject/206_2.txt\n",
      "Processing: 206_3\n",
      "Processing: /home/kapis20/projects/PPGworkspace/papagei-foundation-model/5459299/PPG-BP Database/Data File/0_subject/206_3.txt\n"
     ]
    },
    {
     "name": "stderr",
     "output_type": "stream",
     "text": [
      " 88%|████████▊ | 577/657 [05:00<00:40,  1.98it/s]"
     ]
    },
    {
     "name": "stdout",
     "output_type": "stream",
     "text": [
      "[INFO] 0206 already exists\n",
      "Processing: 254_1\n",
      "Processing: /home/kapis20/projects/PPGworkspace/papagei-foundation-model/5459299/PPG-BP Database/Data File/0_subject/254_1.txt\n",
      "Processing: 254_2\n",
      "Processing: /home/kapis20/projects/PPGworkspace/papagei-foundation-model/5459299/PPG-BP Database/Data File/0_subject/254_2.txt\n"
     ]
    },
    {
     "name": "stderr",
     "output_type": "stream",
     "text": [
      " 88%|████████▊ | 578/657 [05:00<00:39,  2.02it/s]"
     ]
    },
    {
     "name": "stdout",
     "output_type": "stream",
     "text": [
      "Processing: 254_3\n",
      "Processing: /home/kapis20/projects/PPGworkspace/papagei-foundation-model/5459299/PPG-BP Database/Data File/0_subject/254_3.txt\n",
      "[INFO] 0254 already exists\n",
      "Processing: 55_1\n",
      "Processing: /home/kapis20/projects/PPGworkspace/papagei-foundation-model/5459299/PPG-BP Database/Data File/0_subject/55_1.txt\n",
      "Processing: 55_2\n",
      "Processing: /home/kapis20/projects/PPGworkspace/papagei-foundation-model/5459299/PPG-BP Database/Data File/0_subject/55_2.txt\n",
      "Processing: 55_3\n",
      "Processing: /home/kapis20/projects/PPGworkspace/papagei-foundation-model/5459299/PPG-BP Database/Data File/0_subject/55_3.txt\n"
     ]
    },
    {
     "name": "stderr",
     "output_type": "stream",
     "text": [
      " 88%|████████▊ | 579/657 [05:01<00:38,  2.04it/s]"
     ]
    },
    {
     "name": "stdout",
     "output_type": "stream",
     "text": [
      "[INFO] 0055 already exists\n",
      "Processing: 89_1\n",
      "Processing: /home/kapis20/projects/PPGworkspace/papagei-foundation-model/5459299/PPG-BP Database/Data File/0_subject/89_1.txt\n",
      "Processing: 89_2\n",
      "Processing: /home/kapis20/projects/PPGworkspace/papagei-foundation-model/5459299/PPG-BP Database/Data File/0_subject/89_2.txt\n",
      "Processing: 89_3\n",
      "Processing: /home/kapis20/projects/PPGworkspace/papagei-foundation-model/5459299/PPG-BP Database/Data File/0_subject/89_3.txt\n"
     ]
    },
    {
     "name": "stderr",
     "output_type": "stream",
     "text": [
      " 88%|████████▊ | 580/657 [05:01<00:39,  1.96it/s]"
     ]
    },
    {
     "name": "stdout",
     "output_type": "stream",
     "text": [
      "[INFO] 0089 already exists\n",
      "Processing: 87_1\n",
      "Processing: /home/kapis20/projects/PPGworkspace/papagei-foundation-model/5459299/PPG-BP Database/Data File/0_subject/87_1.txt\n",
      "Processing: 87_2\n",
      "Processing: /home/kapis20/projects/PPGworkspace/papagei-foundation-model/5459299/PPG-BP Database/Data File/0_subject/87_2.txt\n"
     ]
    },
    {
     "name": "stderr",
     "output_type": "stream",
     "text": [
      " 88%|████████▊ | 581/657 [05:02<00:37,  2.02it/s]"
     ]
    },
    {
     "name": "stdout",
     "output_type": "stream",
     "text": [
      "Processing: 87_3\n",
      "Processing: /home/kapis20/projects/PPGworkspace/papagei-foundation-model/5459299/PPG-BP Database/Data File/0_subject/87_3.txt\n",
      "[INFO] 0087 already exists\n",
      "Processing: 174_1\n",
      "Processing: /home/kapis20/projects/PPGworkspace/papagei-foundation-model/5459299/PPG-BP Database/Data File/0_subject/174_1.txt\n",
      "Processing: 174_2\n",
      "Processing: /home/kapis20/projects/PPGworkspace/papagei-foundation-model/5459299/PPG-BP Database/Data File/0_subject/174_2.txt\n",
      "Processing: 174_3\n",
      "Processing: /home/kapis20/projects/PPGworkspace/papagei-foundation-model/5459299/PPG-BP Database/Data File/0_subject/174_3.txt\n"
     ]
    },
    {
     "name": "stderr",
     "output_type": "stream",
     "text": [
      " 89%|████████▊ | 582/657 [05:02<00:36,  2.05it/s]"
     ]
    },
    {
     "name": "stdout",
     "output_type": "stream",
     "text": [
      "[INFO] 0174 already exists\n",
      "Processing: 141_1\n",
      "Processing: /home/kapis20/projects/PPGworkspace/papagei-foundation-model/5459299/PPG-BP Database/Data File/0_subject/141_1.txt\n",
      "Processing: 141_2\n",
      "Processing: /home/kapis20/projects/PPGworkspace/papagei-foundation-model/5459299/PPG-BP Database/Data File/0_subject/141_2.txt\n",
      "Processing: 141_3\n",
      "Processing: /home/kapis20/projects/PPGworkspace/papagei-foundation-model/5459299/PPG-BP Database/Data File/0_subject/141_3.txt\n"
     ]
    },
    {
     "name": "stderr",
     "output_type": "stream",
     "text": [
      " 89%|████████▊ | 583/657 [05:03<00:37,  1.95it/s]"
     ]
    },
    {
     "name": "stdout",
     "output_type": "stream",
     "text": [
      "[INFO] 0141 already exists\n",
      "Processing: 60_1\n",
      "Processing: /home/kapis20/projects/PPGworkspace/papagei-foundation-model/5459299/PPG-BP Database/Data File/0_subject/60_1.txt\n",
      "Processing: 60_2\n",
      "Processing: /home/kapis20/projects/PPGworkspace/papagei-foundation-model/5459299/PPG-BP Database/Data File/0_subject/60_2.txt\n"
     ]
    },
    {
     "name": "stderr",
     "output_type": "stream",
     "text": [
      " 89%|████████▉ | 584/657 [05:03<00:36,  2.00it/s]"
     ]
    },
    {
     "name": "stdout",
     "output_type": "stream",
     "text": [
      "Processing: 60_3\n",
      "Processing: /home/kapis20/projects/PPGworkspace/papagei-foundation-model/5459299/PPG-BP Database/Data File/0_subject/60_3.txt\n",
      "[INFO] 0060 already exists\n",
      "Processing: 40_1\n",
      "Processing: /home/kapis20/projects/PPGworkspace/papagei-foundation-model/5459299/PPG-BP Database/Data File/0_subject/40_1.txt\n",
      "Processing: 40_2\n",
      "Processing: /home/kapis20/projects/PPGworkspace/papagei-foundation-model/5459299/PPG-BP Database/Data File/0_subject/40_2.txt\n",
      "Processing: 40_3\n",
      "Processing: /home/kapis20/projects/PPGworkspace/papagei-foundation-model/5459299/PPG-BP Database/Data File/0_subject/40_3.txt\n"
     ]
    },
    {
     "name": "stderr",
     "output_type": "stream",
     "text": [
      " 89%|████████▉ | 585/657 [05:04<00:37,  1.93it/s]"
     ]
    },
    {
     "name": "stdout",
     "output_type": "stream",
     "text": [
      "[INFO] 0040 already exists\n",
      "Processing: 410_1\n",
      "Processing: /home/kapis20/projects/PPGworkspace/papagei-foundation-model/5459299/PPG-BP Database/Data File/0_subject/410_1.txt\n",
      "Processing: 410_2\n",
      "Processing: /home/kapis20/projects/PPGworkspace/papagei-foundation-model/5459299/PPG-BP Database/Data File/0_subject/410_2.txt\n"
     ]
    },
    {
     "name": "stderr",
     "output_type": "stream",
     "text": [
      " 89%|████████▉ | 586/657 [05:04<00:35,  2.02it/s]"
     ]
    },
    {
     "name": "stdout",
     "output_type": "stream",
     "text": [
      "Processing: 410_3\n",
      "Processing: /home/kapis20/projects/PPGworkspace/papagei-foundation-model/5459299/PPG-BP Database/Data File/0_subject/410_3.txt\n",
      "[INFO] 0410 already exists\n",
      "Processing: 90_1\n",
      "Processing: /home/kapis20/projects/PPGworkspace/papagei-foundation-model/5459299/PPG-BP Database/Data File/0_subject/90_1.txt\n",
      "Processing: 90_2\n",
      "Processing: /home/kapis20/projects/PPGworkspace/papagei-foundation-model/5459299/PPG-BP Database/Data File/0_subject/90_2.txt\n",
      "Processing: 90_3\n",
      "Processing: /home/kapis20/projects/PPGworkspace/papagei-foundation-model/5459299/PPG-BP Database/Data File/0_subject/90_3.txt\n"
     ]
    },
    {
     "name": "stderr",
     "output_type": "stream",
     "text": [
      " 89%|████████▉ | 587/657 [05:05<00:34,  2.02it/s]"
     ]
    },
    {
     "name": "stdout",
     "output_type": "stream",
     "text": [
      "[INFO] 0090 already exists\n",
      "Processing: 239_1\n",
      "Processing: /home/kapis20/projects/PPGworkspace/papagei-foundation-model/5459299/PPG-BP Database/Data File/0_subject/239_1.txt\n",
      "Processing: 239_2\n",
      "Processing: /home/kapis20/projects/PPGworkspace/papagei-foundation-model/5459299/PPG-BP Database/Data File/0_subject/239_2.txt\n",
      "Processing: 239_3\n",
      "Processing: /home/kapis20/projects/PPGworkspace/papagei-foundation-model/5459299/PPG-BP Database/Data File/0_subject/239_3.txt\n"
     ]
    },
    {
     "name": "stderr",
     "output_type": "stream",
     "text": [
      " 89%|████████▉ | 588/657 [05:05<00:35,  1.94it/s]"
     ]
    },
    {
     "name": "stdout",
     "output_type": "stream",
     "text": [
      "[INFO] 0239 already exists\n",
      "Processing: 231_1\n",
      "Processing: /home/kapis20/projects/PPGworkspace/papagei-foundation-model/5459299/PPG-BP Database/Data File/0_subject/231_1.txt\n",
      "Processing: 231_2\n",
      "Processing: /home/kapis20/projects/PPGworkspace/papagei-foundation-model/5459299/PPG-BP Database/Data File/0_subject/231_2.txt\n"
     ]
    },
    {
     "name": "stderr",
     "output_type": "stream",
     "text": [
      " 90%|████████▉ | 589/657 [05:06<00:36,  1.85it/s]"
     ]
    },
    {
     "name": "stdout",
     "output_type": "stream",
     "text": [
      "Processing: 231_3\n",
      "Processing: /home/kapis20/projects/PPGworkspace/papagei-foundation-model/5459299/PPG-BP Database/Data File/0_subject/231_3.txt\n",
      "[INFO] 0231 already exists\n",
      "Processing: 56_1\n",
      "Processing: /home/kapis20/projects/PPGworkspace/papagei-foundation-model/5459299/PPG-BP Database/Data File/0_subject/56_1.txt\n",
      "Processing: 56_2\n",
      "Processing: /home/kapis20/projects/PPGworkspace/papagei-foundation-model/5459299/PPG-BP Database/Data File/0_subject/56_2.txt\n"
     ]
    },
    {
     "name": "stderr",
     "output_type": "stream",
     "text": [
      " 90%|████████▉ | 590/657 [05:06<00:36,  1.83it/s]"
     ]
    },
    {
     "name": "stdout",
     "output_type": "stream",
     "text": [
      "Processing: 56_3\n",
      "Processing: /home/kapis20/projects/PPGworkspace/papagei-foundation-model/5459299/PPG-BP Database/Data File/0_subject/56_3.txt\n",
      "[INFO] 0056 already exists\n",
      "Processing: 414_1\n",
      "Processing: /home/kapis20/projects/PPGworkspace/papagei-foundation-model/5459299/PPG-BP Database/Data File/0_subject/414_1.txt\n",
      "Processing: 414_2\n",
      "Processing: /home/kapis20/projects/PPGworkspace/papagei-foundation-model/5459299/PPG-BP Database/Data File/0_subject/414_2.txt\n",
      "Processing: 414_3\n",
      "Processing: /home/kapis20/projects/PPGworkspace/papagei-foundation-model/5459299/PPG-BP Database/Data File/0_subject/414_3.txt\n"
     ]
    },
    {
     "name": "stderr",
     "output_type": "stream",
     "text": [
      " 90%|████████▉ | 591/657 [05:07<00:33,  1.95it/s]"
     ]
    },
    {
     "name": "stdout",
     "output_type": "stream",
     "text": [
      "[INFO] 0414 already exists\n",
      "Processing: 417_1\n",
      "Processing: /home/kapis20/projects/PPGworkspace/papagei-foundation-model/5459299/PPG-BP Database/Data File/0_subject/417_1.txt\n",
      "Processing: 417_2\n",
      "Processing: /home/kapis20/projects/PPGworkspace/papagei-foundation-model/5459299/PPG-BP Database/Data File/0_subject/417_2.txt\n"
     ]
    },
    {
     "name": "stderr",
     "output_type": "stream",
     "text": [
      " 90%|█████████ | 592/657 [05:07<00:31,  2.05it/s]"
     ]
    },
    {
     "name": "stdout",
     "output_type": "stream",
     "text": [
      "Processing: 417_3\n",
      "Processing: /home/kapis20/projects/PPGworkspace/papagei-foundation-model/5459299/PPG-BP Database/Data File/0_subject/417_3.txt\n",
      "[INFO] 0417 already exists\n",
      "Processing: 95_1\n",
      "Processing: /home/kapis20/projects/PPGworkspace/papagei-foundation-model/5459299/PPG-BP Database/Data File/0_subject/95_1.txt\n",
      "Processing: 95_2\n",
      "Processing: /home/kapis20/projects/PPGworkspace/papagei-foundation-model/5459299/PPG-BP Database/Data File/0_subject/95_2.txt\n",
      "Processing: 95_3\n",
      "Processing: /home/kapis20/projects/PPGworkspace/papagei-foundation-model/5459299/PPG-BP Database/Data File/0_subject/95_3.txt\n"
     ]
    },
    {
     "name": "stderr",
     "output_type": "stream",
     "text": [
      " 90%|█████████ | 593/657 [05:08<00:33,  1.89it/s]"
     ]
    },
    {
     "name": "stdout",
     "output_type": "stream",
     "text": [
      "[INFO] 0095 already exists\n",
      "Processing: 419_1\n",
      "Processing: /home/kapis20/projects/PPGworkspace/papagei-foundation-model/5459299/PPG-BP Database/Data File/0_subject/419_1.txt\n",
      "Processing: 419_2\n",
      "Processing: /home/kapis20/projects/PPGworkspace/papagei-foundation-model/5459299/PPG-BP Database/Data File/0_subject/419_2.txt\n"
     ]
    },
    {
     "name": "stderr",
     "output_type": "stream",
     "text": [
      " 90%|█████████ | 594/657 [05:08<00:31,  2.02it/s]"
     ]
    },
    {
     "name": "stdout",
     "output_type": "stream",
     "text": [
      "Processing: 419_3\n",
      "Processing: /home/kapis20/projects/PPGworkspace/papagei-foundation-model/5459299/PPG-BP Database/Data File/0_subject/419_3.txt\n",
      "[INFO] 0419 already exists\n",
      "Processing: 63_1\n",
      "Processing: /home/kapis20/projects/PPGworkspace/papagei-foundation-model/5459299/PPG-BP Database/Data File/0_subject/63_1.txt\n",
      "Processing: 63_2\n",
      "Processing: /home/kapis20/projects/PPGworkspace/papagei-foundation-model/5459299/PPG-BP Database/Data File/0_subject/63_2.txt\n",
      "Processing: 63_3\n",
      "Processing: /home/kapis20/projects/PPGworkspace/papagei-foundation-model/5459299/PPG-BP Database/Data File/0_subject/63_3.txt\n"
     ]
    },
    {
     "name": "stderr",
     "output_type": "stream",
     "text": [
      " 91%|█████████ | 595/657 [05:09<00:31,  2.00it/s]"
     ]
    },
    {
     "name": "stdout",
     "output_type": "stream",
     "text": [
      "[INFO] 0063 already exists\n",
      "Processing: 415_1\n",
      "Processing: /home/kapis20/projects/PPGworkspace/papagei-foundation-model/5459299/PPG-BP Database/Data File/0_subject/415_1.txt\n",
      "Processing: 415_2\n",
      "Processing: /home/kapis20/projects/PPGworkspace/papagei-foundation-model/5459299/PPG-BP Database/Data File/0_subject/415_2.txt\n",
      "Processing: 415_3\n",
      "Processing: /home/kapis20/projects/PPGworkspace/papagei-foundation-model/5459299/PPG-BP Database/Data File/0_subject/415_3.txt\n"
     ]
    },
    {
     "name": "stderr",
     "output_type": "stream",
     "text": [
      " 91%|█████████ | 596/657 [05:09<00:30,  1.97it/s]"
     ]
    },
    {
     "name": "stdout",
     "output_type": "stream",
     "text": [
      "[INFO] 0415 already exists\n",
      "Processing: 166_1\n",
      "Processing: /home/kapis20/projects/PPGworkspace/papagei-foundation-model/5459299/PPG-BP Database/Data File/0_subject/166_1.txt\n",
      "Processing: 166_2\n",
      "Processing: /home/kapis20/projects/PPGworkspace/papagei-foundation-model/5459299/PPG-BP Database/Data File/0_subject/166_2.txt\n"
     ]
    },
    {
     "name": "stderr",
     "output_type": "stream",
     "text": [
      " 91%|█████████ | 597/657 [05:10<00:29,  2.02it/s]"
     ]
    },
    {
     "name": "stdout",
     "output_type": "stream",
     "text": [
      "Processing: 166_3\n",
      "Processing: /home/kapis20/projects/PPGworkspace/papagei-foundation-model/5459299/PPG-BP Database/Data File/0_subject/166_3.txt\n",
      "[INFO] 0166 already exists\n",
      "Processing: 105_1\n",
      "Processing: /home/kapis20/projects/PPGworkspace/papagei-foundation-model/5459299/PPG-BP Database/Data File/0_subject/105_1.txt\n",
      "Processing: 105_2\n",
      "Processing: /home/kapis20/projects/PPGworkspace/papagei-foundation-model/5459299/PPG-BP Database/Data File/0_subject/105_2.txt\n",
      "Processing: 105_3\n",
      "Processing: /home/kapis20/projects/PPGworkspace/papagei-foundation-model/5459299/PPG-BP Database/Data File/0_subject/105_3.txt\n"
     ]
    },
    {
     "name": "stderr",
     "output_type": "stream",
     "text": [
      " 91%|█████████ | 598/657 [05:10<00:30,  1.96it/s]"
     ]
    },
    {
     "name": "stdout",
     "output_type": "stream",
     "text": [
      "[INFO] 0105 already exists\n",
      "Processing: 160_1\n",
      "Processing: /home/kapis20/projects/PPGworkspace/papagei-foundation-model/5459299/PPG-BP Database/Data File/0_subject/160_1.txt\n",
      "Processing: 160_2\n",
      "Processing: /home/kapis20/projects/PPGworkspace/papagei-foundation-model/5459299/PPG-BP Database/Data File/0_subject/160_2.txt\n"
     ]
    },
    {
     "name": "stderr",
     "output_type": "stream",
     "text": [
      " 91%|█████████ | 599/657 [05:11<00:28,  2.00it/s]"
     ]
    },
    {
     "name": "stdout",
     "output_type": "stream",
     "text": [
      "Processing: 160_3\n",
      "Processing: /home/kapis20/projects/PPGworkspace/papagei-foundation-model/5459299/PPG-BP Database/Data File/0_subject/160_3.txt\n",
      "[INFO] 0160 already exists\n",
      "Processing: 34_1\n",
      "Processing: /home/kapis20/projects/PPGworkspace/papagei-foundation-model/5459299/PPG-BP Database/Data File/0_subject/34_1.txt\n",
      "Processing: 34_2\n",
      "Processing: /home/kapis20/projects/PPGworkspace/papagei-foundation-model/5459299/PPG-BP Database/Data File/0_subject/34_2.txt\n",
      "Processing: 34_3\n",
      "Processing: /home/kapis20/projects/PPGworkspace/papagei-foundation-model/5459299/PPG-BP Database/Data File/0_subject/34_3.txt\n"
     ]
    },
    {
     "name": "stderr",
     "output_type": "stream",
     "text": [
      " 91%|█████████▏| 600/657 [05:11<00:27,  2.06it/s]"
     ]
    },
    {
     "name": "stdout",
     "output_type": "stream",
     "text": [
      "[INFO] 0034 already exists\n",
      "Processing: 198_1\n",
      "Processing: /home/kapis20/projects/PPGworkspace/papagei-foundation-model/5459299/PPG-BP Database/Data File/0_subject/198_1.txt\n",
      "Processing: 198_2\n",
      "Processing: /home/kapis20/projects/PPGworkspace/papagei-foundation-model/5459299/PPG-BP Database/Data File/0_subject/198_2.txt\n",
      "Processing: 198_3\n",
      "Processing: /home/kapis20/projects/PPGworkspace/papagei-foundation-model/5459299/PPG-BP Database/Data File/0_subject/198_3.txt\n"
     ]
    },
    {
     "name": "stderr",
     "output_type": "stream",
     "text": [
      " 91%|█████████▏| 601/657 [05:12<00:28,  1.94it/s]"
     ]
    },
    {
     "name": "stdout",
     "output_type": "stream",
     "text": [
      "[INFO] 0198 already exists\n",
      "Processing: 211_1\n",
      "Processing: /home/kapis20/projects/PPGworkspace/papagei-foundation-model/5459299/PPG-BP Database/Data File/0_subject/211_1.txt\n",
      "Processing: 211_2\n",
      "Processing: /home/kapis20/projects/PPGworkspace/papagei-foundation-model/5459299/PPG-BP Database/Data File/0_subject/211_2.txt\n"
     ]
    },
    {
     "name": "stderr",
     "output_type": "stream",
     "text": [
      " 92%|█████████▏| 602/657 [05:12<00:27,  2.00it/s]"
     ]
    },
    {
     "name": "stdout",
     "output_type": "stream",
     "text": [
      "Processing: 211_3\n",
      "Processing: /home/kapis20/projects/PPGworkspace/papagei-foundation-model/5459299/PPG-BP Database/Data File/0_subject/211_3.txt\n",
      "[INFO] 0211 already exists\n",
      "Processing: 213_1\n",
      "Processing: /home/kapis20/projects/PPGworkspace/papagei-foundation-model/5459299/PPG-BP Database/Data File/0_subject/213_1.txt\n",
      "Processing: 213_2\n",
      "Processing: /home/kapis20/projects/PPGworkspace/papagei-foundation-model/5459299/PPG-BP Database/Data File/0_subject/213_2.txt\n",
      "Processing: 213_3\n",
      "Processing: /home/kapis20/projects/PPGworkspace/papagei-foundation-model/5459299/PPG-BP Database/Data File/0_subject/213_3.txt\n"
     ]
    },
    {
     "name": "stderr",
     "output_type": "stream",
     "text": [
      " 92%|█████████▏| 603/657 [05:13<00:28,  1.90it/s]"
     ]
    },
    {
     "name": "stdout",
     "output_type": "stream",
     "text": [
      "[INFO] 0213 already exists\n",
      "Processing: 179_1\n",
      "Processing: /home/kapis20/projects/PPGworkspace/papagei-foundation-model/5459299/PPG-BP Database/Data File/0_subject/179_1.txt\n",
      "Processing: 179_2\n",
      "Processing: /home/kapis20/projects/PPGworkspace/papagei-foundation-model/5459299/PPG-BP Database/Data File/0_subject/179_2.txt\n"
     ]
    },
    {
     "name": "stderr",
     "output_type": "stream",
     "text": [
      " 92%|█████████▏| 604/657 [05:13<00:27,  1.96it/s]"
     ]
    },
    {
     "name": "stdout",
     "output_type": "stream",
     "text": [
      "Processing: 179_3\n",
      "Processing: /home/kapis20/projects/PPGworkspace/papagei-foundation-model/5459299/PPG-BP Database/Data File/0_subject/179_3.txt\n",
      "[INFO] 0179 already exists\n",
      "Processing: 56_1\n",
      "Processing: /home/kapis20/projects/PPGworkspace/papagei-foundation-model/5459299/PPG-BP Database/Data File/0_subject/56_1.txt\n",
      "Processing: 56_2\n",
      "Processing: /home/kapis20/projects/PPGworkspace/papagei-foundation-model/5459299/PPG-BP Database/Data File/0_subject/56_2.txt\n",
      "Processing: 56_3\n",
      "Processing: /home/kapis20/projects/PPGworkspace/papagei-foundation-model/5459299/PPG-BP Database/Data File/0_subject/56_3.txt\n"
     ]
    },
    {
     "name": "stderr",
     "output_type": "stream",
     "text": [
      " 92%|█████████▏| 605/657 [05:14<00:26,  1.99it/s]"
     ]
    },
    {
     "name": "stdout",
     "output_type": "stream",
     "text": [
      "[INFO] 0056 already exists\n",
      "Processing: 406_1\n",
      "Processing: /home/kapis20/projects/PPGworkspace/papagei-foundation-model/5459299/PPG-BP Database/Data File/0_subject/406_1.txt\n",
      "Processing: 406_2\n",
      "Processing: /home/kapis20/projects/PPGworkspace/papagei-foundation-model/5459299/PPG-BP Database/Data File/0_subject/406_2.txt\n",
      "Processing: 406_3\n",
      "Processing: /home/kapis20/projects/PPGworkspace/papagei-foundation-model/5459299/PPG-BP Database/Data File/0_subject/406_3.txt\n"
     ]
    },
    {
     "name": "stderr",
     "output_type": "stream",
     "text": [
      " 92%|█████████▏| 606/657 [05:14<00:27,  1.87it/s]"
     ]
    },
    {
     "name": "stdout",
     "output_type": "stream",
     "text": [
      "[INFO] 0406 already exists\n",
      "Processing: 404_1\n",
      "Processing: /home/kapis20/projects/PPGworkspace/papagei-foundation-model/5459299/PPG-BP Database/Data File/0_subject/404_1.txt\n",
      "Processing: 404_2\n",
      "Processing: /home/kapis20/projects/PPGworkspace/papagei-foundation-model/5459299/PPG-BP Database/Data File/0_subject/404_2.txt\n"
     ]
    },
    {
     "name": "stderr",
     "output_type": "stream",
     "text": [
      " 92%|█████████▏| 607/657 [05:15<00:25,  1.97it/s]"
     ]
    },
    {
     "name": "stdout",
     "output_type": "stream",
     "text": [
      "Processing: 404_3\n",
      "Processing: /home/kapis20/projects/PPGworkspace/papagei-foundation-model/5459299/PPG-BP Database/Data File/0_subject/404_3.txt\n",
      "[INFO] 0404 already exists\n",
      "Processing: 15_1\n",
      "Processing: /home/kapis20/projects/PPGworkspace/papagei-foundation-model/5459299/PPG-BP Database/Data File/0_subject/15_1.txt\n",
      "Processing: 15_2\n",
      "Processing: /home/kapis20/projects/PPGworkspace/papagei-foundation-model/5459299/PPG-BP Database/Data File/0_subject/15_2.txt\n",
      "Processing: 15_3\n",
      "Processing: /home/kapis20/projects/PPGworkspace/papagei-foundation-model/5459299/PPG-BP Database/Data File/0_subject/15_3.txt\n"
     ]
    },
    {
     "name": "stderr",
     "output_type": "stream",
     "text": [
      " 93%|█████████▎| 608/657 [05:16<00:28,  1.73it/s]"
     ]
    },
    {
     "name": "stdout",
     "output_type": "stream",
     "text": [
      "[INFO] 0015 already exists\n",
      "Processing: 216_1\n",
      "Processing: /home/kapis20/projects/PPGworkspace/papagei-foundation-model/5459299/PPG-BP Database/Data File/0_subject/216_1.txt\n",
      "Processing: 216_2\n",
      "Processing: /home/kapis20/projects/PPGworkspace/papagei-foundation-model/5459299/PPG-BP Database/Data File/0_subject/216_2.txt\n"
     ]
    },
    {
     "name": "stderr",
     "output_type": "stream",
     "text": [
      " 93%|█████████▎| 609/657 [05:16<00:26,  1.83it/s]"
     ]
    },
    {
     "name": "stdout",
     "output_type": "stream",
     "text": [
      "Processing: 216_3\n",
      "Processing: /home/kapis20/projects/PPGworkspace/papagei-foundation-model/5459299/PPG-BP Database/Data File/0_subject/216_3.txt\n",
      "[INFO] 0216 already exists\n",
      "Processing: 196_1\n",
      "Processing: /home/kapis20/projects/PPGworkspace/papagei-foundation-model/5459299/PPG-BP Database/Data File/0_subject/196_1.txt\n",
      "Processing: 196_2\n",
      "Processing: /home/kapis20/projects/PPGworkspace/papagei-foundation-model/5459299/PPG-BP Database/Data File/0_subject/196_2.txt\n",
      "Processing: 196_3\n",
      "Processing: /home/kapis20/projects/PPGworkspace/papagei-foundation-model/5459299/PPG-BP Database/Data File/0_subject/196_3.txt\n"
     ]
    },
    {
     "name": "stderr",
     "output_type": "stream",
     "text": [
      " 93%|█████████▎| 610/657 [05:17<00:25,  1.84it/s]"
     ]
    },
    {
     "name": "stdout",
     "output_type": "stream",
     "text": [
      "[INFO] 0196 already exists\n",
      "Processing: 221_1\n",
      "Processing: /home/kapis20/projects/PPGworkspace/papagei-foundation-model/5459299/PPG-BP Database/Data File/0_subject/221_1.txt\n",
      "Processing: 221_2\n",
      "Processing: /home/kapis20/projects/PPGworkspace/papagei-foundation-model/5459299/PPG-BP Database/Data File/0_subject/221_2.txt\n"
     ]
    },
    {
     "name": "stderr",
     "output_type": "stream",
     "text": [
      " 93%|█████████▎| 611/657 [05:17<00:24,  1.86it/s]"
     ]
    },
    {
     "name": "stdout",
     "output_type": "stream",
     "text": [
      "Processing: 221_3\n",
      "Processing: /home/kapis20/projects/PPGworkspace/papagei-foundation-model/5459299/PPG-BP Database/Data File/0_subject/221_3.txt\n",
      "[INFO] 0221 already exists\n",
      "Processing: 96_1\n",
      "Processing: /home/kapis20/projects/PPGworkspace/papagei-foundation-model/5459299/PPG-BP Database/Data File/0_subject/96_1.txt\n",
      "Processing: 96_2\n",
      "Processing: /home/kapis20/projects/PPGworkspace/papagei-foundation-model/5459299/PPG-BP Database/Data File/0_subject/96_2.txt\n",
      "Processing: 96_3\n",
      "Processing: /home/kapis20/projects/PPGworkspace/papagei-foundation-model/5459299/PPG-BP Database/Data File/0_subject/96_3.txt\n"
     ]
    },
    {
     "name": "stderr",
     "output_type": "stream",
     "text": [
      " 93%|█████████▎| 612/657 [05:18<00:25,  1.76it/s]"
     ]
    },
    {
     "name": "stdout",
     "output_type": "stream",
     "text": [
      "[INFO] 0096 already exists\n",
      "Processing: 183_1\n",
      "Processing: /home/kapis20/projects/PPGworkspace/papagei-foundation-model/5459299/PPG-BP Database/Data File/0_subject/183_1.txt\n",
      "Processing: 183_2\n",
      "Processing: /home/kapis20/projects/PPGworkspace/papagei-foundation-model/5459299/PPG-BP Database/Data File/0_subject/183_2.txt\n"
     ]
    },
    {
     "name": "stderr",
     "output_type": "stream",
     "text": [
      " 93%|█████████▎| 613/657 [05:18<00:24,  1.83it/s]"
     ]
    },
    {
     "name": "stdout",
     "output_type": "stream",
     "text": [
      "Processing: 183_3\n",
      "Processing: /home/kapis20/projects/PPGworkspace/papagei-foundation-model/5459299/PPG-BP Database/Data File/0_subject/183_3.txt\n",
      "[INFO] 0183 already exists\n",
      "Processing: 215_1\n",
      "Processing: /home/kapis20/projects/PPGworkspace/papagei-foundation-model/5459299/PPG-BP Database/Data File/0_subject/215_1.txt\n",
      "Processing: 215_2\n",
      "Processing: /home/kapis20/projects/PPGworkspace/papagei-foundation-model/5459299/PPG-BP Database/Data File/0_subject/215_2.txt\n",
      "Processing: 215_3\n",
      "Processing: /home/kapis20/projects/PPGworkspace/papagei-foundation-model/5459299/PPG-BP Database/Data File/0_subject/215_3.txt\n"
     ]
    },
    {
     "name": "stderr",
     "output_type": "stream",
     "text": [
      " 93%|█████████▎| 614/657 [05:19<00:22,  1.88it/s]"
     ]
    },
    {
     "name": "stdout",
     "output_type": "stream",
     "text": [
      "[INFO] 0215 already exists\n",
      "Processing: 89_1\n",
      "Processing: /home/kapis20/projects/PPGworkspace/papagei-foundation-model/5459299/PPG-BP Database/Data File/0_subject/89_1.txt\n",
      "Processing: 89_2\n",
      "Processing: /home/kapis20/projects/PPGworkspace/papagei-foundation-model/5459299/PPG-BP Database/Data File/0_subject/89_2.txt\n",
      "Processing: 89_3\n",
      "Processing: /home/kapis20/projects/PPGworkspace/papagei-foundation-model/5459299/PPG-BP Database/Data File/0_subject/89_3.txt\n"
     ]
    },
    {
     "name": "stderr",
     "output_type": "stream",
     "text": [
      " 94%|█████████▎| 615/657 [05:19<00:22,  1.83it/s]"
     ]
    },
    {
     "name": "stdout",
     "output_type": "stream",
     "text": [
      "[INFO] 0089 already exists\n",
      "Processing: 158_1\n",
      "Processing: /home/kapis20/projects/PPGworkspace/papagei-foundation-model/5459299/PPG-BP Database/Data File/0_subject/158_1.txt\n",
      "Processing: 158_2\n",
      "Processing: /home/kapis20/projects/PPGworkspace/papagei-foundation-model/5459299/PPG-BP Database/Data File/0_subject/158_2.txt\n"
     ]
    },
    {
     "name": "stderr",
     "output_type": "stream",
     "text": [
      " 94%|█████████▍| 616/657 [05:20<00:23,  1.76it/s]"
     ]
    },
    {
     "name": "stdout",
     "output_type": "stream",
     "text": [
      "Processing: 158_3\n",
      "Processing: /home/kapis20/projects/PPGworkspace/papagei-foundation-model/5459299/PPG-BP Database/Data File/0_subject/158_3.txt\n",
      "[INFO] 0158 already exists\n",
      "Processing: 98_1\n",
      "Processing: /home/kapis20/projects/PPGworkspace/papagei-foundation-model/5459299/PPG-BP Database/Data File/0_subject/98_1.txt\n",
      "Processing: 98_2\n",
      "Processing: /home/kapis20/projects/PPGworkspace/papagei-foundation-model/5459299/PPG-BP Database/Data File/0_subject/98_2.txt\n"
     ]
    },
    {
     "name": "stderr",
     "output_type": "stream",
     "text": [
      " 94%|█████████▍| 617/657 [05:20<00:23,  1.72it/s]"
     ]
    },
    {
     "name": "stdout",
     "output_type": "stream",
     "text": [
      "Processing: 98_3\n",
      "Processing: /home/kapis20/projects/PPGworkspace/papagei-foundation-model/5459299/PPG-BP Database/Data File/0_subject/98_3.txt\n",
      "[INFO] 0098 already exists\n",
      "Processing: 407_1\n",
      "Processing: /home/kapis20/projects/PPGworkspace/papagei-foundation-model/5459299/PPG-BP Database/Data File/0_subject/407_1.txt\n",
      "Processing: 407_2\n",
      "Processing: /home/kapis20/projects/PPGworkspace/papagei-foundation-model/5459299/PPG-BP Database/Data File/0_subject/407_2.txt\n",
      "Processing: 407_3\n",
      "Processing: /home/kapis20/projects/PPGworkspace/papagei-foundation-model/5459299/PPG-BP Database/Data File/0_subject/407_3.txt\n"
     ]
    },
    {
     "name": "stderr",
     "output_type": "stream",
     "text": [
      " 94%|█████████▍| 618/657 [05:21<00:22,  1.77it/s]"
     ]
    },
    {
     "name": "stdout",
     "output_type": "stream",
     "text": [
      "[INFO] 0407 already exists\n",
      "Processing: 90_1\n",
      "Processing: /home/kapis20/projects/PPGworkspace/papagei-foundation-model/5459299/PPG-BP Database/Data File/0_subject/90_1.txt\n",
      "Processing: 90_2\n",
      "Processing: /home/kapis20/projects/PPGworkspace/papagei-foundation-model/5459299/PPG-BP Database/Data File/0_subject/90_2.txt\n"
     ]
    },
    {
     "name": "stderr",
     "output_type": "stream",
     "text": [
      " 94%|█████████▍| 619/657 [05:22<00:20,  1.84it/s]"
     ]
    },
    {
     "name": "stdout",
     "output_type": "stream",
     "text": [
      "Processing: 90_3\n",
      "Processing: /home/kapis20/projects/PPGworkspace/papagei-foundation-model/5459299/PPG-BP Database/Data File/0_subject/90_3.txt\n",
      "[INFO] 0090 already exists\n",
      "Processing: 172_1\n",
      "Processing: /home/kapis20/projects/PPGworkspace/papagei-foundation-model/5459299/PPG-BP Database/Data File/0_subject/172_1.txt\n",
      "Processing: 172_2\n",
      "Processing: /home/kapis20/projects/PPGworkspace/papagei-foundation-model/5459299/PPG-BP Database/Data File/0_subject/172_2.txt\n",
      "Processing: 172_3\n",
      "Processing: /home/kapis20/projects/PPGworkspace/papagei-foundation-model/5459299/PPG-BP Database/Data File/0_subject/172_3.txt\n"
     ]
    },
    {
     "name": "stderr",
     "output_type": "stream",
     "text": [
      " 94%|█████████▍| 620/657 [05:22<00:20,  1.78it/s]"
     ]
    },
    {
     "name": "stdout",
     "output_type": "stream",
     "text": [
      "[INFO] 0172 already exists\n",
      "Processing: 141_1\n",
      "Processing: /home/kapis20/projects/PPGworkspace/papagei-foundation-model/5459299/PPG-BP Database/Data File/0_subject/141_1.txt\n",
      "Processing: 141_2\n",
      "Processing: /home/kapis20/projects/PPGworkspace/papagei-foundation-model/5459299/PPG-BP Database/Data File/0_subject/141_2.txt\n",
      "Processing: 141_3\n",
      "Processing: /home/kapis20/projects/PPGworkspace/papagei-foundation-model/5459299/PPG-BP Database/Data File/0_subject/141_3.txt\n"
     ]
    },
    {
     "name": "stderr",
     "output_type": "stream",
     "text": [
      " 95%|█████████▍| 621/657 [05:23<00:20,  1.78it/s]"
     ]
    },
    {
     "name": "stdout",
     "output_type": "stream",
     "text": [
      "[INFO] 0141 already exists\n",
      "Processing: 96_1\n",
      "Processing: /home/kapis20/projects/PPGworkspace/papagei-foundation-model/5459299/PPG-BP Database/Data File/0_subject/96_1.txt\n",
      "Processing: 96_2\n",
      "Processing: /home/kapis20/projects/PPGworkspace/papagei-foundation-model/5459299/PPG-BP Database/Data File/0_subject/96_2.txt\n"
     ]
    },
    {
     "name": "stderr",
     "output_type": "stream",
     "text": [
      " 95%|█████████▍| 622/657 [05:23<00:20,  1.73it/s]"
     ]
    },
    {
     "name": "stdout",
     "output_type": "stream",
     "text": [
      "Processing: 96_3\n",
      "Processing: /home/kapis20/projects/PPGworkspace/papagei-foundation-model/5459299/PPG-BP Database/Data File/0_subject/96_3.txt\n",
      "[INFO] 0096 already exists\n",
      "Processing: 221_1\n",
      "Processing: /home/kapis20/projects/PPGworkspace/papagei-foundation-model/5459299/PPG-BP Database/Data File/0_subject/221_1.txt\n",
      "Processing: 221_2\n",
      "Processing: /home/kapis20/projects/PPGworkspace/papagei-foundation-model/5459299/PPG-BP Database/Data File/0_subject/221_2.txt\n",
      "Processing: 221_3\n",
      "Processing: /home/kapis20/projects/PPGworkspace/papagei-foundation-model/5459299/PPG-BP Database/Data File/0_subject/221_3.txt\n"
     ]
    },
    {
     "name": "stderr",
     "output_type": "stream",
     "text": [
      " 95%|█████████▍| 623/657 [05:24<00:18,  1.80it/s]"
     ]
    },
    {
     "name": "stdout",
     "output_type": "stream",
     "text": [
      "[INFO] 0221 already exists\n",
      "Processing: 124_1\n",
      "Processing: /home/kapis20/projects/PPGworkspace/papagei-foundation-model/5459299/PPG-BP Database/Data File/0_subject/124_1.txt\n",
      "Processing: 124_2\n",
      "Processing: /home/kapis20/projects/PPGworkspace/papagei-foundation-model/5459299/PPG-BP Database/Data File/0_subject/124_2.txt\n"
     ]
    },
    {
     "name": "stderr",
     "output_type": "stream",
     "text": [
      " 95%|█████████▍| 624/657 [05:24<00:17,  1.86it/s]"
     ]
    },
    {
     "name": "stdout",
     "output_type": "stream",
     "text": [
      "Processing: 124_3\n",
      "Processing: /home/kapis20/projects/PPGworkspace/papagei-foundation-model/5459299/PPG-BP Database/Data File/0_subject/124_3.txt\n",
      "[INFO] 0124 already exists\n",
      "Processing: 18_1\n",
      "Processing: /home/kapis20/projects/PPGworkspace/papagei-foundation-model/5459299/PPG-BP Database/Data File/0_subject/18_1.txt\n",
      "Processing: 18_2\n",
      "Processing: /home/kapis20/projects/PPGworkspace/papagei-foundation-model/5459299/PPG-BP Database/Data File/0_subject/18_2.txt\n",
      "Processing: 18_3\n",
      "Processing: /home/kapis20/projects/PPGworkspace/papagei-foundation-model/5459299/PPG-BP Database/Data File/0_subject/18_3.txt\n"
     ]
    },
    {
     "name": "stderr",
     "output_type": "stream",
     "text": [
      " 95%|█████████▌| 625/657 [05:25<00:18,  1.77it/s]"
     ]
    },
    {
     "name": "stdout",
     "output_type": "stream",
     "text": [
      "[INFO] 0018 already exists\n",
      "Processing: 198_1\n",
      "Processing: /home/kapis20/projects/PPGworkspace/papagei-foundation-model/5459299/PPG-BP Database/Data File/0_subject/198_1.txt\n",
      "Processing: 198_2\n",
      "Processing: /home/kapis20/projects/PPGworkspace/papagei-foundation-model/5459299/PPG-BP Database/Data File/0_subject/198_2.txt\n"
     ]
    },
    {
     "name": "stderr",
     "output_type": "stream",
     "text": [
      " 95%|█████████▌| 626/657 [05:25<00:16,  1.86it/s]"
     ]
    },
    {
     "name": "stdout",
     "output_type": "stream",
     "text": [
      "Processing: 198_3\n",
      "Processing: /home/kapis20/projects/PPGworkspace/papagei-foundation-model/5459299/PPG-BP Database/Data File/0_subject/198_3.txt\n",
      "[INFO] 0198 already exists\n",
      "Processing: 205_1\n",
      "Processing: /home/kapis20/projects/PPGworkspace/papagei-foundation-model/5459299/PPG-BP Database/Data File/0_subject/205_1.txt\n",
      "Processing: 205_2\n",
      "Processing: /home/kapis20/projects/PPGworkspace/papagei-foundation-model/5459299/PPG-BP Database/Data File/0_subject/205_2.txt\n",
      "Processing: 205_3\n",
      "Processing: /home/kapis20/projects/PPGworkspace/papagei-foundation-model/5459299/PPG-BP Database/Data File/0_subject/205_3.txt\n",
      "[INFO] 0205 already exists\n",
      "Processing: 139_1\n",
      "Processing: /home/kapis20/projects/PPGworkspace/papagei-foundation-model/5459299/PPG-BP Database/Data File/0_subject/139_1.txt\n",
      "Processing: 139_2\n",
      "Processing: /home/kapis20/projects/PPGworkspace/papagei-foundation-model/5459299/PPG-BP Database/Data File/0_subject/139_2.txt\n",
      "Processing: 139_3\n",
      "Processing: /home/kapis20/projects/PPGworkspace/papagei-foundation-model/5459299/PPG-BP Database/Data File/0_subject/139_3.txt\n",
      "[INFO] 0139 already exists\n",
      "Processing: 233_1\n",
      "Processing: /home/kapis20/projects/PPGworkspace/papagei-foundation-model/5459299/PPG-BP Database/Data File/0_subject/233_1.txt\n",
      "Processing: 233_2\n",
      "Processing: /home/kapis20/projects/PPGworkspace/papagei-foundation-model/5459299/PPG-BP Database/Data File/0_subject/233_2.txt\n",
      "Processing: 233_3\n",
      "Processing: /home/kapis20/projects/PPGworkspace/papagei-foundation-model/5459299/PPG-BP Database/Data File/0_subject/233_3.txt\n"
     ]
    },
    {
     "name": "stderr",
     "output_type": "stream",
     "text": [
      " 96%|█████████▌| 629/657 [05:26<00:08,  3.25it/s]"
     ]
    },
    {
     "name": "stdout",
     "output_type": "stream",
     "text": [
      "[INFO] 0233 already exists\n",
      "Processing: 220_1\n",
      "Processing: /home/kapis20/projects/PPGworkspace/papagei-foundation-model/5459299/PPG-BP Database/Data File/0_subject/220_1.txt\n",
      "Processing: 220_2\n",
      "Processing: /home/kapis20/projects/PPGworkspace/papagei-foundation-model/5459299/PPG-BP Database/Data File/0_subject/220_2.txt\n"
     ]
    },
    {
     "name": "stderr",
     "output_type": "stream",
     "text": [
      " 96%|█████████▌| 630/657 [05:26<00:09,  2.92it/s]"
     ]
    },
    {
     "name": "stdout",
     "output_type": "stream",
     "text": [
      "Processing: 220_3\n",
      "Processing: /home/kapis20/projects/PPGworkspace/papagei-foundation-model/5459299/PPG-BP Database/Data File/0_subject/220_3.txt\n",
      "[INFO] 0220 already exists\n",
      "Processing: 244_1\n",
      "Processing: /home/kapis20/projects/PPGworkspace/papagei-foundation-model/5459299/PPG-BP Database/Data File/0_subject/244_1.txt\n",
      "Processing: 244_2\n",
      "Processing: /home/kapis20/projects/PPGworkspace/papagei-foundation-model/5459299/PPG-BP Database/Data File/0_subject/244_2.txt\n"
     ]
    },
    {
     "name": "stderr",
     "output_type": "stream",
     "text": [
      " 96%|█████████▌| 631/657 [05:27<00:10,  2.46it/s]"
     ]
    },
    {
     "name": "stdout",
     "output_type": "stream",
     "text": [
      "Processing: 244_3\n",
      "Processing: /home/kapis20/projects/PPGworkspace/papagei-foundation-model/5459299/PPG-BP Database/Data File/0_subject/244_3.txt\n",
      "[INFO] 0244 already exists\n",
      "Processing: 213_1\n",
      "Processing: /home/kapis20/projects/PPGworkspace/papagei-foundation-model/5459299/PPG-BP Database/Data File/0_subject/213_1.txt\n",
      "Processing: 213_2\n",
      "Processing: /home/kapis20/projects/PPGworkspace/papagei-foundation-model/5459299/PPG-BP Database/Data File/0_subject/213_2.txt\n",
      "Processing: 213_3\n",
      "Processing: /home/kapis20/projects/PPGworkspace/papagei-foundation-model/5459299/PPG-BP Database/Data File/0_subject/213_3.txt\n"
     ]
    },
    {
     "name": "stderr",
     "output_type": "stream",
     "text": [
      " 96%|█████████▌| 632/657 [05:27<00:10,  2.34it/s]"
     ]
    },
    {
     "name": "stdout",
     "output_type": "stream",
     "text": [
      "[INFO] 0213 already exists\n",
      "Processing: 146_1\n",
      "Processing: /home/kapis20/projects/PPGworkspace/papagei-foundation-model/5459299/PPG-BP Database/Data File/0_subject/146_1.txt\n",
      "Processing: 146_2\n",
      "Processing: /home/kapis20/projects/PPGworkspace/papagei-foundation-model/5459299/PPG-BP Database/Data File/0_subject/146_2.txt\n"
     ]
    },
    {
     "name": "stderr",
     "output_type": "stream",
     "text": [
      " 96%|█████████▋| 633/657 [05:28<00:10,  2.26it/s]"
     ]
    },
    {
     "name": "stdout",
     "output_type": "stream",
     "text": [
      "Processing: 146_3\n",
      "Processing: /home/kapis20/projects/PPGworkspace/papagei-foundation-model/5459299/PPG-BP Database/Data File/0_subject/146_3.txt\n",
      "[INFO] 0146 already exists\n",
      "Processing: 83_1\n",
      "Processing: /home/kapis20/projects/PPGworkspace/papagei-foundation-model/5459299/PPG-BP Database/Data File/0_subject/83_1.txt\n",
      "Processing: 83_2\n",
      "Processing: /home/kapis20/projects/PPGworkspace/papagei-foundation-model/5459299/PPG-BP Database/Data File/0_subject/83_2.txt\n",
      "Processing: 83_3\n",
      "Processing: /home/kapis20/projects/PPGworkspace/papagei-foundation-model/5459299/PPG-BP Database/Data File/0_subject/83_3.txt\n"
     ]
    },
    {
     "name": "stderr",
     "output_type": "stream",
     "text": [
      " 96%|█████████▋| 634/657 [05:28<00:10,  2.10it/s]"
     ]
    },
    {
     "name": "stdout",
     "output_type": "stream",
     "text": [
      "[INFO] 0083 already exists\n",
      "Processing: 91_1\n",
      "Processing: /home/kapis20/projects/PPGworkspace/papagei-foundation-model/5459299/PPG-BP Database/Data File/0_subject/91_1.txt\n",
      "Processing: 91_2\n",
      "Processing: /home/kapis20/projects/PPGworkspace/papagei-foundation-model/5459299/PPG-BP Database/Data File/0_subject/91_2.txt\n"
     ]
    },
    {
     "name": "stderr",
     "output_type": "stream",
     "text": [
      " 97%|█████████▋| 635/657 [05:29<00:10,  2.08it/s]"
     ]
    },
    {
     "name": "stdout",
     "output_type": "stream",
     "text": [
      "Processing: 91_3\n",
      "Processing: /home/kapis20/projects/PPGworkspace/papagei-foundation-model/5459299/PPG-BP Database/Data File/0_subject/91_3.txt\n",
      "[INFO] 0091 already exists\n",
      "Processing: 27_1\n",
      "Processing: /home/kapis20/projects/PPGworkspace/papagei-foundation-model/5459299/PPG-BP Database/Data File/0_subject/27_1.txt\n",
      "Processing: 27_2\n",
      "Processing: /home/kapis20/projects/PPGworkspace/papagei-foundation-model/5459299/PPG-BP Database/Data File/0_subject/27_2.txt\n",
      "Processing: 27_3\n",
      "Processing: /home/kapis20/projects/PPGworkspace/papagei-foundation-model/5459299/PPG-BP Database/Data File/0_subject/27_3.txt\n"
     ]
    },
    {
     "name": "stderr",
     "output_type": "stream",
     "text": [
      " 97%|█████████▋| 636/657 [05:29<00:10,  1.96it/s]"
     ]
    },
    {
     "name": "stdout",
     "output_type": "stream",
     "text": [
      "[INFO] 0027 already exists\n",
      "Processing: 26_1\n",
      "Processing: /home/kapis20/projects/PPGworkspace/papagei-foundation-model/5459299/PPG-BP Database/Data File/0_subject/26_1.txt\n",
      "Processing: 26_2\n",
      "Processing: /home/kapis20/projects/PPGworkspace/papagei-foundation-model/5459299/PPG-BP Database/Data File/0_subject/26_2.txt\n"
     ]
    },
    {
     "name": "stderr",
     "output_type": "stream",
     "text": [
      " 97%|█████████▋| 637/657 [05:30<00:10,  1.90it/s]"
     ]
    },
    {
     "name": "stdout",
     "output_type": "stream",
     "text": [
      "Processing: 26_3\n",
      "Processing: /home/kapis20/projects/PPGworkspace/papagei-foundation-model/5459299/PPG-BP Database/Data File/0_subject/26_3.txt\n",
      "[INFO] 0026 already exists\n",
      "Processing: 195_1\n",
      "Processing: /home/kapis20/projects/PPGworkspace/papagei-foundation-model/5459299/PPG-BP Database/Data File/0_subject/195_1.txt\n",
      "Processing: 195_2\n",
      "Processing: /home/kapis20/projects/PPGworkspace/papagei-foundation-model/5459299/PPG-BP Database/Data File/0_subject/195_2.txt\n",
      "Processing: 195_3\n",
      "Processing: /home/kapis20/projects/PPGworkspace/papagei-foundation-model/5459299/PPG-BP Database/Data File/0_subject/195_3.txt\n"
     ]
    },
    {
     "name": "stderr",
     "output_type": "stream",
     "text": [
      " 97%|█████████▋| 638/657 [05:31<00:09,  1.93it/s]"
     ]
    },
    {
     "name": "stdout",
     "output_type": "stream",
     "text": [
      "[INFO] 0195 already exists\n",
      "Processing: 188_1\n",
      "Processing: /home/kapis20/projects/PPGworkspace/papagei-foundation-model/5459299/PPG-BP Database/Data File/0_subject/188_1.txt\n",
      "Processing: 188_2\n",
      "Processing: /home/kapis20/projects/PPGworkspace/papagei-foundation-model/5459299/PPG-BP Database/Data File/0_subject/188_2.txt\n"
     ]
    },
    {
     "name": "stderr",
     "output_type": "stream",
     "text": [
      " 97%|█████████▋| 639/657 [05:31<00:09,  1.85it/s]"
     ]
    },
    {
     "name": "stdout",
     "output_type": "stream",
     "text": [
      "Processing: 188_3\n",
      "Processing: /home/kapis20/projects/PPGworkspace/papagei-foundation-model/5459299/PPG-BP Database/Data File/0_subject/188_3.txt\n",
      "[INFO] 0188 already exists\n",
      "Processing: 240_1\n",
      "Processing: /home/kapis20/projects/PPGworkspace/papagei-foundation-model/5459299/PPG-BP Database/Data File/0_subject/240_1.txt\n",
      "Processing: 240_2\n",
      "Processing: /home/kapis20/projects/PPGworkspace/papagei-foundation-model/5459299/PPG-BP Database/Data File/0_subject/240_2.txt\n",
      "Processing: 240_3\n",
      "Processing: /home/kapis20/projects/PPGworkspace/papagei-foundation-model/5459299/PPG-BP Database/Data File/0_subject/240_3.txt\n"
     ]
    },
    {
     "name": "stderr",
     "output_type": "stream",
     "text": [
      " 97%|█████████▋| 640/657 [05:32<00:09,  1.88it/s]"
     ]
    },
    {
     "name": "stdout",
     "output_type": "stream",
     "text": [
      "[INFO] 0240 already exists\n",
      "Processing: 140_1\n",
      "Processing: /home/kapis20/projects/PPGworkspace/papagei-foundation-model/5459299/PPG-BP Database/Data File/0_subject/140_1.txt\n",
      "Processing: 140_2\n",
      "Processing: /home/kapis20/projects/PPGworkspace/papagei-foundation-model/5459299/PPG-BP Database/Data File/0_subject/140_2.txt\n"
     ]
    },
    {
     "name": "stderr",
     "output_type": "stream",
     "text": [
      " 98%|█████████▊| 641/657 [05:32<00:08,  1.85it/s]"
     ]
    },
    {
     "name": "stdout",
     "output_type": "stream",
     "text": [
      "Processing: 140_3\n",
      "Processing: /home/kapis20/projects/PPGworkspace/papagei-foundation-model/5459299/PPG-BP Database/Data File/0_subject/140_3.txt\n",
      "[INFO] 0140 already exists\n",
      "Processing: 95_1\n",
      "Processing: /home/kapis20/projects/PPGworkspace/papagei-foundation-model/5459299/PPG-BP Database/Data File/0_subject/95_1.txt\n",
      "Processing: 95_2\n",
      "Processing: /home/kapis20/projects/PPGworkspace/papagei-foundation-model/5459299/PPG-BP Database/Data File/0_subject/95_2.txt\n",
      "Processing: 95_3\n",
      "Processing: /home/kapis20/projects/PPGworkspace/papagei-foundation-model/5459299/PPG-BP Database/Data File/0_subject/95_3.txt\n"
     ]
    },
    {
     "name": "stderr",
     "output_type": "stream",
     "text": [
      " 98%|█████████▊| 642/657 [05:33<00:07,  1.94it/s]"
     ]
    },
    {
     "name": "stdout",
     "output_type": "stream",
     "text": [
      "[INFO] 0095 already exists\n",
      "Processing: 226_1\n",
      "Processing: /home/kapis20/projects/PPGworkspace/papagei-foundation-model/5459299/PPG-BP Database/Data File/0_subject/226_1.txt\n",
      "Processing: 226_2\n",
      "Processing: /home/kapis20/projects/PPGworkspace/papagei-foundation-model/5459299/PPG-BP Database/Data File/0_subject/226_2.txt\n"
     ]
    },
    {
     "name": "stderr",
     "output_type": "stream",
     "text": [
      " 98%|█████████▊| 643/657 [05:33<00:07,  1.99it/s]"
     ]
    },
    {
     "name": "stdout",
     "output_type": "stream",
     "text": [
      "Processing: 226_3\n",
      "Processing: /home/kapis20/projects/PPGworkspace/papagei-foundation-model/5459299/PPG-BP Database/Data File/0_subject/226_3.txt\n",
      "[INFO] 0226 already exists\n",
      "Processing: 164_1\n",
      "Processing: /home/kapis20/projects/PPGworkspace/papagei-foundation-model/5459299/PPG-BP Database/Data File/0_subject/164_1.txt\n",
      "Processing: 164_2\n",
      "Processing: /home/kapis20/projects/PPGworkspace/papagei-foundation-model/5459299/PPG-BP Database/Data File/0_subject/164_2.txt\n",
      "Processing: 164_3\n",
      "Processing: /home/kapis20/projects/PPGworkspace/papagei-foundation-model/5459299/PPG-BP Database/Data File/0_subject/164_3.txt\n"
     ]
    },
    {
     "name": "stderr",
     "output_type": "stream",
     "text": [
      " 98%|█████████▊| 644/657 [05:34<00:06,  1.87it/s]"
     ]
    },
    {
     "name": "stdout",
     "output_type": "stream",
     "text": [
      "[INFO] 0164 already exists\n",
      "Processing: 110_1\n",
      "Processing: /home/kapis20/projects/PPGworkspace/papagei-foundation-model/5459299/PPG-BP Database/Data File/0_subject/110_1.txt\n",
      "Processing: 110_2\n",
      "Processing: /home/kapis20/projects/PPGworkspace/papagei-foundation-model/5459299/PPG-BP Database/Data File/0_subject/110_2.txt\n"
     ]
    },
    {
     "name": "stderr",
     "output_type": "stream",
     "text": [
      " 98%|█████████▊| 645/657 [05:34<00:06,  1.93it/s]"
     ]
    },
    {
     "name": "stdout",
     "output_type": "stream",
     "text": [
      "Processing: 110_3\n",
      "Processing: /home/kapis20/projects/PPGworkspace/papagei-foundation-model/5459299/PPG-BP Database/Data File/0_subject/110_3.txt\n",
      "[INFO] 0110 already exists\n",
      "Processing: 2_1\n",
      "Processing: /home/kapis20/projects/PPGworkspace/papagei-foundation-model/5459299/PPG-BP Database/Data File/0_subject/2_1.txt\n",
      "Processing: 2_2\n",
      "Processing: /home/kapis20/projects/PPGworkspace/papagei-foundation-model/5459299/PPG-BP Database/Data File/0_subject/2_2.txt\n",
      "Processing: 2_3\n",
      "Processing: /home/kapis20/projects/PPGworkspace/papagei-foundation-model/5459299/PPG-BP Database/Data File/0_subject/2_3.txt\n"
     ]
    },
    {
     "name": "stderr",
     "output_type": "stream",
     "text": [
      " 98%|█████████▊| 646/657 [05:35<00:05,  1.98it/s]"
     ]
    },
    {
     "name": "stdout",
     "output_type": "stream",
     "text": [
      "[INFO] 0002 already exists\n",
      "Processing: 406_1\n",
      "Processing: /home/kapis20/projects/PPGworkspace/papagei-foundation-model/5459299/PPG-BP Database/Data File/0_subject/406_1.txt\n",
      "Processing: 406_2\n",
      "Processing: /home/kapis20/projects/PPGworkspace/papagei-foundation-model/5459299/PPG-BP Database/Data File/0_subject/406_2.txt\n"
     ]
    },
    {
     "name": "stderr",
     "output_type": "stream",
     "text": [
      " 98%|█████████▊| 647/657 [05:35<00:04,  2.02it/s]"
     ]
    },
    {
     "name": "stdout",
     "output_type": "stream",
     "text": [
      "Processing: 406_3\n",
      "Processing: /home/kapis20/projects/PPGworkspace/papagei-foundation-model/5459299/PPG-BP Database/Data File/0_subject/406_3.txt\n",
      "[INFO] 0406 already exists\n",
      "Processing: 250_1\n",
      "Processing: /home/kapis20/projects/PPGworkspace/papagei-foundation-model/5459299/PPG-BP Database/Data File/0_subject/250_1.txt\n",
      "Processing: 250_2\n",
      "Processing: /home/kapis20/projects/PPGworkspace/papagei-foundation-model/5459299/PPG-BP Database/Data File/0_subject/250_2.txt\n",
      "Processing: 250_3\n",
      "Processing: /home/kapis20/projects/PPGworkspace/papagei-foundation-model/5459299/PPG-BP Database/Data File/0_subject/250_3.txt\n"
     ]
    },
    {
     "name": "stderr",
     "output_type": "stream",
     "text": [
      " 99%|█████████▊| 648/657 [05:36<00:04,  1.92it/s]"
     ]
    },
    {
     "name": "stdout",
     "output_type": "stream",
     "text": [
      "[INFO] 0250 already exists\n",
      "Processing: 192_1\n",
      "Processing: /home/kapis20/projects/PPGworkspace/papagei-foundation-model/5459299/PPG-BP Database/Data File/0_subject/192_1.txt\n",
      "Processing: 192_2\n",
      "Processing: /home/kapis20/projects/PPGworkspace/papagei-foundation-model/5459299/PPG-BP Database/Data File/0_subject/192_2.txt\n"
     ]
    },
    {
     "name": "stderr",
     "output_type": "stream",
     "text": [
      " 99%|█████████▉| 649/657 [05:36<00:04,  1.97it/s]"
     ]
    },
    {
     "name": "stdout",
     "output_type": "stream",
     "text": [
      "Processing: 192_3\n",
      "Processing: /home/kapis20/projects/PPGworkspace/papagei-foundation-model/5459299/PPG-BP Database/Data File/0_subject/192_3.txt\n",
      "[INFO] 0192 already exists\n",
      "Processing: 52_1\n",
      "Processing: /home/kapis20/projects/PPGworkspace/papagei-foundation-model/5459299/PPG-BP Database/Data File/0_subject/52_1.txt\n",
      "Processing: 52_2\n",
      "Processing: /home/kapis20/projects/PPGworkspace/papagei-foundation-model/5459299/PPG-BP Database/Data File/0_subject/52_2.txt\n",
      "Processing: 52_3\n",
      "Processing: /home/kapis20/projects/PPGworkspace/papagei-foundation-model/5459299/PPG-BP Database/Data File/0_subject/52_3.txt\n"
     ]
    },
    {
     "name": "stderr",
     "output_type": "stream",
     "text": [
      " 99%|█████████▉| 650/657 [05:37<00:03,  1.97it/s]"
     ]
    },
    {
     "name": "stdout",
     "output_type": "stream",
     "text": [
      "[INFO] 0052 already exists\n",
      "Processing: 166_1\n",
      "Processing: /home/kapis20/projects/PPGworkspace/papagei-foundation-model/5459299/PPG-BP Database/Data File/0_subject/166_1.txt\n",
      "Processing: 166_2\n",
      "Processing: /home/kapis20/projects/PPGworkspace/papagei-foundation-model/5459299/PPG-BP Database/Data File/0_subject/166_2.txt\n"
     ]
    },
    {
     "name": "stderr",
     "output_type": "stream",
     "text": [
      " 99%|█████████▉| 651/657 [05:37<00:03,  1.97it/s]"
     ]
    },
    {
     "name": "stdout",
     "output_type": "stream",
     "text": [
      "Processing: 166_3\n",
      "Processing: /home/kapis20/projects/PPGworkspace/papagei-foundation-model/5459299/PPG-BP Database/Data File/0_subject/166_3.txt\n",
      "[INFO] 0166 already exists\n",
      "Processing: 24_1\n",
      "Processing: /home/kapis20/projects/PPGworkspace/papagei-foundation-model/5459299/PPG-BP Database/Data File/0_subject/24_1.txt\n",
      "Processing: 24_2\n",
      "Processing: /home/kapis20/projects/PPGworkspace/papagei-foundation-model/5459299/PPG-BP Database/Data File/0_subject/24_2.txt\n",
      "Processing: 24_3\n",
      "Processing: /home/kapis20/projects/PPGworkspace/papagei-foundation-model/5459299/PPG-BP Database/Data File/0_subject/24_3.txt\n"
     ]
    },
    {
     "name": "stderr",
     "output_type": "stream",
     "text": [
      " 99%|█████████▉| 652/657 [05:38<00:02,  1.87it/s]"
     ]
    },
    {
     "name": "stdout",
     "output_type": "stream",
     "text": [
      "[INFO] 0024 already exists\n",
      "Processing: 97_1\n",
      "Processing: /home/kapis20/projects/PPGworkspace/papagei-foundation-model/5459299/PPG-BP Database/Data File/0_subject/97_1.txt\n",
      "Processing: 97_2\n",
      "Processing: /home/kapis20/projects/PPGworkspace/papagei-foundation-model/5459299/PPG-BP Database/Data File/0_subject/97_2.txt\n"
     ]
    },
    {
     "name": "stderr",
     "output_type": "stream",
     "text": [
      " 99%|█████████▉| 653/657 [05:38<00:02,  1.92it/s]"
     ]
    },
    {
     "name": "stdout",
     "output_type": "stream",
     "text": [
      "Processing: 97_3\n",
      "Processing: /home/kapis20/projects/PPGworkspace/papagei-foundation-model/5459299/PPG-BP Database/Data File/0_subject/97_3.txt\n",
      "[INFO] 0097 already exists\n",
      "Processing: 34_1\n",
      "Processing: /home/kapis20/projects/PPGworkspace/papagei-foundation-model/5459299/PPG-BP Database/Data File/0_subject/34_1.txt\n",
      "Processing: 34_2\n",
      "Processing: /home/kapis20/projects/PPGworkspace/papagei-foundation-model/5459299/PPG-BP Database/Data File/0_subject/34_2.txt\n",
      "Processing: 34_3\n",
      "Processing: /home/kapis20/projects/PPGworkspace/papagei-foundation-model/5459299/PPG-BP Database/Data File/0_subject/34_3.txt\n"
     ]
    },
    {
     "name": "stderr",
     "output_type": "stream",
     "text": [
      "100%|█████████▉| 654/657 [05:39<00:01,  1.95it/s]"
     ]
    },
    {
     "name": "stdout",
     "output_type": "stream",
     "text": [
      "[INFO] 0034 already exists\n",
      "Processing: 35_1\n",
      "Processing: /home/kapis20/projects/PPGworkspace/papagei-foundation-model/5459299/PPG-BP Database/Data File/0_subject/35_1.txt\n",
      "Processing: 35_2\n",
      "Processing: /home/kapis20/projects/PPGworkspace/papagei-foundation-model/5459299/PPG-BP Database/Data File/0_subject/35_2.txt\n"
     ]
    },
    {
     "name": "stderr",
     "output_type": "stream",
     "text": [
      "100%|█████████▉| 655/657 [05:39<00:01,  1.88it/s]"
     ]
    },
    {
     "name": "stdout",
     "output_type": "stream",
     "text": [
      "Processing: 35_3\n",
      "Processing: /home/kapis20/projects/PPGworkspace/papagei-foundation-model/5459299/PPG-BP Database/Data File/0_subject/35_3.txt\n",
      "[INFO] 0035 already exists\n",
      "Processing: 200_1\n",
      "Processing: /home/kapis20/projects/PPGworkspace/papagei-foundation-model/5459299/PPG-BP Database/Data File/0_subject/200_1.txt\n",
      "Processing: 200_2\n",
      "Processing: /home/kapis20/projects/PPGworkspace/papagei-foundation-model/5459299/PPG-BP Database/Data File/0_subject/200_2.txt\n",
      "Processing: 200_3\n",
      "Processing: /home/kapis20/projects/PPGworkspace/papagei-foundation-model/5459299/PPG-BP Database/Data File/0_subject/200_3.txt\n"
     ]
    },
    {
     "name": "stderr",
     "output_type": "stream",
     "text": [
      "100%|█████████▉| 656/657 [05:40<00:00,  1.93it/s]"
     ]
    },
    {
     "name": "stdout",
     "output_type": "stream",
     "text": [
      "[INFO] 0200 already exists\n",
      "Processing: 63_1\n",
      "Processing: /home/kapis20/projects/PPGworkspace/papagei-foundation-model/5459299/PPG-BP Database/Data File/0_subject/63_1.txt\n",
      "Processing: 63_2\n",
      "Processing: /home/kapis20/projects/PPGworkspace/papagei-foundation-model/5459299/PPG-BP Database/Data File/0_subject/63_2.txt\n"
     ]
    },
    {
     "name": "stderr",
     "output_type": "stream",
     "text": [
      "100%|██████████| 657/657 [05:40<00:00,  1.93it/s]"
     ]
    },
    {
     "name": "stdout",
     "output_type": "stream",
     "text": [
      "Processing: 63_3\n",
      "Processing: /home/kapis20/projects/PPGworkspace/papagei-foundation-model/5459299/PPG-BP Database/Data File/0_subject/63_3.txt\n",
      "[INFO] 0063 already exists\n"
     ]
    },
    {
     "name": "stderr",
     "output_type": "stream",
     "text": [
      "\n"
     ]
    }
   ],
   "source": [
    "norm = Normalize(method='z-score')\n",
    " # Build the file path correctly\n",
    "   \n",
    "for f in tqdm(filenames):\n",
    "    segments = []\n",
    "    for s in range(1, 4):\n",
    "        print(f\"Processing: {f}_{s}\")\n",
    "        file_path = os.path.join(main_dir, f\"{f}_{s}.txt\")\n",
    "        print(f\"Processing: {file_path}\")\n",
    "        #signal = pd.read_csv(f\"{file_path}{f}_{str(s)}.txt\", sep='\\t', header=None)\n",
    "        signal = pd.read_csv(file_path, sep='\\t', header=None)\n",
    "        signal = signal.values.squeeze()[:-1]\n",
    "        signal, _ = norm.apply(signal, fs=fs)\n",
    "        signal, _, _, _ = preprocess_one_ppg_signal(waveform=signal,\n",
    "                                                frequency=fs)\n",
    "        signal = resample_batch_signal(signal, fs_original=fs, fs_target=fs_target, axis=0)\n",
    "        \n",
    "        padding_needed = 1250 - len(signal)\n",
    "        pad_left = padding_needed // 2\n",
    "        pad_right = padding_needed - pad_left\n",
    "        \n",
    "        signal = np.pad(signal, pad_width=(pad_left, pad_right))\n",
    "        segments.append(signal)\n",
    "    segments = np.vstack(segments)\n",
    "    child_dir = f.zfill(4)\n",
    "    save_segments_to_directory(save_dir=ppg_dir,\n",
    "                              dir_name=child_dir,\n",
    "                              segments=segments)"
   ]
  },
  {
   "cell_type": "markdown",
   "id": "20ee0eab-9e3f-4be3-8a23-fc5f4780d988",
   "metadata": {},
   "source": [
    "#### 1. (c)"
   ]
  },
  {
   "cell_type": "code",
   "execution_count": 8,
   "id": "7f316a66-01da-488c-ad84-9e114ef79c2f",
   "metadata": {},
   "outputs": [
    {
     "name": "stdout",
     "output_type": "stream",
     "text": [
      "Contents of 'Data File': ['PPG-BP dataset.xlsx', 'train.csv', 'val.csv', 'ppg', '0_subject', 'test.csv']\n"
     ]
    }
   ],
   "source": [
    "df = df.rename(columns={\"Sex(M/F)\": \"sex\",\n",
    "                   \"Age(year)\": \"age\",\n",
    "                   \"Systolic Blood Pressure(mmHg)\": \"sysbp\",\n",
    "                   \"Diastolic Blood Pressure(mmHg)\": \"diasbp\",\n",
    "                   \"Heart Rate(b/m)\": \"hr\",\n",
    "                   \"BMI(kg/m^2)\": \"bmi\"})\n",
    "df = df.fillna(0)\n",
    "\n",
    "print(\"Contents of 'Data File':\", os.listdir(data_file_dir))"
   ]
  },
  {
   "cell_type": "code",
   "execution_count": 9,
   "id": "69802db7-99e6-43b0-bd02-d744884d013e",
   "metadata": {},
   "outputs": [
    {
     "name": "stdout",
     "output_type": "stream",
     "text": [
      "   Num.  subject_ID     sex  age  Height(cm)  Weight(kg)  sysbp  diasbp  hr  \\\n",
      "0     1           2  Female   45         152          63    161      89  97   \n",
      "2     3           6  Female   47         150          47    101      71  79   \n",
      "3     4           8    Male   45         172          65    136      93  87   \n",
      "5     6          10  Female   48         160          68    124      62  70   \n",
      "7     8          12  Female   53         160          70    108      73  84   \n",
      "\n",
      "         bmi          Hypertension Diabetes cerebral infarction  \\\n",
      "0  27.268006  Stage 2 hypertension        0                   0   \n",
      "2  20.888889                Normal        0                   0   \n",
      "3  21.971336       Prehypertension        0                   0   \n",
      "5  26.562500       Prehypertension        0                   0   \n",
      "7  27.343750                Normal        0                   0   \n",
      "\n",
      "  cerebrovascular disease  \n",
      "0                       0  \n",
      "2                       0  \n",
      "3                       0  \n",
      "5                       0  \n",
      "7                       0  \n",
      "    Num.  subject_ID     sex  age  Height(cm)  Weight(kg)  sysbp  diasbp   hr  \\\n",
      "1      2           3  Female   50         157          50    160      93   76   \n",
      "6      7          11  Female   48         153          49    126      78   84   \n",
      "18    19          24  Female   46         150          48    114      65   79   \n",
      "21    22          27    Male   51         170          70    115      64  103   \n",
      "22    23          29    Male   51         170          60    129      81   91   \n",
      "\n",
      "          bmi          Hypertension Diabetes cerebral infarction  \\\n",
      "1   20.284799  Stage 2 hypertension        0                   0   \n",
      "6   20.932120       Prehypertension        0                   0   \n",
      "18  21.333333                Normal        0                   0   \n",
      "21  24.221453                Normal        0                   0   \n",
      "22  20.761246       Prehypertension        0                   0   \n",
      "\n",
      "   cerebrovascular disease  \n",
      "1                        0  \n",
      "6                        0  \n",
      "18                       0  \n",
      "21                       0  \n",
      "22                       0  \n"
     ]
    }
   ],
   "source": [
    "# These randomly selected subject splits used in our work.\n",
    "# We hardcode them because we cannot share it as a \"data source\".\n",
    "\n",
    "train_ids = [  2,   6,   8,  10,  12,  15,  16,  17,  18,  19,  22,  23,  26,\n",
    "        31,  32,  34,  35,  38,  40,  45,  48,  50,  53,  55,  56,  58,\n",
    "        60,  61,  63,  65,  66,  83,  85,  87,  89,  92,  93,  97,  98,\n",
    "        99, 100, 104, 105, 106, 107, 112, 113, 114, 116, 120, 122, 126,\n",
    "       128, 131, 134, 135, 137, 138, 139, 140, 141, 146, 148, 149, 152,\n",
    "       153, 154, 158, 160, 162, 164, 165, 167, 169, 170, 175, 176, 179,\n",
    "       183, 184, 186, 188, 189, 190, 191, 193, 196, 197, 199, 205, 206,\n",
    "       207, 209, 210, 212, 216, 217, 218, 223, 226, 227, 230, 231, 233,\n",
    "       234, 240, 242, 243, 244, 246, 247, 248, 256, 257, 404, 407, 409,\n",
    "       412, 414, 415, 416, 417, 419]\n",
    "\n",
    "test_ids = [14,  21,  25,  51,  52,  62,  67,  86,  90,  96, 103, 108, 110,\n",
    "       119, 123, 124, 130, 142, 144, 157, 172, 173, 174, 180, 182, 185,\n",
    "       192, 195, 200, 201, 211, 214, 219, 221, 228, 239, 250, 403, 405,\n",
    "       406, 410]\n",
    "\n",
    "val_ids = [3,  11,  24,  27,  29,  30,  41,  43,  47,  64,  88,  91,  95,\n",
    "       115, 125, 127, 136, 145, 155, 156, 161, 163, 166, 178, 198, 203,\n",
    "       208, 213, 215, 222, 229, 232, 235, 237, 241, 245, 252, 254, 259,\n",
    "       411, 418]\n",
    "\n",
    "df_train = df[df.subject_ID.isin(train_ids)]\n",
    "df_val = df[df.subject_ID.isin(val_ids)]\n",
    "df_test = df[df.subject_ID.isin(test_ids)]\n",
    "# Save the CSV files in the 'Data File' folder\n",
    "df_train.to_csv(os.path.join(data_file_dir, \"train.csv\"), index=False)\n",
    "df_val.to_csv(os.path.join(data_file_dir, \"val.csv\"), index=False)\n",
    "df_test.to_csv(os.path.join(data_file_dir, \"test.csv\"), index=False)\n",
    "\n",
    "print(df_train.head())\n",
    "print(df_val.head())\n",
    "# df_train.to_csv(f\"{data_file_dir}/Data File/train.csv\", index=False)\n",
    "# df_val.to_csv(f\"{data_file_dir}/Data File/val.csv\", index=False)\n",
    "# df_test.to_csv(f\"{data_file_dir}/Data File/test.csv\", index=False)"
   ]
  },
  {
   "cell_type": "markdown",
   "id": "46389343-6c33-4927-aae3-df505988aa39",
   "metadata": {},
   "source": [
    "## 2. Extracting Features\n",
    "\n",
    "In this section, we describe how to load the *PaPaGei* model and extract embeddings.\n",
    "- **(a)**: Loading a model and extract embeddings from a single signal. This code will be most relevant to customize for your own problems.\n",
    "- **(b)**: Function to extract features from all ppg segments (batched).\n",
    "- **(c)**: Extracting *PaPaGei-S* features for PPG-BP.\n",
    "- **(d)**: Extracting *PaPaGei-S sVRI only* features for PPG-BP.\n",
    "- **(e)**: Extracting *PaPaGei-P* features for PPG-BP."
   ]
  },
  {
   "cell_type": "code",
   "execution_count": 10,
   "id": "003c8e82-ea67-41fa-958a-fd44d241b10a",
   "metadata": {},
   "outputs": [
    {
     "name": "stdout",
     "output_type": "stream",
     "text": [
      "Contents of 'ppgdir': ['PPG-BP dataset.xlsx', 'train.csv', 'val.csv', 'ppg', '0_subject', 'test.csv']\n",
      "data_file_dir is pointing to: /home/kapis20/projects/PPGworkspace/papagei-foundation-model/5459299/PPG-BP Database/Data File\n"
     ]
    }
   ],
   "source": [
    "batch_size = 256\n",
    "device = \"cuda:0\"\n",
    "case_name = \"subject_ID\"\n",
    "ppg_dir = f\"{data_file_dir}/ppg/\"\n",
    "print(\"Contents of 'ppgdir':\", os.listdir(data_file_dir))\n",
    "print(\"data_file_dir is pointing to:\", data_file_dir)\n",
    "\n",
    "\n",
    "df_train = pd.read_csv(f\"{data_file_dir}/train.csv\")\n",
    "df_val = pd.read_csv(f\"{data_file_dir}/val.csv\")\n",
    "df_test = pd.read_csv(f\"{data_file_dir}/test.csv\")\n",
    "\n",
    "df_train.loc[:, case_name] = df_train[case_name].apply(lambda x:str(x).zfill(4))\n",
    "df_val.loc[:, case_name] = df_val[case_name].apply(lambda x:str(x).zfill(4))\n",
    "df_test.loc[:, case_name] = df_test[case_name].apply(lambda x:str(x).zfill(4))\n",
    "\n",
    "dict_df = {'train': df_train, 'val': df_val, 'test': df_test}"
   ]
  },
  {
   "cell_type": "markdown",
   "id": "95e4c2de-0431-4808-93db-fdd58f054117",
   "metadata": {},
   "source": [
    "#### 2. (a) Code to load model and extract embeddings for one signal\n",
    "\n",
    "**Extend this code to extract features for your own datasets**"
   ]
  },
  {
   "cell_type": "code",
   "execution_count": null,
   "id": "de10c957-fab1-406e-9207-8f8cbe7a69b0",
   "metadata": {
    "scrolled": true
   },
   "outputs": [
    {
     "ename": "RuntimeError",
     "evalue": "Found no NVIDIA driver on your system. Please check that you have an NVIDIA GPU and installed a driver from http://www.nvidia.com/Download/index.aspx",
     "output_type": "error",
     "traceback": [
      "\u001b[0;31m---------------------------------------------------------------------------\u001b[0m",
      "\u001b[0;31mRuntimeError\u001b[0m                              Traceback (most recent call last)",
      "Cell \u001b[0;32mIn[11], line 22\u001b[0m\n\u001b[1;32m     20\u001b[0m model_path \u001b[38;5;241m=\u001b[39m \u001b[38;5;124m\"\u001b[39m\u001b[38;5;124m/home/kapis20/projects/PPGworkspace/papagei-foundation-model/weights/papagei_s.pt\u001b[39m\u001b[38;5;124m\"\u001b[39m\n\u001b[1;32m     21\u001b[0m model \u001b[38;5;241m=\u001b[39m load_model_without_module_prefix(model, model_path)\n\u001b[0;32m---> 22\u001b[0m \u001b[43mmodel\u001b[49m\u001b[38;5;241;43m.\u001b[39;49m\u001b[43mto\u001b[49m\u001b[43m(\u001b[49m\u001b[43mdevice\u001b[49m\u001b[43m)\u001b[49m\n",
      "File \u001b[0;32m~/miniconda3/envs/papagei_env/lib/python3.10/site-packages/torch/nn/modules/module.py:1343\u001b[0m, in \u001b[0;36mModule.to\u001b[0;34m(self, *args, **kwargs)\u001b[0m\n\u001b[1;32m   1340\u001b[0m         \u001b[38;5;28;01melse\u001b[39;00m:\n\u001b[1;32m   1341\u001b[0m             \u001b[38;5;28;01mraise\u001b[39;00m\n\u001b[0;32m-> 1343\u001b[0m \u001b[38;5;28;01mreturn\u001b[39;00m \u001b[38;5;28;43mself\u001b[39;49m\u001b[38;5;241;43m.\u001b[39;49m\u001b[43m_apply\u001b[49m\u001b[43m(\u001b[49m\u001b[43mconvert\u001b[49m\u001b[43m)\u001b[49m\n",
      "File \u001b[0;32m~/miniconda3/envs/papagei_env/lib/python3.10/site-packages/torch/nn/modules/module.py:903\u001b[0m, in \u001b[0;36mModule._apply\u001b[0;34m(self, fn, recurse)\u001b[0m\n\u001b[1;32m    901\u001b[0m \u001b[38;5;28;01mif\u001b[39;00m recurse:\n\u001b[1;32m    902\u001b[0m     \u001b[38;5;28;01mfor\u001b[39;00m module \u001b[38;5;129;01min\u001b[39;00m \u001b[38;5;28mself\u001b[39m\u001b[38;5;241m.\u001b[39mchildren():\n\u001b[0;32m--> 903\u001b[0m         \u001b[43mmodule\u001b[49m\u001b[38;5;241;43m.\u001b[39;49m\u001b[43m_apply\u001b[49m\u001b[43m(\u001b[49m\u001b[43mfn\u001b[49m\u001b[43m)\u001b[49m\n\u001b[1;32m    905\u001b[0m \u001b[38;5;28;01mdef\u001b[39;00m \u001b[38;5;21mcompute_should_use_set_data\u001b[39m(tensor, tensor_applied):\n\u001b[1;32m    906\u001b[0m     \u001b[38;5;28;01mif\u001b[39;00m torch\u001b[38;5;241m.\u001b[39m_has_compatible_shallow_copy_type(tensor, tensor_applied):\n\u001b[1;32m    907\u001b[0m         \u001b[38;5;66;03m# If the new tensor has compatible tensor type as the existing tensor,\u001b[39;00m\n\u001b[1;32m    908\u001b[0m         \u001b[38;5;66;03m# the current behavior is to change the tensor in-place using `.data =`,\u001b[39;00m\n\u001b[0;32m   (...)\u001b[0m\n\u001b[1;32m    913\u001b[0m         \u001b[38;5;66;03m# global flag to let the user control whether they want the future\u001b[39;00m\n\u001b[1;32m    914\u001b[0m         \u001b[38;5;66;03m# behavior of overwriting the existing tensor or not.\u001b[39;00m\n",
      "File \u001b[0;32m~/miniconda3/envs/papagei_env/lib/python3.10/site-packages/torch/nn/modules/module.py:903\u001b[0m, in \u001b[0;36mModule._apply\u001b[0;34m(self, fn, recurse)\u001b[0m\n\u001b[1;32m    901\u001b[0m \u001b[38;5;28;01mif\u001b[39;00m recurse:\n\u001b[1;32m    902\u001b[0m     \u001b[38;5;28;01mfor\u001b[39;00m module \u001b[38;5;129;01min\u001b[39;00m \u001b[38;5;28mself\u001b[39m\u001b[38;5;241m.\u001b[39mchildren():\n\u001b[0;32m--> 903\u001b[0m         \u001b[43mmodule\u001b[49m\u001b[38;5;241;43m.\u001b[39;49m\u001b[43m_apply\u001b[49m\u001b[43m(\u001b[49m\u001b[43mfn\u001b[49m\u001b[43m)\u001b[49m\n\u001b[1;32m    905\u001b[0m \u001b[38;5;28;01mdef\u001b[39;00m \u001b[38;5;21mcompute_should_use_set_data\u001b[39m(tensor, tensor_applied):\n\u001b[1;32m    906\u001b[0m     \u001b[38;5;28;01mif\u001b[39;00m torch\u001b[38;5;241m.\u001b[39m_has_compatible_shallow_copy_type(tensor, tensor_applied):\n\u001b[1;32m    907\u001b[0m         \u001b[38;5;66;03m# If the new tensor has compatible tensor type as the existing tensor,\u001b[39;00m\n\u001b[1;32m    908\u001b[0m         \u001b[38;5;66;03m# the current behavior is to change the tensor in-place using `.data =`,\u001b[39;00m\n\u001b[0;32m   (...)\u001b[0m\n\u001b[1;32m    913\u001b[0m         \u001b[38;5;66;03m# global flag to let the user control whether they want the future\u001b[39;00m\n\u001b[1;32m    914\u001b[0m         \u001b[38;5;66;03m# behavior of overwriting the existing tensor or not.\u001b[39;00m\n",
      "File \u001b[0;32m~/miniconda3/envs/papagei_env/lib/python3.10/site-packages/torch/nn/modules/module.py:930\u001b[0m, in \u001b[0;36mModule._apply\u001b[0;34m(self, fn, recurse)\u001b[0m\n\u001b[1;32m    926\u001b[0m \u001b[38;5;66;03m# Tensors stored in modules are graph leaves, and we don't want to\u001b[39;00m\n\u001b[1;32m    927\u001b[0m \u001b[38;5;66;03m# track autograd history of `param_applied`, so we have to use\u001b[39;00m\n\u001b[1;32m    928\u001b[0m \u001b[38;5;66;03m# `with torch.no_grad():`\u001b[39;00m\n\u001b[1;32m    929\u001b[0m \u001b[38;5;28;01mwith\u001b[39;00m torch\u001b[38;5;241m.\u001b[39mno_grad():\n\u001b[0;32m--> 930\u001b[0m     param_applied \u001b[38;5;241m=\u001b[39m \u001b[43mfn\u001b[49m\u001b[43m(\u001b[49m\u001b[43mparam\u001b[49m\u001b[43m)\u001b[49m\n\u001b[1;32m    931\u001b[0m p_should_use_set_data \u001b[38;5;241m=\u001b[39m compute_should_use_set_data(param, param_applied)\n\u001b[1;32m    933\u001b[0m \u001b[38;5;66;03m# subclasses may have multiple child tensors so we need to use swap_tensors\u001b[39;00m\n",
      "File \u001b[0;32m~/miniconda3/envs/papagei_env/lib/python3.10/site-packages/torch/nn/modules/module.py:1329\u001b[0m, in \u001b[0;36mModule.to.<locals>.convert\u001b[0;34m(t)\u001b[0m\n\u001b[1;32m   1322\u001b[0m     \u001b[38;5;28;01mif\u001b[39;00m convert_to_format \u001b[38;5;129;01mis\u001b[39;00m \u001b[38;5;129;01mnot\u001b[39;00m \u001b[38;5;28;01mNone\u001b[39;00m \u001b[38;5;129;01mand\u001b[39;00m t\u001b[38;5;241m.\u001b[39mdim() \u001b[38;5;129;01min\u001b[39;00m (\u001b[38;5;241m4\u001b[39m, \u001b[38;5;241m5\u001b[39m):\n\u001b[1;32m   1323\u001b[0m         \u001b[38;5;28;01mreturn\u001b[39;00m t\u001b[38;5;241m.\u001b[39mto(\n\u001b[1;32m   1324\u001b[0m             device,\n\u001b[1;32m   1325\u001b[0m             dtype \u001b[38;5;28;01mif\u001b[39;00m t\u001b[38;5;241m.\u001b[39mis_floating_point() \u001b[38;5;129;01mor\u001b[39;00m t\u001b[38;5;241m.\u001b[39mis_complex() \u001b[38;5;28;01melse\u001b[39;00m \u001b[38;5;28;01mNone\u001b[39;00m,\n\u001b[1;32m   1326\u001b[0m             non_blocking,\n\u001b[1;32m   1327\u001b[0m             memory_format\u001b[38;5;241m=\u001b[39mconvert_to_format,\n\u001b[1;32m   1328\u001b[0m         )\n\u001b[0;32m-> 1329\u001b[0m     \u001b[38;5;28;01mreturn\u001b[39;00m \u001b[43mt\u001b[49m\u001b[38;5;241;43m.\u001b[39;49m\u001b[43mto\u001b[49m\u001b[43m(\u001b[49m\n\u001b[1;32m   1330\u001b[0m \u001b[43m        \u001b[49m\u001b[43mdevice\u001b[49m\u001b[43m,\u001b[49m\n\u001b[1;32m   1331\u001b[0m \u001b[43m        \u001b[49m\u001b[43mdtype\u001b[49m\u001b[43m \u001b[49m\u001b[38;5;28;43;01mif\u001b[39;49;00m\u001b[43m \u001b[49m\u001b[43mt\u001b[49m\u001b[38;5;241;43m.\u001b[39;49m\u001b[43mis_floating_point\u001b[49m\u001b[43m(\u001b[49m\u001b[43m)\u001b[49m\u001b[43m \u001b[49m\u001b[38;5;129;43;01mor\u001b[39;49;00m\u001b[43m \u001b[49m\u001b[43mt\u001b[49m\u001b[38;5;241;43m.\u001b[39;49m\u001b[43mis_complex\u001b[49m\u001b[43m(\u001b[49m\u001b[43m)\u001b[49m\u001b[43m \u001b[49m\u001b[38;5;28;43;01melse\u001b[39;49;00m\u001b[43m \u001b[49m\u001b[38;5;28;43;01mNone\u001b[39;49;00m\u001b[43m,\u001b[49m\n\u001b[1;32m   1332\u001b[0m \u001b[43m        \u001b[49m\u001b[43mnon_blocking\u001b[49m\u001b[43m,\u001b[49m\n\u001b[1;32m   1333\u001b[0m \u001b[43m    \u001b[49m\u001b[43m)\u001b[49m\n\u001b[1;32m   1334\u001b[0m \u001b[38;5;28;01mexcept\u001b[39;00m \u001b[38;5;167;01mNotImplementedError\u001b[39;00m \u001b[38;5;28;01mas\u001b[39;00m e:\n\u001b[1;32m   1335\u001b[0m     \u001b[38;5;28;01mif\u001b[39;00m \u001b[38;5;28mstr\u001b[39m(e) \u001b[38;5;241m==\u001b[39m \u001b[38;5;124m\"\u001b[39m\u001b[38;5;124mCannot copy out of meta tensor; no data!\u001b[39m\u001b[38;5;124m\"\u001b[39m:\n",
      "File \u001b[0;32m~/miniconda3/envs/papagei_env/lib/python3.10/site-packages/torch/cuda/__init__.py:319\u001b[0m, in \u001b[0;36m_lazy_init\u001b[0;34m()\u001b[0m\n\u001b[1;32m    317\u001b[0m \u001b[38;5;28;01mif\u001b[39;00m \u001b[38;5;124m\"\u001b[39m\u001b[38;5;124mCUDA_MODULE_LOADING\u001b[39m\u001b[38;5;124m\"\u001b[39m \u001b[38;5;129;01mnot\u001b[39;00m \u001b[38;5;129;01min\u001b[39;00m os\u001b[38;5;241m.\u001b[39menviron:\n\u001b[1;32m    318\u001b[0m     os\u001b[38;5;241m.\u001b[39menviron[\u001b[38;5;124m\"\u001b[39m\u001b[38;5;124mCUDA_MODULE_LOADING\u001b[39m\u001b[38;5;124m\"\u001b[39m] \u001b[38;5;241m=\u001b[39m \u001b[38;5;124m\"\u001b[39m\u001b[38;5;124mLAZY\u001b[39m\u001b[38;5;124m\"\u001b[39m\n\u001b[0;32m--> 319\u001b[0m \u001b[43mtorch\u001b[49m\u001b[38;5;241;43m.\u001b[39;49m\u001b[43m_C\u001b[49m\u001b[38;5;241;43m.\u001b[39;49m\u001b[43m_cuda_init\u001b[49m\u001b[43m(\u001b[49m\u001b[43m)\u001b[49m\n\u001b[1;32m    320\u001b[0m \u001b[38;5;66;03m# Some of the queued calls may reentrantly call _lazy_init();\u001b[39;00m\n\u001b[1;32m    321\u001b[0m \u001b[38;5;66;03m# we need to just return without initializing in that case.\u001b[39;00m\n\u001b[1;32m    322\u001b[0m \u001b[38;5;66;03m# However, we must not let any *other* threads in!\u001b[39;00m\n\u001b[1;32m    323\u001b[0m _tls\u001b[38;5;241m.\u001b[39mis_initializing \u001b[38;5;241m=\u001b[39m \u001b[38;5;28;01mTrue\u001b[39;00m\n",
      "\u001b[0;31mRuntimeError\u001b[0m: Found no NVIDIA driver on your system. Please check that you have an NVIDIA GPU and installed a driver from http://www.nvidia.com/Download/index.aspx"
     ]
    }
   ],
   "source": [
    "\n",
    "# Set device to GPU if available, otherwise CPU\n",
    "device = torch.device(\"cuda:0\" if torch.cuda.is_available() else \"cpu\")\n",
    "print(\"Using device:\", device)\n",
    "\n",
    "model_config = {'base_filters': 32,\n",
    "            'kernel_size': 3,\n",
    "            'stride': 2,\n",
    "            'groups': 1,\n",
    "            'n_block': 18,\n",
    "            'n_classes': 512,\n",
    "            'n_experts': 3\n",
    "            }\n",
    "\n",
    "model = ResNet1DMoE(in_channels=1, \n",
    "            base_filters=model_config['base_filters'], \n",
    "            kernel_size=model_config['kernel_size'],\n",
    "            stride=model_config['stride'],\n",
    "            groups=model_config['groups'],\n",
    "            n_block=model_config['n_block'],\n",
    "            n_classes=model_config['n_classes'],\n",
    "            n_experts=model_config['n_experts'])\n",
    "\n",
    "# model_path = \"weights/papagei_s.pt\"\n",
    "model_path = \"/home/kapis20/projects/PPGworkspace/papagei-foundation-model/weights/papagei_s.pt\"\n",
    "model = load_model_without_module_prefix(model, model_path)\n",
    "model.to(device)\n",
    "\n",
    "## The checkpoint was saved with CUDA tensors and I am not using GPU, as I don' have one. "
   ]
  },
  {
   "cell_type": "code",
   "execution_count": null,
   "id": "713bdbb3-d5ec-4286-9974-9b18592e1718",
   "metadata": {},
   "outputs": [],
   "source": [
    "# load a signal\n",
    "# note that that signal is already resampled and normalized\n",
    "signal = joblib.load(os.path.join(ppg_dir, '0002', '0.p'))\n",
    "signal = torch.Tensor(signal)\n",
    "signal = signal[None, :].unsqueeze(dim=0)\n",
    "print(f\"PPG dimensions before inference : {signal.shape}\")\n",
    "\n",
    "model.eval()\n",
    "with torch.inference_mode():\n",
    "    signal = signal.to(device)\n",
    "    outputs = model(signal)\n",
    "    embeddings = outputs[0].cpu().detach().numpy()\n",
    "print(f\"Embedding dimensions : {embeddings.shape}\")"
   ]
  },
  {
   "cell_type": "markdown",
   "id": "cffc787b-7c00-45bd-8540-00ce49a465f8",
   "metadata": {},
   "source": [
    "#### 2. (b) Extracting features for all ppg data and saving them for downstream use"
   ]
  },
  {
   "cell_type": "code",
   "execution_count": null,
   "id": "d59ffe52-064e-4da1-8ce7-5ed7ea0c097f",
   "metadata": {
    "scrolled": true
   },
   "outputs": [],
   "source": [
    "def extract_features_and_save(model, ppg_dir, batch_size, device, output_idx, resample, normalize, fs, fs_target, content):\n",
    "    \"\"\"\n",
    "    Function to extract features and save them\n",
    "    \"\"\"\n",
    "    for split in ['train', 'val', 'test']:\n",
    "        # Choose one split at a time\n",
    "        df = dict_df[split]\n",
    "        save_dir = f\"{download_dir}/features\"\n",
    "\n",
    "        # Creating require directory structure and names\n",
    "        if not os.path.exists(f\"{save_dir}\"):\n",
    "            os.mkdir(f\"{save_dir}\")\n",
    "        \n",
    "        model_name = model_path.split(\"/\")[-1].split(\".pt\")[0]\n",
    "        if not os.path.exists(f\"{save_dir}/{model_name}\"):\n",
    "            os.mkdir(f\"{save_dir}/{model_name}\")\n",
    "        split_dir = f\"{save_dir}/{model_name}/{split}/\"\n",
    "        \n",
    "        child_dirs = np.unique(df[case_name].values)\n",
    "\n",
    "        # Function that extracts and saves embeddings\n",
    "        save_embeddings(path=ppg_dir,\n",
    "                        child_dirs=child_dirs, \n",
    "                        save_dir=split_dir, \n",
    "                        model=model, \n",
    "                        batch_size=batch_size, \n",
    "                        device=device, \n",
    "                        output_idx=output_idx,\n",
    "                        resample=resample, \n",
    "                        normalize=normalize, \n",
    "                        fs=fs, \n",
    "                        fs_target=fs_target)\n",
    "        \n",
    "        # Compile the extracted embeddings at the patient or segment level adn save it               \n",
    "        dict_feat = segment_avg_to_dict(split_dir, content)\n",
    "        joblib.dump(dict_feat, f\"{save_dir}/{model_name}/dict_{split}_{content}.p\")"
   ]
  },
  {
   "cell_type": "markdown",
   "id": "39ca9253-fa95-4eac-8812-973a2093b226",
   "metadata": {},
   "source": [
    "#### 2. (c) Extraction: PaPaGei-S"
   ]
  },
  {
   "cell_type": "code",
   "execution_count": null,
   "id": "7d5b2ead-b54d-40dc-9413-7bff9d8848e4",
   "metadata": {},
   "outputs": [],
   "source": [
    "model_config = {'base_filters': 32,\n",
    "            'kernel_size': 3,\n",
    "            'stride': 2,\n",
    "            'groups': 1,\n",
    "            'n_block': 18,\n",
    "            'n_classes': 512,\n",
    "            'n_experts': 3\n",
    "            }\n",
    "\n",
    "model = ResNet1DMoE(in_channels=1, \n",
    "            base_filters=model_config['base_filters'], \n",
    "            kernel_size=model_config['kernel_size'],\n",
    "            stride=model_config['stride'],\n",
    "            groups=model_config['groups'],\n",
    "            n_block=model_config['n_block'],\n",
    "            n_classes=model_config['n_classes'],\n",
    "            n_experts=model_config['n_experts'])\n",
    "\n",
    "model_path = \"weights/papagei_s.pt\"\n",
    "model = load_model_without_module_prefix(model, model_path)\n",
    "model.to(device)"
   ]
  },
  {
   "cell_type": "code",
   "execution_count": null,
   "id": "dbf9325d-58bc-44b0-ba25-0b210f52f940",
   "metadata": {
    "scrolled": true
   },
   "outputs": [],
   "source": [
    "extract_features_and_save(model=model,\n",
    "                         ppg_dir=ppg_dir,\n",
    "                         batch_size=batch_size,\n",
    "                         device=device,\n",
    "                         output_idx=0,\n",
    "                         resample=False,\n",
    "                         normalize=False,\n",
    "                         fs=125,\n",
    "                         fs_target=125,\n",
    "                         content=\"patient\"\n",
    "                         )"
   ]
  },
  {
   "cell_type": "markdown",
   "id": "17387f1c-1e62-4dc4-9cca-bfedef5b57e6",
   "metadata": {},
   "source": [
    "#### 2. (d) Extraction: PaPaGei-S sVRI only"
   ]
  },
  {
   "cell_type": "code",
   "execution_count": null,
   "id": "156e724d-a645-4973-b821-21fb2d7df7df",
   "metadata": {
    "scrolled": true
   },
   "outputs": [],
   "source": [
    "model_config = {'base_filters': 32,\n",
    "        'kernel_size': 3,\n",
    "        'stride': 2,\n",
    "        'groups': 1,\n",
    "        'n_block': 18,\n",
    "        'n_classes': 512,\n",
    "        }\n",
    "\n",
    "model = ResNet1D(in_channels=1, \n",
    "            base_filters=model_config['base_filters'], \n",
    "            kernel_size=model_config['kernel_size'],\n",
    "            stride=model_config['stride'],\n",
    "            groups=model_config['groups'],\n",
    "            n_block=model_config['n_block'],\n",
    "            n_classes=model_config['n_classes'],\n",
    "            use_mt_regression=False,\n",
    "            use_projection=False)\n",
    "\n",
    "model_path = \"weights/papagei_s_svri.pt\"\n",
    "model = load_model_without_module_prefix(model, model_path)\n",
    "model.to(device)"
   ]
  },
  {
   "cell_type": "code",
   "execution_count": null,
   "id": "c4536363-acd8-4d1b-aa66-5bfa410b365a",
   "metadata": {
    "scrolled": true
   },
   "outputs": [],
   "source": [
    "extract_features_and_save(model=model,\n",
    "                         ppg_dir=ppg_dir,\n",
    "                         batch_size=batch_size,\n",
    "                         device=device,\n",
    "                         output_idx=0,\n",
    "                         resample=False,\n",
    "                         normalize=False,\n",
    "                         fs=125,\n",
    "                         fs_target=125,\n",
    "                         content=\"patient\"\n",
    "                         )"
   ]
  },
  {
   "cell_type": "markdown",
   "id": "0059424f-262a-4f6e-a14a-7a7294fbd9db",
   "metadata": {},
   "source": [
    "#### 2. (e) Extraction: PaPaGei-P"
   ]
  },
  {
   "cell_type": "code",
   "execution_count": null,
   "id": "e765facc-55ce-442a-b46c-05811e759e8b",
   "metadata": {
    "scrolled": true
   },
   "outputs": [],
   "source": [
    "model_config = {'base_filters': 32,\n",
    "                'kernel_size': 3,\n",
    "                'stride': 2,\n",
    "                'groups': 1,\n",
    "                'n_block': 18,\n",
    "                'n_classes': 512,\n",
    "                }\n",
    "\n",
    "model = ResNet1D(in_channels=1, \n",
    "            base_filters=model_config['base_filters'], \n",
    "            kernel_size=model_config['kernel_size'],\n",
    "            stride=model_config['stride'],\n",
    "            groups=model_config['groups'],\n",
    "            n_block=model_config['n_block'],\n",
    "            n_classes=model_config['n_classes'])\n",
    "\n",
    "model_path = \"weights/papagei_p.pt\"\n",
    "model = load_model_without_module_prefix(model, model_path)\n",
    "model.to(device)"
   ]
  },
  {
   "cell_type": "code",
   "execution_count": null,
   "id": "1d599e08-f2f7-4387-a0ad-b42aa1095527",
   "metadata": {
    "scrolled": true
   },
   "outputs": [],
   "source": [
    "extract_features_and_save(model=model,\n",
    "                         ppg_dir=ppg_dir,\n",
    "                         batch_size=batch_size,\n",
    "                         device=device,\n",
    "                         output_idx=0,\n",
    "                         resample=False,\n",
    "                         normalize=False,\n",
    "                         fs=125,\n",
    "                         fs_target=125,\n",
    "                         content=\"patient\"\n",
    "                         )"
   ]
  },
  {
   "cell_type": "markdown",
   "id": "875d96a2-697a-4715-a903-6a75358cd10b",
   "metadata": {},
   "source": [
    "## 3. Linear Evaluation\n",
    "\n",
    "In this section, we use the extracted embeddings to predict diastolic BP, systolic BP, and Average HR."
   ]
  },
  {
   "cell_type": "code",
   "execution_count": null,
   "id": "a0b24f3d-aea1-4b5a-80d8-9bb5a2fc79c2",
   "metadata": {},
   "outputs": [],
   "source": [
    "from sklearn.linear_model import Ridge\n",
    "from sklearn.ensemble import RandomForestRegressor\n",
    "from sklearn.metrics import mean_absolute_error"
   ]
  },
  {
   "cell_type": "code",
   "execution_count": null,
   "id": "6d730665-3a68-4ba6-9609-b684f0c4cb75",
   "metadata": {},
   "outputs": [],
   "source": [
    "save_dir = f\"{download_dir}/features/\"\n",
    "df_train = pd.read_csv(f\"{download_dir}/Data File/train.csv\")\n",
    "df_val = pd.read_csv(f\"{download_dir}/Data File/val.csv\")\n",
    "df_test = pd.read_csv(f\"{download_dir}/Data File/test.csv\")\n",
    "\n",
    "df_train.loc[:, case_name] = df_train[case_name].apply(lambda x:str(x).zfill(4))\n",
    "df_val.loc[:, case_name] = df_val[case_name].apply(lambda x:str(x).zfill(4))\n",
    "df_test.loc[:, case_name] = df_test[case_name].apply(lambda x:str(x).zfill(4))\n",
    "                                                                          \n",
    "case_name = \"subject_ID\""
   ]
  },
  {
   "cell_type": "code",
   "execution_count": null,
   "id": "df175df6-089a-4587-8540-8139f5b1386e",
   "metadata": {},
   "outputs": [],
   "source": [
    "def regression(save_dir, model_name, content, df_train, df_val, df_test, case_name, label):\n",
    "    \n",
    "    dict_train = joblib.load(f\"{save_dir}/{model_name}/dict_train_{content}.p\")\n",
    "    dict_val = joblib.load(f\"{save_dir}/{model_name}/dict_val_{content}.p\")\n",
    "    dict_test = joblib.load(f\"{save_dir}/{model_name}/dict_test_{content}.p\")\n",
    "    \n",
    "    X_train, y_train, _ = get_data_for_ml(df=df_train,\n",
    "                                     dict_embeddings=dict_train,\n",
    "                                     case_name=case_name,\n",
    "                                     label=label)\n",
    "\n",
    "    X_val, y_val, _ = get_data_for_ml(df=df_val,\n",
    "                                         dict_embeddings=dict_val,\n",
    "                                         case_name=case_name,\n",
    "                                         label=label)\n",
    "    \n",
    "    X_test, y_test, _ = get_data_for_ml(df=df_test,\n",
    "                                         dict_embeddings=dict_test,\n",
    "                                         case_name=case_name,\n",
    "                                         label=label)\n",
    "    \n",
    "    X_test = np.concatenate((X_test, X_val))\n",
    "    y_test = np.concatenate((y_test, y_val))\n",
    "\n",
    "    estimator = Ridge()\n",
    "    param_grid = {\n",
    "        'alpha': [0.1, 1.0, 10.0, 100.0, 1000.0],  # Regularization strength\n",
    "        'solver': ['auto', 'cholesky', 'sparse_cg']  # Solver to use in the computational routines\n",
    "    }\n",
    "    \n",
    "    results = regression_model(estimator=estimator,\n",
    "                param_grid=param_grid,\n",
    "                X_train=X_train,\n",
    "                y_train=y_train,\n",
    "                X_test=X_test,\n",
    "                y_test=y_test)\n",
    "    return results"
   ]
  },
  {
   "cell_type": "code",
   "execution_count": null,
   "id": "dd11f74a-74cc-4f98-a365-0a79c73919d7",
   "metadata": {
    "scrolled": true
   },
   "outputs": [],
   "source": [
    "results_papagei_s = regression(save_dir=save_dir,\n",
    "                                    model_name='papagei_s',\n",
    "                                    content=\"patient\",\n",
    "                                    df_train=df_train,\n",
    "                                    df_val=df_val,\n",
    "                                    df_test=df_test,\n",
    "                                    case_name=case_name,\n",
    "                                    label=\"diasbp\")\n",
    "\n",
    "results_papagei_svri = regression(save_dir=save_dir,\n",
    "                                    model_name='papagei_s_svri',\n",
    "                                    content=\"patient\",\n",
    "                                    df_train=df_train,\n",
    "                                    df_val=df_val,\n",
    "                                    df_test=df_test,\n",
    "                                    case_name=case_name,\n",
    "                                    label=\"hr\")\n",
    "\n",
    "results_papagei_p = regression(save_dir=save_dir,\n",
    "                                    model_name='papagei_p',\n",
    "                                    content=\"patient\",\n",
    "                                    df_train=df_train,\n",
    "                                    df_val=df_val,\n",
    "                                    df_test=df_test,\n",
    "                                    case_name=case_name,\n",
    "                                    label=\"sysbp\")"
   ]
  },
  {
   "cell_type": "code",
   "execution_count": null,
   "id": "1dedb1ab-fef8-42b2-ad07-ecf7f2b9997f",
   "metadata": {
    "scrolled": true
   },
   "outputs": [],
   "source": [
    "print(f\"PaPaGei-S Diastolic BP MAE: {results_papagei_s['mae']}\")\n",
    "print(f\"PaPaGei-S sVRI HR MAE: {results_papagei_svri['mae']}\")\n",
    "print(f\"PaPaGei-P Systolic BP MAE: {results_papagei_p['mae']}\")"
   ]
  },
  {
   "cell_type": "code",
   "execution_count": null,
   "id": "d6cc6b65-f356-4e01-a25d-f3d4d874e4d4",
   "metadata": {},
   "outputs": [],
   "source": []
  }
 ],
 "metadata": {
  "kernelspec": {
   "display_name": "papagei_env",
   "language": "python",
   "name": "python3"
  },
  "language_info": {
   "codemirror_mode": {
    "name": "ipython",
    "version": 3
   },
   "file_extension": ".py",
   "mimetype": "text/x-python",
   "name": "python",
   "nbconvert_exporter": "python",
   "pygments_lexer": "ipython3",
   "version": "3.10.16"
  }
 },
 "nbformat": 4,
 "nbformat_minor": 5
}
