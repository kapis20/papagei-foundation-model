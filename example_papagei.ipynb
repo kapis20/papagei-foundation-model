{
 "cells": [
  {
   "cell_type": "code",
   "execution_count": 1,
   "id": "420ac8ca-113b-4626-ae9e-3f594bca7b22",
   "metadata": {},
   "outputs": [
    {
     "name": "stdout",
     "output_type": "stream",
     "text": [
      "Requirement already satisfied: dotmap in /home/kapis20/miniconda3/envs/papagei_env/lib/python3.10/site-packages (1.3.30)\n",
      "\n",
      "\u001b[1m[\u001b[0m\u001b[34;49mnotice\u001b[0m\u001b[1;39;49m]\u001b[0m\u001b[39;49m A new release of pip is available: \u001b[0m\u001b[31;49m21.3.1\u001b[0m\u001b[39;49m -> \u001b[0m\u001b[32;49m25.0.1\u001b[0m\n",
      "\u001b[1m[\u001b[0m\u001b[34;49mnotice\u001b[0m\u001b[1;39;49m]\u001b[0m\u001b[39;49m To update, run: \u001b[0m\u001b[32;49mpip install --upgrade pip\u001b[0m\n",
      "Requirement already satisfied: vitaldb in /home/kapis20/miniconda3/envs/papagei_env/lib/python3.10/site-packages (1.4.11)\n",
      "Requirement already satisfied: numpy in /home/kapis20/miniconda3/envs/papagei_env/lib/python3.10/site-packages (from vitaldb) (1.23.2)\n",
      "Requirement already satisfied: pandas in /home/kapis20/miniconda3/envs/papagei_env/lib/python3.10/site-packages (from vitaldb) (1.4.4)\n",
      "Requirement already satisfied: requests in /home/kapis20/miniconda3/envs/papagei_env/lib/python3.10/site-packages (from vitaldb) (2.28.1)\n",
      "Requirement already satisfied: wfdb in /home/kapis20/miniconda3/envs/papagei_env/lib/python3.10/site-packages (from vitaldb) (3.4.0)\n",
      "Requirement already satisfied: python-dateutil>=2.8.1 in /home/kapis20/miniconda3/envs/papagei_env/lib/python3.10/site-packages (from pandas->vitaldb) (2.8.2)\n",
      "Requirement already satisfied: pytz>=2020.1 in /home/kapis20/miniconda3/envs/papagei_env/lib/python3.10/site-packages (from pandas->vitaldb) (2022.4)\n",
      "Requirement already satisfied: charset-normalizer<3,>=2 in /home/kapis20/miniconda3/envs/papagei_env/lib/python3.10/site-packages (from requests->vitaldb) (2.1.1)\n",
      "Requirement already satisfied: idna<4,>=2.5 in /home/kapis20/miniconda3/envs/papagei_env/lib/python3.10/site-packages (from requests->vitaldb) (3.4)\n",
      "Requirement already satisfied: urllib3<1.27,>=1.21.1 in /home/kapis20/miniconda3/envs/papagei_env/lib/python3.10/site-packages (from requests->vitaldb) (1.26.12)\n",
      "Requirement already satisfied: certifi>=2017.4.17 in /home/kapis20/miniconda3/envs/papagei_env/lib/python3.10/site-packages (from requests->vitaldb) (2022.9.24)\n",
      "Requirement already satisfied: chardet>=3.0.0 in /home/kapis20/miniconda3/envs/papagei_env/lib/python3.10/site-packages (from wfdb->vitaldb) (5.0.0)\n",
      "Requirement already satisfied: cycler>=0.10.0 in /home/kapis20/miniconda3/envs/papagei_env/lib/python3.10/site-packages (from wfdb->vitaldb) (0.11.0)\n",
      "Requirement already satisfied: joblib>=0.11 in /home/kapis20/miniconda3/envs/papagei_env/lib/python3.10/site-packages (from wfdb->vitaldb) (1.2.0)\n",
      "Requirement already satisfied: kiwisolver>=1.1.0 in /home/kapis20/miniconda3/envs/papagei_env/lib/python3.10/site-packages (from wfdb->vitaldb) (1.4.4)\n",
      "Requirement already satisfied: matplotlib>=2.0.0 in /home/kapis20/miniconda3/envs/papagei_env/lib/python3.10/site-packages (from wfdb->vitaldb) (3.6.1)\n",
      "Requirement already satisfied: pyparsing>=2.0.4 in /home/kapis20/miniconda3/envs/papagei_env/lib/python3.10/site-packages (from wfdb->vitaldb) (3.0.9)\n",
      "Requirement already satisfied: scikit-learn>=0.18 in /home/kapis20/miniconda3/envs/papagei_env/lib/python3.10/site-packages (from wfdb->vitaldb) (1.1.3)\n",
      "Requirement already satisfied: scipy>=0.17.0 in /home/kapis20/miniconda3/envs/papagei_env/lib/python3.10/site-packages (from wfdb->vitaldb) (1.9.1)\n",
      "Requirement already satisfied: threadpoolctl>=1.0.0 in /home/kapis20/miniconda3/envs/papagei_env/lib/python3.10/site-packages (from wfdb->vitaldb) (3.1.0)\n",
      "Requirement already satisfied: contourpy>=1.0.1 in /home/kapis20/miniconda3/envs/papagei_env/lib/python3.10/site-packages (from matplotlib>=2.0.0->wfdb->vitaldb) (1.0.5)\n",
      "Requirement already satisfied: fonttools>=4.22.0 in /home/kapis20/miniconda3/envs/papagei_env/lib/python3.10/site-packages (from matplotlib>=2.0.0->wfdb->vitaldb) (4.37.1)\n",
      "Requirement already satisfied: packaging>=20.0 in /home/kapis20/miniconda3/envs/papagei_env/lib/python3.10/site-packages (from matplotlib>=2.0.0->wfdb->vitaldb) (21.3)\n",
      "Requirement already satisfied: pillow>=6.2.0 in /home/kapis20/miniconda3/envs/papagei_env/lib/python3.10/site-packages (from matplotlib>=2.0.0->wfdb->vitaldb) (9.2.0)\n",
      "Requirement already satisfied: six>=1.5 in /home/kapis20/miniconda3/envs/papagei_env/lib/python3.10/site-packages (from python-dateutil>=2.8.1->pandas->vitaldb) (1.16.0)\n",
      "\n",
      "\u001b[1m[\u001b[0m\u001b[34;49mnotice\u001b[0m\u001b[1;39;49m]\u001b[0m\u001b[39;49m A new release of pip is available: \u001b[0m\u001b[31;49m21.3.1\u001b[0m\u001b[39;49m -> \u001b[0m\u001b[32;49m25.0.1\u001b[0m\n",
      "\u001b[1m[\u001b[0m\u001b[34;49mnotice\u001b[0m\u001b[1;39;49m]\u001b[0m\u001b[39;49m To update, run: \u001b[0m\u001b[32;49mpip install --upgrade pip\u001b[0m\n",
      "Requirement already satisfied: pyPPG==1.0.41 in /home/kapis20/miniconda3/envs/papagei_env/lib/python3.10/site-packages (1.0.41)\n",
      "Requirement already satisfied: scipy==1.9.1 in /home/kapis20/miniconda3/envs/papagei_env/lib/python3.10/site-packages (from pyPPG==1.0.41) (1.9.1)\n",
      "Requirement already satisfied: numpy==1.23.2 in /home/kapis20/miniconda3/envs/papagei_env/lib/python3.10/site-packages (from pyPPG==1.0.41) (1.23.2)\n",
      "Requirement already satisfied: dotmap==1.3.30 in /home/kapis20/miniconda3/envs/papagei_env/lib/python3.10/site-packages (from pyPPG==1.0.41) (1.3.30)\n",
      "Requirement already satisfied: pandas==1.4.4 in /home/kapis20/miniconda3/envs/papagei_env/lib/python3.10/site-packages (from pyPPG==1.0.41) (1.4.4)\n",
      "Requirement already satisfied: wfdb==3.4.0 in /home/kapis20/miniconda3/envs/papagei_env/lib/python3.10/site-packages (from pyPPG==1.0.41) (3.4.0)\n",
      "Requirement already satisfied: mne==1.5.0 in /home/kapis20/miniconda3/envs/papagei_env/lib/python3.10/site-packages (from pyPPG==1.0.41) (1.5.0)\n",
      "Requirement already satisfied: Eel==0.14.0 in /home/kapis20/miniconda3/envs/papagei_env/lib/python3.10/site-packages (from pyPPG==1.0.41) (0.14.0)\n",
      "Requirement already satisfied: Jinja2==3.1.2 in /home/kapis20/miniconda3/envs/papagei_env/lib/python3.10/site-packages (from pyPPG==1.0.41) (3.1.2)\n",
      "Requirement already satisfied: MarkupSafe==2.1.1 in /home/kapis20/miniconda3/envs/papagei_env/lib/python3.10/site-packages (from pyPPG==1.0.41) (2.1.1)\n",
      "Requirement already satisfied: Pillow==9.2.0 in /home/kapis20/miniconda3/envs/papagei_env/lib/python3.10/site-packages (from pyPPG==1.0.41) (9.2.0)\n",
      "Requirement already satisfied: altgraph==0.17.3 in /home/kapis20/miniconda3/envs/papagei_env/lib/python3.10/site-packages (from pyPPG==1.0.41) (0.17.3)\n",
      "Requirement already satisfied: appdirs==1.4.4 in /home/kapis20/miniconda3/envs/papagei_env/lib/python3.10/site-packages (from pyPPG==1.0.41) (1.4.4)\n",
      "Requirement already satisfied: attrs==22.1.0 in /home/kapis20/miniconda3/envs/papagei_env/lib/python3.10/site-packages (from pyPPG==1.0.41) (22.1.0)\n",
      "Requirement already satisfied: auto-py-to-exe==2.23.1 in /home/kapis20/miniconda3/envs/papagei_env/lib/python3.10/site-packages (from pyPPG==1.0.41) (2.23.1)\n",
      "Requirement already satisfied: boltons==21.0.0 in /home/kapis20/miniconda3/envs/papagei_env/lib/python3.10/site-packages (from pyPPG==1.0.41) (21.0.0)\n",
      "Requirement already satisfied: bottle==0.12.23 in /home/kapis20/miniconda3/envs/papagei_env/lib/python3.10/site-packages (from pyPPG==1.0.41) (0.12.23)\n",
      "Requirement already satisfied: bottle-websocket==0.2.9 in /home/kapis20/miniconda3/envs/papagei_env/lib/python3.10/site-packages (from pyPPG==1.0.41) (0.2.9)\n",
      "Requirement already satisfied: certifi==2022.9.24 in /home/kapis20/miniconda3/envs/papagei_env/lib/python3.10/site-packages (from pyPPG==1.0.41) (2022.9.24)\n",
      "Requirement already satisfied: cffi==1.15.1 in /home/kapis20/miniconda3/envs/papagei_env/lib/python3.10/site-packages (from pyPPG==1.0.41) (1.15.1)\n",
      "Requirement already satisfied: chardet==5.0.0 in /home/kapis20/miniconda3/envs/papagei_env/lib/python3.10/site-packages (from pyPPG==1.0.41) (5.0.0)\n",
      "Requirement already satisfied: charset-normalizer==2.1.1 in /home/kapis20/miniconda3/envs/papagei_env/lib/python3.10/site-packages (from pyPPG==1.0.41) (2.1.1)\n",
      "Requirement already satisfied: colorama==0.4.5 in /home/kapis20/miniconda3/envs/papagei_env/lib/python3.10/site-packages (from pyPPG==1.0.41) (0.4.5)\n",
      "Requirement already satisfied: contourpy==1.0.5 in /home/kapis20/miniconda3/envs/papagei_env/lib/python3.10/site-packages (from pyPPG==1.0.41) (1.0.5)\n",
      "Requirement already satisfied: cycler==0.11.0 in /home/kapis20/miniconda3/envs/papagei_env/lib/python3.10/site-packages (from pyPPG==1.0.41) (0.11.0)\n",
      "Requirement already satisfied: decorator==5.1.1 in /home/kapis20/miniconda3/envs/papagei_env/lib/python3.10/site-packages (from pyPPG==1.0.41) (5.1.1)\n",
      "Requirement already satisfied: dotteddict==2016.3.11 in /home/kapis20/miniconda3/envs/papagei_env/lib/python3.10/site-packages (from pyPPG==1.0.41) (2016.3.11)\n",
      "Requirement already satisfied: face==20.1.1 in /home/kapis20/miniconda3/envs/papagei_env/lib/python3.10/site-packages (from pyPPG==1.0.41) (20.1.1)\n",
      "Requirement already satisfied: fonttools==4.37.1 in /home/kapis20/miniconda3/envs/papagei_env/lib/python3.10/site-packages (from pyPPG==1.0.41) (4.37.1)\n",
      "Requirement already satisfied: future==0.18.2 in /home/kapis20/miniconda3/envs/papagei_env/lib/python3.10/site-packages (from pyPPG==1.0.41) (0.18.2)\n",
      "Requirement already satisfied: gevent==21.12.0 in /home/kapis20/miniconda3/envs/papagei_env/lib/python3.10/site-packages (from pyPPG==1.0.41) (21.12.0)\n",
      "Requirement already satisfied: gevent-websocket==0.10.1 in /home/kapis20/miniconda3/envs/papagei_env/lib/python3.10/site-packages (from pyPPG==1.0.41) (0.10.1)\n",
      "Requirement already satisfied: glom==22.1.0 in /home/kapis20/miniconda3/envs/papagei_env/lib/python3.10/site-packages (from pyPPG==1.0.41) (22.1.0)\n",
      "Requirement already satisfied: greenlet==1.1.3 in /home/kapis20/miniconda3/envs/papagei_env/lib/python3.10/site-packages (from pyPPG==1.0.41) (1.1.3)\n",
      "Requirement already satisfied: heartpy==1.2.7 in /home/kapis20/miniconda3/envs/papagei_env/lib/python3.10/site-packages (from pyPPG==1.0.41) (1.2.7)\n",
      "Requirement already satisfied: idna==3.4 in /home/kapis20/miniconda3/envs/papagei_env/lib/python3.10/site-packages (from pyPPG==1.0.41) (3.4)\n",
      "Requirement already satisfied: joblib==1.2.0 in /home/kapis20/miniconda3/envs/papagei_env/lib/python3.10/site-packages (from pyPPG==1.0.41) (1.2.0)\n",
      "Requirement already satisfied: kiwisolver==1.4.4 in /home/kapis20/miniconda3/envs/papagei_env/lib/python3.10/site-packages (from pyPPG==1.0.41) (1.4.4)\n",
      "Requirement already satisfied: matplotlib==3.6.1 in /home/kapis20/miniconda3/envs/papagei_env/lib/python3.10/site-packages (from pyPPG==1.0.41) (3.6.1)\n",
      "Requirement already satisfied: mpldatacursor==0.7.1 in /home/kapis20/miniconda3/envs/papagei_env/lib/python3.10/site-packages (from pyPPG==1.0.41) (0.7.1)\n",
      "Requirement already satisfied: packaging==21.3 in /home/kapis20/miniconda3/envs/papagei_env/lib/python3.10/site-packages (from pyPPG==1.0.41) (21.3)\n",
      "Requirement already satisfied: parallel-map==0.2.1 in /home/kapis20/miniconda3/envs/papagei_env/lib/python3.10/site-packages (from pyPPG==1.0.41) (0.2.1)\n",
      "Requirement already satisfied: patsy==0.5.3 in /home/kapis20/miniconda3/envs/papagei_env/lib/python3.10/site-packages (from pyPPG==1.0.41) (0.5.3)\n",
      "Requirement already satisfied: pefile==2022.5.30 in /home/kapis20/miniconda3/envs/papagei_env/lib/python3.10/site-packages (from pyPPG==1.0.41) (2022.5.30)\n",
      "Requirement already satisfied: pip==21.3.1 in /home/kapis20/miniconda3/envs/papagei_env/lib/python3.10/site-packages (from pyPPG==1.0.41) (21.3.1)\n",
      "Requirement already satisfied: pooch==1.6.0 in /home/kapis20/miniconda3/envs/papagei_env/lib/python3.10/site-packages (from pyPPG==1.0.41) (1.6.0)\n",
      "Requirement already satisfied: pycparser==2.21 in /home/kapis20/miniconda3/envs/papagei_env/lib/python3.10/site-packages (from pyPPG==1.0.41) (2.21)\n",
      "Requirement already satisfied: pyinstaller==5.5 in /home/kapis20/miniconda3/envs/papagei_env/lib/python3.10/site-packages (from pyPPG==1.0.41) (5.5)\n",
      "Requirement already satisfied: pyinstaller-hooks-contrib==2022.10 in /home/kapis20/miniconda3/envs/papagei_env/lib/python3.10/site-packages (from pyPPG==1.0.41) (2022.10)\n",
      "Requirement already satisfied: pyparsing==3.0.9 in /home/kapis20/miniconda3/envs/papagei_env/lib/python3.10/site-packages (from pyPPG==1.0.41) (3.0.9)\n",
      "Requirement already satisfied: python-dateutil==2.8.2 in /home/kapis20/miniconda3/envs/papagei_env/lib/python3.10/site-packages (from pyPPG==1.0.41) (2.8.2)\n",
      "Requirement already satisfied: pytz==2022.4 in /home/kapis20/miniconda3/envs/papagei_env/lib/python3.10/site-packages (from pyPPG==1.0.41) (2022.4)\n",
      "Requirement already satisfied: pywin32-ctypes==0.2.0 in /home/kapis20/miniconda3/envs/papagei_env/lib/python3.10/site-packages (from pyPPG==1.0.41) (0.2.0)\n",
      "Requirement already satisfied: requests==2.28.1 in /home/kapis20/miniconda3/envs/papagei_env/lib/python3.10/site-packages (from pyPPG==1.0.41) (2.28.1)\n",
      "Requirement already satisfied: scikit-learn==1.1.3 in /home/kapis20/miniconda3/envs/papagei_env/lib/python3.10/site-packages (from pyPPG==1.0.41) (1.1.3)\n",
      "Requirement already satisfied: setuptools==60.2.0 in /home/kapis20/miniconda3/envs/papagei_env/lib/python3.10/site-packages (from pyPPG==1.0.41) (60.2.0)\n",
      "Requirement already satisfied: six==1.16.0 in /home/kapis20/miniconda3/envs/papagei_env/lib/python3.10/site-packages (from pyPPG==1.0.41) (1.16.0)\n",
      "Requirement already satisfied: soundfile==0.11.0 in /home/kapis20/miniconda3/envs/papagei_env/lib/python3.10/site-packages (from pyPPG==1.0.41) (0.11.0)\n",
      "Requirement already satisfied: statsmodels==0.13.2 in /home/kapis20/miniconda3/envs/papagei_env/lib/python3.10/site-packages (from pyPPG==1.0.41) (0.13.2)\n",
      "Requirement already satisfied: threadpoolctl==3.1.0 in /home/kapis20/miniconda3/envs/papagei_env/lib/python3.10/site-packages (from pyPPG==1.0.41) (3.1.0)\n",
      "Requirement already satisfied: tqdm==4.64.1 in /home/kapis20/miniconda3/envs/papagei_env/lib/python3.10/site-packages (from pyPPG==1.0.41) (4.64.1)\n",
      "Requirement already satisfied: urllib3==1.26.12 in /home/kapis20/miniconda3/envs/papagei_env/lib/python3.10/site-packages (from pyPPG==1.0.41) (1.26.12)\n",
      "Requirement already satisfied: wheel==0.37.1 in /home/kapis20/miniconda3/envs/papagei_env/lib/python3.10/site-packages (from pyPPG==1.0.41) (0.37.1)\n",
      "Requirement already satisfied: whichcraft==0.6.1 in /home/kapis20/miniconda3/envs/papagei_env/lib/python3.10/site-packages (from pyPPG==1.0.41) (0.6.1)\n",
      "Requirement already satisfied: zope.event==4.5.0 in /home/kapis20/miniconda3/envs/papagei_env/lib/python3.10/site-packages (from pyPPG==1.0.41) (4.5.0)\n",
      "Requirement already satisfied: zope.interface==5.4.0 in /home/kapis20/miniconda3/envs/papagei_env/lib/python3.10/site-packages (from pyPPG==1.0.41) (5.4.0)\n",
      "\n",
      "\u001b[1m[\u001b[0m\u001b[34;49mnotice\u001b[0m\u001b[1;39;49m]\u001b[0m\u001b[39;49m A new release of pip is available: \u001b[0m\u001b[31;49m21.3.1\u001b[0m\u001b[39;49m -> \u001b[0m\u001b[32;49m25.0.1\u001b[0m\n",
      "\u001b[1m[\u001b[0m\u001b[34;49mnotice\u001b[0m\u001b[1;39;49m]\u001b[0m\u001b[39;49m To update, run: \u001b[0m\u001b[32;49mpip install --upgrade pip\u001b[0m\n",
      "Requirement already satisfied: openpyxl in /home/kapis20/miniconda3/envs/papagei_env/lib/python3.10/site-packages (3.1.5)\n",
      "Requirement already satisfied: et-xmlfile in /home/kapis20/miniconda3/envs/papagei_env/lib/python3.10/site-packages (from openpyxl) (2.0.0)\n",
      "\n",
      "\u001b[1m[\u001b[0m\u001b[34;49mnotice\u001b[0m\u001b[1;39;49m]\u001b[0m\u001b[39;49m A new release of pip is available: \u001b[0m\u001b[31;49m21.3.1\u001b[0m\u001b[39;49m -> \u001b[0m\u001b[32;49m25.0.1\u001b[0m\n",
      "\u001b[1m[\u001b[0m\u001b[34;49mnotice\u001b[0m\u001b[1;39;49m]\u001b[0m\u001b[39;49m To update, run: \u001b[0m\u001b[32;49mpip install --upgrade pip\u001b[0m\n",
      "Requirement already satisfied: torch_ecg in /home/kapis20/miniconda3/envs/papagei_env/lib/python3.10/site-packages (0.0.31)\n",
      "Requirement already satisfied: bib-lookup in /home/kapis20/miniconda3/envs/papagei_env/lib/python3.10/site-packages (from torch_ecg) (0.0.29)\n",
      "Requirement already satisfied: biosppy in /home/kapis20/miniconda3/envs/papagei_env/lib/python3.10/site-packages (from torch_ecg) (2.2.3)\n",
      "Requirement already satisfied: boto3 in /home/kapis20/miniconda3/envs/papagei_env/lib/python3.10/site-packages (from torch_ecg) (1.37.16)\n",
      "Requirement already satisfied: cython in /home/kapis20/miniconda3/envs/papagei_env/lib/python3.10/site-packages (from torch_ecg) (3.0.12)\n",
      "Requirement already satisfied: deprecate-kwargs in /home/kapis20/miniconda3/envs/papagei_env/lib/python3.10/site-packages (from torch_ecg) (0.1.0)\n",
      "Requirement already satisfied: deprecated in /home/kapis20/miniconda3/envs/papagei_env/lib/python3.10/site-packages (from torch_ecg) (1.2.18)\n",
      "Requirement already satisfied: easydict in /home/kapis20/miniconda3/envs/papagei_env/lib/python3.10/site-packages (from torch_ecg) (1.13)\n",
      "Requirement already satisfied: einops in /home/kapis20/miniconda3/envs/papagei_env/lib/python3.10/site-packages (from torch_ecg) (0.8.1)\n",
      "Requirement already satisfied: matplotlib in /home/kapis20/miniconda3/envs/papagei_env/lib/python3.10/site-packages (from torch_ecg) (3.6.1)\n",
      "Requirement already satisfied: numpy in /home/kapis20/miniconda3/envs/papagei_env/lib/python3.10/site-packages (from torch_ecg) (1.23.2)\n",
      "Requirement already satisfied: pandas in /home/kapis20/miniconda3/envs/papagei_env/lib/python3.10/site-packages (from torch_ecg) (1.4.4)\n",
      "Requirement already satisfied: pyarrow in /home/kapis20/miniconda3/envs/papagei_env/lib/python3.10/site-packages (from torch_ecg) (19.0.1)\n",
      "Requirement already satisfied: pyedflib in /home/kapis20/miniconda3/envs/papagei_env/lib/python3.10/site-packages (from torch_ecg) (0.1.40)\n",
      "Requirement already satisfied: pywavelets in /home/kapis20/miniconda3/envs/papagei_env/lib/python3.10/site-packages (from torch_ecg) (1.8.0)\n",
      "Requirement already satisfied: requests in /home/kapis20/miniconda3/envs/papagei_env/lib/python3.10/site-packages (from torch_ecg) (2.28.1)\n",
      "Requirement already satisfied: scikit-learn in /home/kapis20/miniconda3/envs/papagei_env/lib/python3.10/site-packages (from torch_ecg) (1.1.3)\n",
      "Requirement already satisfied: scipy in /home/kapis20/miniconda3/envs/papagei_env/lib/python3.10/site-packages (from torch_ecg) (1.9.1)\n",
      "Requirement already satisfied: soundfile in /home/kapis20/miniconda3/envs/papagei_env/lib/python3.10/site-packages (from torch_ecg) (0.11.0)\n",
      "Requirement already satisfied: tensorboardx in /home/kapis20/miniconda3/envs/papagei_env/lib/python3.10/site-packages (from torch_ecg) (2.6.2.2)\n",
      "Requirement already satisfied: torch in /home/kapis20/miniconda3/envs/papagei_env/lib/python3.10/site-packages (from torch_ecg) (2.6.0)\n",
      "Requirement already satisfied: torch-optimizer in /home/kapis20/miniconda3/envs/papagei_env/lib/python3.10/site-packages (from torch_ecg) (0.3.0)\n",
      "Requirement already satisfied: torchsummary in /home/kapis20/miniconda3/envs/papagei_env/lib/python3.10/site-packages (from torch_ecg) (1.5.1)\n",
      "Requirement already satisfied: tqdm in /home/kapis20/miniconda3/envs/papagei_env/lib/python3.10/site-packages (from torch_ecg) (4.64.1)\n",
      "Requirement already satisfied: typing-extensions in /home/kapis20/miniconda3/envs/papagei_env/lib/python3.10/site-packages (from torch_ecg) (4.12.2)\n",
      "Requirement already satisfied: wfdb in /home/kapis20/miniconda3/envs/papagei_env/lib/python3.10/site-packages (from torch_ecg) (3.4.0)\n",
      "Requirement already satisfied: xmltodict in /home/kapis20/miniconda3/envs/papagei_env/lib/python3.10/site-packages (from torch_ecg) (0.14.2)\n",
      "Requirement already satisfied: feedparser in /home/kapis20/miniconda3/envs/papagei_env/lib/python3.10/site-packages (from bib-lookup->torch_ecg) (6.0.11)\n",
      "Requirement already satisfied: beautifulsoup4 in /home/kapis20/miniconda3/envs/papagei_env/lib/python3.10/site-packages (from bib-lookup->torch_ecg) (4.12.3)\n",
      "Requirement already satisfied: PyYAML in /home/kapis20/miniconda3/envs/papagei_env/lib/python3.10/site-packages (from bib-lookup->torch_ecg) (6.0.2)\n",
      "Requirement already satisfied: packaging in /home/kapis20/miniconda3/envs/papagei_env/lib/python3.10/site-packages (from bib-lookup->torch_ecg) (21.3)\n",
      "Requirement already satisfied: bidict in /home/kapis20/miniconda3/envs/papagei_env/lib/python3.10/site-packages (from biosppy->torch_ecg) (0.23.1)\n",
      "Requirement already satisfied: h5py in /home/kapis20/miniconda3/envs/papagei_env/lib/python3.10/site-packages (from biosppy->torch_ecg) (3.13.0)\n",
      "Requirement already satisfied: shortuuid in /home/kapis20/miniconda3/envs/papagei_env/lib/python3.10/site-packages (from biosppy->torch_ecg) (1.0.13)\n",
      "Requirement already satisfied: six in /home/kapis20/miniconda3/envs/papagei_env/lib/python3.10/site-packages (from biosppy->torch_ecg) (1.16.0)\n",
      "Requirement already satisfied: joblib in /home/kapis20/miniconda3/envs/papagei_env/lib/python3.10/site-packages (from biosppy->torch_ecg) (1.2.0)\n",
      "Requirement already satisfied: opencv-python in /home/kapis20/miniconda3/envs/papagei_env/lib/python3.10/site-packages (from biosppy->torch_ecg) (4.11.0.86)\n",
      "Requirement already satisfied: mock in /home/kapis20/miniconda3/envs/papagei_env/lib/python3.10/site-packages (from biosppy->torch_ecg) (5.2.0)\n",
      "Requirement already satisfied: botocore<1.38.0,>=1.37.16 in /home/kapis20/miniconda3/envs/papagei_env/lib/python3.10/site-packages (from boto3->torch_ecg) (1.37.16)\n",
      "Requirement already satisfied: jmespath<2.0.0,>=0.7.1 in /home/kapis20/miniconda3/envs/papagei_env/lib/python3.10/site-packages (from boto3->torch_ecg) (1.0.1)\n",
      "Requirement already satisfied: s3transfer<0.12.0,>=0.11.0 in /home/kapis20/miniconda3/envs/papagei_env/lib/python3.10/site-packages (from boto3->torch_ecg) (0.11.4)\n",
      "Requirement already satisfied: wrapt<2,>=1.10 in /home/kapis20/miniconda3/envs/papagei_env/lib/python3.10/site-packages (from deprecated->torch_ecg) (1.17.2)\n",
      "Requirement already satisfied: contourpy>=1.0.1 in /home/kapis20/miniconda3/envs/papagei_env/lib/python3.10/site-packages (from matplotlib->torch_ecg) (1.0.5)\n",
      "Requirement already satisfied: cycler>=0.10 in /home/kapis20/miniconda3/envs/papagei_env/lib/python3.10/site-packages (from matplotlib->torch_ecg) (0.11.0)\n",
      "Requirement already satisfied: fonttools>=4.22.0 in /home/kapis20/miniconda3/envs/papagei_env/lib/python3.10/site-packages (from matplotlib->torch_ecg) (4.37.1)\n",
      "Requirement already satisfied: kiwisolver>=1.0.1 in /home/kapis20/miniconda3/envs/papagei_env/lib/python3.10/site-packages (from matplotlib->torch_ecg) (1.4.4)\n",
      "Requirement already satisfied: pillow>=6.2.0 in /home/kapis20/miniconda3/envs/papagei_env/lib/python3.10/site-packages (from matplotlib->torch_ecg) (9.2.0)\n",
      "Requirement already satisfied: pyparsing>=2.2.1 in /home/kapis20/miniconda3/envs/papagei_env/lib/python3.10/site-packages (from matplotlib->torch_ecg) (3.0.9)\n",
      "Requirement already satisfied: python-dateutil>=2.7 in /home/kapis20/miniconda3/envs/papagei_env/lib/python3.10/site-packages (from matplotlib->torch_ecg) (2.8.2)\n",
      "Requirement already satisfied: pytz>=2020.1 in /home/kapis20/miniconda3/envs/papagei_env/lib/python3.10/site-packages (from pandas->torch_ecg) (2022.4)\n",
      "Requirement already satisfied: charset-normalizer<3,>=2 in /home/kapis20/miniconda3/envs/papagei_env/lib/python3.10/site-packages (from requests->torch_ecg) (2.1.1)\n",
      "Requirement already satisfied: idna<4,>=2.5 in /home/kapis20/miniconda3/envs/papagei_env/lib/python3.10/site-packages (from requests->torch_ecg) (3.4)\n",
      "Requirement already satisfied: urllib3<1.27,>=1.21.1 in /home/kapis20/miniconda3/envs/papagei_env/lib/python3.10/site-packages (from requests->torch_ecg) (1.26.12)\n",
      "Requirement already satisfied: certifi>=2017.4.17 in /home/kapis20/miniconda3/envs/papagei_env/lib/python3.10/site-packages (from requests->torch_ecg) (2022.9.24)\n",
      "Requirement already satisfied: threadpoolctl>=2.0.0 in /home/kapis20/miniconda3/envs/papagei_env/lib/python3.10/site-packages (from scikit-learn->torch_ecg) (3.1.0)\n",
      "Requirement already satisfied: cffi>=1.0 in /home/kapis20/miniconda3/envs/papagei_env/lib/python3.10/site-packages (from soundfile->torch_ecg) (1.15.1)\n",
      "Requirement already satisfied: protobuf>=3.20 in /home/kapis20/miniconda3/envs/papagei_env/lib/python3.10/site-packages (from tensorboardx->torch_ecg) (6.30.1)\n",
      "Requirement already satisfied: filelock in /home/kapis20/miniconda3/envs/papagei_env/lib/python3.10/site-packages (from torch->torch_ecg) (3.18.0)\n",
      "Requirement already satisfied: networkx in /home/kapis20/miniconda3/envs/papagei_env/lib/python3.10/site-packages (from torch->torch_ecg) (3.4.2)\n",
      "Requirement already satisfied: jinja2 in /home/kapis20/miniconda3/envs/papagei_env/lib/python3.10/site-packages (from torch->torch_ecg) (3.1.2)\n",
      "Requirement already satisfied: fsspec in /home/kapis20/miniconda3/envs/papagei_env/lib/python3.10/site-packages (from torch->torch_ecg) (2025.3.0)\n",
      "Requirement already satisfied: nvidia-cuda-nvrtc-cu12==12.4.127 in /home/kapis20/miniconda3/envs/papagei_env/lib/python3.10/site-packages (from torch->torch_ecg) (12.4.127)\n",
      "Requirement already satisfied: nvidia-cuda-runtime-cu12==12.4.127 in /home/kapis20/miniconda3/envs/papagei_env/lib/python3.10/site-packages (from torch->torch_ecg) (12.4.127)\n",
      "Requirement already satisfied: nvidia-cuda-cupti-cu12==12.4.127 in /home/kapis20/miniconda3/envs/papagei_env/lib/python3.10/site-packages (from torch->torch_ecg) (12.4.127)\n",
      "Requirement already satisfied: nvidia-cudnn-cu12==9.1.0.70 in /home/kapis20/miniconda3/envs/papagei_env/lib/python3.10/site-packages (from torch->torch_ecg) (9.1.0.70)\n",
      "Requirement already satisfied: nvidia-cublas-cu12==12.4.5.8 in /home/kapis20/miniconda3/envs/papagei_env/lib/python3.10/site-packages (from torch->torch_ecg) (12.4.5.8)\n",
      "Requirement already satisfied: nvidia-cufft-cu12==11.2.1.3 in /home/kapis20/miniconda3/envs/papagei_env/lib/python3.10/site-packages (from torch->torch_ecg) (11.2.1.3)\n",
      "Requirement already satisfied: nvidia-curand-cu12==10.3.5.147 in /home/kapis20/miniconda3/envs/papagei_env/lib/python3.10/site-packages (from torch->torch_ecg) (10.3.5.147)\n",
      "Requirement already satisfied: nvidia-cusolver-cu12==11.6.1.9 in /home/kapis20/miniconda3/envs/papagei_env/lib/python3.10/site-packages (from torch->torch_ecg) (11.6.1.9)\n",
      "Requirement already satisfied: nvidia-cusparse-cu12==12.3.1.170 in /home/kapis20/miniconda3/envs/papagei_env/lib/python3.10/site-packages (from torch->torch_ecg) (12.3.1.170)\n",
      "Requirement already satisfied: nvidia-cusparselt-cu12==0.6.2 in /home/kapis20/miniconda3/envs/papagei_env/lib/python3.10/site-packages (from torch->torch_ecg) (0.6.2)\n",
      "Requirement already satisfied: nvidia-nccl-cu12==2.21.5 in /home/kapis20/miniconda3/envs/papagei_env/lib/python3.10/site-packages (from torch->torch_ecg) (2.21.5)\n",
      "Requirement already satisfied: nvidia-nvtx-cu12==12.4.127 in /home/kapis20/miniconda3/envs/papagei_env/lib/python3.10/site-packages (from torch->torch_ecg) (12.4.127)\n",
      "Requirement already satisfied: nvidia-nvjitlink-cu12==12.4.127 in /home/kapis20/miniconda3/envs/papagei_env/lib/python3.10/site-packages (from torch->torch_ecg) (12.4.127)\n",
      "Requirement already satisfied: triton==3.2.0 in /home/kapis20/miniconda3/envs/papagei_env/lib/python3.10/site-packages (from torch->torch_ecg) (3.2.0)\n",
      "Requirement already satisfied: sympy==1.13.1 in /home/kapis20/miniconda3/envs/papagei_env/lib/python3.10/site-packages (from torch->torch_ecg) (1.13.1)\n",
      "Requirement already satisfied: mpmath<1.4,>=1.1.0 in /home/kapis20/miniconda3/envs/papagei_env/lib/python3.10/site-packages (from sympy==1.13.1->torch->torch_ecg) (1.3.0)\n",
      "Requirement already satisfied: pytorch-ranger>=0.1.1 in /home/kapis20/miniconda3/envs/papagei_env/lib/python3.10/site-packages (from torch-optimizer->torch_ecg) (0.1.1)\n",
      "Requirement already satisfied: chardet>=3.0.0 in /home/kapis20/miniconda3/envs/papagei_env/lib/python3.10/site-packages (from wfdb->torch_ecg) (5.0.0)\n",
      "Requirement already satisfied: pycparser in /home/kapis20/miniconda3/envs/papagei_env/lib/python3.10/site-packages (from cffi>=1.0->soundfile->torch_ecg) (2.21)\n",
      "Requirement already satisfied: soupsieve>1.2 in /home/kapis20/miniconda3/envs/papagei_env/lib/python3.10/site-packages (from beautifulsoup4->bib-lookup->torch_ecg) (2.5)\n",
      "Requirement already satisfied: sgmllib3k in /home/kapis20/miniconda3/envs/papagei_env/lib/python3.10/site-packages (from feedparser->bib-lookup->torch_ecg) (1.0.0)\n",
      "Requirement already satisfied: MarkupSafe>=2.0 in /home/kapis20/miniconda3/envs/papagei_env/lib/python3.10/site-packages (from jinja2->torch->torch_ecg) (2.1.1)\n",
      "\n",
      "\u001b[1m[\u001b[0m\u001b[34;49mnotice\u001b[0m\u001b[1;39;49m]\u001b[0m\u001b[39;49m A new release of pip is available: \u001b[0m\u001b[31;49m21.3.1\u001b[0m\u001b[39;49m -> \u001b[0m\u001b[32;49m25.0.1\u001b[0m\n",
      "\u001b[1m[\u001b[0m\u001b[34;49mnotice\u001b[0m\u001b[1;39;49m]\u001b[0m\u001b[39;49m To update, run: \u001b[0m\u001b[32;49mpip install --upgrade pip\u001b[0m\n"
     ]
    }
   ],
   "source": [
    "!pip install dotmap\n",
    "!pip install vitaldb \n",
    "!pip install pyPPG==1.0.41\n",
    "!pip install openpyxl\n",
    "!pip install torch_ecg"
   ]
  },
  {
   "cell_type": "raw",
   "id": "d50269f6-4916-4f93-bafc-14bc63014e7a",
   "metadata": {},
   "source": [
    "(exclamation mark) is used to run shell commands (like those you would run in the terminal) inside a code cell."
   ]
  },
  {
   "cell_type": "code",
   "execution_count": 2,
   "id": "1ac0944b-46aa-471f-88fe-c4ba9f8b1eaf",
   "metadata": {
    "scrolled": true
   },
   "outputs": [
    {
     "name": "stdout",
     "output_type": "stream",
     "text": [
      "np.dtypes exists: True\n"
     ]
    },
    {
     "name": "stderr",
     "output_type": "stream",
     "text": [
      "/home/kapis20/miniconda3/envs/papagei_env/lib/python3.10/site-packages/torchvision/transforms/_functional_pil.py:242: DeprecationWarning: BILINEAR is deprecated and will be removed in Pillow 10 (2023-07-01). Use Resampling.BILINEAR instead.\n",
      "  interpolation: int = Image.BILINEAR,\n",
      "/home/kapis20/miniconda3/envs/papagei_env/lib/python3.10/site-packages/torchvision/transforms/_functional_pil.py:288: DeprecationWarning: NEAREST is deprecated and will be removed in Pillow 10 (2023-07-01). Use Resampling.NEAREST or Dither.NONE instead.\n",
      "  interpolation: int = Image.NEAREST,\n",
      "/home/kapis20/miniconda3/envs/papagei_env/lib/python3.10/site-packages/torchvision/transforms/_functional_pil.py:304: DeprecationWarning: NEAREST is deprecated and will be removed in Pillow 10 (2023-07-01). Use Resampling.NEAREST or Dither.NONE instead.\n",
      "  interpolation: int = Image.NEAREST,\n",
      "/home/kapis20/miniconda3/envs/papagei_env/lib/python3.10/site-packages/torchvision/transforms/_functional_pil.py:321: DeprecationWarning: BICUBIC is deprecated and will be removed in Pillow 10 (2023-07-01). Use Resampling.BICUBIC instead.\n",
      "  interpolation: int = Image.BICUBIC,\n"
     ]
    }
   ],
   "source": [
    "import pandas as pd \n",
    "import numpy as np\n",
    "if not hasattr(np, 'dtypes'):\n",
    "    np.dtypes = np.core.numerictypes\n",
    "print(\"np.dtypes exists:\", hasattr(np, 'dtypes'))\n",
    "import os \n",
    "import sys\n",
    "import joblib\n",
    "import matplotlib.pyplot as plt\n",
    "import torch\n",
    "from tqdm import tqdm \n",
    "from linearprobing.utils import resample_batch_signal, load_model_without_module_prefix, get_data_for_ml\n",
    "from preprocessing.ppg import preprocess_one_ppg_signal\n",
    "from segmentations import waveform_to_segments, save_segments_to_directory\n",
    "from sklearn.model_selection import train_test_split\n",
    "from torch_ecg._preprocessors import Normalize\n",
    "from models.resnet import ResNet1D, ResNet1DMoE\n",
    "from linearprobing.feature_extraction_papagei import save_embeddings\n",
    "from linearprobing.extracted_feature_combine import segment_avg_to_dict\n",
    "from linearprobing.regression import regression_model"
   ]
  },
  {
   "cell_type": "markdown",
   "id": "4a41f867-8e5c-424a-b8dd-806043de84e8",
   "metadata": {},
   "source": [
    "## 1. Data\n",
    "\n",
    "- **(a)**: Download the PPG-BP data from [PPG-BP Database](https://figshare.com/articles/dataset/PPG-BP_Database_zip/5459299) to a directory.\n",
    "  - Add the download path to `download_dir`.\n",
    "- **(b)**: Use the download path for further pre-processing.\n",
    "- **(c)**: Use pre-defined user splits for later linear evaluation\n"
   ]
  },
  {
   "cell_type": "markdown",
   "id": "f97dd234-6ca9-4375-b6bf-f07ccdd84d48",
   "metadata": {},
   "source": [
    "#### 1. (a)"
   ]
  },
  {
   "cell_type": "code",
   "execution_count": 3,
   "id": "97fd5528-dac5-4e9b-8fce-2b6ae9bcd03a",
   "metadata": {},
   "outputs": [],
   "source": [
    "download_dir = \"data/5459299\""
   ]
  },
  {
   "cell_type": "code",
   "execution_count": 4,
   "id": "a35efad9-f5b8-4720-a571-53d2063e0b5e",
   "metadata": {},
   "outputs": [
    {
     "ename": "FileNotFoundError",
     "evalue": "[Errno 2] No such file or directory: 'data/5459299/Data File/PPG-BP dataset.xlsx'",
     "output_type": "error",
     "traceback": [
      "\u001b[0;31m---------------------------------------------------------------------------\u001b[0m",
      "\u001b[0;31mFileNotFoundError\u001b[0m                         Traceback (most recent call last)",
      "Cell \u001b[0;32mIn[4], line 1\u001b[0m\n\u001b[0;32m----> 1\u001b[0m df \u001b[38;5;241m=\u001b[39m \u001b[43mpd\u001b[49m\u001b[38;5;241;43m.\u001b[39;49m\u001b[43mread_excel\u001b[49m\u001b[43m(\u001b[49m\u001b[38;5;124;43mf\u001b[39;49m\u001b[38;5;124;43m\"\u001b[39;49m\u001b[38;5;132;43;01m{\u001b[39;49;00m\u001b[43mdownload_dir\u001b[49m\u001b[38;5;132;43;01m}\u001b[39;49;00m\u001b[38;5;124;43m/Data File/PPG-BP dataset.xlsx\u001b[39;49m\u001b[38;5;124;43m\"\u001b[39;49m\u001b[43m,\u001b[49m\u001b[43m \u001b[49m\u001b[43mheader\u001b[49m\u001b[38;5;241;43m=\u001b[39;49m\u001b[38;5;241;43m1\u001b[39;49m\u001b[43m)\u001b[49m\n",
      "File \u001b[0;32m~/miniconda3/envs/papagei_env/lib/python3.10/site-packages/pandas/util/_decorators.py:311\u001b[0m, in \u001b[0;36mdeprecate_nonkeyword_arguments.<locals>.decorate.<locals>.wrapper\u001b[0;34m(*args, **kwargs)\u001b[0m\n\u001b[1;32m    305\u001b[0m \u001b[38;5;28;01mif\u001b[39;00m \u001b[38;5;28mlen\u001b[39m(args) \u001b[38;5;241m>\u001b[39m num_allow_args:\n\u001b[1;32m    306\u001b[0m     warnings\u001b[38;5;241m.\u001b[39mwarn(\n\u001b[1;32m    307\u001b[0m         msg\u001b[38;5;241m.\u001b[39mformat(arguments\u001b[38;5;241m=\u001b[39marguments),\n\u001b[1;32m    308\u001b[0m         \u001b[38;5;167;01mFutureWarning\u001b[39;00m,\n\u001b[1;32m    309\u001b[0m         stacklevel\u001b[38;5;241m=\u001b[39mstacklevel,\n\u001b[1;32m    310\u001b[0m     )\n\u001b[0;32m--> 311\u001b[0m \u001b[38;5;28;01mreturn\u001b[39;00m \u001b[43mfunc\u001b[49m\u001b[43m(\u001b[49m\u001b[38;5;241;43m*\u001b[39;49m\u001b[43margs\u001b[49m\u001b[43m,\u001b[49m\u001b[43m \u001b[49m\u001b[38;5;241;43m*\u001b[39;49m\u001b[38;5;241;43m*\u001b[39;49m\u001b[43mkwargs\u001b[49m\u001b[43m)\u001b[49m\n",
      "File \u001b[0;32m~/miniconda3/envs/papagei_env/lib/python3.10/site-packages/pandas/io/excel/_base.py:457\u001b[0m, in \u001b[0;36mread_excel\u001b[0;34m(io, sheet_name, header, names, index_col, usecols, squeeze, dtype, engine, converters, true_values, false_values, skiprows, nrows, na_values, keep_default_na, na_filter, verbose, parse_dates, date_parser, thousands, decimal, comment, skipfooter, convert_float, mangle_dupe_cols, storage_options)\u001b[0m\n\u001b[1;32m    455\u001b[0m \u001b[38;5;28;01mif\u001b[39;00m \u001b[38;5;129;01mnot\u001b[39;00m \u001b[38;5;28misinstance\u001b[39m(io, ExcelFile):\n\u001b[1;32m    456\u001b[0m     should_close \u001b[38;5;241m=\u001b[39m \u001b[38;5;28;01mTrue\u001b[39;00m\n\u001b[0;32m--> 457\u001b[0m     io \u001b[38;5;241m=\u001b[39m \u001b[43mExcelFile\u001b[49m\u001b[43m(\u001b[49m\u001b[43mio\u001b[49m\u001b[43m,\u001b[49m\u001b[43m \u001b[49m\u001b[43mstorage_options\u001b[49m\u001b[38;5;241;43m=\u001b[39;49m\u001b[43mstorage_options\u001b[49m\u001b[43m,\u001b[49m\u001b[43m \u001b[49m\u001b[43mengine\u001b[49m\u001b[38;5;241;43m=\u001b[39;49m\u001b[43mengine\u001b[49m\u001b[43m)\u001b[49m\n\u001b[1;32m    458\u001b[0m \u001b[38;5;28;01melif\u001b[39;00m engine \u001b[38;5;129;01mand\u001b[39;00m engine \u001b[38;5;241m!=\u001b[39m io\u001b[38;5;241m.\u001b[39mengine:\n\u001b[1;32m    459\u001b[0m     \u001b[38;5;28;01mraise\u001b[39;00m \u001b[38;5;167;01mValueError\u001b[39;00m(\n\u001b[1;32m    460\u001b[0m         \u001b[38;5;124m\"\u001b[39m\u001b[38;5;124mEngine should not be specified when passing \u001b[39m\u001b[38;5;124m\"\u001b[39m\n\u001b[1;32m    461\u001b[0m         \u001b[38;5;124m\"\u001b[39m\u001b[38;5;124man ExcelFile - ExcelFile already has the engine set\u001b[39m\u001b[38;5;124m\"\u001b[39m\n\u001b[1;32m    462\u001b[0m     )\n",
      "File \u001b[0;32m~/miniconda3/envs/papagei_env/lib/python3.10/site-packages/pandas/io/excel/_base.py:1376\u001b[0m, in \u001b[0;36mExcelFile.__init__\u001b[0;34m(self, path_or_buffer, engine, storage_options)\u001b[0m\n\u001b[1;32m   1374\u001b[0m     ext \u001b[38;5;241m=\u001b[39m \u001b[38;5;124m\"\u001b[39m\u001b[38;5;124mxls\u001b[39m\u001b[38;5;124m\"\u001b[39m\n\u001b[1;32m   1375\u001b[0m \u001b[38;5;28;01melse\u001b[39;00m:\n\u001b[0;32m-> 1376\u001b[0m     ext \u001b[38;5;241m=\u001b[39m \u001b[43minspect_excel_format\u001b[49m\u001b[43m(\u001b[49m\n\u001b[1;32m   1377\u001b[0m \u001b[43m        \u001b[49m\u001b[43mcontent_or_path\u001b[49m\u001b[38;5;241;43m=\u001b[39;49m\u001b[43mpath_or_buffer\u001b[49m\u001b[43m,\u001b[49m\u001b[43m \u001b[49m\u001b[43mstorage_options\u001b[49m\u001b[38;5;241;43m=\u001b[39;49m\u001b[43mstorage_options\u001b[49m\n\u001b[1;32m   1378\u001b[0m \u001b[43m    \u001b[49m\u001b[43m)\u001b[49m\n\u001b[1;32m   1379\u001b[0m     \u001b[38;5;28;01mif\u001b[39;00m ext \u001b[38;5;129;01mis\u001b[39;00m \u001b[38;5;28;01mNone\u001b[39;00m:\n\u001b[1;32m   1380\u001b[0m         \u001b[38;5;28;01mraise\u001b[39;00m \u001b[38;5;167;01mValueError\u001b[39;00m(\n\u001b[1;32m   1381\u001b[0m             \u001b[38;5;124m\"\u001b[39m\u001b[38;5;124mExcel file format cannot be determined, you must specify \u001b[39m\u001b[38;5;124m\"\u001b[39m\n\u001b[1;32m   1382\u001b[0m             \u001b[38;5;124m\"\u001b[39m\u001b[38;5;124man engine manually.\u001b[39m\u001b[38;5;124m\"\u001b[39m\n\u001b[1;32m   1383\u001b[0m         )\n",
      "File \u001b[0;32m~/miniconda3/envs/papagei_env/lib/python3.10/site-packages/pandas/io/excel/_base.py:1250\u001b[0m, in \u001b[0;36minspect_excel_format\u001b[0;34m(content_or_path, storage_options)\u001b[0m\n\u001b[1;32m   1247\u001b[0m \u001b[38;5;28;01mif\u001b[39;00m \u001b[38;5;28misinstance\u001b[39m(content_or_path, \u001b[38;5;28mbytes\u001b[39m):\n\u001b[1;32m   1248\u001b[0m     content_or_path \u001b[38;5;241m=\u001b[39m BytesIO(content_or_path)\n\u001b[0;32m-> 1250\u001b[0m \u001b[38;5;28;01mwith\u001b[39;00m \u001b[43mget_handle\u001b[49m\u001b[43m(\u001b[49m\n\u001b[1;32m   1251\u001b[0m \u001b[43m    \u001b[49m\u001b[43mcontent_or_path\u001b[49m\u001b[43m,\u001b[49m\u001b[43m \u001b[49m\u001b[38;5;124;43m\"\u001b[39;49m\u001b[38;5;124;43mrb\u001b[39;49m\u001b[38;5;124;43m\"\u001b[39;49m\u001b[43m,\u001b[49m\u001b[43m \u001b[49m\u001b[43mstorage_options\u001b[49m\u001b[38;5;241;43m=\u001b[39;49m\u001b[43mstorage_options\u001b[49m\u001b[43m,\u001b[49m\u001b[43m \u001b[49m\u001b[43mis_text\u001b[49m\u001b[38;5;241;43m=\u001b[39;49m\u001b[38;5;28;43;01mFalse\u001b[39;49;00m\n\u001b[1;32m   1252\u001b[0m \u001b[43m\u001b[49m\u001b[43m)\u001b[49m \u001b[38;5;28;01mas\u001b[39;00m handle:\n\u001b[1;32m   1253\u001b[0m     stream \u001b[38;5;241m=\u001b[39m handle\u001b[38;5;241m.\u001b[39mhandle\n\u001b[1;32m   1254\u001b[0m     stream\u001b[38;5;241m.\u001b[39mseek(\u001b[38;5;241m0\u001b[39m)\n",
      "File \u001b[0;32m~/miniconda3/envs/papagei_env/lib/python3.10/site-packages/pandas/io/common.py:795\u001b[0m, in \u001b[0;36mget_handle\u001b[0;34m(path_or_buf, mode, encoding, compression, memory_map, is_text, errors, storage_options)\u001b[0m\n\u001b[1;32m    786\u001b[0m         handle \u001b[38;5;241m=\u001b[39m \u001b[38;5;28mopen\u001b[39m(\n\u001b[1;32m    787\u001b[0m             handle,\n\u001b[1;32m    788\u001b[0m             ioargs\u001b[38;5;241m.\u001b[39mmode,\n\u001b[0;32m   (...)\u001b[0m\n\u001b[1;32m    791\u001b[0m             newline\u001b[38;5;241m=\u001b[39m\u001b[38;5;124m\"\u001b[39m\u001b[38;5;124m\"\u001b[39m,\n\u001b[1;32m    792\u001b[0m         )\n\u001b[1;32m    793\u001b[0m     \u001b[38;5;28;01melse\u001b[39;00m:\n\u001b[1;32m    794\u001b[0m         \u001b[38;5;66;03m# Binary mode\u001b[39;00m\n\u001b[0;32m--> 795\u001b[0m         handle \u001b[38;5;241m=\u001b[39m \u001b[38;5;28;43mopen\u001b[39;49m\u001b[43m(\u001b[49m\u001b[43mhandle\u001b[49m\u001b[43m,\u001b[49m\u001b[43m \u001b[49m\u001b[43mioargs\u001b[49m\u001b[38;5;241;43m.\u001b[39;49m\u001b[43mmode\u001b[49m\u001b[43m)\u001b[49m\n\u001b[1;32m    796\u001b[0m     handles\u001b[38;5;241m.\u001b[39mappend(handle)\n\u001b[1;32m    798\u001b[0m \u001b[38;5;66;03m# Convert BytesIO or file objects passed with an encoding\u001b[39;00m\n",
      "\u001b[0;31mFileNotFoundError\u001b[0m: [Errno 2] No such file or directory: 'data/5459299/Data File/PPG-BP dataset.xlsx'"
     ]
    }
   ],
   "source": [
    "df = pd.read_excel(f\"{download_dir}/Data File/PPG-BP dataset.xlsx\", header=1)"
   ]
  },
  {
   "cell_type": "code",
   "execution_count": null,
   "id": "01597863-d4f8-45a7-a952-78f374edcb5f",
   "metadata": {},
   "outputs": [],
   "source": [
    "subjects = df.subject_ID.values\n",
    "main_dir = f\"{download_dir}/Data File/0_subject/\"\n",
    "ppg_dir = f\"{download_dir}/Data File/ppg/\"\n",
    "\n",
    "if not os.path.exists(ppg_dir):\n",
    "    os.mkdir(ppg_dir)\n",
    "    \n",
    "fs = 1000 \n",
    "fs_target = 125"
   ]
  },
  {
   "cell_type": "markdown",
   "id": "10bf86a4-d680-431a-be40-d610bb11778c",
   "metadata": {},
   "source": [
    "#### 1. (b)"
   ]
  },
  {
   "cell_type": "code",
   "execution_count": null,
   "id": "32562452-deb4-4c2d-b645-4dc4b559f762",
   "metadata": {},
   "outputs": [],
   "source": [
    "filenames = [f.split(\"_\")[0] for f in os.listdir(main_dir)]"
   ]
  },
  {
   "cell_type": "code",
   "execution_count": null,
   "id": "840fd007-dd42-4fff-a9b8-331da4ebaaac",
   "metadata": {
    "scrolled": true
   },
   "outputs": [],
   "source": [
    "norm = Normalize(method='z-score')\n",
    "\n",
    "for f in tqdm(filenames):\n",
    "    segments = []\n",
    "    for s in range(1, 4):\n",
    "        print(f\"Processing: {f}_{s}\")\n",
    "        signal = pd.read_csv(f\"{main_dir}{f}_{str(s)}.txt\", sep='\\t', header=None)\n",
    "        signal = signal.values.squeeze()[:-1]\n",
    "        signal, _ = norm.apply(signal, fs=fs)\n",
    "        signal, _, _, _ = preprocess_one_ppg_signal(waveform=signal,\n",
    "                                                frequency=fs)\n",
    "        signal = resample_batch_signal(signal, fs_original=fs, fs_target=fs_target, axis=0)\n",
    "        \n",
    "        padding_needed = 1250 - len(signal)\n",
    "        pad_left = padding_needed // 2\n",
    "        pad_right = padding_needed - pad_left\n",
    "        \n",
    "        signal = np.pad(signal, pad_width=(pad_left, pad_right))\n",
    "        segments.append(signal)\n",
    "    segments = np.vstack(segments)\n",
    "    child_dir = f.zfill(4)\n",
    "    save_segments_to_directory(save_dir=ppg_dir,\n",
    "                              dir_name=child_dir,\n",
    "                              segments=segments)"
   ]
  },
  {
   "cell_type": "markdown",
   "id": "20ee0eab-9e3f-4be3-8a23-fc5f4780d988",
   "metadata": {},
   "source": [
    "#### 1. (c)"
   ]
  },
  {
   "cell_type": "code",
   "execution_count": null,
   "id": "7f316a66-01da-488c-ad84-9e114ef79c2f",
   "metadata": {},
   "outputs": [],
   "source": [
    "df = df.rename(columns={\"Sex(M/F)\": \"sex\",\n",
    "                   \"Age(year)\": \"age\",\n",
    "                   \"Systolic Blood Pressure(mmHg)\": \"sysbp\",\n",
    "                   \"Diastolic Blood Pressure(mmHg)\": \"diasbp\",\n",
    "                   \"Heart Rate(b/m)\": \"hr\",\n",
    "                   \"BMI(kg/m^2)\": \"bmi\"})\n",
    "df = df.fillna(0)"
   ]
  },
  {
   "cell_type": "code",
   "execution_count": null,
   "id": "69802db7-99e6-43b0-bd02-d744884d013e",
   "metadata": {},
   "outputs": [],
   "source": [
    "# These randomly selected subject splits used in our work.\n",
    "# We hardcode them because we cannot share it as a \"data source\".\n",
    "\n",
    "train_ids = [  2,   6,   8,  10,  12,  15,  16,  17,  18,  19,  22,  23,  26,\n",
    "        31,  32,  34,  35,  38,  40,  45,  48,  50,  53,  55,  56,  58,\n",
    "        60,  61,  63,  65,  66,  83,  85,  87,  89,  92,  93,  97,  98,\n",
    "        99, 100, 104, 105, 106, 107, 112, 113, 114, 116, 120, 122, 126,\n",
    "       128, 131, 134, 135, 137, 138, 139, 140, 141, 146, 148, 149, 152,\n",
    "       153, 154, 158, 160, 162, 164, 165, 167, 169, 170, 175, 176, 179,\n",
    "       183, 184, 186, 188, 189, 190, 191, 193, 196, 197, 199, 205, 206,\n",
    "       207, 209, 210, 212, 216, 217, 218, 223, 226, 227, 230, 231, 233,\n",
    "       234, 240, 242, 243, 244, 246, 247, 248, 256, 257, 404, 407, 409,\n",
    "       412, 414, 415, 416, 417, 419]\n",
    "\n",
    "test_ids = [14,  21,  25,  51,  52,  62,  67,  86,  90,  96, 103, 108, 110,\n",
    "       119, 123, 124, 130, 142, 144, 157, 172, 173, 174, 180, 182, 185,\n",
    "       192, 195, 200, 201, 211, 214, 219, 221, 228, 239, 250, 403, 405,\n",
    "       406, 410]\n",
    "\n",
    "val_ids = [3,  11,  24,  27,  29,  30,  41,  43,  47,  64,  88,  91,  95,\n",
    "       115, 125, 127, 136, 145, 155, 156, 161, 163, 166, 178, 198, 203,\n",
    "       208, 213, 215, 222, 229, 232, 235, 237, 241, 245, 252, 254, 259,\n",
    "       411, 418]\n",
    "\n",
    "df_train = df[df.subject_ID.isin(train_ids)]\n",
    "df_val = df[df.subject_ID.isin(val_ids)]\n",
    "df_test = df[df.subject_ID.isin(test_ids)]\n",
    "\n",
    "df_train.to_csv(f\"{download_dir}/Data File/train.csv\", index=False)\n",
    "df_val.to_csv(f\"{download_dir}/Data File/val.csv\", index=False)\n",
    "df_test.to_csv(f\"{download_dir}/Data File/test.csv\", index=False)"
   ]
  },
  {
   "cell_type": "markdown",
   "id": "46389343-6c33-4927-aae3-df505988aa39",
   "metadata": {},
   "source": [
    "## 2. Extracting Features\n",
    "\n",
    "In this section, we describe how to load the *PaPaGei* model and extract embeddings.\n",
    "- **(a)**: Loading a model and extract embeddings from a single signal. This code will be most relevant to customize for your own problems.\n",
    "- **(b)**: Function to extract features from all ppg segments (batched).\n",
    "- **(c)**: Extracting *PaPaGei-S* features for PPG-BP.\n",
    "- **(d)**: Extracting *PaPaGei-S sVRI only* features for PPG-BP.\n",
    "- **(e)**: Extracting *PaPaGei-P* features for PPG-BP."
   ]
  },
  {
   "cell_type": "code",
   "execution_count": null,
   "id": "003c8e82-ea67-41fa-958a-fd44d241b10a",
   "metadata": {},
   "outputs": [],
   "source": [
    "batch_size = 256\n",
    "device = \"cuda:0\"\n",
    "case_name = \"subject_ID\"\n",
    "ppg_dir = f\"{download_dir}/Data File/ppg/\"\n",
    "\n",
    "df_train = pd.read_csv(f\"{download_dir}/Data File/train.csv\")\n",
    "df_val = pd.read_csv(f\"{download_dir}/Data File/val.csv\")\n",
    "df_test = pd.read_csv(f\"{download_dir}/Data File/test.csv\")\n",
    "\n",
    "df_train.loc[:, case_name] = df_train[case_name].apply(lambda x:str(x).zfill(4))\n",
    "df_val.loc[:, case_name] = df_val[case_name].apply(lambda x:str(x).zfill(4))\n",
    "df_test.loc[:, case_name] = df_test[case_name].apply(lambda x:str(x).zfill(4))\n",
    "\n",
    "dict_df = {'train': df_train, 'val': df_val, 'test': df_test}"
   ]
  },
  {
   "cell_type": "markdown",
   "id": "95e4c2de-0431-4808-93db-fdd58f054117",
   "metadata": {},
   "source": [
    "#### 2. (a) Code to load model and extract embeddings for one signal\n",
    "\n",
    "**Extend this code to extract features for your own datasets**"
   ]
  },
  {
   "cell_type": "code",
   "execution_count": null,
   "id": "de10c957-fab1-406e-9207-8f8cbe7a69b0",
   "metadata": {
    "scrolled": true
   },
   "outputs": [],
   "source": [
    "model_config = {'base_filters': 32,\n",
    "            'kernel_size': 3,\n",
    "            'stride': 2,\n",
    "            'groups': 1,\n",
    "            'n_block': 18,\n",
    "            'n_classes': 512,\n",
    "            'n_experts': 3\n",
    "            }\n",
    "\n",
    "model = ResNet1DMoE(in_channels=1, \n",
    "            base_filters=model_config['base_filters'], \n",
    "            kernel_size=model_config['kernel_size'],\n",
    "            stride=model_config['stride'],\n",
    "            groups=model_config['groups'],\n",
    "            n_block=model_config['n_block'],\n",
    "            n_classes=model_config['n_classes'],\n",
    "            n_experts=model_config['n_experts'])\n",
    "\n",
    "model_path = \"weights/papagei_s.pt\"\n",
    "model = load_model_without_module_prefix(model, model_path)\n",
    "model.to(device)"
   ]
  },
  {
   "cell_type": "code",
   "execution_count": null,
   "id": "713bdbb3-d5ec-4286-9974-9b18592e1718",
   "metadata": {},
   "outputs": [],
   "source": [
    "# load a signal\n",
    "# note that that signal is already resampled and normalized\n",
    "signal = joblib.load(os.path.join(ppg_dir, '0002', '0.p'))\n",
    "signal = torch.Tensor(signal)\n",
    "signal = signal[None, :].unsqueeze(dim=0)\n",
    "print(f\"PPG dimensions before inference : {signal.shape}\")\n",
    "\n",
    "model.eval()\n",
    "with torch.inference_mode():\n",
    "    signal = signal.to(device)\n",
    "    outputs = model(signal)\n",
    "    embeddings = outputs[0].cpu().detach().numpy()\n",
    "print(f\"Embedding dimensions : {embeddings.shape}\")"
   ]
  },
  {
   "cell_type": "markdown",
   "id": "cffc787b-7c00-45bd-8540-00ce49a465f8",
   "metadata": {},
   "source": [
    "#### 2. (b) Extracting features for all ppg data and saving them for downstream use"
   ]
  },
  {
   "cell_type": "code",
   "execution_count": null,
   "id": "d59ffe52-064e-4da1-8ce7-5ed7ea0c097f",
   "metadata": {
    "scrolled": true
   },
   "outputs": [],
   "source": [
    "def extract_features_and_save(model, ppg_dir, batch_size, device, output_idx, resample, normalize, fs, fs_target, content):\n",
    "    \"\"\"\n",
    "    Function to extract features and save them\n",
    "    \"\"\"\n",
    "    for split in ['train', 'val', 'test']:\n",
    "        # Choose one split at a time\n",
    "        df = dict_df[split]\n",
    "        save_dir = f\"{download_dir}/features\"\n",
    "\n",
    "        # Creating require directory structure and names\n",
    "        if not os.path.exists(f\"{save_dir}\"):\n",
    "            os.mkdir(f\"{save_dir}\")\n",
    "        \n",
    "        model_name = model_path.split(\"/\")[-1].split(\".pt\")[0]\n",
    "        if not os.path.exists(f\"{save_dir}/{model_name}\"):\n",
    "            os.mkdir(f\"{save_dir}/{model_name}\")\n",
    "        split_dir = f\"{save_dir}/{model_name}/{split}/\"\n",
    "        \n",
    "        child_dirs = np.unique(df[case_name].values)\n",
    "\n",
    "        # Function that extracts and saves embeddings\n",
    "        save_embeddings(path=ppg_dir,\n",
    "                        child_dirs=child_dirs, \n",
    "                        save_dir=split_dir, \n",
    "                        model=model, \n",
    "                        batch_size=batch_size, \n",
    "                        device=device, \n",
    "                        output_idx=output_idx,\n",
    "                        resample=resample, \n",
    "                        normalize=normalize, \n",
    "                        fs=fs, \n",
    "                        fs_target=fs_target)\n",
    "        \n",
    "        # Compile the extracted embeddings at the patient or segment level adn save it               \n",
    "        dict_feat = segment_avg_to_dict(split_dir, content)\n",
    "        joblib.dump(dict_feat, f\"{save_dir}/{model_name}/dict_{split}_{content}.p\")"
   ]
  },
  {
   "cell_type": "markdown",
   "id": "39ca9253-fa95-4eac-8812-973a2093b226",
   "metadata": {},
   "source": [
    "#### 2. (c) Extraction: PaPaGei-S"
   ]
  },
  {
   "cell_type": "code",
   "execution_count": null,
   "id": "7d5b2ead-b54d-40dc-9413-7bff9d8848e4",
   "metadata": {},
   "outputs": [],
   "source": [
    "model_config = {'base_filters': 32,\n",
    "            'kernel_size': 3,\n",
    "            'stride': 2,\n",
    "            'groups': 1,\n",
    "            'n_block': 18,\n",
    "            'n_classes': 512,\n",
    "            'n_experts': 3\n",
    "            }\n",
    "\n",
    "model = ResNet1DMoE(in_channels=1, \n",
    "            base_filters=model_config['base_filters'], \n",
    "            kernel_size=model_config['kernel_size'],\n",
    "            stride=model_config['stride'],\n",
    "            groups=model_config['groups'],\n",
    "            n_block=model_config['n_block'],\n",
    "            n_classes=model_config['n_classes'],\n",
    "            n_experts=model_config['n_experts'])\n",
    "\n",
    "model_path = \"weights/papagei_s.pt\"\n",
    "model = load_model_without_module_prefix(model, model_path)\n",
    "model.to(device)"
   ]
  },
  {
   "cell_type": "code",
   "execution_count": null,
   "id": "dbf9325d-58bc-44b0-ba25-0b210f52f940",
   "metadata": {
    "scrolled": true
   },
   "outputs": [],
   "source": [
    "extract_features_and_save(model=model,\n",
    "                         ppg_dir=ppg_dir,\n",
    "                         batch_size=batch_size,\n",
    "                         device=device,\n",
    "                         output_idx=0,\n",
    "                         resample=False,\n",
    "                         normalize=False,\n",
    "                         fs=125,\n",
    "                         fs_target=125,\n",
    "                         content=\"patient\"\n",
    "                         )"
   ]
  },
  {
   "cell_type": "markdown",
   "id": "17387f1c-1e62-4dc4-9cca-bfedef5b57e6",
   "metadata": {},
   "source": [
    "#### 2. (d) Extraction: PaPaGei-S sVRI only"
   ]
  },
  {
   "cell_type": "code",
   "execution_count": null,
   "id": "156e724d-a645-4973-b821-21fb2d7df7df",
   "metadata": {
    "scrolled": true
   },
   "outputs": [],
   "source": [
    "model_config = {'base_filters': 32,\n",
    "        'kernel_size': 3,\n",
    "        'stride': 2,\n",
    "        'groups': 1,\n",
    "        'n_block': 18,\n",
    "        'n_classes': 512,\n",
    "        }\n",
    "\n",
    "model = ResNet1D(in_channels=1, \n",
    "            base_filters=model_config['base_filters'], \n",
    "            kernel_size=model_config['kernel_size'],\n",
    "            stride=model_config['stride'],\n",
    "            groups=model_config['groups'],\n",
    "            n_block=model_config['n_block'],\n",
    "            n_classes=model_config['n_classes'],\n",
    "            use_mt_regression=False,\n",
    "            use_projection=False)\n",
    "\n",
    "model_path = \"weights/papagei_s_svri.pt\"\n",
    "model = load_model_without_module_prefix(model, model_path)\n",
    "model.to(device)"
   ]
  },
  {
   "cell_type": "code",
   "execution_count": null,
   "id": "c4536363-acd8-4d1b-aa66-5bfa410b365a",
   "metadata": {
    "scrolled": true
   },
   "outputs": [],
   "source": [
    "extract_features_and_save(model=model,\n",
    "                         ppg_dir=ppg_dir,\n",
    "                         batch_size=batch_size,\n",
    "                         device=device,\n",
    "                         output_idx=0,\n",
    "                         resample=False,\n",
    "                         normalize=False,\n",
    "                         fs=125,\n",
    "                         fs_target=125,\n",
    "                         content=\"patient\"\n",
    "                         )"
   ]
  },
  {
   "cell_type": "markdown",
   "id": "0059424f-262a-4f6e-a14a-7a7294fbd9db",
   "metadata": {},
   "source": [
    "#### 2. (e) Extraction: PaPaGei-P"
   ]
  },
  {
   "cell_type": "code",
   "execution_count": null,
   "id": "e765facc-55ce-442a-b46c-05811e759e8b",
   "metadata": {
    "scrolled": true
   },
   "outputs": [],
   "source": [
    "model_config = {'base_filters': 32,\n",
    "                'kernel_size': 3,\n",
    "                'stride': 2,\n",
    "                'groups': 1,\n",
    "                'n_block': 18,\n",
    "                'n_classes': 512,\n",
    "                }\n",
    "\n",
    "model = ResNet1D(in_channels=1, \n",
    "            base_filters=model_config['base_filters'], \n",
    "            kernel_size=model_config['kernel_size'],\n",
    "            stride=model_config['stride'],\n",
    "            groups=model_config['groups'],\n",
    "            n_block=model_config['n_block'],\n",
    "            n_classes=model_config['n_classes'])\n",
    "\n",
    "model_path = \"weights/papagei_p.pt\"\n",
    "model = load_model_without_module_prefix(model, model_path)\n",
    "model.to(device)"
   ]
  },
  {
   "cell_type": "code",
   "execution_count": null,
   "id": "1d599e08-f2f7-4387-a0ad-b42aa1095527",
   "metadata": {
    "scrolled": true
   },
   "outputs": [],
   "source": [
    "extract_features_and_save(model=model,\n",
    "                         ppg_dir=ppg_dir,\n",
    "                         batch_size=batch_size,\n",
    "                         device=device,\n",
    "                         output_idx=0,\n",
    "                         resample=False,\n",
    "                         normalize=False,\n",
    "                         fs=125,\n",
    "                         fs_target=125,\n",
    "                         content=\"patient\"\n",
    "                         )"
   ]
  },
  {
   "cell_type": "markdown",
   "id": "875d96a2-697a-4715-a903-6a75358cd10b",
   "metadata": {},
   "source": [
    "## 3. Linear Evaluation\n",
    "\n",
    "In this section, we use the extracted embeddings to predict diastolic BP, systolic BP, and Average HR."
   ]
  },
  {
   "cell_type": "code",
   "execution_count": null,
   "id": "a0b24f3d-aea1-4b5a-80d8-9bb5a2fc79c2",
   "metadata": {},
   "outputs": [],
   "source": [
    "from sklearn.linear_model import Ridge\n",
    "from sklearn.ensemble import RandomForestRegressor\n",
    "from sklearn.metrics import mean_absolute_error"
   ]
  },
  {
   "cell_type": "code",
   "execution_count": null,
   "id": "6d730665-3a68-4ba6-9609-b684f0c4cb75",
   "metadata": {},
   "outputs": [],
   "source": [
    "save_dir = f\"{download_dir}/features/\"\n",
    "df_train = pd.read_csv(f\"{download_dir}/Data File/train.csv\")\n",
    "df_val = pd.read_csv(f\"{download_dir}/Data File/val.csv\")\n",
    "df_test = pd.read_csv(f\"{download_dir}/Data File/test.csv\")\n",
    "\n",
    "df_train.loc[:, case_name] = df_train[case_name].apply(lambda x:str(x).zfill(4))\n",
    "df_val.loc[:, case_name] = df_val[case_name].apply(lambda x:str(x).zfill(4))\n",
    "df_test.loc[:, case_name] = df_test[case_name].apply(lambda x:str(x).zfill(4))\n",
    "                                                                          \n",
    "case_name = \"subject_ID\""
   ]
  },
  {
   "cell_type": "code",
   "execution_count": null,
   "id": "df175df6-089a-4587-8540-8139f5b1386e",
   "metadata": {},
   "outputs": [],
   "source": [
    "def regression(save_dir, model_name, content, df_train, df_val, df_test, case_name, label):\n",
    "    \n",
    "    dict_train = joblib.load(f\"{save_dir}/{model_name}/dict_train_{content}.p\")\n",
    "    dict_val = joblib.load(f\"{save_dir}/{model_name}/dict_val_{content}.p\")\n",
    "    dict_test = joblib.load(f\"{save_dir}/{model_name}/dict_test_{content}.p\")\n",
    "    \n",
    "    X_train, y_train, _ = get_data_for_ml(df=df_train,\n",
    "                                     dict_embeddings=dict_train,\n",
    "                                     case_name=case_name,\n",
    "                                     label=label)\n",
    "\n",
    "    X_val, y_val, _ = get_data_for_ml(df=df_val,\n",
    "                                         dict_embeddings=dict_val,\n",
    "                                         case_name=case_name,\n",
    "                                         label=label)\n",
    "    \n",
    "    X_test, y_test, _ = get_data_for_ml(df=df_test,\n",
    "                                         dict_embeddings=dict_test,\n",
    "                                         case_name=case_name,\n",
    "                                         label=label)\n",
    "    \n",
    "    X_test = np.concatenate((X_test, X_val))\n",
    "    y_test = np.concatenate((y_test, y_val))\n",
    "\n",
    "    estimator = Ridge()\n",
    "    param_grid = {\n",
    "        'alpha': [0.1, 1.0, 10.0, 100.0, 1000.0],  # Regularization strength\n",
    "        'solver': ['auto', 'cholesky', 'sparse_cg']  # Solver to use in the computational routines\n",
    "    }\n",
    "    \n",
    "    results = regression_model(estimator=estimator,\n",
    "                param_grid=param_grid,\n",
    "                X_train=X_train,\n",
    "                y_train=y_train,\n",
    "                X_test=X_test,\n",
    "                y_test=y_test)\n",
    "    return results"
   ]
  },
  {
   "cell_type": "code",
   "execution_count": null,
   "id": "dd11f74a-74cc-4f98-a365-0a79c73919d7",
   "metadata": {
    "scrolled": true
   },
   "outputs": [],
   "source": [
    "results_papagei_s = regression(save_dir=save_dir,\n",
    "                                    model_name='papagei_s',\n",
    "                                    content=\"patient\",\n",
    "                                    df_train=df_train,\n",
    "                                    df_val=df_val,\n",
    "                                    df_test=df_test,\n",
    "                                    case_name=case_name,\n",
    "                                    label=\"diasbp\")\n",
    "\n",
    "results_papagei_svri = regression(save_dir=save_dir,\n",
    "                                    model_name='papagei_s_svri',\n",
    "                                    content=\"patient\",\n",
    "                                    df_train=df_train,\n",
    "                                    df_val=df_val,\n",
    "                                    df_test=df_test,\n",
    "                                    case_name=case_name,\n",
    "                                    label=\"hr\")\n",
    "\n",
    "results_papagei_p = regression(save_dir=save_dir,\n",
    "                                    model_name='papagei_p',\n",
    "                                    content=\"patient\",\n",
    "                                    df_train=df_train,\n",
    "                                    df_val=df_val,\n",
    "                                    df_test=df_test,\n",
    "                                    case_name=case_name,\n",
    "                                    label=\"sysbp\")"
   ]
  },
  {
   "cell_type": "code",
   "execution_count": null,
   "id": "1dedb1ab-fef8-42b2-ad07-ecf7f2b9997f",
   "metadata": {
    "scrolled": true
   },
   "outputs": [],
   "source": [
    "print(f\"PaPaGei-S Diastolic BP MAE: {results_papagei_s['mae']}\")\n",
    "print(f\"PaPaGei-S sVRI HR MAE: {results_papagei_svri['mae']}\")\n",
    "print(f\"PaPaGei-P Systolic BP MAE: {results_papagei_p['mae']}\")"
   ]
  },
  {
   "cell_type": "code",
   "execution_count": null,
   "id": "d6cc6b65-f356-4e01-a25d-f3d4d874e4d4",
   "metadata": {},
   "outputs": [],
   "source": []
  }
 ],
 "metadata": {
  "kernelspec": {
   "display_name": "Python 3 (ipykernel)",
   "language": "python",
   "name": "python3"
  },
  "language_info": {
   "codemirror_mode": {
    "name": "ipython",
    "version": 3
   },
   "file_extension": ".py",
   "mimetype": "text/x-python",
   "name": "python",
   "nbconvert_exporter": "python",
   "pygments_lexer": "ipython3",
   "version": "3.10.16"
  }
 },
 "nbformat": 4,
 "nbformat_minor": 5
}
